{
 "metadata": {
  "name": "",
  "signature": "sha256:68989482547e1c0624ab35a71a0bb1ce37fed8d0b6d778bcd1af024a8dfe1e1d"
 },
 "nbformat": 3,
 "nbformat_minor": 0,
 "worksheets": [
  {
   "cells": [
    {
     "cell_type": "heading",
     "level": 1,
     "metadata": {},
     "source": [
      "Unitary transformations of pauli operators"
     ]
    },
    {
     "cell_type": "code",
     "collapsed": false,
     "input": [
      "from sympy import *\n",
      "init_printing()\n",
      "\n",
      "from sympy.physics.quantum import *\n",
      "from sympy.physics.quantum.pauli import *"
     ],
     "language": "python",
     "metadata": {},
     "outputs": [],
     "prompt_number": 6
    },
    {
     "cell_type": "code",
     "collapsed": false,
     "input": [
      "from IPython.display import display_latex\n",
      "from IPython.display import Latex\n",
      "\n",
      "def show_first_few_terms(e, n=10):\n",
      "    if isinstance(e, Add):\n",
      "        e_args_trunc = e.args[0:n]\n",
      "        e = Add(*(e_args_trunc))\n",
      "    \n",
      "    return Latex(\"$\" + latex(e).replace(\"dag\", \"dagger\") + r\"+ \\dots$\")"
     ],
     "language": "python",
     "metadata": {},
     "outputs": [],
     "prompt_number": 7
    },
    {
     "cell_type": "code",
     "collapsed": false,
     "input": [
      "def recursive_commutator(a, b, n=1):\n",
      "    return Commutator(a, b) if n == 1 else Commutator(a, recursive_commutator(a, b, n-1))"
     ],
     "language": "python",
     "metadata": {},
     "outputs": [],
     "prompt_number": 8
    },
    {
     "cell_type": "code",
     "collapsed": false,
     "input": [
      "def bch_expansion(A, B, N=10):\n",
      "    \"\"\"\n",
      "    Baker\u2013Campbell\u2013Hausdorff formula:\n",
      "    \n",
      "    e^{A} B e^{-A} = B + 1/(1!)[A, B] + 1/(2!)[A, [A, B]] + 1/(3!)[A, [A, [A, B]]] + ...\n",
      "                   = B + Sum_n^N 1/(n!)[A, B]^n\n",
      "                   \n",
      "    Truncate the sum at N terms.\n",
      "    \"\"\"\n",
      "    e = B\n",
      "    for n in range(1, N):\n",
      "        e += recursive_commutator(A, B, n=n) / factorial(n)\n",
      "    \n",
      "    return e"
     ],
     "language": "python",
     "metadata": {},
     "outputs": [],
     "prompt_number": 9
    },
    {
     "cell_type": "code",
     "collapsed": false,
     "input": [
      "eps, delta, theta, Hsym, t = symbols(\"epsilon, delta, theta, H, t\")\n",
      "n = 6"
     ],
     "language": "python",
     "metadata": {},
     "outputs": [],
     "prompt_number": 21
    },
    {
     "cell_type": "code",
     "collapsed": false,
     "input": [
      "sx, sy, sz = SigmaX(), SigmaY(), SigmaZ()"
     ],
     "language": "python",
     "metadata": {},
     "outputs": [],
     "prompt_number": 22
    },
    {
     "cell_type": "heading",
     "level": 2,
     "metadata": {},
     "source": [
      "Time-dependent two-level system and instantaneous eigenbasis"
     ]
    },
    {
     "cell_type": "markdown",
     "metadata": {},
     "source": [
      "Consider the standard Hamiltonian for an optomechanical syste, including a classical driving signal on the optical mode:\n",
      "\n",
      "$$\n",
      "H = \\frac{1}{2}\\Delta\\sigma_x + \\frac{1}{2}\\epsilon\\sigma_z \n",
      "$$\n",
      "\n"
     ]
    },
    {
     "cell_type": "code",
     "collapsed": false,
     "input": [
      "H = eps/2 * sz + delta/2 * sx\n",
      "\n",
      "Eq(Hsym, H)"
     ],
     "language": "python",
     "metadata": {},
     "outputs": [
      {
       "latex": [
        "$$H = \\frac{\\delta {\\sigma_x}}{2} + \\frac{\\epsilon {\\sigma_z}}{2}$$"
       ],
       "metadata": {},
       "output_type": "pyout",
       "png": "[encoded data removed]",
       "prompt_number": 23,
       "text": [
        "    \u03b4\u22c5O   \u03b5\u22c5O\n",
        "H = \u2500\u2500\u2500 + \u2500\u2500\u2500\n",
        "     2     2 "
       ]
      }
     ],
     "prompt_number": 23
    },
    {
     "cell_type": "heading",
     "level": 3,
     "metadata": {},
     "source": [
      "Instantaneous eigenbasis"
     ]
    },
    {
     "cell_type": "code",
     "collapsed": false,
     "input": [
      "def hamiltonian_transformation(H, UH, n):\n",
      "    \"\"\"\n",
      "    Apply an unitary basis transformation to the Hamiltonian H:\n",
      "    \n",
      "    H = U H U^\\dagger -i U d/dt(U^\\dagger)\n",
      "    \n",
      "    U = exp(UH)\n",
      "    \n",
      "    \"\"\"\n",
      "    return - I * exp(UH) * diff(exp(-UH), t) + \\\n",
      "                normal_ordered_form(expand(bch_expansion(UH, H, n).doit(independent=True)), independent=True)"
     ],
     "language": "python",
     "metadata": {},
     "outputs": [],
     "prompt_number": 24
    },
    {
     "cell_type": "code",
     "collapsed": false,
     "input": [
      "UH = I * theta(t)/2 * sy"
     ],
     "language": "python",
     "metadata": {},
     "outputs": [],
     "prompt_number": 38
    },
    {
     "cell_type": "code",
     "collapsed": false,
     "input": [
      "diff(exp(-UH), t)"
     ],
     "language": "python",
     "metadata": {},
     "outputs": [
      {
       "latex": [
        "$$- \\frac{i}{2} \\frac{d}{d t} \\theta{\\left (t \\right )} e^{- \\frac{i {\\sigma_y}}{2} \\theta{\\left (t \\right )}} {\\sigma_y}$$"
       ],
       "metadata": {},
       "output_type": "pyout",
       "png": "[encoded data removed]",
       "prompt_number": 39,
       "text": [
        "             -\u2148\u22c5\u03b8(t)\u22c5O    \n",
        "             \u2500\u2500\u2500\u2500\u2500\u2500\u2500\u2500\u2500\u2500   \n",
        "   d             2        \n",
        "-\u2148\u22c5\u2500\u2500(\u03b8(t))\u22c5\u212f          \u22c5O \n",
        "   dt                     \n",
        "\u2500\u2500\u2500\u2500\u2500\u2500\u2500\u2500\u2500\u2500\u2500\u2500\u2500\u2500\u2500\u2500\u2500\u2500\u2500\u2500\u2500\u2500\u2500\u2500\u2500\u2500\n",
        "            2             "
       ]
      }
     ],
     "prompt_number": 39
    },
    {
     "cell_type": "code",
     "collapsed": false,
     "input": [
      "H1 = simplify(hamiltonian_transformation(H, UH, n)).expand()\n",
      "\n",
      "H1"
     ],
     "language": "python",
     "metadata": {},
     "outputs": [
      {
       "latex": [
        "$$\\frac{\\delta {\\sigma_z}}{240} \\theta^{5}{\\left (t \\right )} + \\frac{\\delta {\\sigma_x}}{48} \\theta^{4}{\\left (t \\right )} - \\frac{\\delta {\\sigma_z}}{12} \\theta^{3}{\\left (t \\right )} - \\frac{\\delta {\\sigma_x}}{4} \\theta^{2}{\\left (t \\right )} + \\frac{\\delta {\\sigma_z}}{2} \\theta{\\left (t \\right )} + \\frac{\\delta {\\sigma_x}}{2} - \\frac{\\epsilon {\\sigma_x}}{240} \\theta^{5}{\\left (t \\right )} + \\frac{\\epsilon {\\sigma_z}}{48} \\theta^{4}{\\left (t \\right )} + \\frac{\\epsilon {\\sigma_x}}{12} \\theta^{3}{\\left (t \\right )} - \\frac{\\epsilon {\\sigma_z}}{4} \\theta^{2}{\\left (t \\right )} - \\frac{\\epsilon {\\sigma_x}}{2} \\theta{\\left (t \\right )} + \\frac{\\epsilon {\\sigma_z}}{2} - \\frac{{\\sigma_y}}{2} \\frac{d}{d t} \\theta{\\left (t \\right )}$$"
       ],
       "metadata": {},
       "output_type": "pyout",
       "png": "[encoded data removed]",
       "prompt_number": 49,
       "text": [
        "                                                                              \n",
        "   5           4           3           2                            5         \n",
        "\u03b4\u22c5\u03b8 (t)\u22c5O   \u03b4\u22c5\u03b8 (t)\u22c5O   \u03b4\u22c5\u03b8 (t)\u22c5O   \u03b4\u22c5\u03b8 (t)\u22c5O   \u03b4\u22c5\u03b8(t)\u22c5O   \u03b4\u22c5O   \u03b5\u22c5\u03b8 (t)\u22c5O   \u03b5\n",
        "\u2500\u2500\u2500\u2500\u2500\u2500\u2500\u2500\u2500 + \u2500\u2500\u2500\u2500\u2500\u2500\u2500\u2500\u2500 - \u2500\u2500\u2500\u2500\u2500\u2500\u2500\u2500\u2500 - \u2500\u2500\u2500\u2500\u2500\u2500\u2500\u2500\u2500 + \u2500\u2500\u2500\u2500\u2500\u2500\u2500\u2500 + \u2500\u2500\u2500 - \u2500\u2500\u2500\u2500\u2500\u2500\u2500\u2500\u2500 + \u2500\n",
        "   240          48          12          4          2        2       240       \n",
        "\n",
        "                                                    d         \n",
        "  4           3           2                         \u2500\u2500(\u03b8(t))\u22c5O\n",
        "\u22c5\u03b8 (t)\u22c5O   \u03b5\u22c5\u03b8 (t)\u22c5O   \u03b5\u22c5\u03b8 (t)\u22c5O   \u03b5\u22c5\u03b8(t)\u22c5O   \u03b5\u22c5O   dt        \n",
        "\u2500\u2500\u2500\u2500\u2500\u2500\u2500\u2500 + \u2500\u2500\u2500\u2500\u2500\u2500\u2500\u2500\u2500 - \u2500\u2500\u2500\u2500\u2500\u2500\u2500\u2500\u2500 - \u2500\u2500\u2500\u2500\u2500\u2500\u2500\u2500 + \u2500\u2500\u2500 - \u2500\u2500\u2500\u2500\u2500\u2500\u2500\u2500\u2500\u2500\n",
        "   48          12          4          2        2        2     "
       ]
      }
     ],
     "prompt_number": 49
    },
    {
     "cell_type": "code",
     "collapsed": false,
     "input": [
      "collect(collect(H1, delta * sx), delta * sz)"
     ],
     "language": "python",
     "metadata": {},
     "outputs": [
      {
       "latex": [
        "$$\\delta \\left(\\frac{1}{48} \\theta^{4}{\\left (t \\right )} - \\frac{1}{4} \\theta^{2}{\\left (t \\right )} + \\frac{1}{2}\\right) {\\sigma_x} + \\delta \\left(\\frac{1}{240} \\theta^{5}{\\left (t \\right )} - \\frac{1}{12} \\theta^{3}{\\left (t \\right )} + \\frac{1}{2} \\theta{\\left (t \\right )}\\right) {\\sigma_z} - \\frac{\\epsilon {\\sigma_x}}{240} \\theta^{5}{\\left (t \\right )} + \\frac{\\epsilon {\\sigma_z}}{48} \\theta^{4}{\\left (t \\right )} + \\frac{\\epsilon {\\sigma_x}}{12} \\theta^{3}{\\left (t \\right )} - \\frac{\\epsilon {\\sigma_z}}{4} \\theta^{2}{\\left (t \\right )} - \\frac{\\epsilon {\\sigma_x}}{2} \\theta{\\left (t \\right )} + \\frac{\\epsilon {\\sigma_z}}{2} - \\frac{{\\sigma_y}}{2} \\frac{d}{d t} \\theta{\\left (t \\right )}$$"
       ],
       "metadata": {},
       "output_type": "pyout",
       "png": "[encoded data removed]",
       "prompt_number": 52,
       "text": [
        "                                                                              \n",
        "  \u239b 4       2       \u239e       \u239b 5       3          \u239e        5           4       \n",
        "  \u239c\u03b8 (t)   \u03b8 (t)   1\u239f       \u239c\u03b8 (t)   \u03b8 (t)   \u03b8(t)\u239f     \u03b5\u22c5\u03b8 (t)\u22c5O   \u03b5\u22c5\u03b8 (t)\u22c5O  \n",
        "\u03b4\u22c5\u239c\u2500\u2500\u2500\u2500\u2500 - \u2500\u2500\u2500\u2500\u2500 + \u2500\u239f\u22c5O + \u03b4\u22c5\u239c\u2500\u2500\u2500\u2500\u2500 - \u2500\u2500\u2500\u2500\u2500 + \u2500\u2500\u2500\u2500\u239f\u22c5O - \u2500\u2500\u2500\u2500\u2500\u2500\u2500\u2500\u2500 + \u2500\u2500\u2500\u2500\u2500\u2500\u2500\u2500\u2500 +\n",
        "  \u239d  48      4     2\u23a0       \u239d 240      12     2  \u23a0        240          48     \n",
        "\n",
        "                                          d         \n",
        "    3           2                         \u2500\u2500(\u03b8(t))\u22c5O\n",
        " \u03b5\u22c5\u03b8 (t)\u22c5O   \u03b5\u22c5\u03b8 (t)\u22c5O   \u03b5\u22c5\u03b8(t)\u22c5O   \u03b5\u22c5O   dt        \n",
        " \u2500\u2500\u2500\u2500\u2500\u2500\u2500\u2500\u2500 - \u2500\u2500\u2500\u2500\u2500\u2500\u2500\u2500\u2500 - \u2500\u2500\u2500\u2500\u2500\u2500\u2500\u2500 + \u2500\u2500\u2500 - \u2500\u2500\u2500\u2500\u2500\u2500\u2500\u2500\u2500\u2500\n",
        "     12          4          2        2        2     "
       ]
      }
     ],
     "prompt_number": 52
    },
    {
     "cell_type": "code",
     "collapsed": false,
     "input": [
      "collect(H1, [delta * sx, eps * sx, delta * sz, eps * sz])"
     ],
     "language": "python",
     "metadata": {},
     "outputs": [
      {
       "latex": [
        "$$\\delta \\left(\\frac{1}{48} \\theta^{4}{\\left (t \\right )} - \\frac{1}{4} \\theta^{2}{\\left (t \\right )} + \\frac{1}{2}\\right) {\\sigma_x} + \\delta \\left(\\frac{1}{240} \\theta^{5}{\\left (t \\right )} - \\frac{1}{12} \\theta^{3}{\\left (t \\right )} + \\frac{1}{2} \\theta{\\left (t \\right )}\\right) {\\sigma_z} + \\epsilon \\left(\\frac{1}{48} \\theta^{4}{\\left (t \\right )} - \\frac{1}{4} \\theta^{2}{\\left (t \\right )} + \\frac{1}{2}\\right) {\\sigma_z} + \\epsilon \\left(- \\frac{1}{240} \\theta^{5}{\\left (t \\right )} + \\frac{1}{12} \\theta^{3}{\\left (t \\right )} - \\frac{1}{2} \\theta{\\left (t \\right )}\\right) {\\sigma_x} - \\frac{{\\sigma_y}}{2} \\frac{d}{d t} \\theta{\\left (t \\right )}$$"
       ],
       "metadata": {},
       "output_type": "pyout",
       "png": "[encoded data removed]",
       "prompt_number": 54,
       "text": [
        "                                                                              \n",
        "  \u239b 4       2       \u239e       \u239b 5       3          \u239e       \u239b 4       2       \u239e  \n",
        "  \u239c\u03b8 (t)   \u03b8 (t)   1\u239f       \u239c\u03b8 (t)   \u03b8 (t)   \u03b8(t)\u239f       \u239c\u03b8 (t)   \u03b8 (t)   1\u239f  \n",
        "\u03b4\u22c5\u239c\u2500\u2500\u2500\u2500\u2500 - \u2500\u2500\u2500\u2500\u2500 + \u2500\u239f\u22c5O + \u03b4\u22c5\u239c\u2500\u2500\u2500\u2500\u2500 - \u2500\u2500\u2500\u2500\u2500 + \u2500\u2500\u2500\u2500\u239f\u22c5O + \u03b5\u22c5\u239c\u2500\u2500\u2500\u2500\u2500 - \u2500\u2500\u2500\u2500\u2500 + \u2500\u239f\u22c5O\n",
        "  \u239d  48      4     2\u23a0       \u239d 240      12     2  \u23a0       \u239d  48      4     2\u23a0  \n",
        "\n",
        "                                  d         \n",
        "     \u239b   5       3          \u239e     \u2500\u2500(\u03b8(t))\u22c5O\n",
        "     \u239c  \u03b8 (t)   \u03b8 (t)   \u03b8(t)\u239f     dt        \n",
        " + \u03b5\u22c5\u239c- \u2500\u2500\u2500\u2500\u2500 + \u2500\u2500\u2500\u2500\u2500 - \u2500\u2500\u2500\u2500\u239f\u22c5O - \u2500\u2500\u2500\u2500\u2500\u2500\u2500\u2500\u2500\u2500\n",
        "     \u239d   240      12     2  \u23a0         2     "
       ]
      }
     ],
     "prompt_number": 54
    },
    {
     "cell_type": "markdown",
     "metadata": {},
     "source": [
      "We can now performa rotating-wave approximation (RWA) by eliminating all terms that rotate with frequencies "
     ]
    },
    {
     "cell_type": "code",
     "collapsed": false,
     "input": [
      "H2 = expand(H1.series(t, n=n).removeO())\n",
      "\n",
      "show_first_few_terms(H2, n=10)"
     ],
     "language": "python",
     "metadata": {},
     "outputs": [
      {
       "latex": [
        "$- \\frac{4 i}{15} A \\omega_{d}^{5} t^{5} {a} + \\frac{2 A}{3} \\omega_{d}^{4} t^{4} {a} + \\frac{4 i}{3} A \\omega_{d}^{3} t^{3} {a} - 2 A \\omega_{d}^{2} t^{2} {a} + A {{a}^\\dagger} + A {a} + g {{a}^\\dagger} {{b}^\\dagger} {a} + \\omega_{b} {{b}^\\dagger} {b} + \\frac{2 \\omega_{d}^{4}}{3} t^{4} \\overline{A} {{a}^\\dagger} - 2 \\omega_{d}^{2} t^{2} \\overline{A} {{a}^\\dagger}+ \\dots$"
       ],
       "metadata": {},
       "output_type": "pyout",
       "prompt_number": 29,
       "text": [
        "<IPython.core.display.Latex object>"
       ]
      }
     ],
     "prompt_number": 29
    },
    {
     "cell_type": "code",
     "collapsed": false,
     "input": [
      "H3 = H2.subs(t, 0)\n",
      "\n",
      "H3"
     ],
     "language": "python",
     "metadata": {},
     "outputs": [
      {
       "latex": [
        "$$A {{a}^\\dagger} + A {a} + g {{a}^\\dagger} {a} {b} + g {{a}^\\dagger} {{b}^\\dagger} {a} + \\omega_{a} {{a}^\\dagger} {a} + \\omega_{b} {{b}^\\dagger} {b} - \\omega_{d} {{a}^\\dagger} {a} + \\overline{A} {{a}^\\dagger} + \\overline{A} {a}$$"
       ],
       "metadata": {},
       "output_type": "pyout",
       "png": "[encoded data removed]",
       "prompt_number": 30,
       "text": [
        "   \u2020            \u2020          \u2020  \u2020         \u2020          \u2020          \u2020     _  \u2020   _  \n",
        "A\u22c5a  + A\u22c5a + g\u22c5a \u22c5a\u22c5b + g\u22c5a \u22c5b \u22c5a + \u03c9\u2090\u22c5a \u22c5a + \u03c9_b\u22c5b \u22c5b - \u03c9_d\u22c5a \u22c5a + A\u22c5a  + A\u22c5a"
       ]
      }
     ],
     "prompt_number": 30
    },
    {
     "cell_type": "heading",
     "level": 2,
     "metadata": {},
     "source": [
      "Versions"
     ]
    },
    {
     "cell_type": "code",
     "collapsed": false,
     "input": [
      "%reload_ext version_information\n",
      "\n",
      "%version_information sympy"
     ],
     "language": "python",
     "metadata": {},
     "outputs": [
      {
       "html": [
        "<table><tr><th>Software</th><th>Version</th></tr><tr><td>Python</td><td>3.4.0 (default, Apr 11 2014, 13:05:11) [GCC 4.8.2]</td></tr><tr><td>IPython</td><td>3.0.0-dev</td></tr><tr><td>OS</td><td>posix [linux]</td></tr><tr><td>sympy</td><td>0.7.4.1-git</td></tr><tr><td colspan='2'>Wed Jun 04 15:43:49 2014 JST</td></tr></table>"
       ],
       "json": [
        "{\"Software versions\": [{\"version\": \"3.4.0 (default, Apr 11 2014, 13:05:11) [GCC 4.8.2]\", \"module\": \"Python\"}, {\"version\": \"3.0.0-dev\", \"module\": \"IPython\"}, {\"version\": \"posix [linux]\", \"module\": \"OS\"}, {\"version\": \"0.7.4.1-git\", \"module\": \"sympy\"}]}"
       ],
       "latex": [
        "\\begin{tabular}{|l|l|}\\hline\n",
        "{\\bf Software} & {\\bf Version} \\\\ \\hline\\hline\n",
        "Python & 3.4.0 (default, Apr 11 2014, 13:05:11) [GCC 4.8.2] \\\\ \\hline\n",
        "IPython & 3.0.0-dev \\\\ \\hline\n",
        "OS & posix [linux] \\\\ \\hline\n",
        "sympy & 0.7.4.1-git \\\\ \\hline\n",
        "\\hline \\multicolumn{2}{|l|}{Wed Jun 04 15:43:49 2014 JST} \\\\ \\hline\n",
        "\\end{tabular}\n"
       ],
       "metadata": {},
       "output_type": "pyout",
       "prompt_number": 31,
       "text": [
        "Software versions\n",
        "Python 3.4.0 (default, Apr 11 2014, 13:05:11) [GCC 4.8.2]\n",
        "IPython 3.0.0-dev\n",
        "OS posix [linux]\n",
        "sympy 0.7.4.1-git\n",
        "\n",
        "Wed Jun 04 15:43:49 2014 JST"
       ]
      }
     ],
     "prompt_number": 31
    },
    {
     "cell_type": "code",
     "collapsed": false,
     "input": [],
     "language": "python",
     "metadata": {},
     "outputs": []
    }
   ],
   "metadata": {}
  }
 ]
}