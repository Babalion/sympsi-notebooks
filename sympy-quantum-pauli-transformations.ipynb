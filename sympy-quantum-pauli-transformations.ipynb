{
 "metadata": {
  "name": "",
  "signature": "sha256:88c759085f6da5d38148f1d23a1146ce790ba47b72d18dcfc9d569fe6a69e4d2"
 },
 "nbformat": 3,
 "nbformat_minor": 0,
 "worksheets": [
  {
   "cells": [
    {
     "cell_type": "heading",
     "level": 1,
     "metadata": {},
     "source": [
      "Unitary transformations of pauli operators"
     ]
    },
    {
     "cell_type": "code",
     "collapsed": false,
     "input": [
      "from sympy import *\n",
      "init_printing()\n",
      "\n",
      "from sympy.physics.quantum import *\n",
      "from sympy.physics.quantum.pauli import *"
     ],
     "language": "python",
     "metadata": {},
     "outputs": [],
     "prompt_number": 1
    },
    {
     "cell_type": "code",
     "collapsed": false,
     "input": [
      "from sympy_quantum_utils import *"
     ],
     "language": "python",
     "metadata": {},
     "outputs": [],
     "prompt_number": 2
    },
    {
     "cell_type": "code",
     "collapsed": false,
     "input": [
      "eps, delta, theta, Hsym, t = symbols(\"epsilon, delta, theta, H, t\")\n",
      "Omega = symbols(\"Omega\", positive=True)\n",
      "n = 6"
     ],
     "language": "python",
     "metadata": {},
     "outputs": [],
     "prompt_number": 3
    },
    {
     "cell_type": "code",
     "collapsed": false,
     "input": [
      "sx, sy, sz = SigmaX(), SigmaY(), SigmaZ()"
     ],
     "language": "python",
     "metadata": {},
     "outputs": [],
     "prompt_number": 4
    },
    {
     "cell_type": "heading",
     "level": 2,
     "metadata": {},
     "source": [
      "Time-dependent two-level system and instantaneous eigenbasis"
     ]
    },
    {
     "cell_type": "markdown",
     "metadata": {},
     "source": [
      "Consider the Hamiltonian for a two-level quantum system on the form:\n",
      "\n",
      "$$\n",
      "H = \\frac{1}{2}\\Delta\\sigma_x + \\frac{1}{2}\\epsilon\\sigma_z \n",
      "$$\n",
      "\n"
     ]
    },
    {
     "cell_type": "code",
     "collapsed": false,
     "input": [
      "H = eps/2 * sz + delta/2 * sx\n",
      "\n",
      "Eq(Hsym, H)"
     ],
     "language": "python",
     "metadata": {},
     "outputs": [
      {
       "latex": [
        "$$H = \\frac{\\delta {\\sigma_x}}{2} + \\frac{\\epsilon {\\sigma_z}}{2}$$"
       ],
       "metadata": {},
       "output_type": "pyout",
       "png": "[encoded data removed]",
       "prompt_number": 5,
       "text": [
        "    \u03b4\u22c5O   \u03b5\u22c5O\n",
        "H = \u2500\u2500\u2500 + \u2500\u2500\u2500\n",
        "     2     2 "
       ]
      }
     ],
     "prompt_number": 5
    },
    {
     "cell_type": "heading",
     "level": 3,
     "metadata": {},
     "source": [
      "Instantaneous eigenbasis"
     ]
    },
    {
     "cell_type": "markdown",
     "metadata": {},
     "source": [
      "We can transform the Hamiltonian to the eigenbasis (where the Hamiltonian is diagonal, only containing a $\\sigma_z$ term) by applying the unitary tranformation:"
     ]
    },
    {
     "cell_type": "code",
     "collapsed": false,
     "input": [
      "U = exp(I * theta/2 * sy)"
     ],
     "language": "python",
     "metadata": {},
     "outputs": [],
     "prompt_number": 20
    },
    {
     "cell_type": "code",
     "collapsed": false,
     "input": [
      "H1 = hamiltonian_transformation_auto(U, H)\n",
      "\n",
      "H1"
     ],
     "language": "python",
     "metadata": {},
     "outputs": [
      {
       "latex": [
        "$$\\left(\\frac{\\delta \\theta^{4}}{48} - \\frac{\\delta \\theta^{2}}{4} + \\frac{\\delta}{2} - \\frac{\\epsilon \\theta^{5}}{240} + \\frac{\\epsilon \\theta^{3}}{12} - \\frac{\\epsilon \\theta}{2}\\right) {\\sigma_x} + \\left(\\frac{\\delta \\theta^{5}}{240} - \\frac{\\delta \\theta^{3}}{12} + \\frac{\\delta \\theta}{2} + \\frac{\\epsilon \\theta^{4}}{48} - \\frac{\\epsilon \\theta^{2}}{4} + \\frac{\\epsilon}{2}\\right) {\\sigma_z}$$"
       ],
       "metadata": {},
       "output_type": "pyout",
       "png": "[encoded data removed]",
       "prompt_number": 21,
       "text": [
        "\u239b   4      2          5      3      \u239e     \u239b   5      3            4      2    \n",
        "\u239c\u03b4\u22c5\u03b8    \u03b4\u22c5\u03b8    \u03b4   \u03b5\u22c5\u03b8    \u03b5\u22c5\u03b8    \u03b5\u22c5\u03b8\u239f     \u239c\u03b4\u22c5\u03b8    \u03b4\u22c5\u03b8    \u03b4\u22c5\u03b8   \u03b5\u22c5\u03b8    \u03b5\u22c5\u03b8    \u03b5\n",
        "\u239c\u2500\u2500\u2500\u2500 - \u2500\u2500\u2500\u2500 + \u2500 - \u2500\u2500\u2500\u2500 + \u2500\u2500\u2500\u2500 - \u2500\u2500\u2500\u239f\u22c5O + \u239c\u2500\u2500\u2500\u2500 - \u2500\u2500\u2500\u2500 + \u2500\u2500\u2500 + \u2500\u2500\u2500\u2500 - \u2500\u2500\u2500\u2500 + \u2500\n",
        "\u239d 48     4     2   240     12     2 \u23a0     \u239d240     12     2     48     4     2\n",
        "\n",
        "\u239e  \n",
        "\u239f  \n",
        "\u239f\u22c5O\n",
        "\u23a0  "
       ]
      }
     ],
     "prompt_number": 21
    },
    {
     "cell_type": "code",
     "collapsed": false,
     "input": [
      "H2 = collect(H1.expand(), [(delta/2) * sx, eps * sx, delta * sz, eps * sz])\n",
      "\n",
      "H2"
     ],
     "language": "python",
     "metadata": {},
     "outputs": [
      {
       "latex": [
        "$$\\delta \\left(\\frac{\\theta^{4}}{48} - \\frac{\\theta^{2}}{4} + \\frac{1}{2}\\right) {\\sigma_x} + \\delta \\left(\\frac{\\theta^{5}}{240} - \\frac{\\theta^{3}}{12} + \\frac{\\theta}{2}\\right) {\\sigma_z} + \\epsilon \\left(\\frac{\\theta^{4}}{48} - \\frac{\\theta^{2}}{4} + \\frac{1}{2}\\right) {\\sigma_z} + \\epsilon \\left(- \\frac{\\theta^{5}}{240} + \\frac{\\theta^{3}}{12} - \\frac{\\theta}{2}\\right) {\\sigma_x}$$"
       ],
       "metadata": {},
       "output_type": "pyout",
       "png": "[encoded data removed]",
       "prompt_number": 22,
       "text": [
        "  \u239b 4    2    \u239e       \u239b  5    3    \u239e       \u239b 4    2    \u239e       \u239b    5    3    \n",
        "  \u239c\u03b8    \u03b8    1\u239f       \u239c \u03b8    \u03b8    \u03b8\u239f       \u239c\u03b8    \u03b8    1\u239f       \u239c   \u03b8    \u03b8    \u03b8\n",
        "\u03b4\u22c5\u239c\u2500\u2500 - \u2500\u2500 + \u2500\u239f\u22c5O + \u03b4\u22c5\u239c\u2500\u2500\u2500 - \u2500\u2500 + \u2500\u239f\u22c5O + \u03b5\u22c5\u239c\u2500\u2500 - \u2500\u2500 + \u2500\u239f\u22c5O + \u03b5\u22c5\u239c- \u2500\u2500\u2500 + \u2500\u2500 - \u2500\n",
        "  \u239d48   4    2\u23a0       \u239d240   12   2\u23a0       \u239d48   4    2\u23a0       \u239d  240   12   2\n",
        "\n",
        "\u239e  \n",
        "\u239f  \n",
        "\u239f\u22c5O\n",
        "\u23a0  "
       ]
      }
     ],
     "prompt_number": 22
    },
    {
     "cell_type": "code",
     "collapsed": false,
     "input": [
      "H3 = H2.subs({\n",
      "    (cos(theta)/2).series(n=n).removeO(): (cos(theta)/2),\n",
      "    (sin(theta)/2).series(n=n).removeO(): (sin(theta)/2),\n",
      "})\n",
      "\n",
      "H3"
     ],
     "language": "python",
     "metadata": {},
     "outputs": [
      {
       "latex": [
        "$$\\frac{\\delta {\\sigma_z}}{2} \\sin{\\left (\\theta \\right )} + \\frac{\\delta {\\sigma_x}}{2} \\cos{\\left (\\theta \\right )} - \\frac{\\epsilon {\\sigma_x}}{2} \\sin{\\left (\\theta \\right )} + \\frac{\\epsilon {\\sigma_z}}{2} \\cos{\\left (\\theta \\right )}$$"
       ],
       "metadata": {},
       "output_type": "pyout",
       "png": "[encoded data removed]",
       "prompt_number": 23,
       "text": [
        "\u03b4\u22c5sin(\u03b8)\u22c5O   \u03b4\u22c5cos(\u03b8)\u22c5O   \u03b5\u22c5sin(\u03b8)\u22c5O   \u03b5\u22c5cos(\u03b8)\u22c5O\n",
        "\u2500\u2500\u2500\u2500\u2500\u2500\u2500\u2500\u2500\u2500 + \u2500\u2500\u2500\u2500\u2500\u2500\u2500\u2500\u2500\u2500 - \u2500\u2500\u2500\u2500\u2500\u2500\u2500\u2500\u2500\u2500 + \u2500\u2500\u2500\u2500\u2500\u2500\u2500\u2500\u2500\u2500\n",
        "    2            2            2            2     "
       ]
      }
     ],
     "prompt_number": 23
    },
    {
     "cell_type": "code",
     "collapsed": false,
     "input": [
      "H4 = collect(H3, (sx, sz))\n",
      "\n",
      "H4"
     ],
     "language": "python",
     "metadata": {},
     "outputs": [
      {
       "latex": [
        "$$\\left(\\frac{\\delta}{2} \\sin{\\left (\\theta \\right )} + \\frac{\\epsilon}{2} \\cos{\\left (\\theta \\right )}\\right) {\\sigma_z} + \\left(\\frac{\\delta}{2} \\cos{\\left (\\theta \\right )} - \\frac{\\epsilon}{2} \\sin{\\left (\\theta \\right )}\\right) {\\sigma_x}$$"
       ],
       "metadata": {},
       "output_type": "pyout",
       "png": "[encoded data removed]",
       "prompt_number": 10,
       "text": [
        "\u239b\u03b4\u22c5sin(\u03b8)   \u03b5\u22c5cos(\u03b8)\u239e     \u239b\u03b4\u22c5cos(\u03b8)   \u03b5\u22c5sin(\u03b8)\u239e  \n",
        "\u239c\u2500\u2500\u2500\u2500\u2500\u2500\u2500\u2500 + \u2500\u2500\u2500\u2500\u2500\u2500\u2500\u2500\u239f\u22c5O + \u239c\u2500\u2500\u2500\u2500\u2500\u2500\u2500\u2500 - \u2500\u2500\u2500\u2500\u2500\u2500\u2500\u2500\u239f\u22c5O\n",
        "\u239d   2          2    \u23a0     \u239d   2          2    \u23a0  "
       ]
      }
     ],
     "prompt_number": 10
    },
    {
     "cell_type": "markdown",
     "metadata": {},
     "source": [
      "In the eigenbasis we require the coefficient of $\\sigma_x$ to be zero, so we have the condition:"
     ]
    },
    {
     "cell_type": "code",
     "collapsed": false,
     "input": [
      "c, o = split_coeff_operator(H4.args[1])\n",
      "\n",
      "Eq(c, 0)"
     ],
     "language": "python",
     "metadata": {},
     "outputs": [
      {
       "latex": [
        "$$\\frac{\\delta}{2} \\cos{\\left (\\theta \\right )} - \\frac{\\epsilon}{2} \\sin{\\left (\\theta \\right )} = 0$$"
       ],
       "metadata": {},
       "output_type": "pyout",
       "png": "[encoded data removed]",
       "prompt_number": 11,
       "text": [
        "\u03b4\u22c5cos(\u03b8)   \u03b5\u22c5sin(\u03b8)    \n",
        "\u2500\u2500\u2500\u2500\u2500\u2500\u2500\u2500 - \u2500\u2500\u2500\u2500\u2500\u2500\u2500\u2500 = 0\n",
        "   2          2        "
       ]
      }
     ],
     "prompt_number": 11
    },
    {
     "cell_type": "code",
     "collapsed": false,
     "input": [
      "Eq(tan(theta), delta/eps)"
     ],
     "language": "python",
     "metadata": {},
     "outputs": [
      {
       "latex": [
        "$$\\tan{\\left (\\theta \\right )} = \\frac{\\delta}{\\epsilon}$$"
       ],
       "metadata": {},
       "output_type": "pyout",
       "png": "[encoded data removed]",
       "prompt_number": 12,
       "text": [
        "         \u03b4\n",
        "tan(\u03b8) = \u2500\n",
        "         \u03b5"
       ]
      }
     ],
     "prompt_number": 12
    },
    {
     "cell_type": "code",
     "collapsed": false,
     "input": [
      "eq = Eq(theta, atan(delta/eps))\n",
      "\n",
      "eq"
     ],
     "language": "python",
     "metadata": {},
     "outputs": [
      {
       "latex": [
        "$$\\theta = \\operatorname{atan}{\\left (\\frac{\\delta}{\\epsilon} \\right )}$$"
       ],
       "metadata": {},
       "output_type": "pyout",
       "png": "[encoded data removed]",
       "prompt_number": 13,
       "text": [
        "        \u239b\u03b4\u239e\n",
        "\u03b8 = atan\u239c\u2500\u239f\n",
        "        \u239d\u03b5\u23a0"
       ]
      }
     ],
     "prompt_number": 13
    },
    {
     "cell_type": "code",
     "collapsed": false,
     "input": [
      "H5 = simplify(H4.subs(theta, atan(delta/eps)))\n",
      "\n",
      "H5"
     ],
     "language": "python",
     "metadata": {},
     "outputs": [
      {
       "latex": [
        "$$\\frac{\\epsilon {\\sigma_z}}{2} \\sqrt{\\frac{\\delta^{2}}{\\epsilon^{2}} + 1}$$"
       ],
       "metadata": {},
       "output_type": "pyout",
       "png": "[encoded data removed]",
       "prompt_number": 14,
       "text": [
        "        ________  \n",
        "       \u2571  2       \n",
        "      \u2571  \u03b4        \n",
        "\u03b5\u22c5   \u2571   \u2500\u2500 + 1 \u22c5O\n",
        "    \u2571     2       \n",
        "  \u2572\u2571     \u03b5        \n",
        "\u2500\u2500\u2500\u2500\u2500\u2500\u2500\u2500\u2500\u2500\u2500\u2500\u2500\u2500\u2500\u2500\u2500\u2500\n",
        "        2         "
       ]
      }
     ],
     "prompt_number": 14
    },
    {
     "cell_type": "markdown",
     "metadata": {},
     "source": [
      "Now introduce $\\Omega = \\sqrt{\\Delta^2 + \\epsilon^2}$:"
     ]
    },
    {
     "cell_type": "code",
     "collapsed": false,
     "input": [
      "powsimp(simplify(H5.subs(eps, sqrt(Omega ** 2-delta ** 2))), force=True)"
     ],
     "language": "python",
     "metadata": {},
     "outputs": [
      {
       "latex": [
        "$$\\frac{\\Omega {\\sigma_z}}{2}$$"
       ],
       "metadata": {},
       "output_type": "pyout",
       "png": "[encoded data removed]",
       "prompt_number": 15,
       "text": [
        "\u03a9\u22c5O\n",
        "\u2500\u2500\u2500\n",
        " 2 "
       ]
      }
     ],
     "prompt_number": 15
    },
    {
     "cell_type": "markdown",
     "metadata": {},
     "source": [
      "So we have reached the eigenbasis by applying the unitary transformation"
     ]
    },
    {
     "cell_type": "code",
     "collapsed": false,
     "input": [
      "U"
     ],
     "language": "python",
     "metadata": {},
     "outputs": [
      {
       "latex": [
        "$$e^{\\frac{i \\theta}{2} {\\sigma_y}}$$"
       ],
       "metadata": {},
       "output_type": "pyout",
       "png": "[encoded data removed]",
       "prompt_number": 19,
       "text": [
        " \u2148\u22c5\u03b8\u22c5O\n",
        " \u2500\u2500\u2500\u2500\u2500\n",
        "   2  \n",
        "\u212f     "
       ]
      }
     ],
     "prompt_number": 19
    },
    {
     "cell_type": "markdown",
     "metadata": {},
     "source": [
      "with"
     ]
    },
    {
     "cell_type": "code",
     "collapsed": false,
     "input": [
      "eq"
     ],
     "language": "python",
     "metadata": {},
     "outputs": [
      {
       "latex": [
        "$$\\theta = \\operatorname{atan}{\\left (\\frac{\\delta}{\\epsilon} \\right )}$$"
       ],
       "metadata": {},
       "output_type": "pyout",
       "png": "[encoded data removed]",
       "prompt_number": 18,
       "text": [
        "        \u239b\u03b4\u239e\n",
        "\u03b8 = atan\u239c\u2500\u239f\n",
        "        \u239d\u03b5\u23a0"
       ]
      }
     ],
     "prompt_number": 18
    },
    {
     "cell_type": "heading",
     "level": 2,
     "metadata": {},
     "source": [
      "Versions"
     ]
    },
    {
     "cell_type": "code",
     "collapsed": false,
     "input": [
      "%reload_ext version_information\n",
      "\n",
      "%version_information sympy"
     ],
     "language": "python",
     "metadata": {},
     "outputs": [
      {
       "html": [
        "<table><tr><th>Software</th><th>Version</th></tr><tr><td>Python</td><td>3.4.0 (default, Apr 11 2014, 13:05:11) [GCC 4.8.2]</td></tr><tr><td>IPython</td><td>3.0.0-dev</td></tr><tr><td>OS</td><td>posix [linux]</td></tr><tr><td>sympy</td><td>0.7.4.1-git</td></tr><tr><td colspan='2'>Sat Jun 07 16:27:37 2014 JST</td></tr></table>"
       ],
       "json": [
        "{\"Software versions\": [{\"version\": \"3.4.0 (default, Apr 11 2014, 13:05:11) [GCC 4.8.2]\", \"module\": \"Python\"}, {\"version\": \"3.0.0-dev\", \"module\": \"IPython\"}, {\"version\": \"posix [linux]\", \"module\": \"OS\"}, {\"version\": \"0.7.4.1-git\", \"module\": \"sympy\"}]}"
       ],
       "latex": [
        "\\begin{tabular}{|l|l|}\\hline\n",
        "{\\bf Software} & {\\bf Version} \\\\ \\hline\\hline\n",
        "Python & 3.4.0 (default, Apr 11 2014, 13:05:11) [GCC 4.8.2] \\\\ \\hline\n",
        "IPython & 3.0.0-dev \\\\ \\hline\n",
        "OS & posix [linux] \\\\ \\hline\n",
        "sympy & 0.7.4.1-git \\\\ \\hline\n",
        "\\hline \\multicolumn{2}{|l|}{Sat Jun 07 16:27:37 2014 JST} \\\\ \\hline\n",
        "\\end{tabular}\n"
       ],
       "metadata": {},
       "output_type": "pyout",
       "prompt_number": 16,
       "text": [
        "Software versions\n",
        "Python 3.4.0 (default, Apr 11 2014, 13:05:11) [GCC 4.8.2]\n",
        "IPython 3.0.0-dev\n",
        "OS posix [linux]\n",
        "sympy 0.7.4.1-git\n",
        "\n",
        "Sat Jun 07 16:27:37 2014 JST"
       ]
      }
     ],
     "prompt_number": 16
    }
   ],
   "metadata": {}
  }
 ]
}