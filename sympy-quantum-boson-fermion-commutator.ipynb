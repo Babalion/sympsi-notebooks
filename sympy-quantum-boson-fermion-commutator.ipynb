{
 "metadata": {
  "name": "",
  "signature": "sha256:8ec2e8040f788518c04b272332b4d5ffa4fdfe73cb055932a209550165a204dd"
 },
 "nbformat": 3,
 "nbformat_minor": 0,
 "worksheets": [
  {
   "cells": [
    {
     "cell_type": "heading",
     "level": 1,
     "metadata": {},
     "source": [
      "Test boson and fermion commutators and anticommutators"
     ]
    },
    {
     "cell_type": "code",
     "collapsed": false,
     "input": [
      "from sympy import *\n",
      "init_printing()"
     ],
     "language": "python",
     "metadata": {},
     "outputs": [],
     "prompt_number": 1
    },
    {
     "cell_type": "code",
     "collapsed": false,
     "input": [
      "from sympy.physics.quantum import *"
     ],
     "language": "python",
     "metadata": {},
     "outputs": [],
     "prompt_number": 2
    },
    {
     "cell_type": "markdown",
     "metadata": {},
     "source": [
      "These single-mode boson/fermion operators, but do not in general need to be independent."
     ]
    },
    {
     "cell_type": "code",
     "collapsed": false,
     "input": [
      "a, b = BosonOperator(\"a\"), BosonOperator(\"b\")\n",
      "c, d = FermionOperator(\"c\"), FermionOperator(\"d\")"
     ],
     "language": "python",
     "metadata": {},
     "outputs": [],
     "prompt_number": 3
    },
    {
     "cell_type": "heading",
     "level": 2,
     "metadata": {},
     "source": [
      "Boson"
     ]
    },
    {
     "cell_type": "code",
     "collapsed": false,
     "input": [
      "Commutator(a, Dagger(a)).doit()"
     ],
     "language": "python",
     "metadata": {},
     "outputs": [
      {
       "latex": [
        "$$1$$"
       ],
       "metadata": {},
       "output_type": "pyout",
       "png": "[encoded data removed]",
       "prompt_number": 4,
       "text": [
        "1"
       ]
      }
     ],
     "prompt_number": 4
    },
    {
     "cell_type": "code",
     "collapsed": false,
     "input": [
      "AntiCommutator(a, Dagger(a)).doit()"
     ],
     "language": "python",
     "metadata": {},
     "outputs": [
      {
       "latex": [
        "$${{a}^\\dagger} {a} + {a} {{a}^\\dagger}$$"
       ],
       "metadata": {},
       "output_type": "pyout",
       "png": "[encoded data removed]",
       "prompt_number": 5,
       "text": [
        " \u2020        \u2020\n",
        "a \u22c5a + a\u22c5a "
       ]
      }
     ],
     "prompt_number": 5
    },
    {
     "cell_type": "code",
     "collapsed": false,
     "input": [
      "normal_ordered_form(AntiCommutator(a, Dagger(a)).doit())"
     ],
     "language": "python",
     "metadata": {},
     "outputs": [
      {
       "latex": [
        "$$1 + 2 {{a}^\\dagger} {a}$$"
       ],
       "metadata": {},
       "output_type": "pyout",
       "png": "[encoded data removed]",
       "prompt_number": 6,
       "text": [
        "       \u2020  \n",
        "1 + 2\u22c5a \u22c5a"
       ]
      }
     ],
     "prompt_number": 6
    },
    {
     "cell_type": "markdown",
     "metadata": {},
     "source": [
      "Different boson operators do commute in general (and in general we know nothing about the commutation relation):"
     ]
    },
    {
     "cell_type": "code",
     "collapsed": false,
     "input": [
      "Commutator(a, b).doit()"
     ],
     "language": "python",
     "metadata": {},
     "outputs": [
      {
       "latex": [
        "$${a} {b} - {b} {a}$$"
       ],
       "metadata": {},
       "output_type": "pyout",
       "png": "[encoded data removed]",
       "prompt_number": 7,
       "text": [
        "a\u22c5b - b\u22c5a"
       ]
      }
     ],
     "prompt_number": 7
    },
    {
     "cell_type": "markdown",
     "metadata": {},
     "source": [
      "But often different bosons are independed and commute. We can use the `independent=True` hint to `doit` method in this situation:"
     ]
    },
    {
     "cell_type": "code",
     "collapsed": false,
     "input": [
      "Commutator(a, b).doit(independent=True)"
     ],
     "language": "python",
     "metadata": {},
     "outputs": [
      {
       "latex": [
        "$$0$$"
       ],
       "metadata": {},
       "output_type": "pyout",
       "png": "[encoded data removed]",
       "prompt_number": 8,
       "text": [
        "0"
       ]
      }
     ],
     "prompt_number": 8
    },
    {
     "cell_type": "code",
     "collapsed": false,
     "input": [
      "AntiCommutator(a, b).doit(independent=True)"
     ],
     "language": "python",
     "metadata": {},
     "outputs": [
      {
       "latex": [
        "$$2 {a} {b}$$"
       ],
       "metadata": {},
       "output_type": "pyout",
       "png": "[encoded data removed]",
       "prompt_number": 9,
       "text": [
        "2\u22c5a\u22c5b"
       ]
      }
     ],
     "prompt_number": 9
    },
    {
     "cell_type": "heading",
     "level": 2,
     "metadata": {},
     "source": [
      "Fermion"
     ]
    },
    {
     "cell_type": "code",
     "collapsed": false,
     "input": [
      "AntiCommutator(c, Dagger(c)).doit()"
     ],
     "language": "python",
     "metadata": {},
     "outputs": [
      {
       "latex": [
        "$$1$$"
       ],
       "metadata": {},
       "output_type": "pyout",
       "png": "[encoded data removed]",
       "prompt_number": 10,
       "text": [
        "1"
       ]
      }
     ],
     "prompt_number": 10
    },
    {
     "cell_type": "code",
     "collapsed": false,
     "input": [
      "Commutator(c, Dagger(c)).doit()"
     ],
     "language": "python",
     "metadata": {},
     "outputs": [
      {
       "latex": [
        "$$- {{c}^\\dagger} {c} - {c} {{c}^\\dagger}$$"
       ],
       "metadata": {},
       "output_type": "pyout",
       "png": "[encoded data removed]",
       "prompt_number": 11,
       "text": [
        " \u239b \u2020        \u2020\u239e\n",
        "-\u239dc \u22c5c - c\u22c5c \u23a0"
       ]
      }
     ],
     "prompt_number": 11
    },
    {
     "cell_type": "markdown",
     "metadata": {},
     "source": [
      "In general different ferion operators do not commute, if they are dependent:"
     ]
    },
    {
     "cell_type": "code",
     "collapsed": false,
     "input": [
      "Commutator(c, d).doit()"
     ],
     "language": "python",
     "metadata": {},
     "outputs": [
      {
       "latex": [
        "$${c} {d} - {d} {c}$$"
       ],
       "metadata": {},
       "output_type": "pyout",
       "png": "[encoded data removed]",
       "prompt_number": 12,
       "text": [
        "c\u22c5d - d\u22c5c"
       ]
      }
     ],
     "prompt_number": 12
    },
    {
     "cell_type": "markdown",
     "metadata": {},
     "source": [
      "And we do not know their anticommutator:"
     ]
    },
    {
     "cell_type": "code",
     "collapsed": false,
     "input": [
      "AntiCommutator(c, d).doit()"
     ],
     "language": "python",
     "metadata": {},
     "outputs": [
      {
       "latex": [
        "$${c} {d} + {d} {c}$$"
       ],
       "metadata": {},
       "output_type": "pyout",
       "png": "[encoded data removed]",
       "prompt_number": 13,
       "text": [
        "c\u22c5d + d\u22c5c"
       ]
      }
     ],
     "prompt_number": 13
    },
    {
     "cell_type": "markdown",
     "metadata": {},
     "source": [
      "But if we know that they are independent we can indicate this with the `independent=True` hint: "
     ]
    },
    {
     "cell_type": "code",
     "collapsed": false,
     "input": [
      "Commutator(c, d).doit(independent=True)"
     ],
     "language": "python",
     "metadata": {},
     "outputs": [
      {
       "latex": [
        "$$0$$"
       ],
       "metadata": {},
       "output_type": "pyout",
       "png": "[encoded data removed]",
       "prompt_number": 14,
       "text": [
        "0"
       ]
      }
     ],
     "prompt_number": 14
    },
    {
     "cell_type": "markdown",
     "metadata": {},
     "source": [
      "and in this case the anticommutator is:"
     ]
    },
    {
     "cell_type": "code",
     "collapsed": false,
     "input": [
      "AntiCommutator(c, d).doit(independent=True)"
     ],
     "language": "python",
     "metadata": {},
     "outputs": [
      {
       "latex": [
        "$$2 {c} {d}$$"
       ],
       "metadata": {},
       "output_type": "pyout",
       "png": "[encoded data removed]",
       "prompt_number": 15,
       "text": [
        "2\u22c5c\u22c5d"
       ]
      }
     ],
     "prompt_number": 15
    },
    {
     "cell_type": "heading",
     "level": 2,
     "metadata": {},
     "source": [
      "Mix of fermion and boson operators"
     ]
    },
    {
     "cell_type": "markdown",
     "metadata": {},
     "source": [
      "Boson and fermion operators commute:"
     ]
    },
    {
     "cell_type": "code",
     "collapsed": false,
     "input": [
      "Commutator(a, c).doit()"
     ],
     "language": "python",
     "metadata": {},
     "outputs": [
      {
       "latex": [
        "$$0$$"
       ],
       "metadata": {},
       "output_type": "pyout",
       "png": "[encoded data removed]",
       "prompt_number": 16,
       "text": [
        "0"
       ]
      }
     ],
     "prompt_number": 16
    },
    {
     "cell_type": "markdown",
     "metadata": {},
     "source": [
      "So their anticommutator is this one:"
     ]
    },
    {
     "cell_type": "code",
     "collapsed": false,
     "input": [
      "AntiCommutator(a, c).doit()"
     ],
     "language": "python",
     "metadata": {},
     "outputs": [
      {
       "latex": [
        "$$2 {a} {c}$$"
       ],
       "metadata": {},
       "output_type": "pyout",
       "png": "[encoded data removed]",
       "prompt_number": 17,
       "text": [
        "2\u22c5a\u22c5c"
       ]
      }
     ],
     "prompt_number": 17
    },
    {
     "cell_type": "heading",
     "level": 2,
     "metadata": {},
     "source": [
      "Versions"
     ]
    },
    {
     "cell_type": "code",
     "collapsed": false,
     "input": [
      "%reload_ext version_information\n",
      "\n",
      "%version_information sympy"
     ],
     "language": "python",
     "metadata": {},
     "outputs": [
      {
       "html": [
        "<table><tr><th>Software</th><th>Version</th></tr><tr><td>Python</td><td>3.4.0 (default, Apr 11 2014, 13:05:11) [GCC 4.8.2]</td></tr><tr><td>IPython</td><td>3.0.0-dev</td></tr><tr><td>OS</td><td>posix [linux]</td></tr><tr><td>sympy</td><td>0.7.4.1-git</td></tr><tr><td colspan='2'>Wed Jun 04 16:08:07 2014 JST</td></tr></table>"
       ],
       "json": [
        "{\"Software versions\": [{\"module\": \"Python\", \"version\": \"3.4.0 (default, Apr 11 2014, 13:05:11) [GCC 4.8.2]\"}, {\"module\": \"IPython\", \"version\": \"3.0.0-dev\"}, {\"module\": \"OS\", \"version\": \"posix [linux]\"}, {\"module\": \"sympy\", \"version\": \"0.7.4.1-git\"}]}"
       ],
       "latex": [
        "\\begin{tabular}{|l|l|}\\hline\n",
        "{\\bf Software} & {\\bf Version} \\\\ \\hline\\hline\n",
        "Python & 3.4.0 (default, Apr 11 2014, 13:05:11) [GCC 4.8.2] \\\\ \\hline\n",
        "IPython & 3.0.0-dev \\\\ \\hline\n",
        "OS & posix [linux] \\\\ \\hline\n",
        "sympy & 0.7.4.1-git \\\\ \\hline\n",
        "\\hline \\multicolumn{2}{|l|}{Wed Jun 04 16:08:07 2014 JST} \\\\ \\hline\n",
        "\\end{tabular}\n"
       ],
       "metadata": {},
       "output_type": "pyout",
       "prompt_number": 18,
       "text": [
        "Software versions\n",
        "Python 3.4.0 (default, Apr 11 2014, 13:05:11) [GCC 4.8.2]\n",
        "IPython 3.0.0-dev\n",
        "OS posix [linux]\n",
        "sympy 0.7.4.1-git\n",
        "\n",
        "Wed Jun 04 16:08:07 2014 JST"
       ]
      }
     ],
     "prompt_number": 18
    }
   ],
   "metadata": {}
  }
 ]
}