{
 "cells": [
  {
   "cell_type": "markdown",
   "id": "5d96e59c",
   "metadata": {},
   "source": [
    "# Test boson and fermion commutators and anticommutators"
   ]
  },
  {
   "cell_type": "code",
   "execution_count": 1,
   "id": "d7af5b3f",
   "metadata": {
    "collapsed": false
   },
   "outputs": [],
   "source": [
    "from sympy import *\n",
    "init_printing()"
   ]
  },
  {
   "cell_type": "code",
   "execution_count": 2,
   "id": "caa69457",
   "metadata": {
    "collapsed": false
   },
   "outputs": [],
   "source": [
    "from sympy.physics.quantum import *\n",
    "from sympy.physics.quantum.boson import *\n",
    "from sympy.physics.quantum.fermion import *\n",
    "from sympy.physics.quantum.operatorordering import *"
   ]
  },
  {
   "cell_type": "markdown",
   "id": "33b4b6a4",
   "metadata": {},
   "source": [
    "These distinguishable single-mode boson/fermion operators, but do not in general need to be independent."
   ]
  },
  {
   "cell_type": "code",
   "execution_count": 3,
   "id": "64df5dbe",
   "metadata": {
    "collapsed": false
   },
   "outputs": [],
   "source": [
    "a, b = BosonOp(\"a\"), BosonOp(\"b\")\n",
    "c, d = FermionOp(\"c\"), FermionOp(\"d\")"
   ]
  },
  {
   "cell_type": "markdown",
   "id": "9b8c07c4",
   "metadata": {},
   "source": [
    "## Boson"
   ]
  },
  {
   "cell_type": "code",
   "execution_count": 4,
   "id": "fac3048e",
   "metadata": {
    "collapsed": false
   },
   "outputs": [
    {
     "data": {
      "image/png": "[encoded data removed]",
      "text/latex": [
       "$$1$$"
      ],
      "text/plain": [
       "1"
      ]
     },
     "execution_count": 4,
     "metadata": {},
     "output_type": "execute_result"
    }
   ],
   "source": [
    "Commutator(a, Dagger(a)).doit()"
   ]
  },
  {
   "cell_type": "code",
   "execution_count": 5,
   "id": "043b0454",
   "metadata": {
    "collapsed": false
   },
   "outputs": [
    {
     "data": {
      "image/png": "[encoded data removed]",
      "text/latex": [
       "$${{a}^\\dagger} {a} + {a} {{a}^\\dagger}$$"
      ],
      "text/plain": [
       " †        †\n",
       "a ⋅a + a⋅a "
      ]
     },
     "execution_count": 5,
     "metadata": {},
     "output_type": "execute_result"
    }
   ],
   "source": [
    "AntiCommutator(a, Dagger(a)).doit()"
   ]
  },
  {
   "cell_type": "code",
   "execution_count": 6,
   "id": "984b2a6d",
   "metadata": {
    "collapsed": false
   },
   "outputs": [
    {
     "data": {
      "image/png": "[encoded data removed]",
      "text/latex": [
       "$$1 + 2 {{a}^\\dagger} {a}$$"
      ],
      "text/plain": [
       "       †  \n",
       "1 + 2⋅a ⋅a"
      ]
     },
     "execution_count": 6,
     "metadata": {},
     "output_type": "execute_result"
    }
   ],
   "source": [
    "normal_ordered_form(AntiCommutator(a, Dagger(a)).doit())"
   ]
  },
  {
   "cell_type": "markdown",
   "id": "bd6dc37a",
   "metadata": {},
   "source": [
    "In general, different boson operators do not commute, and we do not know anything about the commutation and anticommutation relations:"
   ]
  },
  {
   "cell_type": "code",
   "execution_count": 7,
   "id": "69eeb43f",
   "metadata": {
    "collapsed": false
   },
   "outputs": [
    {
     "data": {
      "image/png": "[encoded data removed]",
      "text/latex": [
       "$${a} {b} - {b} {a}$$"
      ],
      "text/plain": [
       "a⋅b - b⋅a"
      ]
     },
     "execution_count": 7,
     "metadata": {},
     "output_type": "execute_result"
    }
   ],
   "source": [
    "Commutator(a, b).doit()"
   ]
  },
  {
   "cell_type": "code",
   "execution_count": 8,
   "id": "7975bcf1",
   "metadata": {
    "collapsed": false
   },
   "outputs": [
    {
     "data": {
      "image/png": "[encoded data removed]",
      "text/latex": [
       "$${a} {b} + {b} {a}$$"
      ],
      "text/plain": [
       "a⋅b + b⋅a"
      ]
     },
     "execution_count": 8,
     "metadata": {},
     "output_type": "execute_result"
    }
   ],
   "source": [
    "AntiCommutator(a, b).doit()"
   ]
  },
  {
   "cell_type": "markdown",
   "id": "e1cd2c78",
   "metadata": {},
   "source": [
    "But often different bosons are independent and do commute. We can use the `independent=True` hint to `doit` method in this situation:"
   ]
  },
  {
   "cell_type": "code",
   "execution_count": 9,
   "id": "3ace35f0",
   "metadata": {
    "collapsed": false
   },
   "outputs": [
    {
     "data": {
      "image/png": "[encoded data removed]",
      "text/latex": [
       "$$0$$"
      ],
      "text/plain": [
       "0"
      ]
     },
     "execution_count": 9,
     "metadata": {},
     "output_type": "execute_result"
    }
   ],
   "source": [
    "Commutator(a, b).doit(independent=True)"
   ]
  },
  {
   "cell_type": "code",
   "execution_count": 10,
   "id": "f0c6aebe",
   "metadata": {
    "collapsed": false
   },
   "outputs": [
    {
     "data": {
      "image/png": "[encoded data removed]",
      "text/latex": [
       "$$2 {a} {b}$$"
      ],
      "text/plain": [
       "2⋅a⋅b"
      ]
     },
     "execution_count": 10,
     "metadata": {},
     "output_type": "execute_result"
    }
   ],
   "source": [
    "AntiCommutator(a, b).doit(independent=True)"
   ]
  },
  {
   "cell_type": "markdown",
   "id": "f07b0a40",
   "metadata": {},
   "source": [
    "## Fermion"
   ]
  },
  {
   "cell_type": "code",
   "execution_count": 11,
   "id": "71394640",
   "metadata": {
    "collapsed": false
   },
   "outputs": [
    {
     "data": {
      "image/png": "[encoded data removed]",
      "text/latex": [
       "$$1$$"
      ],
      "text/plain": [
       "1"
      ]
     },
     "execution_count": 11,
     "metadata": {},
     "output_type": "execute_result"
    }
   ],
   "source": [
    "AntiCommutator(c, Dagger(c)).doit()"
   ]
  },
  {
   "cell_type": "code",
   "execution_count": 12,
   "id": "93cd1ed9",
   "metadata": {
    "collapsed": false
   },
   "outputs": [
    {
     "data": {
      "image/png": "[encoded data removed]",
      "text/latex": [
       "$$- {{c}^\\dagger} {c} + {c} {{c}^\\dagger}$$"
      ],
      "text/plain": [
       "   †        †\n",
       "- c ⋅c + c⋅c "
      ]
     },
     "execution_count": 12,
     "metadata": {},
     "output_type": "execute_result"
    }
   ],
   "source": [
    "Commutator(c, Dagger(c)).doit().expand()"
   ]
  },
  {
   "cell_type": "markdown",
   "id": "66fc9ec2",
   "metadata": {},
   "source": [
    "In general different fermion operators do not commute (if they are dependent):"
   ]
  },
  {
   "cell_type": "code",
   "execution_count": 13,
   "id": "8c15e188",
   "metadata": {
    "collapsed": false
   },
   "outputs": [
    {
     "data": {
      "image/png": "[encoded data removed]",
      "text/latex": [
       "$${c} {d} - {d} {c}$$"
      ],
      "text/plain": [
       "c⋅d - d⋅c"
      ]
     },
     "execution_count": 13,
     "metadata": {},
     "output_type": "execute_result"
    }
   ],
   "source": [
    "Commutator(c, d).doit()"
   ]
  },
  {
   "cell_type": "markdown",
   "id": "6023786f",
   "metadata": {},
   "source": [
    "And we do not know their anticommutator:"
   ]
  },
  {
   "cell_type": "code",
   "execution_count": 14,
   "id": "a56cdfe0",
   "metadata": {
    "collapsed": false
   },
   "outputs": [
    {
     "data": {
      "image/png": "[encoded data removed]",
      "text/latex": [
       "$${c} {d} + {d} {c}$$"
      ],
      "text/plain": [
       "c⋅d + d⋅c"
      ]
     },
     "execution_count": 14,
     "metadata": {},
     "output_type": "execute_result"
    }
   ],
   "source": [
    "AntiCommutator(c, d).doit()"
   ]
  },
  {
   "cell_type": "markdown",
   "id": "dcae55d2",
   "metadata": {},
   "source": [
    "But if we know that they are independent we can indicate this with the `independent=True` hint: "
   ]
  },
  {
   "cell_type": "code",
   "execution_count": 15,
   "id": "392f9d90",
   "metadata": {
    "collapsed": false
   },
   "outputs": [
    {
     "data": {
      "image/png": "[encoded data removed]",
      "text/latex": [
       "$$0$$"
      ],
      "text/plain": [
       "0"
      ]
     },
     "execution_count": 15,
     "metadata": {},
     "output_type": "execute_result"
    }
   ],
   "source": [
    "Commutator(c, d).doit(independent=True)"
   ]
  },
  {
   "cell_type": "markdown",
   "id": "359c79c2",
   "metadata": {},
   "source": [
    "and in this case the anticommutator is:"
   ]
  },
  {
   "cell_type": "code",
   "execution_count": 16,
   "id": "02a93a61",
   "metadata": {
    "collapsed": false
   },
   "outputs": [
    {
     "data": {
      "image/png": "[encoded data removed]",
      "text/latex": [
       "$$2 {c} {d}$$"
      ],
      "text/plain": [
       "2⋅c⋅d"
      ]
     },
     "execution_count": 16,
     "metadata": {},
     "output_type": "execute_result"
    }
   ],
   "source": [
    "AntiCommutator(c, d).doit(independent=True)"
   ]
  },
  {
   "cell_type": "markdown",
   "id": "cd0a191c",
   "metadata": {},
   "source": [
    "## Mix of fermion and boson operators"
   ]
  },
  {
   "cell_type": "markdown",
   "id": "c8ed5590",
   "metadata": {},
   "source": [
    "Boson and fermion operators commute:"
   ]
  },
  {
   "cell_type": "code",
   "execution_count": 17,
   "id": "7c87314a",
   "metadata": {
    "collapsed": false
   },
   "outputs": [
    {
     "data": {
      "image/png": "[encoded data removed]",
      "text/latex": [
       "$$0$$"
      ],
      "text/plain": [
       "0"
      ]
     },
     "execution_count": 17,
     "metadata": {},
     "output_type": "execute_result"
    }
   ],
   "source": [
    "Commutator(a, c).doit()"
   ]
  },
  {
   "cell_type": "markdown",
   "id": "0c8f3c9d",
   "metadata": {},
   "source": [
    "So their anticommutator is this one:"
   ]
  },
  {
   "cell_type": "code",
   "execution_count": 18,
   "id": "7f8d2e4b",
   "metadata": {
    "collapsed": false
   },
   "outputs": [
    {
     "data": {
      "image/png": "[encoded data removed]",
      "text/latex": [
       "$$2 {c} {a}$$"
      ],
      "text/plain": [
       "2⋅c⋅a"
      ]
     },
     "execution_count": 18,
     "metadata": {},
     "output_type": "execute_result"
    }
   ],
   "source": [
    "AntiCommutator(a, c).doit()"
   ]
  },
  {
   "cell_type": "markdown",
   "id": "9556fe47",
   "metadata": {},
   "source": [
    "## Versions"
   ]
  },
  {
   "cell_type": "code",
   "execution_count": 19,
   "id": "0e9fce11",
   "metadata": {
    "collapsed": false
   },
   "outputs": [
    {
     "data": {
      "application/json": {
       "Software versions": [
        {
         "module": "Python",
         "version": "3.4.1 (default, May 21 2014, 01:39:38) [GCC 4.2.1 Compatible Apple LLVM 5.1 (clang-503.0.40)]"
        },
        {
         "module": "IPython",
         "version": "2.1.0"
        },
        {
         "module": "OS",
         "version": "posix [darwin]"
        },
        {
         "module": "sympy",
         "version": "0.7.4.1-git"
        }
       ]
      },
      "text/html": [
       "<table><tr><th>Software</th><th>Version</th></tr><tr><td>Python</td><td>3.4.1 (default, May 21 2014, 01:39:38) [GCC 4.2.1 Compatible Apple LLVM 5.1 (clang-503.0.40)]</td></tr><tr><td>IPython</td><td>2.1.0</td></tr><tr><td>OS</td><td>posix [darwin]</td></tr><tr><td>sympy</td><td>0.7.4.1-git</td></tr><tr><td colspan='2'>Thu Jun 05 15:27:54 2014 JST</td></tr></table>"
      ],
      "text/latex": [
       "\\begin{tabular}{|l|l|}\\hline\n",
       "{\\bf Software} & {\\bf Version} \\\\ \\hline\\hline\n",
       "Python & 3.4.1 (default, May 21 2014, 01:39:38) [GCC 4.2.1 Compatible Apple LLVM 5.1 (clang-503.0.40)] \\\\ \\hline\n",
       "IPython & 2.1.0 \\\\ \\hline\n",
       "OS & posix [darwin] \\\\ \\hline\n",
       "sympy & 0.7.4.1-git \\\\ \\hline\n",
       "\\hline \\multicolumn{2}{|l|}{Thu Jun 05 15:27:54 2014 JST} \\\\ \\hline\n",
       "\\end{tabular}\n"
      ],
      "text/plain": [
       "Software versions\n",
       "Python 3.4.1 (default, May 21 2014, 01:39:38) [GCC 4.2.1 Compatible Apple LLVM 5.1 (clang-503.0.40)]\n",
       "IPython 2.1.0\n",
       "OS posix [darwin]\n",
       "sympy 0.7.4.1-git\n",
       "\n",
       "Thu Jun 05 15:27:54 2014 JST"
      ]
     },
     "execution_count": 19,
     "metadata": {},
     "output_type": "execute_result"
    }
   ],
   "source": [
    "%reload_ext version_information\n",
    "\n",
    "%version_information sympy"
   ]
  }
 ],
 "metadata": {},
 "nbformat": 4,
 "nbformat_minor": 5
}
