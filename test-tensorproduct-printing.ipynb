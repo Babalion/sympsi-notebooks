{
 "metadata": {
  "name": "",
  "signature": "sha256:1f25fe8a29b7c4b6410f9739b2c8e3fa54a9505c95559368a629507fcedb7536"
 },
 "nbformat": 3,
 "nbformat_minor": 0,
 "worksheets": [
  {
   "cells": [
    {
     "cell_type": "heading",
     "level": 1,
     "metadata": {},
     "source": [
      "Test tensorproduct printing"
     ]
    },
    {
     "cell_type": "code",
     "collapsed": false,
     "input": [
      "from sympy import *\n",
      "from sympy.physics.quantum import *\n",
      "\n",
      "init_printing(use_latex=True)\n",
      "\n",
      "from sympy.physics.quantum.tensorproduct import combined_tensor_printing\n",
      "combined_tensor_printing(True)"
     ],
     "language": "python",
     "metadata": {},
     "outputs": [],
     "prompt_number": 24
    },
    {
     "cell_type": "heading",
     "level": 2,
     "metadata": {},
     "source": [
      "Spins"
     ]
    },
    {
     "cell_type": "code",
     "collapsed": false,
     "input": [
      "from sympy.physics.quantum.spin import *"
     ],
     "language": "python",
     "metadata": {},
     "outputs": [],
     "prompt_number": 25
    },
    {
     "cell_type": "code",
     "collapsed": false,
     "input": [
      "JzKet(S(1)/2, S(1)/2)"
     ],
     "language": "python",
     "metadata": {},
     "outputs": [
      {
       "latex": [
        "$${\\left|\\frac{1}{2},\\frac{1}{2}\\right\\rangle }$$"
       ],
       "metadata": {},
       "output_type": "pyout",
       "png": "[encoded data removed]",
       "prompt_number": 26,
       "text": [
        "\u27581/2,1/2\u27e9"
       ]
      }
     ],
     "prompt_number": 26
    },
    {
     "cell_type": "code",
     "collapsed": false,
     "input": [
      "tp = TensorProduct(JzKet(S(1)/2, S(1)/2), JzKet(S(1)/2, S(1)/2))\n",
      "tp"
     ],
     "language": "python",
     "metadata": {},
     "outputs": [
      {
       "latex": [
        "$${\\left|\\left\\{\\frac{1}{2},\\frac{1}{2}\\right\\}, \\left\\{\\frac{1}{2},\\frac{1}{2}\\right\\}\\right\\rangle }$$"
       ],
       "metadata": {},
       "output_type": "pyout",
       "png": "[encoded data removed]",
       "prompt_number": 27,
       "text": [
        "|{1/2, 1/2}, {1/2, 1/2}>"
       ]
      }
     ],
     "prompt_number": 27
    },
    {
     "cell_type": "code",
     "collapsed": false,
     "input": [
      "tp = TensorProduct(JzKet(S(1)/2, S(1)/2), JzKet(S(1)/2, S(1)/2))\n",
      "tp"
     ],
     "language": "python",
     "metadata": {},
     "outputs": [
      {
       "latex": [
        "$${\\left|\\left\\{\\frac{1}{2},\\frac{1}{2}\\right\\}, \\left\\{\\frac{1}{2},\\frac{1}{2}\\right\\}\\right\\rangle }$$"
       ],
       "metadata": {},
       "output_type": "pyout",
       "png": "[encoded data removed]",
       "prompt_number": 28,
       "text": [
        "|{1/2, 1/2}, {1/2, 1/2}>"
       ]
      }
     ],
     "prompt_number": 28
    },
    {
     "cell_type": "code",
     "collapsed": false,
     "input": [
      "p = Dagger(tp) * tp\n",
      "\n",
      "p, p.doit()"
     ],
     "language": "python",
     "metadata": {},
     "outputs": [
      {
       "latex": [
        "$$\\begin{pmatrix}{\\left\\langle \\left\\{\\frac{1}{2},\\frac{1}{2}\\right\\}, \\left\\{\\frac{1}{2},\\frac{1}{2}\\right\\}\\right|} {\\left|\\left\\{\\frac{1}{2},\\frac{1}{2}\\right\\}, \\left\\{\\frac{1}{2},\\frac{1}{2}\\right\\}\\right\\rangle }, & {\\left\\langle \\left\\{\\frac{1}{2},\\frac{1}{2}\\right\\}, \\left\\{\\frac{1}{2},\\frac{1}{2}\\right\\}\\right|} {\\left|\\left\\{\\frac{1}{2},\\frac{1}{2}\\right\\}, \\left\\{\\frac{1}{2},\\frac{1}{2}\\right\\}\\right\\rangle }\\end{pmatrix}$$"
       ],
       "metadata": {},
       "output_type": "pyout",
       "png": "[encoded data removed]",
       "prompt_number": 29,
       "text": [
        "(<{1/2, 1/2}, {1/2, 1/2}|\u22c5|{1/2, 1/2}, {1/2, 1/2}>, <{1/2, 1/2}, {1/2, 1/2}|\u22c5|\n",
        "{1/2, 1/2}, {1/2, 1/2}>)"
       ]
      }
     ],
     "prompt_number": 29
    },
    {
     "cell_type": "heading",
     "level": 2,
     "metadata": {},
     "source": [
      "Bosons and Fermions"
     ]
    },
    {
     "cell_type": "code",
     "collapsed": false,
     "input": [
      "a1 = BosonOperator(\"a_1\")\n",
      "a2 = BosonOperator(\"a_2\")"
     ],
     "language": "python",
     "metadata": {},
     "outputs": [],
     "prompt_number": 30
    },
    {
     "cell_type": "code",
     "collapsed": false,
     "input": [
      "TensorProduct(a1, a2)"
     ],
     "language": "python",
     "metadata": {},
     "outputs": [
      {
       "latex": [
        "$${{a_1}}\\otimes {{a_2}}$$"
       ],
       "metadata": {},
       "output_type": "pyout",
       "png": "[encoded data removed]",
       "prompt_number": 31,
       "text": [
        "a\u2081\u2a02 a\u2082"
       ]
      }
     ],
     "prompt_number": 31
    },
    {
     "cell_type": "code",
     "collapsed": false,
     "input": [
      "ket1 = BosonFockKet(\"n_1\")\n",
      "ket2 = BosonFockKet(\"n_2\")"
     ],
     "language": "python",
     "metadata": {},
     "outputs": [],
     "prompt_number": 32
    },
    {
     "cell_type": "code",
     "collapsed": false,
     "input": [
      "TensorProduct(ket1, ket2)"
     ],
     "language": "python",
     "metadata": {},
     "outputs": [
      {
       "latex": [
        "$${\\left|n_{1}, n_{2}\\right\\rangle }$$"
       ],
       "metadata": {},
       "output_type": "pyout",
       "png": "[encoded data removed]",
       "prompt_number": 33,
       "text": [
        "|n\u2081, n\u2082>"
       ]
      }
     ],
     "prompt_number": 33
    },
    {
     "cell_type": "code",
     "collapsed": false,
     "input": [
      "ket1 = FermionFockKet(0)\n",
      "ket2 = FermionFockKet(1)"
     ],
     "language": "python",
     "metadata": {},
     "outputs": [],
     "prompt_number": 34
    },
    {
     "cell_type": "code",
     "collapsed": false,
     "input": [
      "tp = TensorProduct(ket1, ket2)\n",
      "tp"
     ],
     "language": "python",
     "metadata": {},
     "outputs": [
      {
       "latex": [
        "$${\\left|0, 1\\right\\rangle }$$"
       ],
       "metadata": {},
       "output_type": "pyout",
       "png": "[encoded data removed]",
       "prompt_number": 35,
       "text": [
        "|0, 1>"
       ]
      }
     ],
     "prompt_number": 35
    },
    {
     "cell_type": "code",
     "collapsed": false,
     "input": [
      "p = Dagger(tp) * tp\n",
      "\n",
      "p, p.doit()"
     ],
     "language": "python",
     "metadata": {},
     "outputs": [
      {
       "latex": [
        "$$\\begin{pmatrix}{\\left\\langle 0, 1\\right|} {\\left|0, 1\\right\\rangle }, & {\\left\\langle 0, 1\\right|} {\\left|0, 1\\right\\rangle }\\end{pmatrix}$$"
       ],
       "metadata": {},
       "output_type": "pyout",
       "png": "[encoded data removed]",
       "prompt_number": 36,
       "text": [
        "(<0, 1|\u22c5|0, 1>, <0, 1|\u22c5|0, 1>)"
       ]
      }
     ],
     "prompt_number": 36
    },
    {
     "cell_type": "heading",
     "level": 2,
     "metadata": {},
     "source": [
      "Qubits"
     ]
    },
    {
     "cell_type": "code",
     "collapsed": false,
     "input": [
      "from sympy.physics.quantum.qubit import *"
     ],
     "language": "python",
     "metadata": {},
     "outputs": [],
     "prompt_number": 37
    },
    {
     "cell_type": "code",
     "collapsed": false,
     "input": [
      "q1 = Qubit(0)\n",
      "q2 = Qubit(0)\n",
      "\n",
      "TensorProduct(q1, q2)"
     ],
     "language": "python",
     "metadata": {},
     "outputs": [
      {
       "latex": [
        "$${\\left|0, 0\\right\\rangle }$$"
       ],
       "metadata": {},
       "output_type": "pyout",
       "png": "[encoded data removed]",
       "prompt_number": 38,
       "text": [
        "|0, 0>"
       ]
      }
     ],
     "prompt_number": 38
    },
    {
     "cell_type": "code",
     "collapsed": false,
     "input": [
      "q1 = Qubit(\"01\")\n",
      "q2 = Qubit(\"10\")"
     ],
     "language": "python",
     "metadata": {},
     "outputs": [],
     "prompt_number": 39
    },
    {
     "cell_type": "code",
     "collapsed": false,
     "input": [
      "p = (Dagger(q2) * q1)\n",
      "\n",
      "p, p.doit()"
     ],
     "language": "python",
     "metadata": {},
     "outputs": [
      {
       "latex": [
        "$$\\begin{pmatrix}\\left\\langle 10 \\right. {\\left|01\\right\\rangle }, & 0\\end{pmatrix}$$"
       ],
       "metadata": {},
       "output_type": "pyout",
       "png": "[encoded data removed]",
       "prompt_number": 40,
       "text": [
        "(\u27e810\u275801\u27e9, 0)"
       ]
      }
     ],
     "prompt_number": 40
    },
    {
     "cell_type": "code",
     "collapsed": false,
     "input": [
      "q1 = Qubit(\"0\")\n",
      "q2 = Qubit(\"1\")"
     ],
     "language": "python",
     "metadata": {},
     "outputs": [],
     "prompt_number": 41
    },
    {
     "cell_type": "code",
     "collapsed": false,
     "input": [
      "tp = TensorProduct(q1, q2)\n",
      "tp"
     ],
     "language": "python",
     "metadata": {},
     "outputs": [
      {
       "latex": [
        "$${\\left|0, 1\\right\\rangle }$$"
       ],
       "metadata": {},
       "output_type": "pyout",
       "png": "[encoded data removed]",
       "prompt_number": 42,
       "text": [
        "|0, 1>"
       ]
      }
     ],
     "prompt_number": 42
    },
    {
     "cell_type": "code",
     "collapsed": false,
     "input": [
      "p = (Dagger(tp) * tp)\n",
      "\n",
      "p, p.doit()"
     ],
     "language": "python",
     "metadata": {},
     "outputs": [
      {
       "latex": [
        "$$\\begin{pmatrix}{\\left\\langle 0, 1\\right|} {\\left|0, 1\\right\\rangle }, & {\\left\\langle 0, 1\\right|} {\\left|0, 1\\right\\rangle }\\end{pmatrix}$$"
       ],
       "metadata": {},
       "output_type": "pyout",
       "png": "[encoded data removed]",
       "prompt_number": 43,
       "text": [
        "(<0, 1|\u22c5|0, 1>, <0, 1|\u22c5|0, 1>)"
       ]
      }
     ],
     "prompt_number": 43
    },
    {
     "cell_type": "heading",
     "level": 1,
     "metadata": {},
     "source": [
      "Mixed systems"
     ]
    },
    {
     "cell_type": "code",
     "collapsed": false,
     "input": [
      "TensorProduct(BosonFockKet(\"n\"), Qubit(1), JzKet(S(1)/2, S(1)/2))"
     ],
     "language": "python",
     "metadata": {},
     "outputs": [
      {
       "latex": [
        "$${\\left|n, 1, \\left\\{\\frac{1}{2},\\frac{1}{2}\\right\\}\\right\\rangle }$$"
       ],
       "metadata": {},
       "output_type": "pyout",
       "png": "[encoded data removed]",
       "prompt_number": 44,
       "text": [
        "|n, 1, {1/2, 1/2}>"
       ]
      }
     ],
     "prompt_number": 44
    },
    {
     "cell_type": "code",
     "collapsed": false,
     "input": [
      "TensorProduct(BosonCoherentKet(\"alpha\"), JzKet(S(1)/2, S(1)/2))"
     ],
     "language": "python",
     "metadata": {},
     "outputs": [
      {
       "latex": [
        "$${\\left|\\alpha, \\left\\{\\frac{1}{2},\\frac{1}{2}\\right\\}\\right\\rangle }$$"
       ],
       "metadata": {},
       "output_type": "pyout",
       "png": "[encoded data removed]",
       "prompt_number": 45,
       "text": [
        "|\u03b1, {1/2, 1/2}>"
       ]
      }
     ],
     "prompt_number": 45
    },
    {
     "cell_type": "code",
     "collapsed": false,
     "input": [
      "TensorProduct(BosonCoherentBra(\"alpha\"), JzKet(S(1)/2, S(1)/2))"
     ],
     "language": "python",
     "metadata": {},
     "outputs": [
      {
       "latex": [
        "$${{\\left\\langle \\alpha\\right|}}\\otimes {{\\left|\\frac{1}{2},\\frac{1}{2}\\right\\rangle }}$$"
       ],
       "metadata": {},
       "output_type": "pyout",
       "png": "[encoded data removed]",
       "prompt_number": 46,
       "text": [
        "\u27e8\u03b1\u2758\u2a02 \u27581/2,1/2\u27e9"
       ]
      }
     ],
     "prompt_number": 46
    },
    {
     "cell_type": "code",
     "collapsed": false,
     "input": [],
     "language": "python",
     "metadata": {},
     "outputs": [],
     "prompt_number": 23
    },
    {
     "cell_type": "code",
     "collapsed": false,
     "input": [],
     "language": "python",
     "metadata": {},
     "outputs": [],
     "prompt_number": 23
    },
    {
     "cell_type": "code",
     "collapsed": false,
     "input": [],
     "language": "python",
     "metadata": {},
     "outputs": []
    }
   ],
   "metadata": {}
  }
 ]
}