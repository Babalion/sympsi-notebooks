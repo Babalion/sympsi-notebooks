{
 "metadata": {
  "name": "",
  "signature": "sha256:7bd59c932ef6e22ef5bae30208857663c0a791caac84cada9de761aaabfe18a4"
 },
 "nbformat": 3,
 "nbformat_minor": 0,
 "worksheets": [
  {
   "cells": [
    {
     "cell_type": "heading",
     "level": 1,
     "metadata": {},
     "source": [
      "Lecture 7 - Symbolic quantum mechanics using SymPsi - Semiclassical equations of motion"
     ]
    },
    {
     "cell_type": "markdown",
     "metadata": {},
     "source": [
      "<style>\n",
      "p {\n",
      "    font-family: \"Liberation Serif\", serif;\n",
      "    font-size: 12pt;\n",
      "}\n",
      "</style>"
     ]
    },
    {
     "cell_type": "markdown",
     "metadata": {},
     "source": [
      "Author: J. R. Johansson (robert@riken.jp), [http://jrjohansson.github.io](http://jrjohansson.github.io), and Eunjong Kim.\n",
      "\n",
      "Status: Preliminary (work in progress)\n",
      "\n",
      "This notebook is part of a series of IPython notebooks on symbolic quantum mechanics computations using \n",
      "[SymPy](http://sympy.org) and [SymPsi](http://www.github.com/jrjohansson/sympsi). SymPsi is an experimental fork and extension of the [`sympy.physics.quantum`](http://docs.sympy.org/dev/modules/physics/quantum/) module in SymPy. The latest version of this notebook is available at [http://github.com/jrjohansson/sympy-quantum-notebooks](http://github.com/jrjohansson/sympy-quantum-notebooks), and the other notebooks in this lecture series are also indexed at [http://jrjohansson.github.io](http://jrjohansson.github.com).\n",
      "\n",
      "Requirements: A recent version of SymPy and the latest development version of SymPsi is required to execute this notebook. Instructions for how to install SymPsi is available [here](http://www.github.com/jrjohansson/sympsi).\n",
      "\n",
      "Disclaimer: The SymPsi module is still under active development and may change in behavior without notice, and the intention is to move some of its features to [`sympy.physics.quantum`](http://docs.sympy.org/dev/modules/physics/quantum/) when they matured and have been tested. However, these notebooks will be kept up-to-date the latest versions of SymPy and SymPsi."
     ]
    },
    {
     "cell_type": "heading",
     "level": 2,
     "metadata": {},
     "source": [
      "Setup modules"
     ]
    },
    {
     "cell_type": "code",
     "collapsed": false,
     "input": [
      "%matplotlib inline\n",
      "import matplotlib.pyplot as plt"
     ],
     "language": "python",
     "metadata": {},
     "outputs": [],
     "prompt_number": 1
    },
    {
     "cell_type": "code",
     "collapsed": false,
     "input": [
      "import numpy as np"
     ],
     "language": "python",
     "metadata": {},
     "outputs": [],
     "prompt_number": 2
    },
    {
     "cell_type": "code",
     "collapsed": false,
     "input": [
      "from sympy import *\n",
      "init_printing()"
     ],
     "language": "python",
     "metadata": {},
     "outputs": [],
     "prompt_number": 3
    },
    {
     "cell_type": "code",
     "collapsed": false,
     "input": [
      "from sympsi import *\n",
      "from sympsi.boson import *\n",
      "from sympsi.pauli import *\n",
      "from sympsi.operatorordering import *\n",
      "from sympsi.expectation import *\n",
      "from sympsi.operator import OperatorFunction"
     ],
     "language": "python",
     "metadata": {},
     "outputs": [],
     "prompt_number": 4
    },
    {
     "cell_type": "heading",
     "level": 2,
     "metadata": {},
     "source": [
      "Semiclassical equations of motion"
     ]
    },
    {
     "cell_type": "markdown",
     "metadata": {},
     "source": [
      "The dynamics of an open quantum system with a given Hamiltonian, $H$, and some interaction with an environment that acts on the system through the sytem operator $a$, and with rate $\\kappa$, can often be described with a Lindblad master equation for the dynamics of the system density matrix $\\rho$:\n",
      "\n",
      "$$\n",
      "\\frac{d}{dt}\\rho = -i[H, \\rho] + \\kappa \\mathcal{D}[a]\\rho,\n",
      "$$\n",
      "\n",
      "where the Lindblad superoperator $\\mathcal{D}$ is\n",
      "\n",
      "$$\n",
      "\\mathcal{D}[a]\\rho = a \\rho a^\\dagger -\\frac{1}{2}\\rho a^\\dagger a - \\frac{1}{2}a^\\dagger a \\rho.\n",
      "$$\n",
      "\n",
      "One common approach to solve for the dynamics of this system is to represent the system operators and the density operator as matrices, possibly in a truncated state space, and solve the matrix-valued ODE problem numerically.\n",
      "\n",
      "Another approach is to use the adjoint master equation for the system operators $X$:\n",
      "\n",
      "$$\n",
      "\\frac{d}{dt} X =  i [H, X] + \\kappa \\mathcal{D}[a^\\dagger]X\n",
      "$$\n",
      "\n",
      "and then solve for dynamics of the expectation values of the relevant system operators. The advantage of this method is that the ODEs are no longer matrix-valued, unlike the ODE for the density matrix. However, from the density matrix we can calculate any same-time expectation values, but with explicit ODEs for expectation values we need to select in advance which operator's expectation values we want to generate equations for. \n",
      "\n",
      "We can easily generate an equation for the expectation value of a specific operator by multiplying the master equation for $\\rho$ from the left with an operator $X$, and then take the trace over the entire equation. Doing this we obtain:\n",
      "\n",
      "$$\n",
      "X\\frac{d}{dt}\\rho = -iX[H, \\rho] + \\kappa X\\mathcal{D}[a]\\rho\n",
      "$$\n",
      "\n",
      "and taking the trace:\n",
      "\n",
      "$$\n",
      "{\\rm Tr}\\left(X\\frac{d}{dt}\\rho\\right) = -i{\\rm Tr}\\left(X[H, \\rho]\\right) + \\kappa {\\rm Tr}\\left(X\\mathcal{D}[a]\\rho\\right)\n",
      "$$\n",
      "\n",
      "using the cyclic permutation properties of traces:\n",
      "\n",
      "$$\n",
      "\\frac{d}{dt}{\\rm Tr}\\left(X\\rho\\right) = -i{\\rm Tr}\\left([X, H]\\rho\\right) + \\kappa {\\rm Tr}\\left((\\mathcal{D}[a]X) \\rho\\right)\n",
      "$$\n",
      "\n",
      "we end up with an equation for the expectation value of the operator $X$:\n",
      "\n",
      "$$\n",
      "\\frac{d}{dt}\\langle X\\rangle \n",
      "= \n",
      "i\\langle [H, X] \\rangle + \\kappa \\langle \\mathcal{D}[a]X \\rangle\n",
      "$$\n",
      "\n",
      "Note that this is a C-number equation, and therefore not as complicated to solve as the master equation for the density matrix. However, the problem with this C-number equation is that the expressions $[H, X]$\n",
      " and $\\mathcal{D}[a]X$ in general will introduce dependencies on other system operators, so we obtain a system of coupled C-number equations. If this system of equations closes when a finite number of operators are included, then we can use this method to solve the dynamics of these expectation values exactly. If the system of equations do not close, which is often the case for coupled systems, then we can still use this method if we introduce some rule for truncating high-order operator expectation values (for example, by discarding high-order terms or by factoring them in expectation values of lower order). However, in this case the results are no longer exact, and is called a semi-classical equation of motion.\n",
      "\n",
      "With SymPsi we can automatically generate semiclassical equations of motion for operators in a system described by a given Hamiltonian and a set of collapse operators that describe its coupling to an environment."
     ]
    },
    {
     "cell_type": "heading",
     "level": 2,
     "metadata": {},
     "source": [
      "Driven harmonic oscillator"
     ]
    },
    {
     "cell_type": "markdown",
     "metadata": {},
     "source": [
      "Consider a driven harmonic oscillator, which interaction with an bath at some temperature that corresponds to $N_{\\rm th}$ average photons. We begin by setting up symbolic variables for the problem parameters and the system operators in SymPsi: "
     ]
    },
    {
     "cell_type": "code",
     "collapsed": false,
     "input": [
      "w, t, Nth, Ad, kappa = symbols(r\"\\omega, t, n_{th}, A_d, kappa\", positive=True)"
     ],
     "language": "python",
     "metadata": {},
     "outputs": [],
     "prompt_number": 5
    },
    {
     "cell_type": "code",
     "collapsed": false,
     "input": [
      "a = BosonOp(\"a\")\n",
      "rho = Operator(r\"\\rho\")\n",
      "rho_t = OperatorFunction(rho, t)"
     ],
     "language": "python",
     "metadata": {},
     "outputs": [],
     "prompt_number": 6
    },
    {
     "cell_type": "code",
     "collapsed": false,
     "input": [
      "H = w * Dagger(a) * a + Ad * (a + Dagger(a))\n",
      "\n",
      "Eq(Symbol(\"H\"), H)"
     ],
     "language": "python",
     "metadata": {},
     "outputs": [
      {
       "latex": [
        "$$H = A_{d} \\left({{a}^\\dagger} + {a}\\right) + \\omega {{a}^\\dagger} {a}$$"
       ],
       "metadata": {},
       "output_type": "pyout",
       "png": "[encoded data removed]",
       "prompt_number": 7,
       "text": [
        "        \u239b \u2020    \u239e           \u2020  \n",
        "H = A_d\u22c5\u239da  + a\u23a0 + \\omega\u22c5a \u22c5a"
       ]
      }
     ],
     "prompt_number": 7
    },
    {
     "cell_type": "markdown",
     "metadata": {},
     "source": [
      "The master equation for this system can be generated using the `master_equation` function:"
     ]
    },
    {
     "cell_type": "code",
     "collapsed": false,
     "input": [
      "c_ops = [sqrt(kappa * (Nth + 1)) * a, sqrt(kappa * Nth) * Dagger(a)]"
     ],
     "language": "python",
     "metadata": {},
     "outputs": [],
     "prompt_number": 8
    },
    {
     "cell_type": "code",
     "collapsed": false,
     "input": [
      "me = master_equation(rho_t, t, H, c_ops)\n",
      "\n",
      "me"
     ],
     "language": "python",
     "metadata": {},
     "outputs": [
      {
       "latex": [
        "$$\\frac{\\partial}{\\partial t} {{\\rho}(t)} = \\kappa n_{{th}} {{a}^\\dagger} {{\\rho}(t)} {a} - \\frac{\\kappa n_{{th}}}{2} {a} {{a}^\\dagger} {{\\rho}(t)} - \\frac{\\kappa n_{{th}}}{2} {{\\rho}(t)} {a} {{a}^\\dagger} - \\frac{\\kappa {{a}^\\dagger}}{2} \\left(n_{{th}} + 1\\right) {a} {{\\rho}(t)} + \\kappa \\left(n_{{th}} + 1\\right) {a} {{\\rho}(t)} {{a}^\\dagger} - \\frac{\\kappa {{\\rho}(t)}}{2} \\left(n_{{th}} + 1\\right) {{a}^\\dagger} {a} - i \\left[A_{d} \\left({{a}^\\dagger} + {a}\\right) + \\omega {{a}^\\dagger} {a},{{\\rho}(t)}\\right]$$"
       ],
       "metadata": {},
       "output_type": "pyout",
       "png": "[encoded data removed]",
       "prompt_number": 9,
       "text": [
        "                                                                              \n",
        "\u2202                                        \u2020                              \u03ba\u22c5n_{t\n",
        "\u2500\u2500(OperatorFunction(\\rho,t)) = \u03ba\u22c5n_{th}\u22c5a \u22c5OperatorFunction(\\rho,t)\u22c5a - \u2500\u2500\u2500\u2500\u2500\u2500\n",
        "\u2202t                                                                            \n",
        "\n",
        "      \u2020                                                                 \u2020     \n",
        "h}\u22c5a\u22c5a \u22c5OperatorFunction(\\rho,t)   \u03ba\u22c5n_{th}\u22c5OperatorFunction(\\rho,t)\u22c5a\u22c5a    \u03ba\u22c5\n",
        "\u2500\u2500\u2500\u2500\u2500\u2500\u2500\u2500\u2500\u2500\u2500\u2500\u2500\u2500\u2500\u2500\u2500\u2500\u2500\u2500\u2500\u2500\u2500\u2500\u2500\u2500\u2500\u2500\u2500\u2500\u2500\u2500 - \u2500\u2500\u2500\u2500\u2500\u2500\u2500\u2500\u2500\u2500\u2500\u2500\u2500\u2500\u2500\u2500\u2500\u2500\u2500\u2500\u2500\u2500\u2500\u2500\u2500\u2500\u2500\u2500\u2500\u2500\u2500\u2500\u2500\u2500\u2500\u2500\u2500\u2500 - \u2500\u2500\n",
        "            2                                        2                        \n",
        "\n",
        "              \u2020                                                               \n",
        "(n_{th} + 1)\u22c5a \u22c5a\u22c5OperatorFunction(\\rho,t)                                    \n",
        "\u2500\u2500\u2500\u2500\u2500\u2500\u2500\u2500\u2500\u2500\u2500\u2500\u2500\u2500\u2500\u2500\u2500\u2500\u2500\u2500\u2500\u2500\u2500\u2500\u2500\u2500\u2500\u2500\u2500\u2500\u2500\u2500\u2500\u2500\u2500\u2500\u2500\u2500\u2500\u2500\u2500\u2500 + \u03ba\u22c5(n_{th} + 1)\u22c5a\u22c5OperatorFunction\n",
        "                   2                                                          \n",
        "\n",
        "                                                       \u2020                      \n",
        "          \u2020   \u03ba\u22c5(n_{th} + 1)\u22c5OperatorFunction(\\rho,t)\u22c5a \u22c5a     \u23a1    \u239b \u2020    \u239e  \n",
        "(\\rho,t)\u22c5a  - \u2500\u2500\u2500\u2500\u2500\u2500\u2500\u2500\u2500\u2500\u2500\u2500\u2500\u2500\u2500\u2500\u2500\u2500\u2500\u2500\u2500\u2500\u2500\u2500\u2500\u2500\u2500\u2500\u2500\u2500\u2500\u2500\u2500\u2500\u2500\u2500\u2500\u2500\u2500\u2500\u2500\u2500\u2500\u2500 - \u2148\u22c5\u23a3A_d\u22c5\u239da  + a\u23a0 +\n",
        "                                   2                                          \n",
        "\n",
        "                                      \n",
        "         \u2020                           \u23a4\n",
        " \\omega\u22c5a \u22c5a,OperatorFunction(\\rho,t)\u23a6\n",
        "                                      "
       ]
      }
     ],
     "prompt_number": 9
    },
    {
     "cell_type": "markdown",
     "metadata": {},
     "source": [
      "Equation for the system operators can be generated using the function `operator_master_equation`, and for the specific case of the cavity operator $a$ we obtain:"
     ]
    },
    {
     "cell_type": "code",
     "collapsed": false,
     "input": [
      "# first setup time-dependent operators\n",
      "a_t = OperatorFunction(a, t)\n",
      "a_to_a_t = {a: a_t, Dagger(a): Dagger(a_t)}\n",
      "H_t = H.subs(a_to_a_t)\n",
      "c_ops_t = [c.subs(a_to_a_t) for c in c_ops]"
     ],
     "language": "python",
     "metadata": {},
     "outputs": [],
     "prompt_number": 10
    },
    {
     "cell_type": "code",
     "collapsed": false,
     "input": [
      "# operator master equation for a\n",
      "ome_a = operator_master_equation(a_t, t, H_t, c_ops_t)\n",
      "\n",
      "Eq(ome_a.lhs, normal_ordered_form(ome_a.rhs.doit().expand()))"
     ],
     "language": "python",
     "metadata": {},
     "outputs": [
      {
       "latex": [
        "$$\\frac{d}{d t} {{{a}}(t)} = - i A_{d} - i \\omega {{{a}}(t)} - \\frac{\\kappa {{{a}}(t)}}{2}$$"
       ],
       "metadata": {},
       "output_type": "pyout",
       "png": "[encoded data removed]",
       "prompt_number": 11,
       "text": [
        "d                                                                     \u03ba\u22c5Operat\n",
        "\u2500\u2500(OperatorFunction(a,t)) = -\u2148\u22c5A_d - \u2148\u22c5\\omega\u22c5OperatorFunction(a,t) - \u2500\u2500\u2500\u2500\u2500\u2500\u2500\u2500\n",
        "dt                                                                            \n",
        "\n",
        "orFunction(a,t)\n",
        "\u2500\u2500\u2500\u2500\u2500\u2500\u2500\u2500\u2500\u2500\u2500\u2500\u2500\u2500\u2500\n",
        "   2           "
       ]
      }
     ],
     "prompt_number": 11
    },
    {
     "cell_type": "code",
     "collapsed": false,
     "input": [
      "# operator master equation for n = Dagger(a) * a\n",
      "ome_n = operator_master_equation(Dagger(a_t) * a_t, t, H_t, c_ops_t)\n",
      "\n",
      "Eq(ome_n.lhs, normal_ordered_form(ome_n.rhs.doit().expand()))"
     ],
     "language": "python",
     "metadata": {},
     "outputs": [
      {
       "latex": [
        "$$\\frac{d}{d t} {{{{a}^\\dagger}}(t)} {{{a}}(t)} + {{{{a}^\\dagger}}(t)} \\frac{d}{d t} {{{a}}(t)} = - i A_{d} {{{{a}^\\dagger}}(t)} + i A_{d} {{{a}}(t)} + \\kappa n_{{th}} - \\kappa {{{{a}^\\dagger}}(t)} {{{a}}(t)}$$"
       ],
       "metadata": {},
       "output_type": "pyout",
       "png": "[encoded data removed]",
       "prompt_number": 12,
       "text": [
        "d \u239b                \u239b \u2020  \u239e\u239e                                         \u239b \u2020  \u239e d   \n",
        "\u2500\u2500\u239dOperatorFunction\u239da ,t\u23a0\u23a0\u22c5OperatorFunction(a,t) + OperatorFunction\u239da ,t\u23a0\u22c5\u2500\u2500(O\n",
        "dt                                                                        dt  \n",
        "\n",
        "                                                \u239b \u2020  \u239e                        \n",
        "peratorFunction(a,t)) = - \u2148\u22c5A_d\u22c5OperatorFunction\u239da ,t\u23a0 + \u2148\u22c5A_d\u22c5OperatorFunctio\n",
        "                                                                              \n",
        "\n",
        "                                      \u239b \u2020  \u239e                      \n",
        "n(a,t) + \u03ba\u22c5n_{th} - \u03ba\u22c5OperatorFunction\u239da ,t\u23a0\u22c5OperatorFunction(a,t)\n",
        "                                                                  "
       ]
      }
     ],
     "prompt_number": 12
    },
    {
     "cell_type": "markdown",
     "metadata": {},
     "source": [
      "From these operator equations we see that the equation for $a$ depends only on the operator $a$, while the equation for $n$ depends on $n$, $a$, $a^\\dagger$. So to solve the latter equation we therefore also have to generate an equation for $a^\\dagger$."
     ]
    },
    {
     "cell_type": "heading",
     "level": 3,
     "metadata": {},
     "source": [
      "System of semiclassical equations"
     ]
    },
    {
     "cell_type": "code",
     "collapsed": false,
     "input": [
      "ops, op_eqm, sc_eqm, sc_ode, ofm, oim = semi_classical_eqm(H, c_ops)"
     ],
     "language": "python",
     "metadata": {},
     "outputs": [],
     "prompt_number": 13
    },
    {
     "cell_type": "code",
     "collapsed": false,
     "input": [
      "html_table([[Eq(Expectation(key), ofm[key]), sc_ode[key]] for key in operator_sort_by_order(sc_ode)])"
     ],
     "language": "python",
     "metadata": {},
     "outputs": [
      {
       "html": [
        "<table>\n",
        "<tr><td>$\\left\\langle {{a}^\\dagger} \\right\\rangle = \\operatorname{A_{1}}{\\left (t \\right )}$</td><td>$\\frac{d}{d t} \\operatorname{A_{1}}{\\left (t \\right )} = i A_{d} + i \\omega \\operatorname{A_{1}}{\\left (t \\right )} - \\frac{\\kappa}{2} \\operatorname{A_{1}}{\\left (t \\right )}$</td></tr><tr><td>$\\left\\langle {a} \\right\\rangle = \\operatorname{A_{2}}{\\left (t \\right )}$</td><td>$\\frac{d}{d t} \\operatorname{A_{2}}{\\left (t \\right )} = - i A_{d} - i \\omega \\operatorname{A_{2}}{\\left (t \\right )} - \\frac{\\kappa}{2} \\operatorname{A_{2}}{\\left (t \\right )}$</td></tr><tr><td>$\\left\\langle {{a}^\\dagger} {a} \\right\\rangle = \\operatorname{A_{0}}{\\left (t \\right )}$</td><td>$\\frac{d}{d t} \\operatorname{A_{0}}{\\left (t \\right )} = - i A_{d} \\operatorname{A_{1}}{\\left (t \\right )} + i A_{d} \\operatorname{A_{2}}{\\left (t \\right )} + \\kappa n_{{th}} - \\kappa \\operatorname{A_{0}}{\\left (t \\right )}$</td></tr>\n",
        "</table>"
       ],
       "metadata": {},
       "output_type": "pyout",
       "prompt_number": 14,
       "text": [
        "<IPython.core.display.HTML at 0x113df3748>"
       ]
      }
     ],
     "prompt_number": 14
    },
    {
     "cell_type": "markdown",
     "metadata": {},
     "source": [
      "Since this is a system of linear ODEs, we can write it on matrix form:"
     ]
    },
    {
     "cell_type": "code",
     "collapsed": false,
     "input": [
      "A_eq, A, M, b = semi_classical_eqm_matrix_form(sc_ode, t, ofm)\n",
      "\n",
      "A_eq"
     ],
     "language": "python",
     "metadata": {},
     "outputs": [
      {
       "latex": [
        "$$- \\frac{d}{d t} \\left[\\begin{matrix}\\operatorname{A_{1}}{\\left (t \\right )}\\\\\\operatorname{A_{2}}{\\left (t \\right )}\\\\\\operatorname{A_{0}}{\\left (t \\right )}\\end{matrix}\\right] = \\left[\\begin{matrix}i A_{d}\\\\- i A_{d}\\\\\\kappa n_{{th}}\\end{matrix}\\right] + \\left[\\begin{matrix}i \\omega - \\frac{\\kappa}{2} & 0 & 0\\\\0 & - i \\omega - \\frac{\\kappa}{2} & 0\\\\- i A_{d} & i A_{d} & - \\kappa\\end{matrix}\\right] \\left[\\begin{matrix}\\operatorname{A_{1}}{\\left (t \\right )}\\\\\\operatorname{A_{2}}{\\left (t \\right )}\\\\\\operatorname{A_{0}}{\\left (t \\right )}\\end{matrix}\\right]$$"
       ],
       "metadata": {},
       "output_type": "pyout",
       "png": "[encoded data removed]",
       "prompt_number": 15,
       "text": [
        " d                          \u23a1           \u03ba                   \u23a4        \n",
        "-\u2500\u2500\u239b\u23a1A\u2081(t)\u23a4\u239e = \u23a1 \u2148\u22c5A_d  \u23a4 + \u23a2\u2148\u22c5\\omega - \u2500        0        0 \u23a5\u22c5\u23a1A\u2081(t)\u23a4\n",
        " dt\u239c\u23a2     \u23a5\u239f   \u23a2        \u23a5   \u23a2           2                   \u23a5 \u23a2     \u23a5\n",
        "   \u239c\u23a2A\u2082(t)\u23a5\u239f   \u23a2 -\u2148\u22c5A_d \u23a5   \u23a2                               \u23a5 \u23a2A\u2082(t)\u23a5\n",
        "   \u239c\u23a2     \u23a5\u239f   \u23a2        \u23a5   \u23a2                          \u03ba    \u23a5 \u23a2     \u23a5\n",
        "   \u239d\u23a3A\u2080(t)\u23a6\u23a0   \u23a3\u03ba\u22c5n_{th}\u23a6   \u23a2     0        -\u2148\u22c5\\omega - \u2500  0 \u23a5 \u23a3A\u2080(t)\u23a6\n",
        "                            \u23a2                          2    \u23a5        \n",
        "                            \u23a2                               \u23a5        \n",
        "                            \u23a3   -\u2148\u22c5A_d         \u2148\u22c5A_d      -\u03ba\u23a6        "
       ]
      }
     ],
     "prompt_number": 15
    },
    {
     "cell_type": "heading",
     "level": 3,
     "metadata": {},
     "source": [
      "Steadystate"
     ]
    },
    {
     "cell_type": "markdown",
     "metadata": {},
     "source": [
      "We can solve for the steadystate by setting the left-hand-side of the ODE to zero, and solve the linear system of equations:"
     ]
    },
    {
     "cell_type": "code",
     "collapsed": false,
     "input": [
      "A_sol = M.LUsolve(-b)"
     ],
     "language": "python",
     "metadata": {},
     "outputs": [],
     "prompt_number": 16
    },
    {
     "cell_type": "markdown",
     "metadata": {},
     "source": [
      "The solution for the three system operators are:"
     ]
    },
    {
     "cell_type": "code",
     "collapsed": false,
     "input": [
      "A_sol[ops.index(Dagger(a)*a)]"
     ],
     "language": "python",
     "metadata": {},
     "outputs": [
      {
       "latex": [
        "$$- \\frac{1}{\\kappa} \\left(\\frac{A_{d}^{2}}{i \\omega - \\frac{\\kappa}{2}} + \\frac{A_{d}^{2}}{- i \\omega - \\frac{\\kappa}{2}} - \\kappa n_{{th}}\\right)$$"
       ],
       "metadata": {},
       "output_type": "pyout",
       "png": "[encoded data removed]",
       "prompt_number": 17,
       "text": [
        " \u239b       2               2               \u239e \n",
        " \u239c    A_d             A_d                \u239f \n",
        "-\u239c\u2500\u2500\u2500\u2500\u2500\u2500\u2500\u2500\u2500\u2500\u2500\u2500 + \u2500\u2500\u2500\u2500\u2500\u2500\u2500\u2500\u2500\u2500\u2500\u2500\u2500 - \u03ba\u22c5n_{th}\u239f \n",
        " \u239c           \u03ba               \u03ba           \u239f \n",
        " \u239c\u2148\u22c5\\omega - \u2500   -\u2148\u22c5\\omega - \u2500           \u239f \n",
        " \u239d           2               2           \u23a0 \n",
        "\u2500\u2500\u2500\u2500\u2500\u2500\u2500\u2500\u2500\u2500\u2500\u2500\u2500\u2500\u2500\u2500\u2500\u2500\u2500\u2500\u2500\u2500\u2500\u2500\u2500\u2500\u2500\u2500\u2500\u2500\u2500\u2500\u2500\u2500\u2500\u2500\u2500\u2500\u2500\u2500\u2500\u2500\u2500\n",
        "                     \u03ba                     "
       ]
      }
     ],
     "prompt_number": 17
    },
    {
     "cell_type": "code",
     "collapsed": false,
     "input": [
      "A_sol[ops.index(a)]"
     ],
     "language": "python",
     "metadata": {},
     "outputs": [
      {
       "latex": [
        "$$\\frac{i A_{d}}{- i \\omega - \\frac{\\kappa}{2}}$$"
       ],
       "metadata": {},
       "output_type": "pyout",
       "png": "[encoded data removed]",
       "prompt_number": 18,
       "text": [
        "    \u2148\u22c5A_d    \n",
        "\u2500\u2500\u2500\u2500\u2500\u2500\u2500\u2500\u2500\u2500\u2500\u2500\u2500\n",
        "            \u03ba\n",
        "-\u2148\u22c5\\omega - \u2500\n",
        "            2"
       ]
      }
     ],
     "prompt_number": 18
    },
    {
     "cell_type": "code",
     "collapsed": false,
     "input": [
      "A_sol[ops.index(Dagger(a))]"
     ],
     "language": "python",
     "metadata": {},
     "outputs": [
      {
       "latex": [
        "$$- \\frac{i A_{d}}{i \\omega - \\frac{\\kappa}{2}}$$"
       ],
       "metadata": {},
       "output_type": "pyout",
       "png": "[encoded data removed]",
       "prompt_number": 19,
       "text": [
        "  -\u2148\u22c5A_d    \n",
        "\u2500\u2500\u2500\u2500\u2500\u2500\u2500\u2500\u2500\u2500\u2500\u2500\n",
        "           \u03ba\n",
        "\u2148\u22c5\\omega - \u2500\n",
        "           2"
       ]
      }
     ],
     "prompt_number": 19
    },
    {
     "cell_type": "markdown",
     "metadata": {},
     "source": [
      "We can also solve for the steadystate directly from the ODE by settings its right-hand-side to zero, and using the SymPy `solve` function: "
     ]
    },
    {
     "cell_type": "code",
     "collapsed": false,
     "input": [
      "solve([eq.rhs for eq in sc_ode.values()], list(ofm.values()))"
     ],
     "language": "python",
     "metadata": {},
     "outputs": [
      {
       "latex": [
        "$$\\left \\{ \\operatorname{A_{0}}{\\left (t \\right )} : \\frac{1}{4 \\omega^{2} + \\kappa^{2}} \\left(4 A_{d}^{2} + 4 \\omega^{2} n_{{th}} + \\kappa^{2} n_{{th}}\\right), \\quad \\operatorname{A_{1}}{\\left (t \\right )} : - \\frac{2 i A_{d}}{2 i \\omega - \\kappa}, \\quad \\operatorname{A_{2}}{\\left (t \\right )} : - \\frac{2 i A_{d}}{2 i \\omega + \\kappa}\\right \\}$$"
       ],
       "metadata": {},
       "output_type": "pyout",
       "png": "[encoded data removed]",
       "prompt_number": 20,
       "text": [
        "\u23a7            2           2           2                                        \n",
        "\u23aa       4\u22c5A_d  + 4\u22c5\\omega \u22c5n_{th} + \u03ba \u22c5n_{th}           -2\u22c5\u2148\u22c5A_d              \n",
        "\u23a8A\u2080(t): \u2500\u2500\u2500\u2500\u2500\u2500\u2500\u2500\u2500\u2500\u2500\u2500\u2500\u2500\u2500\u2500\u2500\u2500\u2500\u2500\u2500\u2500\u2500\u2500\u2500\u2500\u2500\u2500\u2500\u2500\u2500\u2500\u2500\u2500\u2500\u2500\u2500, A\u2081(t): \u2500\u2500\u2500\u2500\u2500\u2500\u2500\u2500\u2500\u2500\u2500\u2500\u2500\u2500, A\u2082(t): \u2500\n",
        "\u23aa                           2    2                    2\u22c5\u2148\u22c5\\omega - \u03ba         2\n",
        "\u23a9                   4\u22c5\\omega  + \u03ba                                             \n",
        "\n",
        "             \u23ab\n",
        " -2\u22c5\u2148\u22c5A_d    \u23aa\n",
        "\u2500\u2500\u2500\u2500\u2500\u2500\u2500\u2500\u2500\u2500\u2500\u2500\u2500\u23ac\n",
        "\u22c5\u2148\u22c5\\omega + \u03ba\u23aa\n",
        "             \u23ad"
       ]
      }
     ],
     "prompt_number": 20
    },
    {
     "cell_type": "heading",
     "level": 3,
     "metadata": {},
     "source": [
      "Solve in the ODEs"
     ]
    },
    {
     "cell_type": "markdown",
     "metadata": {},
     "source": [
      "For systems with a small number of dependent operators we can solve the resulting system of ODEs directly:"
     ]
    },
    {
     "cell_type": "code",
     "collapsed": false,
     "input": [
      "sols = dsolve(list(sc_ode.values())); sols"
     ],
     "language": "python",
     "metadata": {},
     "outputs": [
      {
       "latex": [
        "$$\\left [ \\operatorname{A_{0}}{\\left (t \\right )} = \\frac{C_{1}}{e^{\\kappa t}} + \\frac{C_{2}}{e^{\\frac{\\kappa t}{2}}} \\left(- \\frac{4 A_{d} \\omega \\cos{\\left (\\omega t \\right )}}{4 \\omega^{2} + \\kappa^{2}} + \\frac{2 A_{d} \\kappa \\sin{\\left (\\omega t \\right )}}{4 \\omega^{2} + \\kappa^{2}}\\right) + \\frac{C_{3}}{e^{\\frac{\\kappa t}{2}}} \\left(- \\frac{4 A_{d} \\omega \\sin{\\left (\\omega t \\right )}}{4 \\omega^{2} + \\kappa^{2}} - \\frac{2 A_{d} \\kappa \\cos{\\left (\\omega t \\right )}}{4 \\omega^{2} + \\kappa^{2}}\\right), \\quad \\operatorname{A_{1}}{\\left (t \\right )} = 0, \\quad \\operatorname{A_{2}}{\\left (t \\right )} = \\frac{C_{2}}{e^{\\frac{\\kappa t}{2}}} \\cos{\\left (\\omega t \\right )} + \\frac{C_{3}}{e^{\\frac{\\kappa t}{2}}} \\sin{\\left (\\omega t \\right )}\\right ]$$"
       ],
       "metadata": {},
       "output_type": "pyout",
       "png": "[encoded data removed]",
       "prompt_number": 21,
       "text": [
        "\u23a1                                                                             \n",
        "\u23a2                                                                             \n",
        "\u23a2            -\u03ba\u22c5t      \u239b  4\u22c5A_d\u22c5\\omega\u22c5cos(\\omega\u22c5t)   2\u22c5A_d\u22c5\u03ba\u22c5sin(\\omega\u22c5t)\u239e \n",
        "\u23a2A\u2080(t) = C\u2081\u22c5\u212f     + C\u2082\u22c5\u239c- \u2500\u2500\u2500\u2500\u2500\u2500\u2500\u2500\u2500\u2500\u2500\u2500\u2500\u2500\u2500\u2500\u2500\u2500\u2500\u2500\u2500\u2500\u2500\u2500\u2500\u2500 + \u2500\u2500\u2500\u2500\u2500\u2500\u2500\u2500\u2500\u2500\u2500\u2500\u2500\u2500\u2500\u2500\u2500\u2500\u2500\u2500\u2500\u239f\u22c5\n",
        "\u23a2                      \u239c                2    2                     2    2   \u239f \n",
        "\u23a3                      \u239d        4\u22c5\\omega  + \u03ba              4\u22c5\\omega  + \u03ba    \u23a0 \n",
        "\n",
        " -\u03ba\u22c5t                                                               -\u03ba\u22c5t      \n",
        " \u2500\u2500\u2500\u2500\u2500                                                              \u2500\u2500\u2500\u2500\u2500     \n",
        "   2        \u239b  4\u22c5A_d\u22c5\\omega\u22c5sin(\\omega\u22c5t)   2\u22c5A_d\u22c5\u03ba\u22c5cos(\\omega\u22c5t)\u239e    2       \n",
        "\u212f      + C\u2083\u22c5\u239c- \u2500\u2500\u2500\u2500\u2500\u2500\u2500\u2500\u2500\u2500\u2500\u2500\u2500\u2500\u2500\u2500\u2500\u2500\u2500\u2500\u2500\u2500\u2500\u2500\u2500\u2500 - \u2500\u2500\u2500\u2500\u2500\u2500\u2500\u2500\u2500\u2500\u2500\u2500\u2500\u2500\u2500\u2500\u2500\u2500\u2500\u2500\u2500\u239f\u22c5\u212f     , A\u2081(\n",
        "            \u239c                2    2                     2    2   \u239f            \n",
        "            \u239d        4\u22c5\\omega  + \u03ba              4\u22c5\\omega  + \u03ba    \u23a0            \n",
        "\n",
        "                    -\u03ba\u22c5t                      -\u03ba\u22c5t               \u23a4\n",
        "                    \u2500\u2500\u2500\u2500\u2500                     \u2500\u2500\u2500\u2500\u2500              \u23a5\n",
        "                      2                         2                \u23a5\n",
        "t) = 0, A\u2082(t) = C\u2082\u22c5\u212f     \u22c5cos(\\omega\u22c5t) + C\u2083\u22c5\u212f     \u22c5sin(\\omega\u22c5t)\u23a5\n",
        "                                                                 \u23a5\n",
        "                                                                 \u23a6"
       ]
      }
     ],
     "prompt_number": 21
    },
    {
     "cell_type": "code",
     "collapsed": false,
     "input": [
      "# hack\n",
      "tt = [s for s in sols[0].rhs.free_symbols if s.name == 't'][0]"
     ],
     "language": "python",
     "metadata": {},
     "outputs": [],
     "prompt_number": 22
    },
    {
     "cell_type": "markdown",
     "metadata": {},
     "source": [
      "We also need o specify the initial conditions: Here the initial conditions are $\\langle a(0) \\rangle = \\langle a^\\dagger(0) \\rangle = 2$ and $\\langle a^\\dagger(0)a(0) \\rangle = 4$."
     ]
    },
    {
     "cell_type": "code",
     "collapsed": false,
     "input": [
      "ics = {ofm[Dagger(a)].subs(tt, 0): 2, \n",
      "       ofm[a].subs(tt, 0): 2,\n",
      "       ofm[Dagger(a)*a].subs(tt, 0): 4}; ics"
     ],
     "language": "python",
     "metadata": {},
     "outputs": [
      {
       "latex": [
        "$$\\left \\{ \\operatorname{A_{0}}{\\left (0 \\right )} : 4, \\quad \\operatorname{A_{1}}{\\left (0 \\right )} : 2, \\quad \\operatorname{A_{2}}{\\left (0 \\right )} : 2\\right \\}$$"
       ],
       "metadata": {},
       "output_type": "pyout",
       "png": "[encoded data removed]",
       "prompt_number": 23,
       "text": [
        "{A\u2080(0): 4, A\u2081(0): 2, A\u2082(0): 2}"
       ]
      }
     ],
     "prompt_number": 23
    },
    {
     "cell_type": "code",
     "collapsed": false,
     "input": [
      "constants = set(sum([[s for s in sol.free_symbols if (str(s)[0] == 'C')] for sol in sols], [])); constants"
     ],
     "language": "python",
     "metadata": {},
     "outputs": [
      {
       "latex": [
        "$$\\left\\{C_{1}, C_{2}, C_{3}\\right\\}$$"
       ],
       "metadata": {},
       "output_type": "pyout",
       "png": "[encoded data removed]",
       "prompt_number": 24,
       "text": [
        "set([C\u2081, C\u2082, C\u2083])"
       ]
      }
     ],
     "prompt_number": 24
    },
    {
     "cell_type": "code",
     "collapsed": false,
     "input": [
      "C_sols = solve([sol.subs(tt, 0).subs(ics) for sol in sols], constants); C_sols"
     ],
     "language": "python",
     "metadata": {},
     "outputs": [
      {
       "latex": [
        "$$\\left \\{ C_{1} : 2, \\quad C_{2} : 2, \\quad C_{3} : \\frac{1}{4 \\omega^{2} + \\kappa^{2}} \\left(16 A_{d} \\omega + 16 \\omega^{2} + 4 \\kappa^{2}\\right)\\right \\}$$"
       ],
       "metadata": {},
       "output_type": "pyout",
       "png": "[encoded data removed]",
       "prompt_number": 25,
       "text": [
        "\u23a7                    \u239b                       2    2\u239e\u23ab\n",
        "\u23aa                  4\u22c5\u239d4\u22c5A_d\u22c5\\omega + 4\u22c5\\omega  + \u03ba \u23a0\u23aa\n",
        "\u23a8C\u2081: 2, C\u2082: 2, C\u2083: \u2500\u2500\u2500\u2500\u2500\u2500\u2500\u2500\u2500\u2500\u2500\u2500\u2500\u2500\u2500\u2500\u2500\u2500\u2500\u2500\u2500\u2500\u2500\u2500\u2500\u2500\u2500\u2500\u2500\u2500\u2500\u2500\u2500\u23ac\n",
        "\u23aa                                    2    2         \u23aa\n",
        "\u23a9                            4\u22c5\\omega  + \u03ba          \u23ad"
       ]
      }
     ],
     "prompt_number": 25
    },
    {
     "cell_type": "code",
     "collapsed": false,
     "input": [
      "sols_with_ics = [sol.subs(C_sols) for sol in sols]; sols_with_ics"
     ],
     "language": "python",
     "metadata": {},
     "outputs": [
      {
       "latex": [
        "$$\\left [ \\operatorname{A_{0}}{\\left (t \\right )} = 2 e^{t \\left(i \\omega - \\frac{\\kappa}{2}\\right)}, \\quad \\operatorname{A_{1}}{\\left (t \\right )} = 2 e^{t \\left(- i \\omega - \\frac{\\kappa}{2}\\right)}, \\quad \\operatorname{A_{2}}{\\left (t \\right )} = - \\frac{2 i A_{d} e^{t \\left(i \\omega - \\frac{\\kappa}{2}\\right)}}{i \\omega + \\frac{\\kappa}{2}} + \\frac{2 i A_{d} e^{t \\left(- i \\omega - \\frac{\\kappa}{2}\\right)}}{- i \\omega + \\frac{\\kappa}{2}} + \\frac{16 A_{d} \\omega + 16 \\omega^{2} + 4 \\kappa^{2}}{\\left(4 \\omega^{2} + \\kappa^{2}\\right) e^{\\kappa t}}\\right ]$$"
       ],
       "metadata": {},
       "output_type": "pyout",
       "png": "[encoded data removed]",
       "prompt_number": 26,
       "text": [
        "\u23a1                                                                             \n",
        "\u23a2             \u239b           \u03ba\u239e               \u239b            \u03ba\u239e                    \n",
        "\u23a2           t\u22c5\u239c\u2148\u22c5\\omega - \u2500\u239f             t\u22c5\u239c-\u2148\u22c5\\omega - \u2500\u239f                    \n",
        "\u23a2             \u239d           2\u23a0               \u239d            2\u23a0            2\u22c5\u2148\u22c5A_d\u22c5\n",
        "\u23a2A\u2080(t) = 2\u22c5\u212f                , A\u2081(t) = 2\u22c5\u212f                 , A\u2082(t) = - \u2500\u2500\u2500\u2500\u2500\u2500\u2500\u2500\n",
        "\u23a2                                                                             \n",
        "\u23a2                                                                            \u2148\n",
        "\u23a3                                                                             \n",
        "\n",
        "   \u239b           \u03ba\u239e              \u239b            \u03ba\u239e                                \n",
        " t\u22c5\u239c\u2148\u22c5\\omega - \u2500\u239f            t\u22c5\u239c-\u2148\u22c5\\omega - \u2500\u239f                                \n",
        "   \u239d           2\u23a0              \u239d            2\u23a0     \u239b                       2  \n",
        "\u212f                   2\u22c5\u2148\u22c5A_d\u22c5\u212f                    4\u22c5\u239d4\u22c5A_d\u22c5\\omega + 4\u22c5\\omega  +\n",
        "\u2500\u2500\u2500\u2500\u2500\u2500\u2500\u2500\u2500\u2500\u2500\u2500\u2500\u2500\u2500\u2500\u2500 + \u2500\u2500\u2500\u2500\u2500\u2500\u2500\u2500\u2500\u2500\u2500\u2500\u2500\u2500\u2500\u2500\u2500\u2500\u2500\u2500\u2500\u2500\u2500\u2500\u2500\u2500 + \u2500\u2500\u2500\u2500\u2500\u2500\u2500\u2500\u2500\u2500\u2500\u2500\u2500\u2500\u2500\u2500\u2500\u2500\u2500\u2500\u2500\u2500\u2500\u2500\u2500\u2500\u2500\u2500\u2500\n",
        "          \u03ba                           \u03ba                               2    2  \n",
        "\u22c5\\omega + \u2500               -\u2148\u22c5\\omega + \u2500                       4\u22c5\\omega  + \u03ba   \n",
        "          2                           2                                       \n",
        "\n",
        "          \u23a4\n",
        "          \u23a5\n",
        "  2\u239e  -\u03ba\u22c5t\u23a5\n",
        " \u03ba \u23a0\u22c5\u212f    \u23a5\n",
        "\u2500\u2500\u2500\u2500\u2500\u2500\u2500\u2500\u2500\u2500\u23a5\n",
        "          \u23a5\n",
        "          \u23a5\n",
        "          \u23a6"
       ]
      }
     ],
     "prompt_number": 26
    },
    {
     "cell_type": "markdown",
     "metadata": {},
     "source": [
      "Now let's insert numerical values for the system parameters so we can plot the solution:"
     ]
    },
    {
     "cell_type": "code",
     "collapsed": false,
     "input": [
      "values = {w: 1.0, Ad: 0.0, kappa: 0.1, Nth: 0.0}"
     ],
     "language": "python",
     "metadata": {},
     "outputs": [],
     "prompt_number": 27
    },
    {
     "cell_type": "code",
     "collapsed": false,
     "input": [
      "sols_funcs = [sol.rhs.subs(values) for sol in sols_with_ics]; sols_funcs"
     ],
     "language": "python",
     "metadata": {},
     "outputs": [
      {
       "latex": [
        "$$\\left [ 2 e^{t \\left(-0.05 + 1.0 i\\right)}, \\quad 2 e^{t \\left(-0.05 - 1.0 i\\right)}, \\quad \\frac{4}{e^{0.1 t}}\\right ]$$"
       ],
       "metadata": {},
       "output_type": "pyout",
       "png": "[encoded data removed]",
       "prompt_number": 28,
       "text": [
        "\u23a1   t\u22c5(-0.05 + 1.0\u22c5\u2148)     t\u22c5(-0.05 - 1.0\u22c5\u2148)     -0.1\u22c5t\u23a4\n",
        "\u23a32\u22c5\u212f                 , 2\u22c5\u212f                 , 4\u22c5\u212f      \u23a6"
       ]
      }
     ],
     "prompt_number": 28
    },
    {
     "cell_type": "code",
     "collapsed": false,
     "input": [
      "times = np.linspace(0, 50, 500)\n",
      "\n",
      "y_funcs = [lambdify([tt], sol_func, 'numpy') for sol_func in sols_funcs]\n",
      "\n",
      "fig, axes = plt.subplots(len(y_funcs), 1, figsize=(12, 6))\n",
      "\n",
      "for n, y_func in enumerate(y_funcs):\n",
      "    axes[n].plot(times, np.real(y_func(times)), 'r')\n",
      "    \n",
      "axes[2].set_ylim(0, 5);"
     ],
     "language": "python",
     "metadata": {},
     "outputs": [
      {
       "metadata": {},
       "output_type": "display_data",
       "png": "[encoded data removed]",
       "text": [
        "<matplotlib.figure.Figure at 0x10677e9b0>"
       ]
      }
     ],
     "prompt_number": 29
    },
    {
     "cell_type": "heading",
     "level": 2,
     "metadata": {},
     "source": [
      "Driven dissipative two-level system"
     ]
    },
    {
     "cell_type": "code",
     "collapsed": false,
     "input": [
      "sx, sy, sz, sm, sp = SigmaX(), SigmaY(), SigmaZ(), SigmaMinus(), SigmaPlus()"
     ],
     "language": "python",
     "metadata": {},
     "outputs": [],
     "prompt_number": 24
    },
    {
     "cell_type": "code",
     "collapsed": false,
     "input": [
      "Omega, gamma_0, N, t = symbols(\"\\Omega, \\gamma_0, N, t\", positive=True)\n",
      "\n",
      "values = {Omega: 1.0, gamma_0: 0.5, N: 1.75}"
     ],
     "language": "python",
     "metadata": {},
     "outputs": [],
     "prompt_number": 25
    },
    {
     "cell_type": "code",
     "collapsed": false,
     "input": [
      "H = -Omega/2 * sx\n",
      "H"
     ],
     "language": "python",
     "metadata": {},
     "outputs": [
      {
       "latex": [
        "$$- \\frac{\\Omega {\\sigma_x}}{2}$$"
       ],
       "metadata": {},
       "output_type": "pyout",
       "png": "[encoded data removed]",
       "prompt_number": 26,
       "text": [
        "-\\Omega\u22c5False \n",
        "\u2500\u2500\u2500\u2500\u2500\u2500\u2500\u2500\u2500\u2500\u2500\u2500\u2500\u2500\n",
        "      2       "
       ]
      }
     ],
     "prompt_number": 26
    },
    {
     "cell_type": "code",
     "collapsed": false,
     "input": [
      "c_ops = [sqrt(gamma_0 * (N + 1)) * pauli_represent_x_y(sm), \n",
      "         sqrt(gamma_0 * N) * pauli_represent_x_y(sp)]"
     ],
     "language": "python",
     "metadata": {},
     "outputs": [],
     "prompt_number": 27
    },
    {
     "cell_type": "code",
     "collapsed": false,
     "input": [
      "ops, op_eqm, sc_eqm, sc_ode, ofm, oim = semi_classical_eqm(H, c_ops)"
     ],
     "language": "python",
     "metadata": {},
     "outputs": [],
     "prompt_number": 28
    },
    {
     "cell_type": "code",
     "collapsed": false,
     "input": [
      "html_table([[Eq(Expectation(key), ofm[key]), sc_ode[key]] for key in operator_sort_by_order(sc_ode)])"
     ],
     "language": "python",
     "metadata": {},
     "outputs": [
      {
       "html": [
        "<table>\n",
        "<tr><td>$\\left\\langle {\\sigma_x} \\right\\rangle = \\operatorname{A_{0}}{\\left (t \\right )}$</td><td>$\\frac{d}{d t} \\operatorname{A_{0}}{\\left (t \\right )} = - N \\gamma_{0} \\operatorname{A_{0}}{\\left (t \\right )} - \\frac{\\gamma_{0}}{2} \\operatorname{A_{0}}{\\left (t \\right )}$</td></tr><tr><td>$\\left\\langle {\\sigma_z} \\right\\rangle = \\operatorname{A_{1}}{\\left (t \\right )}$</td><td>$\\frac{d}{d t} \\operatorname{A_{1}}{\\left (t \\right )} = - 2 N \\gamma_{0} \\operatorname{A_{1}}{\\left (t \\right )} - \\Omega \\operatorname{A_{2}}{\\left (t \\right )} - \\gamma_{0} \\operatorname{A_{1}}{\\left (t \\right )} - \\gamma_{0}$</td></tr><tr><td>$\\left\\langle {\\sigma_y} \\right\\rangle = \\operatorname{A_{2}}{\\left (t \\right )}$</td><td>$\\frac{d}{d t} \\operatorname{A_{2}}{\\left (t \\right )} = - N \\gamma_{0} \\operatorname{A_{2}}{\\left (t \\right )} + \\Omega \\operatorname{A_{1}}{\\left (t \\right )} - \\frac{\\gamma_{0}}{2} \\operatorname{A_{2}}{\\left (t \\right )}$</td></tr>\n",
        "</table>"
       ],
       "metadata": {},
       "output_type": "pyout",
       "prompt_number": 29,
       "text": [
        "<IPython.core.display.HTML at 0x113e12320>"
       ]
      }
     ],
     "prompt_number": 29
    },
    {
     "cell_type": "code",
     "collapsed": false,
     "input": [
      "A_eq, A, M, b = semi_classical_eqm_matrix_form(sc_ode, t, ofm)\n",
      "\n",
      "A_eq"
     ],
     "language": "python",
     "metadata": {},
     "outputs": [
      {
       "latex": [
        "$$- \\frac{d}{d t} \\left[\\begin{matrix}\\operatorname{A_{0}}{\\left (t \\right )}\\\\\\operatorname{A_{1}}{\\left (t \\right )}\\\\\\operatorname{A_{2}}{\\left (t \\right )}\\end{matrix}\\right] = \\left[\\begin{matrix}0\\\\- \\gamma_{0}\\\\0\\end{matrix}\\right] + \\left[\\begin{matrix}- N \\gamma_{0} - \\frac{\\gamma_{0}}{2} & 0 & 0\\\\0 & - 2 N \\gamma_{0} - \\gamma_{0} & - \\Omega\\\\0 & \\Omega & - N \\gamma_{0} - \\frac{\\gamma_{0}}{2}\\end{matrix}\\right] \\left[\\begin{matrix}\\operatorname{A_{0}}{\\left (t \\right )}\\\\\\operatorname{A_{1}}{\\left (t \\right )}\\\\\\operatorname{A_{2}}{\\left (t \\right )}\\end{matrix}\\right]$$"
       ],
       "metadata": {},
       "output_type": "pyout",
       "png": "[encoded data removed]",
       "prompt_number": 30,
       "text": [
        " d                          \u23a1             \\gamma\u2080                             \n",
        "-\u2500\u2500\u239b\u23a1A\u2080(t)\u23a4\u239e = \u23a1   0    \u23a4 + \u23a2-N\u22c5\\gamma\u2080 - \u2500\u2500\u2500\u2500\u2500\u2500\u2500            0                \n",
        " dt\u239c\u23a2     \u23a5\u239f   \u23a2        \u23a5   \u23a2                2                                \n",
        "   \u239c\u23a2A\u2081(t)\u23a5\u239f   \u23a2-\\gamma\u2080\u23a5   \u23a2                                                 \n",
        "   \u239c\u23a2     \u23a5\u239f   \u23a2        \u23a5   \u23a2         0            -2\u22c5N\u22c5\\gamma\u2080 - \\gamma\u2080     \n",
        "   \u239d\u23a3A\u2082(t)\u23a6\u23a0   \u23a3   0    \u23a6   \u23a2                                                 \n",
        "                            \u23a2                                                 \n",
        "                            \u23a2         0                    \\Omega          -N\u22c5\n",
        "                            \u23a3                                                 \n",
        "\n",
        "                 \u23a4        \n",
        "      0          \u23a5\u22c5\u23a1A\u2080(t)\u23a4\n",
        "                 \u23a5 \u23a2     \u23a5\n",
        "                 \u23a5 \u23a2A\u2081(t)\u23a5\n",
        "   -\\Omega       \u23a5 \u23a2     \u23a5\n",
        "                 \u23a5 \u23a3A\u2082(t)\u23a6\n",
        "          \\gamma\u2080\u23a5        \n",
        "\\gamma\u2080 - \u2500\u2500\u2500\u2500\u2500\u2500\u2500\u23a5        \n",
        "             2   \u23a6        "
       ]
      }
     ],
     "prompt_number": 30
    },
    {
     "cell_type": "heading",
     "level": 3,
     "metadata": {},
     "source": [
      "Steadystate"
     ]
    },
    {
     "cell_type": "code",
     "collapsed": false,
     "input": [
      "A_sol = M.LUsolve(-b)"
     ],
     "language": "python",
     "metadata": {},
     "outputs": [],
     "prompt_number": 31
    },
    {
     "cell_type": "markdown",
     "metadata": {},
     "source": [
      "The steadystate expectation value of $\\sigma_x$:"
     ]
    },
    {
     "cell_type": "code",
     "collapsed": false,
     "input": [
      "A_sol[ops.index(sx)]"
     ],
     "language": "python",
     "metadata": {},
     "outputs": [
      {
       "latex": [
        "$$0$$"
       ],
       "metadata": {},
       "output_type": "pyout",
       "png": "[encoded data removed]",
       "prompt_number": 32,
       "text": [
        "0"
       ]
      }
     ],
     "prompt_number": 32
    },
    {
     "cell_type": "markdown",
     "metadata": {},
     "source": [
      "The steadystate expectation value of $\\sigma_y$:"
     ]
    },
    {
     "cell_type": "code",
     "collapsed": false,
     "input": [
      "A_sol[ops.index(sy)]"
     ],
     "language": "python",
     "metadata": {},
     "outputs": [
      {
       "latex": [
        "$$- \\frac{\\Omega \\gamma_{0}}{\\left(- 2 N \\gamma_{0} - \\gamma_{0}\\right) \\left(- N \\gamma_{0} + \\frac{\\Omega^{2}}{- 2 N \\gamma_{0} - \\gamma_{0}} - \\frac{\\gamma_{0}}{2}\\right)}$$"
       ],
       "metadata": {},
       "output_type": "pyout",
       "png": "[encoded data removed]",
       "prompt_number": 33,
       "text": [
        "                            -\\Omega\u22c5\\gamma\u2080                             \n",
        "\u2500\u2500\u2500\u2500\u2500\u2500\u2500\u2500\u2500\u2500\u2500\u2500\u2500\u2500\u2500\u2500\u2500\u2500\u2500\u2500\u2500\u2500\u2500\u2500\u2500\u2500\u2500\u2500\u2500\u2500\u2500\u2500\u2500\u2500\u2500\u2500\u2500\u2500\u2500\u2500\u2500\u2500\u2500\u2500\u2500\u2500\u2500\u2500\u2500\u2500\u2500\u2500\u2500\u2500\u2500\u2500\u2500\u2500\u2500\u2500\u2500\u2500\u2500\u2500\u2500\u2500\u2500\u2500\u2500\u2500\u2500\u2500\n",
        "                         \u239b                          2                  \u239e\n",
        "                         \u239c                    \\Omega            \\gamma\u2080\u239f\n",
        "(-2\u22c5N\u22c5\\gamma\u2080 - \\gamma\u2080)\u22c5\u239c-N\u22c5\\gamma\u2080 + \u2500\u2500\u2500\u2500\u2500\u2500\u2500\u2500\u2500\u2500\u2500\u2500\u2500\u2500\u2500\u2500\u2500\u2500\u2500\u2500\u2500\u2500 - \u2500\u2500\u2500\u2500\u2500\u2500\u2500\u239f\n",
        "                         \u239d             -2\u22c5N\u22c5\\gamma\u2080 - \\gamma\u2080      2   \u23a0"
       ]
      }
     ],
     "prompt_number": 33
    },
    {
     "cell_type": "markdown",
     "metadata": {},
     "source": [
      "The steadystate expectation value of $\\sigma_z$:"
     ]
    },
    {
     "cell_type": "code",
     "collapsed": false,
     "input": [
      "A_sol[ops.index(sz)]"
     ],
     "language": "python",
     "metadata": {},
     "outputs": [
      {
       "latex": [
        "$$\\frac{1}{- 2 N \\gamma_{0} - \\gamma_{0}} \\left(- \\frac{\\Omega^{2} \\gamma_{0}}{\\left(- 2 N \\gamma_{0} - \\gamma_{0}\\right) \\left(- N \\gamma_{0} + \\frac{\\Omega^{2}}{- 2 N \\gamma_{0} - \\gamma_{0}} - \\frac{\\gamma_{0}}{2}\\right)} + \\gamma_{0}\\right)$$"
       ],
       "metadata": {},
       "output_type": "pyout",
       "png": "[encoded data removed]",
       "prompt_number": 34,
       "text": [
        "                                    2                                         \n",
        "                              \\Omega \u22c5\\gamma\u2080                                 \n",
        "- \u2500\u2500\u2500\u2500\u2500\u2500\u2500\u2500\u2500\u2500\u2500\u2500\u2500\u2500\u2500\u2500\u2500\u2500\u2500\u2500\u2500\u2500\u2500\u2500\u2500\u2500\u2500\u2500\u2500\u2500\u2500\u2500\u2500\u2500\u2500\u2500\u2500\u2500\u2500\u2500\u2500\u2500\u2500\u2500\u2500\u2500\u2500\u2500\u2500\u2500\u2500\u2500\u2500\u2500\u2500\u2500\u2500\u2500\u2500\u2500\u2500\u2500\u2500\u2500\u2500\u2500\u2500\u2500\u2500\u2500\u2500\u2500 + \\\n",
        "                           \u239b                          2                  \u239e    \n",
        "                           \u239c                    \\Omega            \\gamma\u2080\u239f    \n",
        "  (-2\u22c5N\u22c5\\gamma\u2080 - \\gamma\u2080)\u22c5\u239c-N\u22c5\\gamma\u2080 + \u2500\u2500\u2500\u2500\u2500\u2500\u2500\u2500\u2500\u2500\u2500\u2500\u2500\u2500\u2500\u2500\u2500\u2500\u2500\u2500\u2500\u2500 - \u2500\u2500\u2500\u2500\u2500\u2500\u2500\u239f    \n",
        "                           \u239d             -2\u22c5N\u22c5\\gamma\u2080 - \\gamma\u2080      2   \u23a0    \n",
        "\u2500\u2500\u2500\u2500\u2500\u2500\u2500\u2500\u2500\u2500\u2500\u2500\u2500\u2500\u2500\u2500\u2500\u2500\u2500\u2500\u2500\u2500\u2500\u2500\u2500\u2500\u2500\u2500\u2500\u2500\u2500\u2500\u2500\u2500\u2500\u2500\u2500\u2500\u2500\u2500\u2500\u2500\u2500\u2500\u2500\u2500\u2500\u2500\u2500\u2500\u2500\u2500\u2500\u2500\u2500\u2500\u2500\u2500\u2500\u2500\u2500\u2500\u2500\u2500\u2500\u2500\u2500\u2500\u2500\u2500\u2500\u2500\u2500\u2500\u2500\u2500\u2500\u2500\n",
        "                               -2\u22c5N\u22c5\\gamma\u2080 - \\gamma\u2080                         \n",
        "\n",
        "      \n",
        "      \n",
        "gamma\u2080\n",
        "      \n",
        "      \n",
        "      \n",
        "      \n",
        "\u2500\u2500\u2500\u2500\u2500\u2500\n",
        "      "
       ]
      }
     ],
     "prompt_number": 34
    },
    {
     "cell_type": "markdown",
     "metadata": {},
     "source": [
      "Steadystate of $\\sigma_+$:"
     ]
    },
    {
     "cell_type": "code",
     "collapsed": false,
     "input": [
      "pauli_represent_x_y(sp).subs({sx: A_sol[ops.index(sx)], sy: A_sol[ops.index(sy)]})"
     ],
     "language": "python",
     "metadata": {},
     "outputs": [
      {
       "latex": [
        "$$- \\frac{i \\Omega \\gamma_{0}}{2 \\left(- 2 N \\gamma_{0} - \\gamma_{0}\\right) \\left(- N \\gamma_{0} + \\frac{\\Omega^{2}}{- 2 N \\gamma_{0} - \\gamma_{0}} - \\frac{\\gamma_{0}}{2}\\right)}$$"
       ],
       "metadata": {},
       "output_type": "pyout",
       "png": "[encoded data removed]",
       "prompt_number": 36,
       "text": [
        "                            -\u2148\u22c5\\Omega\u22c5\\gamma\u2080                             \n",
        "\u2500\u2500\u2500\u2500\u2500\u2500\u2500\u2500\u2500\u2500\u2500\u2500\u2500\u2500\u2500\u2500\u2500\u2500\u2500\u2500\u2500\u2500\u2500\u2500\u2500\u2500\u2500\u2500\u2500\u2500\u2500\u2500\u2500\u2500\u2500\u2500\u2500\u2500\u2500\u2500\u2500\u2500\u2500\u2500\u2500\u2500\u2500\u2500\u2500\u2500\u2500\u2500\u2500\u2500\u2500\u2500\u2500\u2500\u2500\u2500\u2500\u2500\u2500\u2500\u2500\u2500\u2500\u2500\u2500\u2500\u2500\u2500\u2500\u2500\n",
        "                           \u239b                          2                  \u239e\n",
        "                           \u239c                    \\Omega            \\gamma\u2080\u239f\n",
        "2\u22c5(-2\u22c5N\u22c5\\gamma\u2080 - \\gamma\u2080)\u22c5\u239c-N\u22c5\\gamma\u2080 + \u2500\u2500\u2500\u2500\u2500\u2500\u2500\u2500\u2500\u2500\u2500\u2500\u2500\u2500\u2500\u2500\u2500\u2500\u2500\u2500\u2500\u2500 - \u2500\u2500\u2500\u2500\u2500\u2500\u2500\u239f\n",
        "                           \u239d             -2\u22c5N\u22c5\\gamma\u2080 - \\gamma\u2080      2   \u23a0"
       ]
      }
     ],
     "prompt_number": 36
    },
    {
     "cell_type": "markdown",
     "metadata": {},
     "source": [
      "Steadystate of $\\sigma_-$:"
     ]
    },
    {
     "cell_type": "code",
     "collapsed": false,
     "input": [
      "pauli_represent_x_y(sm).subs({sx: A_sol[ops.index(sx)], sy: A_sol[ops.index(sy)]})"
     ],
     "language": "python",
     "metadata": {},
     "outputs": [
      {
       "latex": [
        "$$\\frac{i \\Omega \\gamma_{0}}{2 \\left(- 2 N \\gamma_{0} - \\gamma_{0}\\right) \\left(- N \\gamma_{0} + \\frac{\\Omega^{2}}{- 2 N \\gamma_{0} - \\gamma_{0}} - \\frac{\\gamma_{0}}{2}\\right)}$$"
       ],
       "metadata": {},
       "output_type": "pyout",
       "png": "[encoded data removed]",
       "prompt_number": 37,
       "text": [
        "                             \u2148\u22c5\\Omega\u22c5\\gamma\u2080                             \n",
        "\u2500\u2500\u2500\u2500\u2500\u2500\u2500\u2500\u2500\u2500\u2500\u2500\u2500\u2500\u2500\u2500\u2500\u2500\u2500\u2500\u2500\u2500\u2500\u2500\u2500\u2500\u2500\u2500\u2500\u2500\u2500\u2500\u2500\u2500\u2500\u2500\u2500\u2500\u2500\u2500\u2500\u2500\u2500\u2500\u2500\u2500\u2500\u2500\u2500\u2500\u2500\u2500\u2500\u2500\u2500\u2500\u2500\u2500\u2500\u2500\u2500\u2500\u2500\u2500\u2500\u2500\u2500\u2500\u2500\u2500\u2500\u2500\u2500\u2500\n",
        "                           \u239b                          2                  \u239e\n",
        "                           \u239c                    \\Omega            \\gamma\u2080\u239f\n",
        "2\u22c5(-2\u22c5N\u22c5\\gamma\u2080 - \\gamma\u2080)\u22c5\u239c-N\u22c5\\gamma\u2080 + \u2500\u2500\u2500\u2500\u2500\u2500\u2500\u2500\u2500\u2500\u2500\u2500\u2500\u2500\u2500\u2500\u2500\u2500\u2500\u2500\u2500\u2500 - \u2500\u2500\u2500\u2500\u2500\u2500\u2500\u239f\n",
        "                           \u239d             -2\u22c5N\u22c5\\gamma\u2080 - \\gamma\u2080      2   \u23a0"
       ]
      }
     ],
     "prompt_number": 37
    },
    {
     "cell_type": "markdown",
     "metadata": {},
     "source": [
      "Alternatively we can also use the SymPy `solve` function to find the steadystate solutions:"
     ]
    },
    {
     "cell_type": "code",
     "collapsed": false,
     "input": [
      "solve([eq.rhs for eq in sc_ode.values()], list(ofm.values()))"
     ],
     "language": "python",
     "metadata": {},
     "outputs": [
      {
       "latex": [
        "$$\\left \\{ \\operatorname{A_{0}}{\\left (t \\right )} : 0, \\quad \\operatorname{A_{1}}{\\left (t \\right )} : - \\frac{\\gamma_{0}^{2} \\left(2 N + 1\\right)}{2 \\Omega^{2} + \\gamma_{0}^{2} \\left(2 N + 1\\right)^{2}}, \\quad \\operatorname{A_{2}}{\\left (t \\right )} : - \\frac{2 \\Omega \\gamma_{0}}{2 \\Omega^{2} + \\gamma_{0}^{2} \\left(2 N + 1\\right)^{2}}\\right \\}$$"
       ],
       "metadata": {},
       "output_type": "pyout",
       "png": "[encoded data removed]",
       "prompt_number": 39,
       "text": [
        "\u23a7                               2                                             \n",
        "\u23aa                       -\\gamma\u2080 \u22c5(2\u22c5N + 1)                      -2\u22c5\\Omega\u22c5\\ga\n",
        "\u23a8A\u2080(t): 0, A\u2081(t): \u2500\u2500\u2500\u2500\u2500\u2500\u2500\u2500\u2500\u2500\u2500\u2500\u2500\u2500\u2500\u2500\u2500\u2500\u2500\u2500\u2500\u2500\u2500\u2500\u2500\u2500\u2500\u2500\u2500\u2500\u2500, A\u2082(t): \u2500\u2500\u2500\u2500\u2500\u2500\u2500\u2500\u2500\u2500\u2500\u2500\u2500\u2500\u2500\u2500\u2500\u2500\u2500\u2500\n",
        "\u23aa                         2          2          2                 2          2\n",
        "\u23a9                 2\u22c5\\Omega  + \\gamma\u2080 \u22c5(2\u22c5N + 1)          2\u22c5\\Omega  + \\gamma\u2080 \n",
        "\n",
        "           \u23ab\n",
        "mma\u2080       \u23aa\n",
        "\u2500\u2500\u2500\u2500\u2500\u2500\u2500\u2500\u2500\u2500\u2500\u23ac\n",
        "          2\u23aa\n",
        "\u22c5(2\u22c5N + 1) \u23ad"
       ]
      }
     ],
     "prompt_number": 39
    },
    {
     "cell_type": "markdown",
     "metadata": {},
     "source": [
      "At zero temperature:"
     ]
    },
    {
     "cell_type": "code",
     "collapsed": false,
     "input": [
      "solve([eq.subs(N, 0).rhs for eq in sc_ode.values()], list(ofm.values()))"
     ],
     "language": "python",
     "metadata": {},
     "outputs": [
      {
       "latex": [
        "$$\\left \\{ \\operatorname{A_{0}}{\\left (t \\right )} : 0, \\quad \\operatorname{A_{1}}{\\left (t \\right )} : - \\frac{2 \\Omega \\gamma_{0}}{2 \\Omega^{2} + \\gamma_{0}^{2}}, \\quad \\operatorname{A_{2}}{\\left (t \\right )} : - \\frac{\\gamma_{0}^{2}}{2 \\Omega^{2} + \\gamma_{0}^{2}}\\right \\}$$"
       ],
       "metadata": {},
       "output_type": "pyout",
       "png": "[encoded data removed]",
       "prompt_number": 48,
       "text": [
        "\u23a7                                                           2      \u23ab\n",
        "\u23aa                  -2\u22c5\\Omega\u22c5\\gamma\u2080                -\\gamma\u2080       \u23aa\n",
        "\u23a8A\u2080(t): 0, A\u2081(t): \u2500\u2500\u2500\u2500\u2500\u2500\u2500\u2500\u2500\u2500\u2500\u2500\u2500\u2500\u2500\u2500\u2500\u2500\u2500\u2500, A\u2082(t): \u2500\u2500\u2500\u2500\u2500\u2500\u2500\u2500\u2500\u2500\u2500\u2500\u2500\u2500\u2500\u2500\u2500\u2500\u2500\u2500\u23ac\n",
        "\u23aa                         2          2                 2          2\u23aa\n",
        "\u23a9                 2\u22c5\\Omega  + \\gamma\u2080          2\u22c5\\Omega  + \\gamma\u2080 \u23ad"
       ]
      }
     ],
     "prompt_number": 48
    },
    {
     "cell_type": "heading",
     "level": 2,
     "metadata": {},
     "source": [
      "Versions"
     ]
    },
    {
     "cell_type": "code",
     "collapsed": false,
     "input": [
      "%reload_ext version_information\n",
      "\n",
      "%version_information sympy, sympsi"
     ],
     "language": "python",
     "metadata": {},
     "outputs": [
      {
       "html": [
        "<table><tr><th>Software</th><th>Version</th></tr><tr><td>Python</td><td>3.4.1 (default, Sep 20 2014, 19:44:17) [GCC 4.2.1 Compatible Apple LLVM 5.1 (clang-503.0.40)]</td></tr><tr><td>IPython</td><td>2.3.0</td></tr><tr><td>OS</td><td>Darwin 13.4.0 x86_64 i386 64bit</td></tr><tr><td>sympy</td><td>0.7.5-git</td></tr><tr><td>sympsi</td><td>0.1.0.dev-0c6e514</td></tr><tr><td colspan='2'>Sun Oct 12 10:51:49 2014 JST</td></tr></table>"
       ],
       "json": [
        "{\"Software versions\": [{\"module\": \"Python\", \"version\": \"3.4.1 (default, Sep 20 2014, 19:44:17) [GCC 4.2.1 Compatible Apple LLVM 5.1 (clang-503.0.40)]\"}, {\"module\": \"IPython\", \"version\": \"2.3.0\"}, {\"module\": \"OS\", \"version\": \"Darwin 13.4.0 x86_64 i386 64bit\"}, {\"module\": \"sympy\", \"version\": \"0.7.5-git\"}, {\"module\": \"sympsi\", \"version\": \"0.1.0.dev-0c6e514\"}]}"
       ],
       "latex": [
        "\\begin{tabular}{|l|l|}\\hline\n",
        "{\\bf Software} & {\\bf Version} \\\\ \\hline\\hline\n",
        "Python & 3.4.1 (default, Sep 20 2014, 19:44:17) [GCC 4.2.1 Compatible Apple LLVM 5.1 (clang-503.0.40)] \\\\ \\hline\n",
        "IPython & 2.3.0 \\\\ \\hline\n",
        "OS & Darwin 13.4.0 x86\\letterunderscore{}64 i386 64bit \\\\ \\hline\n",
        "sympy & 0.7.5-git \\\\ \\hline\n",
        "sympsi & 0.1.0.dev-0c6e514 \\\\ \\hline\n",
        "\\hline \\multicolumn{2}{|l|}{Sun Oct 12 10:51:49 2014 JST} \\\\ \\hline\n",
        "\\end{tabular}\n"
       ],
       "metadata": {},
       "output_type": "pyout",
       "prompt_number": 50,
       "text": [
        "Software versions\n",
        "Python 3.4.1 (default, Sep 20 2014, 19:44:17) [GCC 4.2.1 Compatible Apple LLVM 5.1 (clang-503.0.40)]\n",
        "IPython 2.3.0\n",
        "OS Darwin 13.4.0 x86_64 i386 64bit\n",
        "sympy 0.7.5-git\n",
        "sympsi 0.1.0.dev-0c6e514\n",
        "Sun Oct 12 10:51:49 2014 JST"
       ]
      }
     ],
     "prompt_number": 50
    }
   ],
   "metadata": {}
  }
 ]
}