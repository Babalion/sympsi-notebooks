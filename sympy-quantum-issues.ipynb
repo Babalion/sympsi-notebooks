{
 "cells": [
  {
   "cell_type": "markdown",
   "id": "23d9705c",
   "metadata": {},
   "source": [
    "# A lists of some issues with sympy.physics.quantum that needs fixing..."
   ]
  },
  {
   "cell_type": "markdown",
   "id": "a7d24b5f",
   "metadata": {},
   "source": [
    "Robert Johansson"
   ]
  },
  {
   "cell_type": "code",
   "execution_count": 1,
   "id": "d237f98d",
   "metadata": {
    "collapsed": false
   },
   "outputs": [],
   "source": [
    "from sympy import *\n",
    "init_printing()\n",
    "\n",
    "from sympy.physics.quantum import *"
   ]
  },
  {
   "cell_type": "markdown",
   "id": "df168119",
   "metadata": {},
   "source": [
    "## Innerproducts of tensor products are not evaluated"
   ]
  },
  {
   "cell_type": "code",
   "execution_count": 2,
   "id": "af875c2d",
   "metadata": {
    "collapsed": false
   },
   "outputs": [],
   "source": [
    "ket1 = FermionFockKet(0)\n",
    "ket2 = FermionFockKet(1)\n",
    "\n",
    "tp = TensorProduct(ket1, ket2)"
   ]
  },
  {
   "cell_type": "code",
   "execution_count": 3,
   "id": "2cccb8e6",
   "metadata": {
    "collapsed": false
   },
   "outputs": [
    {
     "data": {
      "image/png": "[encoded data removed]",
      "text/latex": [
       "$$\\begin{pmatrix}{{\\left\\langle 0\\right|}}\\otimes {{\\left\\langle 1\\right|}} {{\\left|0\\right\\rangle }}\\otimes {{\\left|1\\right\\rangle }}, & {{\\left\\langle 0\\right|}}\\otimes {{\\left\\langle 1\\right|}} {{\\left|0\\right\\rangle }}\\otimes {{\\left|1\\right\\rangle }}\\end{pmatrix}$$"
      ],
      "text/plain": [
       "(⟨0❘⨂ ⟨1❘⋅❘0⟩⨂ ❘1⟩, ⟨0❘⨂ ⟨1❘⋅❘0⟩⨂ ❘1⟩)"
      ]
     },
     "execution_count": 3,
     "metadata": {},
     "output_type": "execute_result"
    }
   ],
   "source": [
    "p = Dagger(tp) * tp\n",
    "\n",
    "p, p.doit()  # Does not evaluate"
   ]
  },
  {
   "cell_type": "markdown",
   "id": "29a41d5c",
   "metadata": {},
   "source": [
    "## Qubits does not work with TensorProduct"
   ]
  },
  {
   "cell_type": "markdown",
   "id": "16d38e9e",
   "metadata": {},
   "source": [
    "The Qubit class has its own way of managing composite quantum systems (tensorproducts)..."
   ]
  },
  {
   "cell_type": "code",
   "execution_count": 4,
   "id": "161c9d6e",
   "metadata": {
    "collapsed": false
   },
   "outputs": [],
   "source": [
    "from sympy.physics.quantum.qubit import *"
   ]
  },
  {
   "cell_type": "code",
   "execution_count": 5,
   "id": "a0038903",
   "metadata": {
    "collapsed": false
   },
   "outputs": [],
   "source": [
    "q1 = Qubit(\"0\")\n",
    "q2 = Qubit(\"1\")"
   ]
  },
  {
   "cell_type": "code",
   "execution_count": 6,
   "id": "5a769435",
   "metadata": {
    "collapsed": false
   },
   "outputs": [
    {
     "data": {
      "image/png": "[encoded data removed]",
      "text/latex": [
       "$$\\begin{pmatrix}\\left\\langle 0 \\right. {\\left|1\\right\\rangle }, & 0\\end{pmatrix}$$"
      ],
      "text/plain": [
       "(⟨0❘1⟩, 0)"
      ]
     },
     "execution_count": 6,
     "metadata": {},
     "output_type": "execute_result"
    }
   ],
   "source": [
    "p = Dagger(q1) * q2\n",
    "\n",
    "p, p.doit()  # OK"
   ]
  },
  {
   "cell_type": "code",
   "execution_count": 7,
   "id": "98468f28",
   "metadata": {
    "collapsed": false
   },
   "outputs": [
    {
     "data": {
      "image/png": "[encoded data removed]",
      "text/latex": [
       "$${{\\left|0\\right\\rangle }}\\otimes {{\\left|1\\right\\rangle }}$$"
      ],
      "text/plain": [
       "❘0⟩⨂ ❘1⟩"
      ]
     },
     "execution_count": 7,
     "metadata": {},
     "output_type": "execute_result"
    }
   ],
   "source": [
    "tp = TensorProduct(Qubit(\"0\"), Qubit(\"1\")); tp"
   ]
  },
  {
   "cell_type": "code",
   "execution_count": 8,
   "id": "62a89184",
   "metadata": {
    "collapsed": false
   },
   "outputs": [
    {
     "data": {
      "image/png": "[encoded data removed]",
      "text/latex": [
       "$$\\begin{pmatrix}{{\\left\\langle 0\\right|}}\\otimes {{\\left\\langle 1\\right|}} {{\\left|0\\right\\rangle }}\\otimes {{\\left|1\\right\\rangle }}, & {{\\left\\langle 0\\right|}}\\otimes {{\\left\\langle 1\\right|}} {{\\left|0\\right\\rangle }}\\otimes {{\\left|1\\right\\rangle }}\\end{pmatrix}$$"
      ],
      "text/plain": [
       "(⟨0❘⨂ ⟨1❘⋅❘0⟩⨂ ❘1⟩, ⟨0❘⨂ ⟨1❘⋅❘0⟩⨂ ❘1⟩)"
      ]
     },
     "execution_count": 8,
     "metadata": {},
     "output_type": "execute_result"
    }
   ],
   "source": [
    "p = Dagger(tp) * tp\n",
    "\n",
    "p, p.doit()  # Does not work. "
   ]
  },
  {
   "cell_type": "code",
   "execution_count": 9,
   "id": "adf7d59b",
   "metadata": {
    "collapsed": false
   },
   "outputs": [
    {
     "data": {
      "image/png": "[encoded data removed]",
      "text/latex": [
       "$${{\\left|10\\right\\rangle }}\\otimes {{\\left|10\\right\\rangle }}$$"
      ],
      "text/plain": [
       "❘10⟩⨂ ❘10⟩"
      ]
     },
     "execution_count": 9,
     "metadata": {},
     "output_type": "execute_result"
    }
   ],
   "source": [
    "TensorProduct(Qubit(\"10\"), Qubit(\"10\"))  # not working properly either"
   ]
  },
  {
   "cell_type": "markdown",
   "id": "0fc9adb3",
   "metadata": {},
   "source": [
    "## TensorProducts of bra's and ket's is printed with double vertical bars"
   ]
  },
  {
   "cell_type": "code",
   "execution_count": 10,
   "id": "6e544610",
   "metadata": {
    "collapsed": false
   },
   "outputs": [],
   "source": [
    "bra = Bra(\"psi\")\n",
    "ket = Ket(\"phi\")"
   ]
  },
  {
   "cell_type": "code",
   "execution_count": 11,
   "id": "22b9a07b",
   "metadata": {
    "collapsed": false
   },
   "outputs": [
    {
     "data": {
      "image/png": "[encoded data removed]",
      "text/latex": [
       "$$\\left\\langle \\psi \\right. {\\left|\\phi\\right\\rangle }$$"
      ],
      "text/plain": [
       "⟨ψ❘φ⟩"
      ]
     },
     "execution_count": 11,
     "metadata": {},
     "output_type": "execute_result"
    }
   ],
   "source": [
    "bra * ket  # OK"
   ]
  },
  {
   "cell_type": "code",
   "execution_count": 12,
   "id": "7be483c7",
   "metadata": {
    "collapsed": false
   },
   "outputs": [
    {
     "data": {
      "image/png": "[encoded data removed]",
      "text/latex": [
       "$${{\\left\\langle \\psi\\right|}}\\otimes {{\\left\\langle \\psi\\right|}} {{\\left|\\phi\\right\\rangle }}\\otimes {{\\left|\\phi\\right\\rangle }}$$"
      ],
      "text/plain": [
       "⟨ψ❘⨂ ⟨ψ❘⋅❘φ⟩⨂ ❘φ⟩"
      ]
     },
     "execution_count": 12,
     "metadata": {},
     "output_type": "execute_result"
    }
   ],
   "source": [
    "TensorProduct(bra, bra) * TensorProduct(ket, ket)  # Double vertical bars"
   ]
  },
  {
   "cell_type": "code",
   "execution_count": 13,
   "id": "ac27115a",
   "metadata": {
    "collapsed": false
   },
   "outputs": [
    {
     "data": {
      "text/plain": [
       "sympy.physics.quantum.innerproduct.InnerProduct"
      ]
     },
     "execution_count": 13,
     "metadata": {},
     "output_type": "execute_result"
    }
   ],
   "source": [
    "type(bra * ket)"
   ]
  },
  {
   "cell_type": "code",
   "execution_count": 14,
   "id": "32a9922f",
   "metadata": {
    "collapsed": false
   },
   "outputs": [
    {
     "data": {
      "text/plain": [
       "sympy.core.mul.Mul"
      ]
     },
     "execution_count": 14,
     "metadata": {},
     "output_type": "execute_result"
    }
   ],
   "source": [
    "type(TensorProduct(bra, bra) * TensorProduct(ket, ket))  # not recognized as an InnerProduct"
   ]
  },
  {
   "cell_type": "markdown",
   "id": "8df368b6",
   "metadata": {},
   "source": [
    "# Nonsense tensorproducts"
   ]
  },
  {
   "cell_type": "code",
   "execution_count": 15,
   "id": "6386994c",
   "metadata": {
    "collapsed": false
   },
   "outputs": [],
   "source": [
    "bra = Bra(\"psi\")\n",
    "ket = Ket(\"phi\")"
   ]
  },
  {
   "cell_type": "code",
   "execution_count": 16,
   "id": "24319bec",
   "metadata": {
    "collapsed": false
   },
   "outputs": [
    {
     "data": {
      "image/png": "[encoded data removed]",
      "text/latex": [
       "$${{\\left\\langle \\psi\\right|}}\\otimes {{\\left|\\phi\\right\\rangle }}$$"
      ],
      "text/plain": [
       "⟨ψ❘⨂ ❘φ⟩"
      ]
     },
     "execution_count": 16,
     "metadata": {},
     "output_type": "execute_result"
    }
   ],
   "source": [
    "TensorProduct(bra, ket)"
   ]
  },
  {
   "cell_type": "code",
   "execution_count": 16,
   "id": "9600d921",
   "metadata": {
    "collapsed": false
   },
   "outputs": [],
   "source": []
  },
  {
   "cell_type": "code",
   "execution_count": null,
   "id": "e20c04dd",
   "metadata": {
    "collapsed": false
   },
   "outputs": [],
   "source": []
  }
 ],
 "metadata": {},
 "nbformat": 4,
 "nbformat_minor": 5
}
