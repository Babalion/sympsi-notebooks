{
 "metadata": {
  "name": "",
  "signature": "sha256:c6d309321ff41d9229505d0bb49647b3252a436add7cd8107306760b573340d3"
 },
 "nbformat": 3,
 "nbformat_minor": 0,
 "worksheets": [
  {
   "cells": [
    {
     "cell_type": "heading",
     "level": 1,
     "metadata": {},
     "source": [
      "Test sympy.physics.quantum.pauli"
     ]
    },
    {
     "cell_type": "code",
     "collapsed": false,
     "input": [
      "from sympy import *\n",
      "init_printing()"
     ],
     "language": "python",
     "metadata": {},
     "outputs": [],
     "prompt_number": 1
    },
    {
     "cell_type": "code",
     "collapsed": false,
     "input": [
      "from sympy.physics.quantum import *\n",
      "from sympy.physics.quantum.spin import *"
     ],
     "language": "python",
     "metadata": {},
     "outputs": [],
     "prompt_number": 2
    },
    {
     "cell_type": "code",
     "collapsed": false,
     "input": [
      "from sympy.physics.quantum.pauli import *"
     ],
     "language": "python",
     "metadata": {},
     "outputs": [],
     "prompt_number": 3
    },
    {
     "cell_type": "code",
     "collapsed": false,
     "input": [
      "s_ops = sx, sy, sz, sp, sm = SigmaX(), SigmaY(), SigmaZ(), SigmaPlus(), SigmaMinus()\n",
      "\n",
      "#s_ops = sx, sy, sz, sp, sm = Jx, Jy, Jz, Jplus, Jminus  # does not work well, many expressions unevaluated"
     ],
     "language": "python",
     "metadata": {},
     "outputs": [],
     "prompt_number": 4
    },
    {
     "cell_type": "heading",
     "level": 1,
     "metadata": {},
     "source": [
      "HTML table"
     ]
    },
    {
     "cell_type": "code",
     "collapsed": false,
     "input": [
      "from IPython.display import HTML"
     ],
     "language": "python",
     "metadata": {},
     "outputs": [],
     "prompt_number": 5
    },
    {
     "cell_type": "code",
     "collapsed": false,
     "input": [
      "def print_table(data):\n",
      "    t_table = \"<table>\\n%s\\n</table>\"\n",
      "    t_row = \"<tr>%s</tr>\"\n",
      "    t_col = \"<td>%s</td>\"\n",
      "    table_code = t_table % \"\".join([t_row % \"\".join([t_col % (\"$%s$\" % latex(col))\n",
      "                                                     for col in row])\n",
      "                                    for row in data])\n",
      "    return HTML(table_code)"
     ],
     "language": "python",
     "metadata": {},
     "outputs": [],
     "prompt_number": 6
    },
    {
     "cell_type": "heading",
     "level": 2,
     "metadata": {},
     "source": [
      "Matrix representations"
     ]
    },
    {
     "cell_type": "code",
     "collapsed": false,
     "input": [
      "data = [s_ops, [represent(s) for s in s_ops]]\n",
      "\n",
      "print_table(data)"
     ],
     "language": "python",
     "metadata": {},
     "outputs": [
      {
       "html": [
        "<table>\n",
        "<tr><td>${\\sigma_x}$</td><td>${\\sigma_y}$</td><td>${\\sigma_z}$</td><td>${\\sigma_+}$</td><td>${\\sigma_-}$</td></tr><tr><td>$\\left[\\begin{matrix}0 & 1\\\\1 & 0\\end{matrix}\\right]$</td><td>$\\left[\\begin{matrix}0 & - i\\\\i & 0\\end{matrix}\\right]$</td><td>$\\left[\\begin{matrix}1 & 0\\\\0 & -1\\end{matrix}\\right]$</td><td>$\\left[\\begin{matrix}0 & 1\\\\0 & 0\\end{matrix}\\right]$</td><td>$\\left[\\begin{matrix}0 & 0\\\\1 & 0\\end{matrix}\\right]$</td></tr>\n",
        "</table>"
       ],
       "metadata": {},
       "output_type": "pyout",
       "prompt_number": 7,
       "text": [
        "<IPython.core.display.HTML object>"
       ]
      }
     ],
     "prompt_number": 7
    },
    {
     "cell_type": "heading",
     "level": 2,
     "metadata": {},
     "source": [
      "Commutators"
     ]
    },
    {
     "cell_type": "code",
     "collapsed": false,
     "input": [
      "data = [[r\"{\\rm Expression}\", r\"{\\rm Evaluated\\;value}\", r\"{\\rm Numerical\\;test}\"]] + \\\n",
      "       [[Commutator(s1, s2),\n",
      "         Commutator(s1, s2).doit(),\n",
      "         represent(Commutator(s1, s2)) == represent(Commutator(s1, s2).doit())]\n",
      "        for s1 in s_ops for s2 in s_ops if s1 != s2]\n",
      "\n",
      "print_table(data)"
     ],
     "language": "python",
     "metadata": {},
     "outputs": [
      {
       "html": [
        "<table>\n",
        "<tr><td>${\\rm Expression}$</td><td>${\\rm Evaluated\\;value}$</td><td>${\\rm Numerical\\;test}$</td></tr><tr><td>$\\left[{\\sigma_x},{\\sigma_y}\\right]$</td><td>$2 i {\\sigma_z}$</td><td>$\\mathrm{True}$</td></tr><tr><td>$\\left[{\\sigma_x},{\\sigma_z}\\right]$</td><td>$- 2 i {\\sigma_y}$</td><td>$\\mathrm{True}$</td></tr><tr><td>$- \\left[{\\sigma_+},{\\sigma_x}\\right]$</td><td>$- {\\sigma_z}$</td><td>$\\mathrm{True}$</td></tr><tr><td>$- \\left[{\\sigma_-},{\\sigma_x}\\right]$</td><td>${\\sigma_z}$</td><td>$\\mathrm{True}$</td></tr><tr><td>$- \\left[{\\sigma_x},{\\sigma_y}\\right]$</td><td>$- 2 i {\\sigma_z}$</td><td>$\\mathrm{True}$</td></tr><tr><td>$\\left[{\\sigma_y},{\\sigma_z}\\right]$</td><td>$2 i {\\sigma_x}$</td><td>$\\mathrm{True}$</td></tr><tr><td>$- \\left[{\\sigma_+},{\\sigma_y}\\right]$</td><td>$- i {\\sigma_z}$</td><td>$\\mathrm{True}$</td></tr><tr><td>$- \\left[{\\sigma_-},{\\sigma_y}\\right]$</td><td>$- i {\\sigma_z}$</td><td>$\\mathrm{True}$</td></tr><tr><td>$- \\left[{\\sigma_x},{\\sigma_z}\\right]$</td><td>$2 i {\\sigma_y}$</td><td>$\\mathrm{True}$</td></tr><tr><td>$- \\left[{\\sigma_y},{\\sigma_z}\\right]$</td><td>$- 2 i {\\sigma_x}$</td><td>$\\mathrm{True}$</td></tr><tr><td>$- \\left[{\\sigma_+},{\\sigma_z}\\right]$</td><td>$2 {\\sigma_+}$</td><td>$\\mathrm{True}$</td></tr><tr><td>$- \\left[{\\sigma_-},{\\sigma_z}\\right]$</td><td>$- 2 {\\sigma_-}$</td><td>$\\mathrm{True}$</td></tr><tr><td>$\\left[{\\sigma_+},{\\sigma_x}\\right]$</td><td>${\\sigma_z}$</td><td>$\\mathrm{True}$</td></tr><tr><td>$\\left[{\\sigma_+},{\\sigma_y}\\right]$</td><td>$i {\\sigma_z}$</td><td>$\\mathrm{True}$</td></tr><tr><td>$\\left[{\\sigma_+},{\\sigma_z}\\right]$</td><td>$- 2 {\\sigma_+}$</td><td>$\\mathrm{True}$</td></tr><tr><td>$- \\left[{\\sigma_-},{\\sigma_+}\\right]$</td><td>${\\sigma_z}$</td><td>$\\mathrm{True}$</td></tr><tr><td>$\\left[{\\sigma_-},{\\sigma_x}\\right]$</td><td>$- {\\sigma_z}$</td><td>$\\mathrm{True}$</td></tr><tr><td>$\\left[{\\sigma_-},{\\sigma_y}\\right]$</td><td>$i {\\sigma_z}$</td><td>$\\mathrm{True}$</td></tr><tr><td>$\\left[{\\sigma_-},{\\sigma_z}\\right]$</td><td>$2 {\\sigma_-}$</td><td>$\\mathrm{True}$</td></tr><tr><td>$\\left[{\\sigma_-},{\\sigma_+}\\right]$</td><td>$- {\\sigma_z}$</td><td>$\\mathrm{True}$</td></tr>\n",
        "</table>"
       ],
       "metadata": {},
       "output_type": "pyout",
       "prompt_number": 8,
       "text": [
        "<IPython.core.display.HTML object>"
       ]
      }
     ],
     "prompt_number": 8
    },
    {
     "cell_type": "heading",
     "level": 2,
     "metadata": {},
     "source": [
      "Anticommutators"
     ]
    },
    {
     "cell_type": "code",
     "collapsed": false,
     "input": [
      "def elim_zero_matrix(e):\n",
      "    return 0 if e == Matrix([[0, 0], [0, 0]]) else e"
     ],
     "language": "python",
     "metadata": {},
     "outputs": [],
     "prompt_number": 9
    },
    {
     "cell_type": "code",
     "collapsed": false,
     "input": [
      "data = [[r\"{\\rm Expression}\", r\"{\\rm Evaluated\\;value}\", r\"{\\rm Numerical\\;test}\"]] + \\\n",
      "       [[AntiCommutator(s1, s2),\n",
      "         AntiCommutator(s1, s2).doit(),\n",
      "         elim_zero_matrix(represent(AntiCommutator(s1, s2))) == represent(AntiCommutator(s1, s2).doit())]\n",
      "        for s1 in s_ops for s2 in s_ops if s1 != s2]\n",
      "\n",
      "print_table(data)"
     ],
     "language": "python",
     "metadata": {},
     "outputs": [
      {
       "html": [
        "<table>\n",
        "<tr><td>${\\rm Expression}$</td><td>${\\rm Evaluated\\;value}$</td><td>${\\rm Numerical\\;test}$</td></tr><tr><td>$\\left\\{{\\sigma_x},{\\sigma_y}\\right\\}$</td><td>$0$</td><td>$\\mathrm{True}$</td></tr><tr><td>$\\left\\{{\\sigma_x},{\\sigma_z}\\right\\}$</td><td>$0$</td><td>$\\mathrm{True}$</td></tr><tr><td>$\\left\\{{\\sigma_+},{\\sigma_x}\\right\\}$</td><td>${\\mathcal{I}}$</td><td>$\\mathrm{True}$</td></tr><tr><td>$\\left\\{{\\sigma_-},{\\sigma_x}\\right\\}$</td><td>${\\mathcal{I}}$</td><td>$\\mathrm{True}$</td></tr><tr><td>$\\left\\{{\\sigma_x},{\\sigma_y}\\right\\}$</td><td>$0$</td><td>$\\mathrm{True}$</td></tr><tr><td>$\\left\\{{\\sigma_y},{\\sigma_z}\\right\\}$</td><td>$0$</td><td>$\\mathrm{True}$</td></tr><tr><td>$\\left\\{{\\sigma_+},{\\sigma_y}\\right\\}$</td><td>$i {\\mathcal{I}}$</td><td>$\\mathrm{True}$</td></tr><tr><td>$\\left\\{{\\sigma_-},{\\sigma_y}\\right\\}$</td><td>$- i {\\mathcal{I}}$</td><td>$\\mathrm{True}$</td></tr><tr><td>$\\left\\{{\\sigma_x},{\\sigma_z}\\right\\}$</td><td>$0$</td><td>$\\mathrm{True}$</td></tr><tr><td>$\\left\\{{\\sigma_y},{\\sigma_z}\\right\\}$</td><td>$0$</td><td>$\\mathrm{True}$</td></tr><tr><td>$\\left\\{{\\sigma_+},{\\sigma_z}\\right\\}$</td><td>$0$</td><td>$\\mathrm{True}$</td></tr><tr><td>$\\left\\{{\\sigma_-},{\\sigma_z}\\right\\}$</td><td>$0$</td><td>$\\mathrm{True}$</td></tr><tr><td>$\\left\\{{\\sigma_+},{\\sigma_x}\\right\\}$</td><td>${\\mathcal{I}}$</td><td>$\\mathrm{True}$</td></tr><tr><td>$\\left\\{{\\sigma_+},{\\sigma_y}\\right\\}$</td><td>$i {\\mathcal{I}}$</td><td>$\\mathrm{True}$</td></tr><tr><td>$\\left\\{{\\sigma_+},{\\sigma_z}\\right\\}$</td><td>$0$</td><td>$\\mathrm{True}$</td></tr><tr><td>$\\left\\{{\\sigma_-},{\\sigma_+}\\right\\}$</td><td>${\\mathcal{I}}$</td><td>$\\mathrm{True}$</td></tr><tr><td>$\\left\\{{\\sigma_-},{\\sigma_x}\\right\\}$</td><td>${\\mathcal{I}}$</td><td>$\\mathrm{True}$</td></tr><tr><td>$\\left\\{{\\sigma_-},{\\sigma_y}\\right\\}$</td><td>$- i {\\mathcal{I}}$</td><td>$\\mathrm{True}$</td></tr><tr><td>$\\left\\{{\\sigma_-},{\\sigma_z}\\right\\}$</td><td>$0$</td><td>$\\mathrm{True}$</td></tr><tr><td>$\\left\\{{\\sigma_-},{\\sigma_+}\\right\\}$</td><td>${\\mathcal{I}}$</td><td>$\\mathrm{True}$</td></tr>\n",
        "</table>"
       ],
       "metadata": {},
       "output_type": "pyout",
       "prompt_number": 10,
       "text": [
        "<IPython.core.display.HTML object>"
       ]
      }
     ],
     "prompt_number": 10
    },
    {
     "cell_type": "heading",
     "level": 2,
     "metadata": {},
     "source": [
      "Adjoint"
     ]
    },
    {
     "cell_type": "code",
     "collapsed": false,
     "input": [
      "Dagger(sx), Dagger(sy), Dagger(sz)"
     ],
     "language": "python",
     "metadata": {},
     "outputs": [
      {
       "latex": [
        "$$\\begin{pmatrix}{\\sigma_x}, & {\\sigma_y}, & {\\sigma_z}\\end{pmatrix}$$"
       ],
       "metadata": {},
       "output_type": "pyout",
       "png": "[encoded data removed]",
       "prompt_number": 11,
       "text": [
        "(O, O, O)"
       ]
      }
     ],
     "prompt_number": 11
    },
    {
     "cell_type": "code",
     "collapsed": false,
     "input": [
      "Dagger(sm), Dagger(sp)"
     ],
     "language": "python",
     "metadata": {},
     "outputs": [
      {
       "latex": [
        "$$\\begin{pmatrix}{\\sigma_+}, & {\\sigma_-}\\end{pmatrix}$$"
       ],
       "metadata": {},
       "output_type": "pyout",
       "png": "[encoded data removed]",
       "prompt_number": 12,
       "text": [
        "(O, O)"
       ]
      }
     ],
     "prompt_number": 12
    },
    {
     "cell_type": "code",
     "collapsed": false,
     "input": [
      "sm, sp"
     ],
     "language": "python",
     "metadata": {},
     "outputs": [
      {
       "latex": [
        "$$\\begin{pmatrix}{\\sigma_-}, & {\\sigma_+}\\end{pmatrix}$$"
       ],
       "metadata": {},
       "output_type": "pyout",
       "png": "[encoded data removed]",
       "prompt_number": 13,
       "text": [
        "(O, O)"
       ]
      }
     ],
     "prompt_number": 13
    },
    {
     "cell_type": "heading",
     "level": 1,
     "metadata": {},
     "source": [
      "Operator products"
     ]
    },
    {
     "cell_type": "code",
     "collapsed": false,
     "input": [
      "s = [sx, sy, sz, sm, sp]\n",
      "\n",
      "data = [[s2] + [(s1 * s2, elim_zero_matrix(represent(s1 * s2)) == represent(s1) * represent(s2))\n",
      "         for s1 in s] for s2 in s]\n",
      "\n",
      "print_table(data)"
     ],
     "language": "python",
     "metadata": {},
     "outputs": [
      {
       "html": [
        "<table>\n",
        "<tr><td>${\\sigma_x}$</td><td>$\\begin{pmatrix}{\\mathcal{I}}, & \\mathrm{True}\\end{pmatrix}$</td><td>$\\begin{pmatrix}- i {\\sigma_z}, & \\mathrm{True}\\end{pmatrix}$</td><td>$\\begin{pmatrix}i {\\sigma_y}, & \\mathrm{True}\\end{pmatrix}$</td><td>$\\begin{pmatrix}\\frac{1}{2} \\left({\\mathcal{I}} - {\\sigma_z}\\right), & \\mathrm{True}\\end{pmatrix}$</td><td>$\\begin{pmatrix}\\frac{1}{2} \\left({\\mathcal{I}} + {\\sigma_z}\\right), & \\mathrm{True}\\end{pmatrix}$</td></tr><tr><td>${\\sigma_y}$</td><td>$\\begin{pmatrix}i {\\sigma_z}, & \\mathrm{True}\\end{pmatrix}$</td><td>$\\begin{pmatrix}{\\mathcal{I}}, & \\mathrm{True}\\end{pmatrix}$</td><td>$\\begin{pmatrix}- i {\\sigma_x}, & \\mathrm{True}\\end{pmatrix}$</td><td>$\\begin{pmatrix}- \\frac{i}{2} \\left({\\mathcal{I}} - {\\sigma_z}\\right), & \\mathrm{True}\\end{pmatrix}$</td><td>$\\begin{pmatrix}\\frac{i}{2} \\left({\\mathcal{I}} + {\\sigma_z}\\right), & \\mathrm{True}\\end{pmatrix}$</td></tr><tr><td>${\\sigma_z}$</td><td>$\\begin{pmatrix}- i {\\sigma_y}, & \\mathrm{True}\\end{pmatrix}$</td><td>$\\begin{pmatrix}i {\\sigma_x}, & \\mathrm{True}\\end{pmatrix}$</td><td>$\\begin{pmatrix}{\\mathcal{I}}, & \\mathrm{True}\\end{pmatrix}$</td><td>$\\begin{pmatrix}\\frac{1}{2} \\left({\\sigma_x} - i {\\sigma_y}\\right), & \\mathrm{True}\\end{pmatrix}$</td><td>$\\begin{pmatrix}\\frac{1}{2} \\left(- {\\sigma_x} - i {\\sigma_y}\\right), & \\mathrm{True}\\end{pmatrix}$</td></tr><tr><td>${\\sigma_-}$</td><td>$\\begin{pmatrix}\\frac{1}{2} \\left({\\mathcal{I}} + {\\sigma_z}\\right), & \\mathrm{True}\\end{pmatrix}$</td><td>$\\begin{pmatrix}- \\frac{i}{2} \\left({\\mathcal{I}} + {\\sigma_z}\\right), & \\mathrm{True}\\end{pmatrix}$</td><td>$\\begin{pmatrix}\\frac{1}{2} \\left(- {\\sigma_x} + i {\\sigma_y}\\right), & \\mathrm{True}\\end{pmatrix}$</td><td>$\\begin{pmatrix}0, & \\mathrm{False}\\end{pmatrix}$</td><td>$\\begin{pmatrix}\\frac{1}{2} \\left({\\mathcal{I}} + {\\sigma_z}\\right), & \\mathrm{True}\\end{pmatrix}$</td></tr><tr><td>${\\sigma_+}$</td><td>$\\begin{pmatrix}\\frac{1}{2} \\left({\\mathcal{I}} - {\\sigma_z}\\right), & \\mathrm{True}\\end{pmatrix}$</td><td>$\\begin{pmatrix}\\frac{i}{2} \\left({\\mathcal{I}} - {\\sigma_z}\\right), & \\mathrm{True}\\end{pmatrix}$</td><td>$\\begin{pmatrix}\\frac{1}{2} \\left({\\sigma_x} + i {\\sigma_y}\\right), & \\mathrm{True}\\end{pmatrix}$</td><td>$\\begin{pmatrix}\\frac{1}{2} \\left({\\mathcal{I}} - {\\sigma_z}\\right), & \\mathrm{True}\\end{pmatrix}$</td><td>$\\begin{pmatrix}0, & \\mathrm{False}\\end{pmatrix}$</td></tr>\n",
        "</table>"
       ],
       "metadata": {},
       "output_type": "pyout",
       "prompt_number": 14,
       "text": [
        "<IPython.core.display.HTML object>"
       ]
      }
     ],
     "prompt_number": 14
    },
    {
     "cell_type": "heading",
     "level": 2,
     "metadata": {},
     "source": [
      "Powers"
     ]
    },
    {
     "cell_type": "code",
     "collapsed": false,
     "input": [
      "[sx ** n for n in range(10)]"
     ],
     "language": "python",
     "metadata": {},
     "outputs": [
      {
       "latex": [
        "$$\\begin{bmatrix}1, & {\\sigma_x}, & 1, & {\\sigma_x}, & 1, & {\\sigma_x}, & 1, & {\\sigma_x}, & 1, & {\\sigma_x}\\end{bmatrix}$$"
       ],
       "metadata": {},
       "output_type": "pyout",
       "png": "[encoded data removed]",
       "prompt_number": 15,
       "text": [
        "[1, O, 1, O, 1, O, 1, O, 1, O]"
       ]
      }
     ],
     "prompt_number": 15
    },
    {
     "cell_type": "code",
     "collapsed": false,
     "input": [
      "[sy ** n for n in range(10)]"
     ],
     "language": "python",
     "metadata": {},
     "outputs": [
      {
       "latex": [
        "$$\\begin{bmatrix}1, & {\\sigma_y}, & 1, & {\\sigma_y}, & 1, & {\\sigma_y}, & 1, & {\\sigma_y}, & 1, & {\\sigma_y}\\end{bmatrix}$$"
       ],
       "metadata": {},
       "output_type": "pyout",
       "png": "[encoded data removed]",
       "prompt_number": 16,
       "text": [
        "[1, O, 1, O, 1, O, 1, O, 1, O]"
       ]
      }
     ],
     "prompt_number": 16
    },
    {
     "cell_type": "code",
     "collapsed": false,
     "input": [
      "[sz ** n for n in range(10)]"
     ],
     "language": "python",
     "metadata": {},
     "outputs": [
      {
       "latex": [
        "$$\\begin{bmatrix}1, & {\\sigma_z}, & 1, & {\\sigma_z}, & 1, & {\\sigma_z}, & 1, & {\\sigma_z}, & 1, & {\\sigma_z}\\end{bmatrix}$$"
       ],
       "metadata": {},
       "output_type": "pyout",
       "png": "[encoded data removed]",
       "prompt_number": 17,
       "text": [
        "[1, O, 1, O, 1, O, 1, O, 1, O]"
       ]
      }
     ],
     "prompt_number": 17
    },
    {
     "cell_type": "code",
     "collapsed": false,
     "input": [
      "[sm ** n for n in range(10)]"
     ],
     "language": "python",
     "metadata": {},
     "outputs": [
      {
       "latex": [
        "$$\\begin{bmatrix}1, & {\\sigma_-}, & 0, & 0, & 0, & 0, & 0, & 0, & 0, & 0\\end{bmatrix}$$"
       ],
       "metadata": {},
       "output_type": "pyout",
       "png": "[encoded data removed]",
       "prompt_number": 18,
       "text": [
        "[1, O, 0, 0, 0, 0, 0, 0, 0, 0]"
       ]
      }
     ],
     "prompt_number": 18
    },
    {
     "cell_type": "code",
     "collapsed": false,
     "input": [
      "[sp ** n for n in range(10)]"
     ],
     "language": "python",
     "metadata": {},
     "outputs": [
      {
       "latex": [
        "$$\\begin{bmatrix}1, & {\\sigma_+}, & 0, & 0, & 0, & 0, & 0, & 0, & 0, & 0\\end{bmatrix}$$"
       ],
       "metadata": {},
       "output_type": "pyout",
       "png": "[encoded data removed]",
       "prompt_number": 19,
       "text": [
        "[1, O, 0, 0, 0, 0, 0, 0, 0, 0]"
       ]
      }
     ],
     "prompt_number": 19
    },
    {
     "cell_type": "heading",
     "level": 1,
     "metadata": {},
     "source": [
      "Applications"
     ]
    },
    {
     "cell_type": "heading",
     "level": 2,
     "metadata": {},
     "source": [
      "Baker\u2013Campbell\u2013Hausdorff formula"
     ]
    },
    {
     "cell_type": "code",
     "collapsed": false,
     "input": [
      "def recursive_commutator(a, b, n=1):\n",
      "    #print(\"recursive_commutator: [\" + str(a) + \", \" + str(b) + \"]^%d\" % n) \n",
      "    if n == 1:\n",
      "        return Commutator(a, b)\n",
      "    else:\n",
      "        return Commutator(a, recursive_commutator(a, b, n-1))"
     ],
     "language": "python",
     "metadata": {},
     "outputs": [],
     "prompt_number": 20
    },
    {
     "cell_type": "code",
     "collapsed": false,
     "input": [
      "def bch_expansion(A, B, N=10):\n",
      "    \"\"\"\n",
      "    Baker\u2013Campbell\u2013Hausdorff formula:\n",
      "    \n",
      "    e^{A} B e^{-A} = B + 1/(1!)[A, B] + 1/(2!)[A, [A, B]] + 1/(3!)[A, [A, [A, B]]] + ...\n",
      "                   = B + Sum_n^N 1/(n!)[A, B]^n\n",
      "                   \n",
      "    Truncate the sum at N terms.\n",
      "    \"\"\"\n",
      "    e = B\n",
      "    for n in range(1, N):\n",
      "        e += recursive_commutator(A, B, n=n) / factorial(n)\n",
      "    \n",
      "    return e"
     ],
     "language": "python",
     "metadata": {},
     "outputs": [],
     "prompt_number": 21
    },
    {
     "cell_type": "code",
     "collapsed": false,
     "input": [
      "rc = recursive_commutator(sy, sz, 5).doit().expand()\n",
      "\n",
      "rc"
     ],
     "language": "python",
     "metadata": {},
     "outputs": [
      {
       "latex": [
        "$$16 i {\\sigma_x} - 16 i {\\sigma_y} {\\sigma_x} {\\sigma_y}$$"
       ],
       "metadata": {},
       "output_type": "pyout",
       "png": "[encoded data removed]",
       "prompt_number": 22,
       "text": [
        "16\u22c5\u2148\u22c5O - 16\u22c5\u2148\u22c5O\u22c5O\u22c5O"
       ]
      }
     ],
     "prompt_number": 22
    },
    {
     "cell_type": "code",
     "collapsed": false,
     "input": [
      "simplify(rc)"
     ],
     "language": "python",
     "metadata": {},
     "outputs": [
      {
       "latex": [
        "$$32 i {\\sigma_x}$$"
       ],
       "metadata": {},
       "output_type": "pyout",
       "png": "[encoded data removed]",
       "prompt_number": 23,
       "text": [
        "32\u22c5\u2148\u22c5O"
       ]
      }
     ],
     "prompt_number": 23
    },
    {
     "cell_type": "heading",
     "level": 2,
     "metadata": {},
     "source": [
      "Test: $e^{i\\theta/2 \\sigma_y}\\sigma_xe^{-i\\theta/2 \\sigma_y} = \\cos(\\theta)\\sigma_x + \\sin(\\theta)\\sigma_z$"
     ]
    },
    {
     "cell_type": "code",
     "collapsed": false,
     "input": [
      "theta = symbols(\"theta\")\n",
      "n = 10"
     ],
     "language": "python",
     "metadata": {},
     "outputs": [],
     "prompt_number": 24
    },
    {
     "cell_type": "code",
     "collapsed": false,
     "input": [
      "e = simplify(bch_expansion((I * theta /2)* sy, sx, n).doit())\n",
      "\n",
      "collect(collect(e, SigmaX()), SigmaZ())"
     ],
     "language": "python",
     "metadata": {},
     "outputs": [
      {
       "latex": [
        "$$\\left(\\frac{\\theta^{8}}{40320} - \\frac{\\theta^{6}}{720} + \\frac{\\theta^{4}}{24} - \\frac{\\theta^{2}}{2} + 1\\right) {\\sigma_x} + \\left(\\frac{\\theta^{9}}{362880} - \\frac{\\theta^{7}}{5040} + \\frac{\\theta^{5}}{120} - \\frac{\\theta^{3}}{6} + \\theta\\right) {\\sigma_z}$$"
       ],
       "metadata": {},
       "output_type": "pyout",
       "png": "[encoded data removed]",
       "prompt_number": 25,
       "text": [
        "\u239b   8      6    4    2    \u239e     \u239b   9       7      5    3    \u239e  \n",
        "\u239c  \u03b8      \u03b8    \u03b8    \u03b8     \u239f     \u239c  \u03b8       \u03b8      \u03b8    \u03b8     \u239f  \n",
        "\u239c\u2500\u2500\u2500\u2500\u2500 - \u2500\u2500\u2500 + \u2500\u2500 - \u2500\u2500 + 1\u239f\u22c5O + \u239c\u2500\u2500\u2500\u2500\u2500\u2500 - \u2500\u2500\u2500\u2500 + \u2500\u2500\u2500 - \u2500\u2500 + \u03b8\u239f\u22c5O\n",
        "\u239d40320   720   24   2     \u23a0     \u239d362880   5040   120   6     \u23a0  "
       ]
      }
     ],
     "prompt_number": 25
    },
    {
     "cell_type": "code",
     "collapsed": false,
     "input": [
      "e_ref = cos(theta).series(n=n).removeO() * SigmaX() + sin(theta).series(n=n).removeO() * SigmaZ()\n",
      "\n",
      "e_ref"
     ],
     "language": "python",
     "metadata": {},
     "outputs": [
      {
       "latex": [
        "$$\\left(\\frac{\\theta^{8}}{40320} - \\frac{\\theta^{6}}{720} + \\frac{\\theta^{4}}{24} - \\frac{\\theta^{2}}{2} + 1\\right) {\\sigma_x} + \\left(\\frac{\\theta^{9}}{362880} - \\frac{\\theta^{7}}{5040} + \\frac{\\theta^{5}}{120} - \\frac{\\theta^{3}}{6} + \\theta\\right) {\\sigma_z}$$"
       ],
       "metadata": {},
       "output_type": "pyout",
       "png": "[encoded data removed]",
       "prompt_number": 26,
       "text": [
        "\u239b   8      6    4    2    \u239e     \u239b   9       7      5    3    \u239e  \n",
        "\u239c  \u03b8      \u03b8    \u03b8    \u03b8     \u239f     \u239c  \u03b8       \u03b8      \u03b8    \u03b8     \u239f  \n",
        "\u239c\u2500\u2500\u2500\u2500\u2500 - \u2500\u2500\u2500 + \u2500\u2500 - \u2500\u2500 + 1\u239f\u22c5O + \u239c\u2500\u2500\u2500\u2500\u2500\u2500 - \u2500\u2500\u2500\u2500 + \u2500\u2500\u2500 - \u2500\u2500 + \u03b8\u239f\u22c5O\n",
        "\u239d40320   720   24   2     \u23a0     \u239d362880   5040   120   6     \u23a0  "
       ]
      }
     ],
     "prompt_number": 26
    },
    {
     "cell_type": "code",
     "collapsed": false,
     "input": [
      "represent(e) == represent(e_ref)"
     ],
     "language": "python",
     "metadata": {},
     "outputs": [
      {
       "metadata": {},
       "output_type": "pyout",
       "prompt_number": 27,
       "text": [
        "True"
       ]
      }
     ],
     "prompt_number": 27
    },
    {
     "cell_type": "heading",
     "level": 2,
     "metadata": {},
     "source": [
      "Test: $e^{i\\theta/2 \\sigma_y}\\sigma_ze^{-i\\theta/2 \\sigma_y} = \\cos(\\theta)\\sigma_z - \\sin(\\theta)\\sigma_x$"
     ]
    },
    {
     "cell_type": "code",
     "collapsed": false,
     "input": [
      "e = simplify(bch_expansion((I * theta /2)* sy, sz, n).doit())\n",
      "\n",
      "e = collect(collect(e, SigmaX()), SigmaZ())\n",
      "\n",
      "e"
     ],
     "language": "python",
     "metadata": {},
     "outputs": [
      {
       "latex": [
        "$$\\left(\\frac{\\theta^{8}}{40320} - \\frac{\\theta^{6}}{720} + \\frac{\\theta^{4}}{24} - \\frac{\\theta^{2}}{2} + 1\\right) {\\sigma_z} + \\left(- \\frac{\\theta^{9}}{362880} + \\frac{\\theta^{7}}{5040} - \\frac{\\theta^{5}}{120} + \\frac{\\theta^{3}}{6} - \\theta\\right) {\\sigma_x}$$"
       ],
       "metadata": {},
       "output_type": "pyout",
       "png": "[encoded data removed]",
       "prompt_number": 28,
       "text": [
        "\u239b   8      6    4    2    \u239e     \u239b     9       7      5    3    \u239e  \n",
        "\u239c  \u03b8      \u03b8    \u03b8    \u03b8     \u239f     \u239c    \u03b8       \u03b8      \u03b8    \u03b8     \u239f  \n",
        "\u239c\u2500\u2500\u2500\u2500\u2500 - \u2500\u2500\u2500 + \u2500\u2500 - \u2500\u2500 + 1\u239f\u22c5O + \u239c- \u2500\u2500\u2500\u2500\u2500\u2500 + \u2500\u2500\u2500\u2500 - \u2500\u2500\u2500 + \u2500\u2500 - \u03b8\u239f\u22c5O\n",
        "\u239d40320   720   24   2     \u23a0     \u239d  362880   5040   120   6     \u23a0  "
       ]
      }
     ],
     "prompt_number": 28
    },
    {
     "cell_type": "code",
     "collapsed": false,
     "input": [
      "e_ref = cos(theta).series(n=n).removeO() * SigmaZ() - sin(theta).series(n=n).removeO() * SigmaX()\n",
      "\n",
      "e_ref"
     ],
     "language": "python",
     "metadata": {},
     "outputs": [
      {
       "latex": [
        "$$\\left(\\frac{\\theta^{8}}{40320} - \\frac{\\theta^{6}}{720} + \\frac{\\theta^{4}}{24} - \\frac{\\theta^{2}}{2} + 1\\right) {\\sigma_z} - \\left(\\frac{\\theta^{9}}{362880} - \\frac{\\theta^{7}}{5040} + \\frac{\\theta^{5}}{120} - \\frac{\\theta^{3}}{6} + \\theta\\right) {\\sigma_x}$$"
       ],
       "metadata": {},
       "output_type": "pyout",
       "png": "[encoded data removed]",
       "prompt_number": 29,
       "text": [
        "\u239b   8      6    4    2    \u239e     \u239b   9       7      5    3    \u239e  \n",
        "\u239c  \u03b8      \u03b8    \u03b8    \u03b8     \u239f     \u239c  \u03b8       \u03b8      \u03b8    \u03b8     \u239f  \n",
        "\u239c\u2500\u2500\u2500\u2500\u2500 - \u2500\u2500\u2500 + \u2500\u2500 - \u2500\u2500 + 1\u239f\u22c5O - \u239c\u2500\u2500\u2500\u2500\u2500\u2500 - \u2500\u2500\u2500\u2500 + \u2500\u2500\u2500 - \u2500\u2500 + \u03b8\u239f\u22c5O\n",
        "\u239d40320   720   24   2     \u23a0     \u239d362880   5040   120   6     \u23a0  "
       ]
      }
     ],
     "prompt_number": 29
    },
    {
     "cell_type": "code",
     "collapsed": false,
     "input": [
      "represent(e) == represent(e_ref)"
     ],
     "language": "python",
     "metadata": {},
     "outputs": [
      {
       "metadata": {},
       "output_type": "pyout",
       "prompt_number": 30,
       "text": [
        "True"
       ]
      }
     ],
     "prompt_number": 30
    },
    {
     "cell_type": "heading",
     "level": 2,
     "metadata": {},
     "source": [
      "Calculate $e^{i\\theta/2 \\sigma_y}\\sigma_-e^{-i\\theta/2 \\sigma_y}$"
     ]
    },
    {
     "cell_type": "code",
     "collapsed": false,
     "input": [
      "e = simplify(bch_expansion((I * theta /2)* sy, sm, n).doit())"
     ],
     "language": "python",
     "metadata": {},
     "outputs": [],
     "prompt_number": 31
    },
    {
     "cell_type": "code",
     "collapsed": false,
     "input": [
      "e = collect(collect(e, SigmaX()), SigmaZ())\n",
      "\n",
      "e"
     ],
     "language": "python",
     "metadata": {},
     "outputs": [
      {
       "latex": [
        "$$\\left(\\frac{\\theta^{8}}{80640} - \\frac{\\theta^{6}}{1440} + \\frac{\\theta^{4}}{48} - \\frac{\\theta^{2}}{4}\\right) {\\sigma_x} + \\left(\\frac{\\theta^{9}}{725760} - \\frac{\\theta^{7}}{10080} + \\frac{\\theta^{5}}{240} - \\frac{\\theta^{3}}{12} + \\frac{\\theta}{2}\\right) {\\sigma_z} + {\\sigma_-}$$"
       ],
       "metadata": {},
       "output_type": "pyout",
       "png": "[encoded data removed]",
       "prompt_number": 32,
       "text": [
        "\u239b   8      6     4    2\u239e     \u239b   9        7      5    3    \u239e      \n",
        "\u239c  \u03b8      \u03b8     \u03b8    \u03b8 \u239f     \u239c  \u03b8        \u03b8      \u03b8    \u03b8    \u03b8\u239f      \n",
        "\u239c\u2500\u2500\u2500\u2500\u2500 - \u2500\u2500\u2500\u2500 + \u2500\u2500 - \u2500\u2500\u239f\u22c5O + \u239c\u2500\u2500\u2500\u2500\u2500\u2500 - \u2500\u2500\u2500\u2500\u2500 + \u2500\u2500\u2500 - \u2500\u2500 + \u2500\u239f\u22c5O + O\n",
        "\u239d80640   1440   48   4 \u23a0     \u239d725760   10080   240   12   2\u23a0      "
       ]
      }
     ],
     "prompt_number": 32
    },
    {
     "cell_type": "code",
     "collapsed": false,
     "input": [
      "e = e.subs(sm, (SigmaX()/2 - I/2 * SigmaY()))\n",
      "\n",
      "e = collect(collect(e, SigmaX()), SigmaZ())\n",
      "\n",
      "e"
     ],
     "language": "python",
     "metadata": {},
     "outputs": [
      {
       "latex": [
        "$$\\left(\\frac{\\theta^{8}}{80640} - \\frac{\\theta^{6}}{1440} + \\frac{\\theta^{4}}{48} - \\frac{\\theta^{2}}{4} + \\frac{1}{2}\\right) {\\sigma_x} + \\left(\\frac{\\theta^{9}}{725760} - \\frac{\\theta^{7}}{10080} + \\frac{\\theta^{5}}{240} - \\frac{\\theta^{3}}{12} + \\frac{\\theta}{2}\\right) {\\sigma_z} - \\frac{i {\\sigma_y}}{2}$$"
       ],
       "metadata": {},
       "output_type": "pyout",
       "png": "[encoded data removed]",
       "prompt_number": 33,
       "text": [
        "\u239b   8      6     4    2    \u239e     \u239b   9        7      5    3    \u239e        \n",
        "\u239c  \u03b8      \u03b8     \u03b8    \u03b8    1\u239f     \u239c  \u03b8        \u03b8      \u03b8    \u03b8    \u03b8\u239f     \u2148\u22c5O\n",
        "\u239c\u2500\u2500\u2500\u2500\u2500 - \u2500\u2500\u2500\u2500 + \u2500\u2500 - \u2500\u2500 + \u2500\u239f\u22c5O + \u239c\u2500\u2500\u2500\u2500\u2500\u2500 - \u2500\u2500\u2500\u2500\u2500 + \u2500\u2500\u2500 - \u2500\u2500 + \u2500\u239f\u22c5O - \u2500\u2500\u2500\n",
        "\u239d80640   1440   48   4    2\u23a0     \u239d725760   10080   240   12   2\u23a0      2 "
       ]
      }
     ],
     "prompt_number": 33
    },
    {
     "cell_type": "code",
     "collapsed": false,
     "input": [
      "e_ref = (cos(theta).series(n=n).removeO()/2) * SigmaX() + (sin(theta).series(n=n).removeO()/2) * SigmaZ() - I/2 * SigmaY()\n",
      "\n",
      "e_ref"
     ],
     "language": "python",
     "metadata": {},
     "outputs": [
      {
       "latex": [
        "$$\\left(\\frac{\\theta^{8}}{80640} - \\frac{\\theta^{6}}{1440} + \\frac{\\theta^{4}}{48} - \\frac{\\theta^{2}}{4} + \\frac{1}{2}\\right) {\\sigma_x} + \\left(\\frac{\\theta^{9}}{725760} - \\frac{\\theta^{7}}{10080} + \\frac{\\theta^{5}}{240} - \\frac{\\theta^{3}}{12} + \\frac{\\theta}{2}\\right) {\\sigma_z} - \\frac{i {\\sigma_y}}{2}$$"
       ],
       "metadata": {},
       "output_type": "pyout",
       "png": "[encoded data removed]",
       "prompt_number": 34,
       "text": [
        "\u239b   8      6     4    2    \u239e     \u239b   9        7      5    3    \u239e        \n",
        "\u239c  \u03b8      \u03b8     \u03b8    \u03b8    1\u239f     \u239c  \u03b8        \u03b8      \u03b8    \u03b8    \u03b8\u239f     \u2148\u22c5O\n",
        "\u239c\u2500\u2500\u2500\u2500\u2500 - \u2500\u2500\u2500\u2500 + \u2500\u2500 - \u2500\u2500 + \u2500\u239f\u22c5O + \u239c\u2500\u2500\u2500\u2500\u2500\u2500 - \u2500\u2500\u2500\u2500\u2500 + \u2500\u2500\u2500 - \u2500\u2500 + \u2500\u239f\u22c5O - \u2500\u2500\u2500\n",
        "\u239d80640   1440   48   4    2\u23a0     \u239d725760   10080   240   12   2\u23a0      2 "
       ]
      }
     ],
     "prompt_number": 34
    },
    {
     "cell_type": "code",
     "collapsed": false,
     "input": [
      "represent(e) == represent(e_ref)"
     ],
     "language": "python",
     "metadata": {},
     "outputs": [
      {
       "metadata": {},
       "output_type": "pyout",
       "prompt_number": 35,
       "text": [
        "True"
       ]
      }
     ],
     "prompt_number": 35
    },
    {
     "cell_type": "heading",
     "level": 2,
     "metadata": {},
     "source": [
      "Calculate $e^{i\\theta/2 \\sigma_y}\\sigma_+e^{-i\\theta/2 \\sigma_y}$"
     ]
    },
    {
     "cell_type": "code",
     "collapsed": false,
     "input": [
      "e = simplify(bch_expansion((I * theta /2)* sy, sp, n).doit())"
     ],
     "language": "python",
     "metadata": {},
     "outputs": [],
     "prompt_number": 36
    },
    {
     "cell_type": "code",
     "collapsed": false,
     "input": [
      "e = collect(collect(e, SigmaX()), SigmaZ())\n",
      "\n",
      "e"
     ],
     "language": "python",
     "metadata": {},
     "outputs": [
      {
       "latex": [
        "$$\\left(\\frac{\\theta^{8}}{80640} - \\frac{\\theta^{6}}{1440} + \\frac{\\theta^{4}}{48} - \\frac{\\theta^{2}}{4}\\right) {\\sigma_x} + \\left(\\frac{\\theta^{9}}{725760} - \\frac{\\theta^{7}}{10080} + \\frac{\\theta^{5}}{240} - \\frac{\\theta^{3}}{12} + \\frac{\\theta}{2}\\right) {\\sigma_z} + {\\sigma_+}$$"
       ],
       "metadata": {},
       "output_type": "pyout",
       "png": "[encoded data removed]",
       "prompt_number": 37,
       "text": [
        "\u239b   8      6     4    2\u239e     \u239b   9        7      5    3    \u239e      \n",
        "\u239c  \u03b8      \u03b8     \u03b8    \u03b8 \u239f     \u239c  \u03b8        \u03b8      \u03b8    \u03b8    \u03b8\u239f      \n",
        "\u239c\u2500\u2500\u2500\u2500\u2500 - \u2500\u2500\u2500\u2500 + \u2500\u2500 - \u2500\u2500\u239f\u22c5O + \u239c\u2500\u2500\u2500\u2500\u2500\u2500 - \u2500\u2500\u2500\u2500\u2500 + \u2500\u2500\u2500 - \u2500\u2500 + \u2500\u239f\u22c5O + O\n",
        "\u239d80640   1440   48   4 \u23a0     \u239d725760   10080   240   12   2\u23a0      "
       ]
      }
     ],
     "prompt_number": 37
    },
    {
     "cell_type": "code",
     "collapsed": false,
     "input": [
      "e = e.subs(sp, (SigmaX()/2 + I/2 * SigmaY()))\n",
      "\n",
      "e = collect(collect(e, SigmaX()), SigmaZ())\n",
      "\n",
      "e"
     ],
     "language": "python",
     "metadata": {},
     "outputs": [
      {
       "latex": [
        "$$\\left(\\frac{\\theta^{8}}{80640} - \\frac{\\theta^{6}}{1440} + \\frac{\\theta^{4}}{48} - \\frac{\\theta^{2}}{4} + \\frac{1}{2}\\right) {\\sigma_x} + \\left(\\frac{\\theta^{9}}{725760} - \\frac{\\theta^{7}}{10080} + \\frac{\\theta^{5}}{240} - \\frac{\\theta^{3}}{12} + \\frac{\\theta}{2}\\right) {\\sigma_z} + \\frac{i {\\sigma_y}}{2}$$"
       ],
       "metadata": {},
       "output_type": "pyout",
       "png": "[encoded data removed]",
       "prompt_number": 38,
       "text": [
        "\u239b   8      6     4    2    \u239e     \u239b   9        7      5    3    \u239e        \n",
        "\u239c  \u03b8      \u03b8     \u03b8    \u03b8    1\u239f     \u239c  \u03b8        \u03b8      \u03b8    \u03b8    \u03b8\u239f     \u2148\u22c5O\n",
        "\u239c\u2500\u2500\u2500\u2500\u2500 - \u2500\u2500\u2500\u2500 + \u2500\u2500 - \u2500\u2500 + \u2500\u239f\u22c5O + \u239c\u2500\u2500\u2500\u2500\u2500\u2500 - \u2500\u2500\u2500\u2500\u2500 + \u2500\u2500\u2500 - \u2500\u2500 + \u2500\u239f\u22c5O + \u2500\u2500\u2500\n",
        "\u239d80640   1440   48   4    2\u23a0     \u239d725760   10080   240   12   2\u23a0      2 "
       ]
      }
     ],
     "prompt_number": 38
    },
    {
     "cell_type": "code",
     "collapsed": false,
     "input": [
      "e_ref = (cos(theta).series(n=n).removeO()/2) * SigmaX() + (sin(theta).series(n=n).removeO()/2) * SigmaZ() + I/2 * SigmaY()\n",
      "\n",
      "e_ref"
     ],
     "language": "python",
     "metadata": {},
     "outputs": [
      {
       "latex": [
        "$$\\left(\\frac{\\theta^{8}}{80640} - \\frac{\\theta^{6}}{1440} + \\frac{\\theta^{4}}{48} - \\frac{\\theta^{2}}{4} + \\frac{1}{2}\\right) {\\sigma_x} + \\left(\\frac{\\theta^{9}}{725760} - \\frac{\\theta^{7}}{10080} + \\frac{\\theta^{5}}{240} - \\frac{\\theta^{3}}{12} + \\frac{\\theta}{2}\\right) {\\sigma_z} + \\frac{i {\\sigma_y}}{2}$$"
       ],
       "metadata": {},
       "output_type": "pyout",
       "png": "[encoded data removed]",
       "prompt_number": 39,
       "text": [
        "\u239b   8      6     4    2    \u239e     \u239b   9        7      5    3    \u239e        \n",
        "\u239c  \u03b8      \u03b8     \u03b8    \u03b8    1\u239f     \u239c  \u03b8        \u03b8      \u03b8    \u03b8    \u03b8\u239f     \u2148\u22c5O\n",
        "\u239c\u2500\u2500\u2500\u2500\u2500 - \u2500\u2500\u2500\u2500 + \u2500\u2500 - \u2500\u2500 + \u2500\u239f\u22c5O + \u239c\u2500\u2500\u2500\u2500\u2500\u2500 - \u2500\u2500\u2500\u2500\u2500 + \u2500\u2500\u2500 - \u2500\u2500 + \u2500\u239f\u22c5O + \u2500\u2500\u2500\n",
        "\u239d80640   1440   48   4    2\u23a0     \u239d725760   10080   240   12   2\u23a0      2 "
       ]
      }
     ],
     "prompt_number": 39
    },
    {
     "cell_type": "code",
     "collapsed": false,
     "input": [
      "represent(e) == represent(e_ref)"
     ],
     "language": "python",
     "metadata": {},
     "outputs": [
      {
       "metadata": {},
       "output_type": "pyout",
       "prompt_number": 40,
       "text": [
        "True"
       ]
      }
     ],
     "prompt_number": 40
    },
    {
     "cell_type": "heading",
     "level": 2,
     "metadata": {},
     "source": [
      "Versions"
     ]
    },
    {
     "cell_type": "code",
     "collapsed": false,
     "input": [
      "%reload_ext version_information\n",
      "\n",
      "%version_information sympy"
     ],
     "language": "python",
     "metadata": {},
     "outputs": [
      {
       "html": [
        "<table><tr><th>Software</th><th>Version</th></tr><tr><td>Python</td><td>3.4.0 (default, Apr 11 2014, 13:05:11) [GCC 4.8.2]</td></tr><tr><td>IPython</td><td>3.0.0-dev</td></tr><tr><td>OS</td><td>posix [linux]</td></tr><tr><td>sympy</td><td>0.7.4.1-git</td></tr><tr><td colspan='2'>Tue Jun 03 16:40:55 2014 JST</td></tr></table>"
       ],
       "json": [
        "{\"Software versions\": [{\"module\": \"Python\", \"version\": \"3.4.0 (default, Apr 11 2014, 13:05:11) [GCC 4.8.2]\"}, {\"module\": \"IPython\", \"version\": \"3.0.0-dev\"}, {\"module\": \"OS\", \"version\": \"posix [linux]\"}, {\"module\": \"sympy\", \"version\": \"0.7.4.1-git\"}]}"
       ],
       "latex": [
        "\\begin{tabular}{|l|l|}\\hline\n",
        "{\\bf Software} & {\\bf Version} \\\\ \\hline\\hline\n",
        "Python & 3.4.0 (default, Apr 11 2014, 13:05:11) [GCC 4.8.2] \\\\ \\hline\n",
        "IPython & 3.0.0-dev \\\\ \\hline\n",
        "OS & posix [linux] \\\\ \\hline\n",
        "sympy & 0.7.4.1-git \\\\ \\hline\n",
        "\\hline \\multicolumn{2}{|l|}{Tue Jun 03 16:40:55 2014 JST} \\\\ \\hline\n",
        "\\end{tabular}\n"
       ],
       "metadata": {},
       "output_type": "pyout",
       "prompt_number": 41,
       "text": [
        "Software versions\n",
        "Python 3.4.0 (default, Apr 11 2014, 13:05:11) [GCC 4.8.2]\n",
        "IPython 3.0.0-dev\n",
        "OS posix [linux]\n",
        "sympy 0.7.4.1-git\n",
        "\n",
        "Tue Jun 03 16:40:55 2014 JST"
       ]
      }
     ],
     "prompt_number": 41
    }
   ],
   "metadata": {}
  }
 ]
}