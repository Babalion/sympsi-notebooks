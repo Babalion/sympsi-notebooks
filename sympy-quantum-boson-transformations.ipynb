{
 "metadata": {
  "name": "",
  "signature": "sha256:e615eed1e354f89046af2961bac7c3b77babb5dfd7698e33d745b24c635b4da6"
 },
 "nbformat": 3,
 "nbformat_minor": 0,
 "worksheets": [
  {
   "cells": [
    {
     "cell_type": "heading",
     "level": 1,
     "metadata": {},
     "source": [
      "Unitary transformations of boson operators"
     ]
    },
    {
     "cell_type": "code",
     "collapsed": false,
     "input": [
      "from sympy import *\n",
      "init_printing()\n",
      "\n",
      "from sympy.physics.quantum import *\n",
      "from sympy.physics.quantum.boson import *\n",
      "from sympy.physics.quantum.fermion import *\n",
      "from sympy.physics.quantum.operatorordering import *"
     ],
     "language": "python",
     "metadata": {},
     "outputs": [],
     "prompt_number": 1
    },
    {
     "cell_type": "code",
     "collapsed": false,
     "input": [
      "from sympy_quantum_utils import *"
     ],
     "language": "python",
     "metadata": {},
     "outputs": [],
     "prompt_number": 2
    },
    {
     "cell_type": "code",
     "collapsed": false,
     "input": [
      "omega_0, t, alpha = symbols(\"omega_0, t, alpha\")\n",
      "n = 8"
     ],
     "language": "python",
     "metadata": {},
     "outputs": [],
     "prompt_number": 3
    },
    {
     "cell_type": "code",
     "collapsed": false,
     "input": [
      "a = BosonOp(\"a\")"
     ],
     "language": "python",
     "metadata": {},
     "outputs": [],
     "prompt_number": 4
    },
    {
     "cell_type": "heading",
     "level": 2,
     "metadata": {},
     "source": [
      "Transformations with $U = \\exp(i \\omega_0 a^\\dagger a t)$"
     ]
    },
    {
     "cell_type": "code",
     "collapsed": false,
     "input": [
      "A = I * omega_0 * Dagger(a) * a * t\n",
      "U = exp(A)\n",
      "\n",
      "U"
     ],
     "language": "python",
     "metadata": {},
     "outputs": [
      {
       "latex": [
        "$$e^{i \\omega_{0} t {{a}^\\dagger} {a}}$$"
       ],
       "metadata": {},
       "output_type": "pyout",
       "png": "[encoded data removed]",
       "prompt_number": 5,
       "text": [
        "         \u2020  \n",
        " \u2148\u22c5\u03c9\u2080\u22c5t\u22c5a \u22c5a\n",
        "\u212f           "
       ]
      }
     ],
     "prompt_number": 5
    },
    {
     "cell_type": "heading",
     "level": 3,
     "metadata": {},
     "source": [
      "$U a^\\dagger a U^\\dagger = e^{i \\omega_0 a^\\dagger a t} a^\\dagger a e^{-i \\omega_0 a^\\dagger a t} = a^\\dagger a$"
     ]
    },
    {
     "cell_type": "code",
     "collapsed": false,
     "input": [
      "e = bch_expansion(A, Dagger(a) * a, n).doit()\n",
      "\n",
      "normal_ordered_form(e)"
     ],
     "language": "python",
     "metadata": {},
     "outputs": [
      {
       "latex": [
        "$${{a}^\\dagger} {a}$$"
       ],
       "metadata": {},
       "output_type": "pyout",
       "png": "[encoded data removed]",
       "prompt_number": 6,
       "text": [
        " \u2020  \n",
        "a \u22c5a"
       ]
      }
     ],
     "prompt_number": 6
    },
    {
     "cell_type": "code",
     "collapsed": false,
     "input": [
      "unitary_transformation_auto(U, Dagger(a) * a)"
     ],
     "language": "python",
     "metadata": {},
     "outputs": [
      {
       "latex": [
        "$${{a}^\\dagger} {a}$$"
       ],
       "metadata": {},
       "output_type": "pyout",
       "png": "[encoded data removed]",
       "prompt_number": 7,
       "text": [
        " \u2020  \n",
        "a \u22c5a"
       ]
      }
     ],
     "prompt_number": 7
    },
    {
     "cell_type": "heading",
     "level": 3,
     "metadata": {},
     "source": [
      "$U a U^\\dagger = a e^{-i\\omega_0t}$"
     ]
    },
    {
     "cell_type": "code",
     "collapsed": false,
     "input": [
      "unitary_transformation_auto(U, a)"
     ],
     "language": "python",
     "metadata": {},
     "outputs": [
      {
       "latex": [
        "$$e^{- i \\omega_{0} t} {a}$$"
       ],
       "metadata": {},
       "output_type": "pyout",
       "png": "[encoded data removed]",
       "prompt_number": 8,
       "text": [
        " -\u2148\u22c5\u03c9\u2080\u22c5t  \n",
        "\u212f       \u22c5a"
       ]
      }
     ],
     "prompt_number": 8
    },
    {
     "cell_type": "code",
     "collapsed": false,
     "input": [
      "e = bch_expansion(A, a, n).doit()\n",
      "\n",
      "e = normal_ordered_form(expand(e))\n",
      "\n",
      "e = collect(e, a)\n",
      "\n",
      "e"
     ],
     "language": "python",
     "metadata": {},
     "outputs": [
      {
       "latex": [
        "$$\\left(\\frac{i \\omega_{0}^{7}}{5040} t^{7} - \\frac{\\omega_{0}^{6} t^{6}}{720} - \\frac{i \\omega_{0}^{5}}{120} t^{5} + \\frac{\\omega_{0}^{4} t^{4}}{24} + \\frac{i \\omega_{0}^{3}}{6} t^{3} - \\frac{\\omega_{0}^{2} t^{2}}{2} - i \\omega_{0} t + 1\\right) {a}$$"
       ],
       "metadata": {},
       "output_type": "pyout",
       "png": "[encoded data removed]",
       "prompt_number": 9,
       "text": [
        "\u239b    7  7     6  6       5  5     4  4       3  3     2  2             \u239e  \n",
        "\u239c\u2148\u22c5\u03c9\u2080 \u22c5t    \u03c9\u2080 \u22c5t    \u2148\u22c5\u03c9\u2080 \u22c5t    \u03c9\u2080 \u22c5t    \u2148\u22c5\u03c9\u2080 \u22c5t    \u03c9\u2080 \u22c5t              \u239f  \n",
        "\u239c\u2500\u2500\u2500\u2500\u2500\u2500\u2500\u2500 - \u2500\u2500\u2500\u2500\u2500\u2500 - \u2500\u2500\u2500\u2500\u2500\u2500\u2500\u2500 + \u2500\u2500\u2500\u2500\u2500\u2500 + \u2500\u2500\u2500\u2500\u2500\u2500\u2500\u2500 - \u2500\u2500\u2500\u2500\u2500\u2500 - \u2148\u22c5\u03c9\u2080\u22c5t + 1\u239f\u22c5a\n",
        "\u239d  5040      720       120        24        6         2                \u23a0  "
       ]
      }
     ],
     "prompt_number": 9
    },
    {
     "cell_type": "code",
     "collapsed": false,
     "input": [
      "e == (exp(-I * omega_0 * t).series(t, 0, n=n).removeO()) * a"
     ],
     "language": "python",
     "metadata": {},
     "outputs": [
      {
       "metadata": {},
       "output_type": "pyout",
       "prompt_number": 10,
       "text": [
        "True"
       ]
      }
     ],
     "prompt_number": 10
    },
    {
     "cell_type": "heading",
     "level": 3,
     "metadata": {},
     "source": [
      "$U a^\\dagger U^\\dagger = a^\\dagger e^{i\\omega_0t}$"
     ]
    },
    {
     "cell_type": "code",
     "collapsed": false,
     "input": [
      "unitary_transformation_auto(U, Dagger(a))"
     ],
     "language": "python",
     "metadata": {},
     "outputs": [
      {
       "latex": [
        "$$e^{i \\omega_{0} t} {{a}^\\dagger}$$"
       ],
       "metadata": {},
       "output_type": "pyout",
       "png": "[encoded data removed]",
       "prompt_number": 11,
       "text": [
        " \u2148\u22c5\u03c9\u2080\u22c5t  \u2020\n",
        "\u212f      \u22c5a "
       ]
      }
     ],
     "prompt_number": 11
    },
    {
     "cell_type": "code",
     "collapsed": false,
     "input": [
      "e = bch_expansion(A, Dagger(a), n).doit()\n",
      "\n",
      "e = normal_ordered_form(expand(e))\n",
      "\n",
      "e = collect(e, Dagger(a))\n",
      "\n",
      "e"
     ],
     "language": "python",
     "metadata": {},
     "outputs": [
      {
       "latex": [
        "$$\\left(- \\frac{i \\omega_{0}^{7}}{5040} t^{7} - \\frac{\\omega_{0}^{6} t^{6}}{720} + \\frac{i \\omega_{0}^{5}}{120} t^{5} + \\frac{\\omega_{0}^{4} t^{4}}{24} - \\frac{i \\omega_{0}^{3}}{6} t^{3} - \\frac{\\omega_{0}^{2} t^{2}}{2} + i \\omega_{0} t + 1\\right) {{a}^\\dagger}$$"
       ],
       "metadata": {},
       "output_type": "pyout",
       "png": "[encoded data removed]",
       "prompt_number": 12,
       "text": [
        "\u239b      7  7     6  6       5  5     4  4       3  3     2  2             \u239e   \n",
        "\u239c  \u2148\u22c5\u03c9\u2080 \u22c5t    \u03c9\u2080 \u22c5t    \u2148\u22c5\u03c9\u2080 \u22c5t    \u03c9\u2080 \u22c5t    \u2148\u22c5\u03c9\u2080 \u22c5t    \u03c9\u2080 \u22c5t              \u239f  \u2020\n",
        "\u239c- \u2500\u2500\u2500\u2500\u2500\u2500\u2500\u2500 - \u2500\u2500\u2500\u2500\u2500\u2500 + \u2500\u2500\u2500\u2500\u2500\u2500\u2500\u2500 + \u2500\u2500\u2500\u2500\u2500\u2500 - \u2500\u2500\u2500\u2500\u2500\u2500\u2500\u2500 - \u2500\u2500\u2500\u2500\u2500\u2500 + \u2148\u22c5\u03c9\u2080\u22c5t + 1\u239f\u22c5a \n",
        "\u239d    5040      720       120        24        6         2                \u23a0   "
       ]
      }
     ],
     "prompt_number": 12
    },
    {
     "cell_type": "code",
     "collapsed": false,
     "input": [
      "e == (exp(I * omega_0 * t).series(t, 0, n=n).removeO()) * Dagger(a)"
     ],
     "language": "python",
     "metadata": {},
     "outputs": [
      {
       "metadata": {},
       "output_type": "pyout",
       "prompt_number": 13,
       "text": [
        "True"
       ]
      }
     ],
     "prompt_number": 13
    },
    {
     "cell_type": "heading",
     "level": 2,
     "metadata": {},
     "source": [
      "Transformations with $U = D(\\alpha) = e^{\\alpha a^\\dagger - \\alpha^* a}$:"
     ]
    },
    {
     "cell_type": "code",
     "collapsed": false,
     "input": [
      "H = Dagger(a) * alpha - conjugate(alpha) * a\n",
      "U = exp(H)\n",
      "\n",
      "U"
     ],
     "language": "python",
     "metadata": {},
     "outputs": [
      {
       "latex": [
        "$$e^{\\alpha {{a}^\\dagger} - \\overline{\\alpha} {a}}$$"
       ],
       "metadata": {},
       "output_type": "pyout",
       "png": "[encoded data removed]",
       "prompt_number": 14,
       "text": [
        "    \u2020   _  \n",
        " \u03b1\u22c5a  - \u03b1\u22c5a\n",
        "\u212f          "
       ]
      }
     ],
     "prompt_number": 14
    },
    {
     "cell_type": "heading",
     "level": 3,
     "metadata": {},
     "source": [
      "$U a U^\\dagger = a - \\alpha$"
     ]
    },
    {
     "cell_type": "code",
     "collapsed": false,
     "input": [
      "unitary_transformation_auto(U, a)"
     ],
     "language": "python",
     "metadata": {},
     "outputs": [
      {
       "latex": [
        "$$- \\alpha + {a}$$"
       ],
       "metadata": {},
       "output_type": "pyout",
       "png": "[encoded data removed]",
       "prompt_number": 15,
       "text": [
        "-\u03b1 + a"
       ]
      }
     ],
     "prompt_number": 15
    },
    {
     "cell_type": "heading",
     "level": 3,
     "metadata": {},
     "source": [
      "$U a^\\dagger U^\\dagger = a^\\dagger - \\alpha^*$"
     ]
    },
    {
     "cell_type": "code",
     "collapsed": false,
     "input": [
      "unitary_transformation_auto(U, Dagger(a))"
     ],
     "language": "python",
     "metadata": {},
     "outputs": [
      {
       "latex": [
        "$$- \\overline{\\alpha} + {{a}^\\dagger}$$"
       ],
       "metadata": {},
       "output_type": "pyout",
       "png": "[encoded data removed]",
       "prompt_number": 16,
       "text": [
        "  _    \u2020\n",
        "- \u03b1 + a "
       ]
      }
     ],
     "prompt_number": 16
    },
    {
     "cell_type": "heading",
     "level": 3,
     "metadata": {},
     "source": [
      "$U a^\\dagger a U^\\dagger = a^\\dagger a - \\alpha a^\\dagger - \\alpha^* a + |\\alpha|^2$"
     ]
    },
    {
     "cell_type": "code",
     "collapsed": false,
     "input": [
      "unitary_transformation_auto(U, Dagger(a) * a)"
     ],
     "language": "python",
     "metadata": {},
     "outputs": [
      {
       "latex": [
        "$$\\alpha \\overline{\\alpha} - \\alpha {{a}^\\dagger} - \\overline{\\alpha} {a} + {{a}^\\dagger} {a}$$"
       ],
       "metadata": {},
       "output_type": "pyout",
       "png": "[encoded data removed]",
       "prompt_number": 17,
       "text": [
        "  _      \u2020   _      \u2020  \n",
        "\u03b1\u22c5\u03b1 - \u03b1\u22c5a  - \u03b1\u22c5a + a \u22c5a"
       ]
      }
     ],
     "prompt_number": 17
    },
    {
     "cell_type": "heading",
     "level": 2,
     "metadata": {},
     "source": [
      "Optomechanical system"
     ]
    },
    {
     "cell_type": "markdown",
     "metadata": {},
     "source": [
      "Consider the standard Hamiltonian for an optomechanical syste, including a classical driving signal on the optical mode:\n",
      "\n",
      "$$\n",
      "H = \\hbar\\omega_a a^\\dagger a + \\hbar \\omega_b b^\\dagger b + \\hbar g a^\\dagger a (b + b^\\dagger) + (A e^{-i\\omega_d t} + A^* e^{i\\omega_d t})(a + a^\\dagger)\n",
      "$$\n",
      "\n"
     ]
    },
    {
     "cell_type": "code",
     "collapsed": false,
     "input": [
      "n = 6\n",
      "omega_a, omega_b, omega_d, g, A, Delta = symbols(\"omega_a, omega_b, omega_d, g, A, Delta\", positive=True)\n",
      "Hsym = symbols(\"H\")"
     ],
     "language": "python",
     "metadata": {},
     "outputs": [],
     "prompt_number": 18
    },
    {
     "cell_type": "code",
     "collapsed": false,
     "input": [
      "a, b = BosonOp(\"a\"), BosonOp(\"b\")"
     ],
     "language": "python",
     "metadata": {},
     "outputs": [],
     "prompt_number": 19
    },
    {
     "cell_type": "code",
     "collapsed": false,
     "input": [
      "H = omega_a * Dagger(a) * a + omega_b * Dagger(b) * b + g * Dagger(a) * a * (b + Dagger(b)) \\\n",
      "    + (A * exp(-I * omega_d * t) + conjugate(A) * exp(I * omega_d * t)) * (a + Dagger(a))\n",
      "\n",
      "Eq(Hsym, H)"
     ],
     "language": "python",
     "metadata": {},
     "outputs": [
      {
       "latex": [
        "$$H = g {{a}^\\dagger} {a} \\left({{b}^\\dagger} + {b}\\right) + \\omega_{a} {{a}^\\dagger} {a} + \\omega_{b} {{b}^\\dagger} {b} + \\left(A e^{i \\omega_{d} t} + A e^{- i \\omega_{d} t}\\right) \\left({{a}^\\dagger} + {a}\\right)$$"
       ],
       "metadata": {},
       "output_type": "pyout",
       "png": "[encoded data removed]",
       "prompt_number": 20,
       "text": [
        "       \u2020   \u239b \u2020    \u239e       \u2020          \u2020     \u239b   \u2148\u22c5\u03c9_d\u22c5t      -\u2148\u22c5\u03c9_d\u22c5t\u239e \u239b \u2020    \u239e\n",
        "H = g\u22c5a \u22c5a\u22c5\u239db  + b\u23a0 + \u03c9\u2090\u22c5a \u22c5a + \u03c9_b\u22c5b \u22c5b + \u239dA\u22c5\u212f        + A\u22c5\u212f        \u23a0\u22c5\u239da  + a\u23a0"
       ]
      }
     ],
     "prompt_number": 20
    },
    {
     "cell_type": "heading",
     "level": 3,
     "metadata": {},
     "source": [
      "Linearized interaction"
     ]
    },
    {
     "cell_type": "markdown",
     "metadata": {},
     "source": [
      "First we apply the unitary transformation $U = e^{i \\omega_d a^\\dagger a t}$:"
     ]
    },
    {
     "cell_type": "code",
     "collapsed": false,
     "input": [
      "U = exp(I * Dagger(a) * a * omega_d * t)\n",
      "\n",
      "U"
     ],
     "language": "python",
     "metadata": {},
     "outputs": [
      {
       "latex": [
        "$$e^{i \\omega_{d} t {{a}^\\dagger} {a}}$$"
       ],
       "metadata": {},
       "output_type": "pyout",
       "png": "[encoded data removed]",
       "prompt_number": 21,
       "text": [
        "          \u2020  \n",
        " \u2148\u22c5\u03c9_d\u22c5t\u22c5a \u22c5a\n",
        "\u212f            "
       ]
      }
     ],
     "prompt_number": 21
    },
    {
     "cell_type": "code",
     "collapsed": false,
     "input": [
      "H1 = hamiltonian_transformation_auto(U, H, independent=True)\n",
      "\n",
      "H1"
     ],
     "language": "python",
     "metadata": {},
     "outputs": [
      {
       "latex": [
        "$$g {{a}^\\dagger} {a} {b} + g {{a}^\\dagger} {{b}^\\dagger} {a} + \\omega_{a} {{a}^\\dagger} {a} + \\omega_{b} {{b}^\\dagger} {b} - \\omega_{d} {{a}^\\dagger} {a} + \\left(- \\frac{i A}{120} \\omega_{d}^{5} t^{5} e^{i \\omega_{d} t} - \\frac{i A}{120} \\omega_{d}^{5} t^{5} e^{- i \\omega_{d} t} + \\frac{A t^{4}}{24} \\omega_{d}^{4} e^{i \\omega_{d} t} + \\frac{A t^{4}}{24} \\omega_{d}^{4} e^{- i \\omega_{d} t} + \\frac{i A}{6} \\omega_{d}^{3} t^{3} e^{i \\omega_{d} t} + \\frac{i A}{6} \\omega_{d}^{3} t^{3} e^{- i \\omega_{d} t} - \\frac{A t^{2}}{2} \\omega_{d}^{2} e^{i \\omega_{d} t} - \\frac{A t^{2}}{2} \\omega_{d}^{2} e^{- i \\omega_{d} t} - i A \\omega_{d} t e^{i \\omega_{d} t} - i A \\omega_{d} t e^{- i \\omega_{d} t} + A e^{i \\omega_{d} t} + A e^{- i \\omega_{d} t}\\right) {a} + \\left(\\frac{i A}{120} \\omega_{d}^{5} t^{5} e^{i \\omega_{d} t} + \\frac{i A}{120} \\omega_{d}^{5} t^{5} e^{- i \\omega_{d} t} + \\frac{A t^{4}}{24} \\omega_{d}^{4} e^{i \\omega_{d} t} + \\frac{A t^{4}}{24} \\omega_{d}^{4} e^{- i \\omega_{d} t} - \\frac{i A}{6} \\omega_{d}^{3} t^{3} e^{i \\omega_{d} t} - \\frac{i A}{6} \\omega_{d}^{3} t^{3} e^{- i \\omega_{d} t} - \\frac{A t^{2}}{2} \\omega_{d}^{2} e^{i \\omega_{d} t} - \\frac{A t^{2}}{2} \\omega_{d}^{2} e^{- i \\omega_{d} t} + i A \\omega_{d} t e^{i \\omega_{d} t} + i A \\omega_{d} t e^{- i \\omega_{d} t} + A e^{i \\omega_{d} t} + A e^{- i \\omega_{d} t}\\right) {{a}^\\dagger}$$"
       ],
       "metadata": {},
       "output_type": "pyout",
       "png": "[encoded data removed]",
       "prompt_number": 22,
       "text": [
        "                                                       \u239b         5  5  \u2148\u22c5\u03c9_d\u22c5t\n",
        "   \u2020          \u2020  \u2020         \u2020          \u2020          \u2020     \u239c  \u2148\u22c5A\u22c5\u03c9_d \u22c5t \u22c5\u212f       \n",
        "g\u22c5a \u22c5a\u22c5b + g\u22c5a \u22c5b \u22c5a + \u03c9\u2090\u22c5a \u22c5a + \u03c9_b\u22c5b \u22c5b - \u03c9_d\u22c5a \u22c5a + \u239c- \u2500\u2500\u2500\u2500\u2500\u2500\u2500\u2500\u2500\u2500\u2500\u2500\u2500\u2500\u2500\u2500\u2500\u2500\u2500\u2500\n",
        "                                                       \u239d          120         \n",
        "\n",
        "          5  5  -\u2148\u22c5\u03c9_d\u22c5t        4  4  \u2148\u22c5\u03c9_d\u22c5t        4  4  -\u2148\u22c5\u03c9_d\u22c5t          3\n",
        "   \u2148\u22c5A\u22c5\u03c9_d \u22c5t \u22c5\u212f           A\u22c5\u03c9_d \u22c5t \u22c5\u212f          A\u22c5\u03c9_d \u22c5t \u22c5\u212f           \u2148\u22c5A\u22c5\u03c9_d \n",
        " - \u2500\u2500\u2500\u2500\u2500\u2500\u2500\u2500\u2500\u2500\u2500\u2500\u2500\u2500\u2500\u2500\u2500\u2500\u2500\u2500\u2500 + \u2500\u2500\u2500\u2500\u2500\u2500\u2500\u2500\u2500\u2500\u2500\u2500\u2500\u2500\u2500\u2500\u2500\u2500 + \u2500\u2500\u2500\u2500\u2500\u2500\u2500\u2500\u2500\u2500\u2500\u2500\u2500\u2500\u2500\u2500\u2500\u2500\u2500 + \u2500\u2500\u2500\u2500\u2500\u2500\u2500\u2500\n",
        "            120                    24                    24                   \n",
        "\n",
        "  3  \u2148\u22c5\u03c9_d\u22c5t          3  3  -\u2148\u22c5\u03c9_d\u22c5t        2  2  \u2148\u22c5\u03c9_d\u22c5t        2  2  -\u2148\u22c5\u03c9_d\u22c5\n",
        "\u22c5t \u22c5\u212f          \u2148\u22c5A\u22c5\u03c9_d \u22c5t \u22c5\u212f           A\u22c5\u03c9_d \u22c5t \u22c5\u212f          A\u22c5\u03c9_d \u22c5t \u22c5\u212f       \n",
        "\u2500\u2500\u2500\u2500\u2500\u2500\u2500\u2500\u2500\u2500\u2500\u2500 + \u2500\u2500\u2500\u2500\u2500\u2500\u2500\u2500\u2500\u2500\u2500\u2500\u2500\u2500\u2500\u2500\u2500\u2500\u2500\u2500\u2500 - \u2500\u2500\u2500\u2500\u2500\u2500\u2500\u2500\u2500\u2500\u2500\u2500\u2500\u2500\u2500\u2500\u2500\u2500 - \u2500\u2500\u2500\u2500\u2500\u2500\u2500\u2500\u2500\u2500\u2500\u2500\u2500\u2500\u2500\u2500\u2500\u2500\n",
        " 6                       6                     2                     2        \n",
        "\n",
        "t                                                                      \u239e     \u239b\n",
        "               \u2148\u22c5\u03c9_d\u22c5t              -\u2148\u22c5\u03c9_d\u22c5t      \u2148\u22c5\u03c9_d\u22c5t      -\u2148\u22c5\u03c9_d\u22c5t\u239f     \u239c\n",
        "\u2500 - \u2148\u22c5A\u22c5\u03c9_d\u22c5t\u22c5\u212f        - \u2148\u22c5A\u22c5\u03c9_d\u22c5t\u22c5\u212f         + A\u22c5\u212f        + A\u22c5\u212f        \u239f\u22c5a + \u239c\n",
        "                                                                       \u23a0     \u239d\n",
        "\n",
        "       5  5  \u2148\u22c5\u03c9_d\u22c5t          5  5  -\u2148\u22c5\u03c9_d\u22c5t        4  4  \u2148\u22c5\u03c9_d\u22c5t        4  4 \n",
        "\u2148\u22c5A\u22c5\u03c9_d \u22c5t \u22c5\u212f          \u2148\u22c5A\u22c5\u03c9_d \u22c5t \u22c5\u212f           A\u22c5\u03c9_d \u22c5t \u22c5\u212f          A\u22c5\u03c9_d \u22c5t \u22c5\n",
        "\u2500\u2500\u2500\u2500\u2500\u2500\u2500\u2500\u2500\u2500\u2500\u2500\u2500\u2500\u2500\u2500\u2500\u2500\u2500\u2500 + \u2500\u2500\u2500\u2500\u2500\u2500\u2500\u2500\u2500\u2500\u2500\u2500\u2500\u2500\u2500\u2500\u2500\u2500\u2500\u2500\u2500 + \u2500\u2500\u2500\u2500\u2500\u2500\u2500\u2500\u2500\u2500\u2500\u2500\u2500\u2500\u2500\u2500\u2500\u2500 + \u2500\u2500\u2500\u2500\u2500\u2500\u2500\u2500\u2500\u2500\n",
        "        120                     120                    24                    2\n",
        "\n",
        " -\u2148\u22c5\u03c9_d\u22c5t          3  3  \u2148\u22c5\u03c9_d\u22c5t          3  3  -\u2148\u22c5\u03c9_d\u22c5t        2  2  \u2148\u22c5\u03c9_d\u22c5t \n",
        "\u212f           \u2148\u22c5A\u22c5\u03c9_d \u22c5t \u22c5\u212f          \u2148\u22c5A\u22c5\u03c9_d \u22c5t \u22c5\u212f           A\u22c5\u03c9_d \u22c5t \u22c5\u212f        \n",
        "\u2500\u2500\u2500\u2500\u2500\u2500\u2500\u2500\u2500 - \u2500\u2500\u2500\u2500\u2500\u2500\u2500\u2500\u2500\u2500\u2500\u2500\u2500\u2500\u2500\u2500\u2500\u2500\u2500\u2500 - \u2500\u2500\u2500\u2500\u2500\u2500\u2500\u2500\u2500\u2500\u2500\u2500\u2500\u2500\u2500\u2500\u2500\u2500\u2500\u2500\u2500 - \u2500\u2500\u2500\u2500\u2500\u2500\u2500\u2500\u2500\u2500\u2500\u2500\u2500\u2500\u2500\u2500\u2500\u2500 \n",
        "4                    6                       6                     2          \n",
        "\n",
        "       2  2  -\u2148\u22c5\u03c9_d\u22c5t                                                         \n",
        "  A\u22c5\u03c9_d \u22c5t \u22c5\u212f                      \u2148\u22c5\u03c9_d\u22c5t              -\u2148\u22c5\u03c9_d\u22c5t      \u2148\u22c5\u03c9_d\u22c5t \n",
        "- \u2500\u2500\u2500\u2500\u2500\u2500\u2500\u2500\u2500\u2500\u2500\u2500\u2500\u2500\u2500\u2500\u2500\u2500\u2500 + \u2148\u22c5A\u22c5\u03c9_d\u22c5t\u22c5\u212f        + \u2148\u22c5A\u22c5\u03c9_d\u22c5t\u22c5\u212f         + A\u22c5\u212f        \n",
        "           2                                                                  \n",
        "\n",
        "             \u239e   \n",
        "     -\u2148\u22c5\u03c9_d\u22c5t\u239f  \u2020\n",
        "+ A\u22c5\u212f        \u239f\u22c5a \n",
        "             \u23a0   "
       ]
      }
     ],
     "prompt_number": 22
    },
    {
     "cell_type": "code",
     "collapsed": false,
     "input": [
      "H2 = collect(H1.expand(), [exp(-I * omega_d * t) * A * a,\n",
      "                           exp(-I * omega_d * t) * A * Dagger(a),\n",
      "                           exp(I * omega_d * t) * conjugate(A) * a,\n",
      "                           exp(I * omega_d * t) * conjugate(A) * Dagger(a)])\n",
      "\n",
      "H2"
     ],
     "language": "python",
     "metadata": {},
     "outputs": [
      {
       "latex": [
        "$$A \\left(- \\frac{i t^{5}}{120} \\omega_{d}^{5} + \\frac{\\omega_{d}^{4} t^{4}}{24} + \\frac{i t^{3}}{6} \\omega_{d}^{3} - \\frac{\\omega_{d}^{2} t^{2}}{2} - i \\omega_{d} t + 1\\right) e^{i \\omega_{d} t} {a} + A \\left(- \\frac{i t^{5}}{120} \\omega_{d}^{5} + \\frac{\\omega_{d}^{4} t^{4}}{24} + \\frac{i t^{3}}{6} \\omega_{d}^{3} - \\frac{\\omega_{d}^{2} t^{2}}{2} - i \\omega_{d} t + 1\\right) e^{- i \\omega_{d} t} {a} + A \\left(\\frac{i t^{5}}{120} \\omega_{d}^{5} + \\frac{\\omega_{d}^{4} t^{4}}{24} - \\frac{i t^{3}}{6} \\omega_{d}^{3} - \\frac{\\omega_{d}^{2} t^{2}}{2} + i \\omega_{d} t + 1\\right) e^{i \\omega_{d} t} {{a}^\\dagger} + A \\left(\\frac{i t^{5}}{120} \\omega_{d}^{5} + \\frac{\\omega_{d}^{4} t^{4}}{24} - \\frac{i t^{3}}{6} \\omega_{d}^{3} - \\frac{\\omega_{d}^{2} t^{2}}{2} + i \\omega_{d} t + 1\\right) e^{- i \\omega_{d} t} {{a}^\\dagger} + g {{a}^\\dagger} {a} {b} + g {{a}^\\dagger} {{b}^\\dagger} {a} + \\omega_{a} {{a}^\\dagger} {a} + \\omega_{b} {{b}^\\dagger} {b} - \\omega_{d} {{a}^\\dagger} {a}$$"
       ],
       "metadata": {},
       "output_type": "pyout",
       "png": "[encoded data removed]",
       "prompt_number": 23,
       "text": [
        "  \u239b       5  5      4  4        3  3      2  2              \u239e                \u239b\n",
        "  \u239c  \u2148\u22c5\u03c9_d \u22c5t    \u03c9_d \u22c5t    \u2148\u22c5\u03c9_d \u22c5t    \u03c9_d \u22c5t               \u239f  \u2148\u22c5\u03c9_d\u22c5t       \u239c\n",
        "A\u22c5\u239c- \u2500\u2500\u2500\u2500\u2500\u2500\u2500\u2500\u2500 + \u2500\u2500\u2500\u2500\u2500\u2500\u2500 + \u2500\u2500\u2500\u2500\u2500\u2500\u2500\u2500\u2500 - \u2500\u2500\u2500\u2500\u2500\u2500\u2500 - \u2148\u22c5\u03c9_d\u22c5t + 1\u239f\u22c5\u212f       \u22c5a + A\u22c5\u239c\n",
        "  \u239d     120         24         6          2                 \u23a0                \u239d\n",
        "\n",
        "       5  5      4  4        3  3      2  2              \u239e                 \u239b  \n",
        "  \u2148\u22c5\u03c9_d \u22c5t    \u03c9_d \u22c5t    \u2148\u22c5\u03c9_d \u22c5t    \u03c9_d \u22c5t               \u239f  -\u2148\u22c5\u03c9_d\u22c5t       \u239c\u2148\u22c5\n",
        "- \u2500\u2500\u2500\u2500\u2500\u2500\u2500\u2500\u2500 + \u2500\u2500\u2500\u2500\u2500\u2500\u2500 + \u2500\u2500\u2500\u2500\u2500\u2500\u2500\u2500\u2500 - \u2500\u2500\u2500\u2500\u2500\u2500\u2500 - \u2148\u22c5\u03c9_d\u22c5t + 1\u239f\u22c5\u212f        \u22c5a + A\u22c5\u239c\u2500\u2500\n",
        "     120         24         6          2                 \u23a0                 \u239d  \n",
        "\n",
        "   5  5      4  4        3  3      2  2              \u239e                 \u239b     5\n",
        "\u03c9_d \u22c5t    \u03c9_d \u22c5t    \u2148\u22c5\u03c9_d \u22c5t    \u03c9_d \u22c5t               \u239f  \u2148\u22c5\u03c9_d\u22c5t  \u2020     \u239c\u2148\u22c5\u03c9_d \n",
        "\u2500\u2500\u2500\u2500\u2500\u2500\u2500 + \u2500\u2500\u2500\u2500\u2500\u2500\u2500 - \u2500\u2500\u2500\u2500\u2500\u2500\u2500\u2500\u2500 - \u2500\u2500\u2500\u2500\u2500\u2500\u2500 + \u2148\u22c5\u03c9_d\u22c5t + 1\u239f\u22c5\u212f       \u22c5a  + A\u22c5\u239c\u2500\u2500\u2500\u2500\u2500\u2500\n",
        " 120         24         6          2                 \u23a0                 \u239d   120\n",
        "\n",
        "  5      4  4        3  3      2  2              \u239e                            \n",
        "\u22c5t    \u03c9_d \u22c5t    \u2148\u22c5\u03c9_d \u22c5t    \u03c9_d \u22c5t               \u239f  -\u2148\u22c5\u03c9_d\u22c5t  \u2020      \u2020        \n",
        "\u2500\u2500\u2500 + \u2500\u2500\u2500\u2500\u2500\u2500\u2500 - \u2500\u2500\u2500\u2500\u2500\u2500\u2500\u2500\u2500 - \u2500\u2500\u2500\u2500\u2500\u2500\u2500 + \u2148\u22c5\u03c9_d\u22c5t + 1\u239f\u22c5\u212f        \u22c5a  + g\u22c5a \u22c5a\u22c5b + g\n",
        "         24         6          2                 \u23a0                            \n",
        "\n",
        "                                        \n",
        "  \u2020  \u2020         \u2020          \u2020          \u2020  \n",
        "\u22c5a \u22c5b \u22c5a + \u03c9\u2090\u22c5a \u22c5a + \u03c9_b\u22c5b \u22c5b - \u03c9_d\u22c5a \u22c5a\n",
        "                                        "
       ]
      }
     ],
     "prompt_number": 23
    },
    {
     "cell_type": "markdown",
     "metadata": {},
     "source": [
      "Identify series with taylor expansions of $e^{i\\omega_dt}$:"
     ]
    },
    {
     "cell_type": "code",
     "collapsed": false,
     "input": [
      "H3 = H2.subs({exp(-I * omega_d * t).series(t, n=n).removeO(): exp(-I * omega_d * t),\n",
      "              exp(I * omega_d * t).series(t, n=n).removeO(): exp(I * omega_d * t),\n",
      "             })\n",
      "\n",
      "H3"
     ],
     "language": "python",
     "metadata": {},
     "outputs": [
      {
       "latex": [
        "$$A e^{2 i \\omega_{d} t} {{a}^\\dagger} + A {{a}^\\dagger} + A {a} + A e^{- 2 i \\omega_{d} t} {a} + g {{a}^\\dagger} {a} {b} + g {{a}^\\dagger} {{b}^\\dagger} {a} + \\omega_{a} {{a}^\\dagger} {a} + \\omega_{b} {{b}^\\dagger} {b} - \\omega_{d} {{a}^\\dagger} {a}$$"
       ],
       "metadata": {},
       "output_type": "pyout",
       "png": "[encoded data removed]",
       "prompt_number": 24,
       "text": [
        "   2\u22c5\u2148\u22c5\u03c9_d\u22c5t  \u2020      \u2020            -2\u22c5\u2148\u22c5\u03c9_d\u22c5t        \u2020          \u2020  \u2020         \u2020 \n",
        "A\u22c5\u212f         \u22c5a  + A\u22c5a  + A\u22c5a + A\u22c5\u212f          \u22c5a + g\u22c5a \u22c5a\u22c5b + g\u22c5a \u22c5b \u22c5a + \u03c9\u2090\u22c5a \u22c5\n",
        "\n",
        "         \u2020          \u2020  \n",
        "a + \u03c9_b\u22c5b \u22c5b - \u03c9_d\u22c5a \u22c5a"
       ]
      }
     ],
     "prompt_number": 24
    },
    {
     "cell_type": "markdown",
     "metadata": {},
     "source": [
      "We can now perform a rotating-wave approximation (RWA) by eliminating all terms that rotate with frequencies $2\\omega_d$:"
     ]
    },
    {
     "cell_type": "code",
     "collapsed": false,
     "input": [
      "H4 = drop_terms_containing(H3, [exp(-2*I*omega_d*t), exp(2*I*omega_d*t)])\n",
      "\n",
      "#H4b = collect(H4, Dagger(a)*a)\n",
      "\n",
      "Eq(Symbol(\"H_{rwa}\"), H4)"
     ],
     "language": "python",
     "metadata": {},
     "outputs": [
      {
       "latex": [
        "$$H_{{rwa}} = A {{a}^\\dagger} + A {a} + g {{a}^\\dagger} {a} {b} + g {{a}^\\dagger} {{b}^\\dagger} {a} + \\omega_{a} {{a}^\\dagger} {a} + \\omega_{b} {{b}^\\dagger} {b} - \\omega_{d} {{a}^\\dagger} {a}$$"
       ],
       "metadata": {},
       "output_type": "pyout",
       "png": "[encoded data removed]",
       "prompt_number": 25,
       "text": [
        "             \u2020            \u2020          \u2020  \u2020         \u2020          \u2020          \u2020  \n",
        "H_{rwa} = A\u22c5a  + A\u22c5a + g\u22c5a \u22c5a\u22c5b + g\u22c5a \u22c5b \u22c5a + \u03c9\u2090\u22c5a \u22c5a + \u03c9_b\u22c5b \u22c5b - \u03c9_d\u22c5a \u22c5a"
       ]
      }
     ],
     "prompt_number": 25
    },
    {
     "cell_type": "markdown",
     "metadata": {},
     "source": [
      "Now we introduce the detuning $\\Delta = \\omega_a - \\omega_d$:"
     ]
    },
    {
     "cell_type": "code",
     "collapsed": false,
     "input": [
      "H5 = H4.subs(omega_a, Delta + omega_d).expand()\n",
      "\n",
      "H5"
     ],
     "language": "python",
     "metadata": {},
     "outputs": [
      {
       "latex": [
        "$$A {{a}^\\dagger} + A {a} + \\Delta {{a}^\\dagger} {a} + g {{a}^\\dagger} {a} {b} + g {{a}^\\dagger} {{b}^\\dagger} {a} + \\omega_{b} {{b}^\\dagger} {b}$$"
       ],
       "metadata": {},
       "output_type": "pyout",
       "png": "[encoded data removed]",
       "prompt_number": 26,
       "text": [
        "   \u2020            \u2020        \u2020          \u2020  \u2020          \u2020  \n",
        "A\u22c5a  + A\u22c5a + \u0394\u22c5a \u22c5a + g\u22c5a \u22c5a\u22c5b + g\u22c5a \u22c5b \u22c5a + \u03c9_b\u22c5b \u22c5b"
       ]
      }
     ],
     "prompt_number": 26
    },
    {
     "cell_type": "markdown",
     "metadata": {},
     "source": [
      "To eliminate the coherent part of the state of the cavity mode we apply the unitary displacement operator $U = e^{\\alpha a^\\dagger - \\alpha^*a}$:"
     ]
    },
    {
     "cell_type": "code",
     "collapsed": false,
     "input": [
      "alpha = symbols(\"alpha\")"
     ],
     "language": "python",
     "metadata": {},
     "outputs": [],
     "prompt_number": 27
    },
    {
     "cell_type": "code",
     "collapsed": false,
     "input": [
      "H = Dagger(a) * alpha - conjugate(alpha) * a\n",
      "U = exp(H)\n",
      "\n",
      "U"
     ],
     "language": "python",
     "metadata": {},
     "outputs": [
      {
       "latex": [
        "$$e^{\\alpha {{a}^\\dagger} - \\overline{\\alpha} {a}}$$"
       ],
       "metadata": {},
       "output_type": "pyout",
       "png": "[encoded data removed]",
       "prompt_number": 28,
       "text": [
        "    \u2020   _  \n",
        " \u03b1\u22c5a  - \u03b1\u22c5a\n",
        "\u212f          "
       ]
      }
     ],
     "prompt_number": 28
    },
    {
     "cell_type": "code",
     "collapsed": false,
     "input": [
      "H6 = hamiltonian_transformation_auto(U, H5, independent=True)\n",
      "\n",
      "H6"
     ],
     "language": "python",
     "metadata": {},
     "outputs": [
      {
       "latex": [
        "$$- A \\alpha - A \\overline{\\alpha} + \\Delta \\alpha \\overline{\\alpha} + \\Delta {{a}^\\dagger} {a} + \\alpha g \\overline{\\alpha} {{b}^\\dagger} + \\alpha g \\overline{\\alpha} {b} - \\alpha g {{a}^\\dagger} {{b}^\\dagger} - \\alpha g {{a}^\\dagger} {b} - g \\overline{\\alpha} {a} {b} - g \\overline{\\alpha} {{b}^\\dagger} {a} + g {{a}^\\dagger} {a} {b} + g {{a}^\\dagger} {{b}^\\dagger} {a} + \\omega_{b} {{b}^\\dagger} {b} + \\left(A - \\Delta \\alpha\\right) {{a}^\\dagger} + \\left(A - \\Delta \\overline{\\alpha}\\right) {a}$$"
       ],
       "metadata": {},
       "output_type": "pyout",
       "png": "[encoded data removed]",
       "prompt_number": 29,
       "text": [
        "         _       _      \u2020         _  \u2020       _          \u2020  \u2020        \u2020       _ \n",
        "-A\u22c5\u03b1 - A\u22c5\u03b1 + \u0394\u22c5\u03b1\u22c5\u03b1 + \u0394\u22c5a \u22c5a + \u03b1\u22c5g\u22c5\u03b1\u22c5b  + \u03b1\u22c5g\u22c5\u03b1\u22c5b - \u03b1\u22c5g\u22c5a \u22c5b  - \u03b1\u22c5g\u22c5a \u22c5b - g\u22c5\u03b1\u22c5\n",
        "\n",
        "        _  \u2020        \u2020          \u2020  \u2020          \u2020                \u2020   \u239b      _\u239e  \n",
        "a\u22c5b - g\u22c5\u03b1\u22c5b \u22c5a + g\u22c5a \u22c5a\u22c5b + g\u22c5a \u22c5b \u22c5a + \u03c9_b\u22c5b \u22c5b + (A - \u0394\u22c5\u03b1)\u22c5a  + \u239dA - \u0394\u22c5\u03b1\u23a0\u22c5a"
       ]
      }
     ],
     "prompt_number": 29
    },
    {
     "cell_type": "markdown",
     "metadata": {},
     "source": [
      "Now want to cancel out the drivng terms so we set $A - \\Delta \\alpha = 0$, i.e. $\\alpha = A/\\Delta$:"
     ]
    },
    {
     "cell_type": "code",
     "collapsed": false,
     "input": [
      "H7 = H6.expand().subs({A: alpha * Delta, conjugate(alpha): alpha}) \n",
      "\n",
      "H7 = collect(H7, [g * Dagger(a) * a, - alpha * g])\n",
      "\n",
      "H7"
     ],
     "language": "python",
     "metadata": {},
     "outputs": [
      {
       "latex": [
        "$$- \\Delta \\alpha^{2} + \\Delta {{a}^\\dagger} {a} + \\alpha^{2} g \\left({{b}^\\dagger} + {b}\\right) + \\alpha g \\left(- {{a}^\\dagger} {{b}^\\dagger} - {{a}^\\dagger} {b} - {a} {b} - {{b}^\\dagger} {a}\\right) + g {{a}^\\dagger} {a} \\left({{b}^\\dagger} + {b}\\right) + \\omega_{b} {{b}^\\dagger} {b}$$"
       ],
       "metadata": {},
       "output_type": "pyout",
       "png": "[encoded data removed]",
       "prompt_number": 30,
       "text": [
        "     2      \u2020      2   \u239b \u2020    \u239e       \u239b   \u2020  \u2020    \u2020            \u2020  \u239e      \u2020   \u239b\n",
        "- \u0394\u22c5\u03b1  + \u0394\u22c5a \u22c5a + \u03b1 \u22c5g\u22c5\u239db  + b\u23a0 + \u03b1\u22c5g\u22c5\u239d- a \u22c5b  - a \u22c5b - a\u22c5b - b \u22c5a\u23a0 + g\u22c5a \u22c5a\u22c5\u239d\n",
        "\n",
        " \u2020    \u239e        \u2020  \n",
        "b  + b\u23a0 + \u03c9_b\u22c5b \u22c5b"
       ]
      }
     ],
     "prompt_number": 30
    },
    {
     "cell_type": "markdown",
     "metadata": {},
     "source": [
      "Drop C-numbers from the hamiltonian:"
     ]
    },
    {
     "cell_type": "code",
     "collapsed": false,
     "input": [
      "H8 = drop_c_number_terms(H7)\n",
      "\n",
      "H8"
     ],
     "language": "python",
     "metadata": {},
     "outputs": [
      {
       "latex": [
        "$$\\Delta {{a}^\\dagger} {a} + \\alpha^{2} g \\left({{b}^\\dagger} + {b}\\right) + \\alpha g \\left(- {{a}^\\dagger} {{b}^\\dagger} - {{a}^\\dagger} {b} - {a} {b} - {{b}^\\dagger} {a}\\right) + g {{a}^\\dagger} {a} \\left({{b}^\\dagger} + {b}\\right) + \\omega_{b} {{b}^\\dagger} {b}$$"
       ],
       "metadata": {},
       "output_type": "pyout",
       "png": "[encoded data removed]",
       "prompt_number": 31,
       "text": [
        "   \u2020      2   \u239b \u2020    \u239e       \u239b   \u2020  \u2020    \u2020            \u2020  \u239e      \u2020   \u239b \u2020    \u239e  \n",
        "\u0394\u22c5a \u22c5a + \u03b1 \u22c5g\u22c5\u239db  + b\u23a0 + \u03b1\u22c5g\u22c5\u239d- a \u22c5b  - a \u22c5b - a\u22c5b - b \u22c5a\u23a0 + g\u22c5a \u22c5a\u22c5\u239db  + b\u23a0 +\n",
        "\n",
        "      \u2020  \n",
        " \u03c9_b\u22c5b \u22c5b"
       ]
      }
     ],
     "prompt_number": 31
    },
    {
     "cell_type": "markdown",
     "metadata": {},
     "source": [
      "Now, if driving strength is large, so that $\\alpha \\gg 1$, we can drop the nonlinear interaction term, and we have an linear effective coupling:"
     ]
    },
    {
     "cell_type": "code",
     "collapsed": false,
     "input": [
      "H9 = drop_terms_containing(H8, [g * Dagger(a) * a])\n",
      "\n",
      "Eq(Hsym, H9)"
     ],
     "language": "python",
     "metadata": {},
     "outputs": [
      {
       "latex": [
        "$$H = \\Delta {{a}^\\dagger} {a} + \\alpha^{2} g \\left({{b}^\\dagger} + {b}\\right) + \\alpha g \\left(- {{a}^\\dagger} {{b}^\\dagger} - {{a}^\\dagger} {b} - {a} {b} - {{b}^\\dagger} {a}\\right) + \\omega_{b} {{b}^\\dagger} {b}$$"
       ],
       "metadata": {},
       "output_type": "pyout",
       "png": "[encoded data removed]",
       "prompt_number": 32,
       "text": [
        "       \u2020      2   \u239b \u2020    \u239e       \u239b   \u2020  \u2020    \u2020            \u2020  \u239e        \u2020  \n",
        "H = \u0394\u22c5a \u22c5a + \u03b1 \u22c5g\u22c5\u239db  + b\u23a0 + \u03b1\u22c5g\u22c5\u239d- a \u22c5b  - a \u22c5b - a\u22c5b - b \u22c5a\u23a0 + \u03c9_b\u22c5b \u22c5b"
       ]
      }
     ],
     "prompt_number": 32
    },
    {
     "cell_type": "heading",
     "level": 2,
     "metadata": {},
     "source": [
      "Versions"
     ]
    },
    {
     "cell_type": "code",
     "collapsed": false,
     "input": [
      "%reload_ext version_information\n",
      "\n",
      "%version_information sympy"
     ],
     "language": "python",
     "metadata": {},
     "outputs": [
      {
       "html": [
        "<table><tr><th>Software</th><th>Version</th></tr><tr><td>Python</td><td>3.4.0 (default, Apr 11 2014, 13:05:11) [GCC 4.8.2]</td></tr><tr><td>IPython</td><td>3.0.0-dev</td></tr><tr><td>OS</td><td>posix [linux]</td></tr><tr><td>sympy</td><td>0.7.4.1-git</td></tr><tr><td colspan='2'>Sat Jun 07 15:40:01 2014 JST</td></tr></table>"
       ],
       "json": [
        "{\"Software versions\": [{\"version\": \"3.4.0 (default, Apr 11 2014, 13:05:11) [GCC 4.8.2]\", \"module\": \"Python\"}, {\"version\": \"3.0.0-dev\", \"module\": \"IPython\"}, {\"version\": \"posix [linux]\", \"module\": \"OS\"}, {\"version\": \"0.7.4.1-git\", \"module\": \"sympy\"}]}"
       ],
       "latex": [
        "\\begin{tabular}{|l|l|}\\hline\n",
        "{\\bf Software} & {\\bf Version} \\\\ \\hline\\hline\n",
        "Python & 3.4.0 (default, Apr 11 2014, 13:05:11) [GCC 4.8.2] \\\\ \\hline\n",
        "IPython & 3.0.0-dev \\\\ \\hline\n",
        "OS & posix [linux] \\\\ \\hline\n",
        "sympy & 0.7.4.1-git \\\\ \\hline\n",
        "\\hline \\multicolumn{2}{|l|}{Sat Jun 07 15:40:01 2014 JST} \\\\ \\hline\n",
        "\\end{tabular}\n"
       ],
       "metadata": {},
       "output_type": "pyout",
       "prompt_number": 33,
       "text": [
        "Software versions\n",
        "Python 3.4.0 (default, Apr 11 2014, 13:05:11) [GCC 4.8.2]\n",
        "IPython 3.0.0-dev\n",
        "OS posix [linux]\n",
        "sympy 0.7.4.1-git\n",
        "\n",
        "Sat Jun 07 15:40:01 2014 JST"
       ]
      }
     ],
     "prompt_number": 33
    }
   ],
   "metadata": {}
  }
 ]
}