{
 "cells": [
  {
   "cell_type": "markdown",
   "id": "9a768077",
   "metadata": {},
   "source": [
    "# Unitary transformations of boson operators"
   ]
  },
  {
   "cell_type": "code",
   "execution_count": 2,
   "outputs": [],
   "source": [
    "from sympy import *\n",
    "init_printing()\n",
    "\n",
    "from sympy.physics.quantum import *\n",
    "from sympy.physics.quantum.boson import *\n",
    "from sympy.physics.quantum.fermion import *\n",
    "from sympy.physics.quantum.operatorordering import *"
   ],
   "metadata": {
    "collapsed": false,
    "ExecuteTime": {
     "end_time": "2023-11-06T13:40:16.620497092Z",
     "start_time": "2023-11-06T13:40:16.565335364Z"
    }
   },
   "id": "2f119754fef42516"
  },
  {
   "cell_type": "code",
   "execution_count": 3,
   "outputs": [
    {
     "name": "stderr",
     "output_type": "stream",
     "text": [
      "/home/chris/Dokumente/git/sympsi-notebooks/sympy_quantum_utils.py:13: UserWarning: Deprecated: Use sympy_utils_extra instead\n",
      "  warnings.warn(\"Deprecated: Use sympy_utils_extra instead\")\n"
     ]
    }
   ],
   "source": [
    "from sympy_quantum_utils import *"
   ],
   "metadata": {
    "collapsed": false,
    "ExecuteTime": {
     "end_time": "2023-11-06T13:40:18.312531815Z",
     "start_time": "2023-11-06T13:40:18.306356909Z"
    }
   },
   "id": "f3cec8b9b6c3ec30"
  },
  {
   "cell_type": "code",
   "execution_count": 4,
   "outputs": [],
   "source": [
    "omega_0, t, alpha = symbols(\"omega_0, t, alpha\")\n",
    "n = 8"
   ],
   "metadata": {
    "collapsed": false,
    "ExecuteTime": {
     "end_time": "2023-11-06T13:40:18.816499631Z",
     "start_time": "2023-11-06T13:40:18.812097439Z"
    }
   },
   "id": "35aa3c9821a624e"
  },
  {
   "cell_type": "code",
   "execution_count": 5,
   "outputs": [],
   "source": [
    "a = BosonOp(\"a\")"
   ],
   "metadata": {
    "collapsed": false,
    "ExecuteTime": {
     "end_time": "2023-11-06T13:40:19.538798316Z",
     "start_time": "2023-11-06T13:40:19.531831886Z"
    }
   },
   "id": "836652d3d2ca3365"
  },
  {
   "cell_type": "markdown",
   "source": [
    "## Transformations with $U = \\exp(i \\omega_0 a^\\dagger a t)$"
   ],
   "metadata": {
    "collapsed": false
   },
   "id": "6e902cfabdae1ae1"
  },
  {
   "cell_type": "code",
   "execution_count": 6,
   "outputs": [
    {
     "data": {
      "text/plain": "         †  \n ⅈ⋅ω₀⋅t⋅a ⋅a\nℯ           ",
      "image/png": "[encoded data removed]",
      "text/latex": "$$e^{i \\omega_{0} t {{a}^\\dagger} {a}}$$"
     },
     "execution_count": 6,
     "metadata": {},
     "output_type": "execute_result"
    }
   ],
   "source": [
    "A = I * omega_0 * Dagger(a) * a * t\n",
    "U = exp(A)\n",
    "\n",
    "U"
   ],
   "metadata": {
    "collapsed": false,
    "ExecuteTime": {
     "end_time": "2023-11-06T13:40:21.363456872Z",
     "start_time": "2023-11-06T13:40:21.121275606Z"
    }
   },
   "id": "38e30417f6f04c45"
  },
  {
   "cell_type": "markdown",
   "source": [
    "### $U a^\\dagger a U^\\dagger = e^{i \\omega_0 a^\\dagger a t} a^\\dagger a e^{-i \\omega_0 a^\\dagger a t} = a^\\dagger a$"
   ],
   "metadata": {
    "collapsed": false
   },
   "id": "7267de345a2f812e"
  },
  {
   "cell_type": "code",
   "execution_count": 7,
   "outputs": [
    {
     "data": {
      "text/plain": " †  \na ⋅a",
      "image/png": "[encoded data removed]",
      "text/latex": "$${{a}^\\dagger} {a}$$"
     },
     "execution_count": 7,
     "metadata": {},
     "output_type": "execute_result"
    }
   ],
   "source": [
    "e = bch_expansion(A, Dagger(a) * a, n).doit()\n",
    "\n",
    "normal_ordered_form(e)"
   ],
   "metadata": {
    "collapsed": false,
    "ExecuteTime": {
     "end_time": "2023-11-06T13:40:24.604879057Z",
     "start_time": "2023-11-06T13:40:23.746233676Z"
    }
   },
   "id": "dc337ac24675391a"
  },
  {
   "cell_type": "code",
   "execution_count": 8,
   "outputs": [
    {
     "data": {
      "text/plain": " †  \na ⋅a",
      "image/png": "[encoded data removed]",
      "text/latex": "$${{a}^\\dagger} {a}$$"
     },
     "execution_count": 8,
     "metadata": {},
     "output_type": "execute_result"
    }
   ],
   "source": [
    "unitary_transformation(U, Dagger(a) * a)"
   ],
   "metadata": {
    "collapsed": false,
    "ExecuteTime": {
     "end_time": "2023-11-06T13:40:27.009400460Z",
     "start_time": "2023-11-06T13:40:25.626175721Z"
    }
   },
   "id": "8c3f4210565abdca"
  },
  {
   "cell_type": "markdown",
   "id": "6d9a8e4e",
   "metadata": {},
   "source": [
    "### $U a U^\\dagger = a e^{-i\\omega_0t}$"
   ]
  },
  {
   "cell_type": "code",
   "execution_count": 9,
   "id": "b2f85079",
   "metadata": {
    "collapsed": false,
    "ExecuteTime": {
     "end_time": "2023-11-06T13:40:31.388981042Z",
     "start_time": "2023-11-06T13:40:30.809829990Z"
    }
   },
   "outputs": [
    {
     "data": {
      "text/plain": " -ⅈ⋅ω₀⋅t  \nℯ       ⋅a",
      "image/png": "[encoded data removed]",
      "text/latex": "$$e^{- i \\omega_{0} t} {a}$$"
     },
     "execution_count": 9,
     "metadata": {},
     "output_type": "execute_result"
    }
   ],
   "source": [
    "unitary_transformation(U, a)"
   ]
  },
  {
   "cell_type": "code",
   "execution_count": 11,
   "id": "bc3618c3",
   "metadata": {
    "collapsed": false,
    "ExecuteTime": {
     "end_time": "2023-11-06T13:40:53.455912414Z",
     "start_time": "2023-11-06T13:40:51.580089404Z"
    }
   },
   "outputs": [
    {
     "data": {
      "text/plain": " -ⅈ⋅ω₀⋅t  \nℯ       ⋅a",
      "image/png": "[encoded data removed]",
      "text/latex": "$$e^{- i \\omega_{0} t} {a}$$"
     },
     "execution_count": 11,
     "metadata": {},
     "output_type": "execute_result"
    }
   ],
   "source": [
    "e = bch_expansion(A, a, n).doit()\n",
    "\n",
    "e = normal_ordered_form(expand(e))\n",
    "\n",
    "e = collect(e, a)\n",
    "\n",
    "e"
   ]
  },
  {
   "cell_type": "code",
   "execution_count": 12,
   "id": "0f0d410c",
   "metadata": {
    "collapsed": false,
    "ExecuteTime": {
     "end_time": "2023-11-06T13:40:54.206547127Z",
     "start_time": "2023-11-06T13:40:54.056974009Z"
    }
   },
   "outputs": [
    {
     "data": {
      "text/plain": "False"
     },
     "execution_count": 12,
     "metadata": {},
     "output_type": "execute_result"
    }
   ],
   "source": [
    "e == (exp(-I * omega_0 * t).series(t, 0, n=n).removeO()) * a"
   ]
  },
  {
   "cell_type": "markdown",
   "id": "b78e774a",
   "metadata": {},
   "source": [
    "### $U a^\\dagger U^\\dagger = a^\\dagger e^{i\\omega_0t}$"
   ]
  },
  {
   "cell_type": "code",
   "execution_count": 14,
   "id": "b95f5042",
   "metadata": {
    "collapsed": false,
    "ExecuteTime": {
     "end_time": "2023-11-06T13:41:03.616271142Z",
     "start_time": "2023-11-06T13:41:02.826173649Z"
    }
   },
   "outputs": [
    {
     "data": {
      "text/plain": " ⅈ⋅ω₀⋅t  †\nℯ      ⋅a ",
      "image/png": "[encoded data removed]",
      "text/latex": "$$e^{i \\omega_{0} t} {{a}^\\dagger}$$"
     },
     "execution_count": 14,
     "metadata": {},
     "output_type": "execute_result"
    }
   ],
   "source": [
    "unitary_transformation(U, Dagger(a))"
   ]
  },
  {
   "cell_type": "code",
   "execution_count": 15,
   "id": "766e0871",
   "metadata": {
    "collapsed": false,
    "ExecuteTime": {
     "end_time": "2023-11-06T13:41:08.548954741Z",
     "start_time": "2023-11-06T13:41:06.774020609Z"
    }
   },
   "outputs": [
    {
     "data": {
      "text/plain": " ⅈ⋅ω₀⋅t  †\nℯ      ⋅a ",
      "image/png": "[encoded data removed]",
      "text/latex": "$$e^{i \\omega_{0} t} {{a}^\\dagger}$$"
     },
     "execution_count": 15,
     "metadata": {},
     "output_type": "execute_result"
    }
   ],
   "source": [
    "e = bch_expansion(A, Dagger(a), n).doit()\n",
    "\n",
    "e = normal_ordered_form(expand(e))\n",
    "\n",
    "e = collect(e, Dagger(a))\n",
    "\n",
    "e"
   ]
  },
  {
   "cell_type": "code",
   "execution_count": 16,
   "id": "3031ba4d",
   "metadata": {
    "collapsed": false,
    "ExecuteTime": {
     "end_time": "2023-11-06T13:41:09.806755031Z",
     "start_time": "2023-11-06T13:41:09.718307160Z"
    }
   },
   "outputs": [
    {
     "data": {
      "text/plain": "False"
     },
     "execution_count": 16,
     "metadata": {},
     "output_type": "execute_result"
    }
   ],
   "source": [
    "e == (exp(I * omega_0 * t).series(t, 0, n=n).removeO()) * Dagger(a)"
   ]
  },
  {
   "cell_type": "markdown",
   "id": "fc9daea9",
   "metadata": {},
   "source": [
    "## Transformations with $U = D(\\alpha) = e^{\\alpha a^\\dagger - \\alpha^* a}$:"
   ]
  },
  {
   "cell_type": "code",
   "execution_count": 21,
   "id": "1cfabfa6",
   "metadata": {
    "collapsed": false,
    "ExecuteTime": {
     "end_time": "2023-11-06T13:42:10.758234750Z",
     "start_time": "2023-11-06T13:42:10.521832647Z"
    }
   },
   "outputs": [
    {
     "data": {
      "text/plain": "    †   _  \n α⋅a  - α⋅a\nℯ          ",
      "image/png": "[encoded data removed]",
      "text/latex": "$$e^{\\alpha {{a}^\\dagger} - \\overline{\\alpha} {a}}$$"
     },
     "execution_count": 21,
     "metadata": {},
     "output_type": "execute_result"
    }
   ],
   "source": [
    "H = Dagger(a) * alpha - conjugate(alpha) * a\n",
    "U = exp(H)\n",
    "\n",
    "U"
   ]
  },
  {
   "cell_type": "markdown",
   "id": "12c16be6",
   "metadata": {},
   "source": [
    "### $U a U^\\dagger = a - \\alpha$"
   ]
  },
  {
   "cell_type": "code",
   "execution_count": 22,
   "id": "35754799",
   "metadata": {
    "collapsed": false,
    "ExecuteTime": {
     "end_time": "2023-11-06T13:42:12.272825930Z",
     "start_time": "2023-11-06T13:42:11.475084531Z"
    }
   },
   "outputs": [
    {
     "data": {
      "text/plain": "-α + a",
      "image/png": "[encoded data removed]",
      "text/latex": "$$- \\alpha + {a}$$"
     },
     "execution_count": 22,
     "metadata": {},
     "output_type": "execute_result"
    }
   ],
   "source": [
    "unitary_transformation(U, a)"
   ]
  },
  {
   "cell_type": "markdown",
   "id": "dbca6e7c",
   "metadata": {},
   "source": [
    "### $U a^\\dagger U^\\dagger = a^\\dagger - \\alpha^*$"
   ]
  },
  {
   "cell_type": "code",
   "execution_count": 23,
   "id": "7d05a196",
   "metadata": {
    "collapsed": false,
    "ExecuteTime": {
     "end_time": "2023-11-06T13:42:14.580905690Z",
     "start_time": "2023-11-06T13:42:13.540932349Z"
    }
   },
   "outputs": [
    {
     "data": {
      "text/plain": "  _    †\n- α + a ",
      "image/png": "[encoded data removed]",
      "text/latex": "$$- \\overline{\\alpha} + {{a}^\\dagger}$$"
     },
     "execution_count": 23,
     "metadata": {},
     "output_type": "execute_result"
    }
   ],
   "source": [
    "unitary_transformation(U, Dagger(a))"
   ]
  },
  {
   "cell_type": "markdown",
   "id": "23f77eaa",
   "metadata": {},
   "source": [
    "### $U a^\\dagger a U^\\dagger = a^\\dagger a - \\alpha a^\\dagger - \\alpha^* a + |\\alpha|^2$"
   ]
  },
  {
   "cell_type": "code",
   "execution_count": 24,
   "id": "70587f2d",
   "metadata": {
    "collapsed": false,
    "ExecuteTime": {
     "end_time": "2023-11-06T13:42:18.189331913Z",
     "start_time": "2023-11-06T13:42:16.677318604Z"
    }
   },
   "outputs": [
    {
     "data": {
      "text/plain": "⎛  _    †⎞         \n⎝- α + a ⎠⋅(-α + a)",
      "image/png": "[encoded data removed]",
      "text/latex": "$$\\left(- \\overline{\\alpha} + {{a}^\\dagger}\\right) \\left(- \\alpha + {a}\\right)$$"
     },
     "execution_count": 24,
     "metadata": {},
     "output_type": "execute_result"
    }
   ],
   "source": [
    "unitary_transformation(U, Dagger(a) * a)"
   ]
  },
  {
   "cell_type": "markdown",
   "id": "26af5a08",
   "metadata": {},
   "source": [
    "## Optomechanical system"
   ]
  },
  {
   "cell_type": "markdown",
   "id": "4af95f1a",
   "metadata": {},
   "source": [
    "Consider the standard Hamiltonian for an optomechanical syste, including a classical driving signal on the optical mode:\n",
    "\n",
    "$$\n",
    "H = \\hbar\\omega_a a^\\dagger a + \\hbar \\omega_b b^\\dagger b + \\hbar g a^\\dagger a (b + b^\\dagger) + (A e^{-i\\omega_d t} + A^* e^{i\\omega_d t})(a + a^\\dagger)\n",
    "$$\n",
    "\n"
   ]
  },
  {
   "cell_type": "code",
   "execution_count": 25,
   "id": "b247c05c",
   "metadata": {
    "collapsed": false,
    "ExecuteTime": {
     "end_time": "2023-11-06T13:42:20.554466230Z",
     "start_time": "2023-11-06T13:42:20.548689471Z"
    }
   },
   "outputs": [],
   "source": [
    "n = 6\n",
    "omega_a, omega_b, g, A, Delta = symbols(\"omega_a, omega_b, g, A, Delta\", positive=True)\n",
    "Hsym, omega_d = symbols(\"H, omega_d\")"
   ]
  },
  {
   "cell_type": "code",
   "execution_count": 26,
   "id": "804f57a9",
   "metadata": {
    "collapsed": false,
    "ExecuteTime": {
     "end_time": "2023-11-06T13:42:21.453975769Z",
     "start_time": "2023-11-06T13:42:21.449301352Z"
    }
   },
   "outputs": [],
   "source": [
    "a, b = BosonOp(\"a\"), BosonOp(\"b\")"
   ]
  },
  {
   "cell_type": "code",
   "execution_count": 27,
   "id": "0c7dc4a4",
   "metadata": {
    "collapsed": false,
    "ExecuteTime": {
     "end_time": "2023-11-06T13:42:22.618952264Z",
     "start_time": "2023-11-06T13:42:22.337361270Z"
    }
   },
   "outputs": [
    {
     "data": {
      "text/plain": "       †   ⎛ †    ⎞       †          †     ⎛   ⅈ⋅ω_d⋅t      -ⅈ⋅ω_d⋅t⎞ ⎛ †    ⎞\nH = g⋅a ⋅a⋅⎝b  + b⎠ + ωₐ⋅a ⋅a + ω_b⋅b ⋅b + ⎝A⋅ℯ        + A⋅ℯ        ⎠⋅⎝a  + a⎠",
      "image/png": "[encoded data removed]",
      "text/latex": "$$H = g {{a}^\\dagger} {a} \\left({{b}^\\dagger} + {b}\\right) + \\omega_{a} {{a}^\\dagger} {a} + \\omega_{b} {{b}^\\dagger} {b} + \\left(A e^{i \\omega_{d} t} + A e^{- i \\omega_{d} t}\\right) \\left({{a}^\\dagger} + {a}\\right)$$"
     },
     "execution_count": 27,
     "metadata": {},
     "output_type": "execute_result"
    }
   ],
   "source": [
    "H = omega_a * Dagger(a) * a + omega_b * Dagger(b) * b + g * Dagger(a) * a * (b + Dagger(b)) \\\n",
    "    + (A * exp(-I * omega_d * t) + conjugate(A) * exp(I * omega_d * t)) * (a + Dagger(a))\n",
    "\n",
    "Eq(Hsym, H)"
   ]
  },
  {
   "cell_type": "markdown",
   "id": "51546958",
   "metadata": {},
   "source": [
    "### Linearized interaction"
   ]
  },
  {
   "cell_type": "markdown",
   "id": "af7f23b0",
   "metadata": {},
   "source": [
    "First we apply the unitary transformation $U = e^{i \\omega_d a^\\dagger a t}$:"
   ]
  },
  {
   "cell_type": "code",
   "execution_count": 28,
   "id": "b7c0cee9",
   "metadata": {
    "collapsed": false,
    "ExecuteTime": {
     "end_time": "2023-11-06T13:42:25.495253639Z",
     "start_time": "2023-11-06T13:42:25.255969434Z"
    }
   },
   "outputs": [
    {
     "data": {
      "text/plain": "          †  \n ⅈ⋅ω_d⋅t⋅a ⋅a\nℯ            ",
      "image/png": "[encoded data removed]",
      "text/latex": "$$e^{i \\omega_{d} t {{a}^\\dagger} {a}}$$"
     },
     "execution_count": 28,
     "metadata": {},
     "output_type": "execute_result"
    }
   ],
   "source": [
    "U = exp(I * Dagger(a) * a * omega_d * t)\n",
    "\n",
    "U"
   ]
  },
  {
   "cell_type": "code",
   "execution_count": 29,
   "id": "a5db6904",
   "metadata": {
    "collapsed": false,
    "ExecuteTime": {
     "end_time": "2023-11-06T13:42:29.131003694Z",
     "start_time": "2023-11-06T13:42:26.345533755Z"
    }
   },
   "outputs": [
    {
     "data": {
      "text/plain": "   †   ⎛ †    ⎞       †          †     ⎛   ⅈ⋅ω_d⋅t      -ⅈ⋅ω_d⋅t⎞ ⎛ ⅈ⋅ω_d⋅t  †\ng⋅a ⋅a⋅⎝b  + b⎠ + ωₐ⋅a ⋅a + ω_b⋅b ⋅b + ⎝A⋅ℯ        + A⋅ℯ        ⎠⋅⎝ℯ       ⋅a \n\n    -ⅈ⋅ω_d⋅t  ⎞\n + ℯ        ⋅a⎠",
      "image/png": "[encoded data removed]",
      "text/latex": "$$g {{a}^\\dagger} {a} \\left({{b}^\\dagger} + {b}\\right) + \\omega_{a} {{a}^\\dagger} {a} + \\omega_{b} {{b}^\\dagger} {b} + \\left(A e^{i \\omega_{d} t} + A e^{- i \\omega_{d} t}\\right) \\left(e^{i \\omega_{d} t} {{a}^\\dagger} + e^{- i \\omega_{d} t} {a}\\right)$$"
     },
     "execution_count": 29,
     "metadata": {},
     "output_type": "execute_result"
    }
   ],
   "source": [
    "unitary_transformation(U, H, independent=True)"
   ]
  },
  {
   "cell_type": "code",
   "execution_count": 30,
   "id": "499506f8",
   "metadata": {
    "collapsed": false,
    "ExecuteTime": {
     "end_time": "2023-11-06T13:42:32.977905351Z",
     "start_time": "2023-11-06T13:42:30.360686029Z"
    }
   },
   "outputs": [
    {
     "data": {
      "text/plain": "   †   ⎛ †    ⎞       †          †          †     ⎛   ⅈ⋅ω_d⋅t      -ⅈ⋅ω_d⋅t⎞ ⎛\ng⋅a ⋅a⋅⎝b  + b⎠ + ωₐ⋅a ⋅a + ω_b⋅b ⋅b - ω_d⋅a ⋅a + ⎝A⋅ℯ        + A⋅ℯ        ⎠⋅⎝\n\n ⅈ⋅ω_d⋅t  †    -ⅈ⋅ω_d⋅t  ⎞\nℯ       ⋅a  + ℯ        ⋅a⎠",
      "image/png": "[encoded data removed]",
      "text/latex": "$$g {{a}^\\dagger} {a} \\left({{b}^\\dagger} + {b}\\right) + \\omega_{a} {{a}^\\dagger} {a} + \\omega_{b} {{b}^\\dagger} {b} - \\omega_{d} {{a}^\\dagger} {a} + \\left(A e^{i \\omega_{d} t} + A e^{- i \\omega_{d} t}\\right) \\left(e^{i \\omega_{d} t} {{a}^\\dagger} + e^{- i \\omega_{d} t} {a}\\right)$$"
     },
     "execution_count": 30,
     "metadata": {},
     "output_type": "execute_result"
    }
   ],
   "source": [
    "H1 = hamiltonian_transformation(U, H, independent=True)\n",
    "\n",
    "H1"
   ]
  },
  {
   "cell_type": "markdown",
   "id": "3422fdbf",
   "metadata": {},
   "source": [
    "We can now perform a rotating-wave approximation (RWA) by eliminating all terms that rotate with frequencies $2\\omega_d$:"
   ]
  },
  {
   "cell_type": "code",
   "execution_count": 31,
   "id": "10e2861c",
   "metadata": {
    "collapsed": false,
    "ExecuteTime": {
     "end_time": "2023-11-06T13:42:38.571419142Z",
     "start_time": "2023-11-06T13:42:38.340355894Z"
    }
   },
   "outputs": [
    {
     "data": {
      "text/plain": "             †            †    †      †           †          †          †  \nH_{rwa} = A⋅a  + A⋅a + g⋅a ⋅a⋅b  + g⋅a ⋅a⋅b + ωₐ⋅a ⋅a + ω_b⋅b ⋅b - ω_d⋅a ⋅a",
      "image/png": "[encoded data removed]",
      "text/latex": "$$H_{rwa} = A {{a}^\\dagger} + A {a} + g {{a}^\\dagger} {a} {{b}^\\dagger} + g {{a}^\\dagger} {a} {b} + \\omega_{a} {{a}^\\dagger} {a} + \\omega_{b} {{b}^\\dagger} {b} - \\omega_{d} {{a}^\\dagger} {a}$$"
     },
     "execution_count": 31,
     "metadata": {},
     "output_type": "execute_result"
    }
   ],
   "source": [
    "H2 = drop_terms_containing(H1.expand(), [exp(-2*I*omega_d*t), exp(2*I*omega_d*t)])\n",
    "\n",
    "Eq(Symbol(\"H_{rwa}\"), H2)"
   ]
  },
  {
   "cell_type": "markdown",
   "id": "06547d55",
   "metadata": {},
   "source": [
    "Now we introduce the detuning $\\Delta = \\omega_a - \\omega_d$:"
   ]
  },
  {
   "cell_type": "code",
   "execution_count": 32,
   "id": "a0d9a4b9",
   "metadata": {
    "collapsed": false,
    "ExecuteTime": {
     "end_time": "2023-11-06T13:42:42.041186392Z",
     "start_time": "2023-11-06T13:42:41.817351099Z"
    }
   },
   "outputs": [
    {
     "data": {
      "text/plain": "   †            †        †    †      †            †  \nA⋅a  + A⋅a + Δ⋅a ⋅a + g⋅a ⋅a⋅b  + g⋅a ⋅a⋅b + ω_b⋅b ⋅b",
      "image/png": "[encoded data removed]",
      "text/latex": "$$A {{a}^\\dagger} + A {a} + \\Delta {{a}^\\dagger} {a} + g {{a}^\\dagger} {a} {{b}^\\dagger} + g {{a}^\\dagger} {a} {b} + \\omega_{b} {{b}^\\dagger} {b}$$"
     },
     "execution_count": 32,
     "metadata": {},
     "output_type": "execute_result"
    }
   ],
   "source": [
    "H3 = H2.subs(omega_a, Delta + omega_d).expand()\n",
    "\n",
    "H3"
   ]
  },
  {
   "cell_type": "markdown",
   "id": "75132f36",
   "metadata": {},
   "source": [
    "To eliminate the coherent part of the state of the cavity mode we apply the unitary displacement operator $U = e^{\\alpha a^\\dagger - \\alpha^*a}$:"
   ]
  },
  {
   "cell_type": "code",
   "execution_count": 33,
   "id": "b6630c8d",
   "metadata": {
    "collapsed": false,
    "ExecuteTime": {
     "end_time": "2023-11-06T13:42:46.257166322Z",
     "start_time": "2023-11-06T13:42:46.252033550Z"
    }
   },
   "outputs": [],
   "source": [
    "alpha = symbols(\"alpha\")"
   ]
  },
  {
   "cell_type": "code",
   "execution_count": 34,
   "id": "1b0a42b5",
   "metadata": {
    "collapsed": false,
    "ExecuteTime": {
     "end_time": "2023-11-06T13:42:47.649414375Z",
     "start_time": "2023-11-06T13:42:47.363772942Z"
    }
   },
   "outputs": [
    {
     "data": {
      "text/plain": "    †   _  \n α⋅a  - α⋅a\nℯ          ",
      "image/png": "[encoded data removed]",
      "text/latex": "$$e^{\\alpha {{a}^\\dagger} - \\overline{\\alpha} {a}}$$"
     },
     "execution_count": 34,
     "metadata": {},
     "output_type": "execute_result"
    }
   ],
   "source": [
    "H = Dagger(a) * alpha - conjugate(alpha) * a\n",
    "U = exp(H)\n",
    "\n",
    "U"
   ]
  },
  {
   "cell_type": "code",
   "execution_count": 35,
   "id": "a638a47d",
   "metadata": {
    "collapsed": false,
    "ExecuteTime": {
     "end_time": "2023-11-06T13:42:58.894895100Z",
     "start_time": "2023-11-06T13:42:54.434578238Z"
    }
   },
   "outputs": [
    {
     "data": {
      "text/plain": "               ⎛  _    †⎞     ⎛  _    †⎞              ⎛  _    †⎞           †  \nA⋅(-α + a) + A⋅⎝- α + a ⎠ + Δ⋅⎝- α + a ⎠⋅(-α + a) + g⋅⎝- α + a ⎠⋅(-α + a)⋅b  +\n\n   ⎛  _    †⎞                   †  \n g⋅⎝- α + a ⎠⋅(-α + a)⋅b + ω_b⋅b ⋅b",
      "image/png": "[encoded data removed]",
      "text/latex": "$$A \\left(- \\alpha + {a}\\right) + A \\left(- \\overline{\\alpha} + {{a}^\\dagger}\\right) + \\Delta \\left(- \\overline{\\alpha} + {{a}^\\dagger}\\right) \\left(- \\alpha + {a}\\right) + g \\left(- \\overline{\\alpha} + {{a}^\\dagger}\\right) \\left(- \\alpha + {a}\\right) {{b}^\\dagger} + g \\left(- \\overline{\\alpha} + {{a}^\\dagger}\\right) \\left(- \\alpha + {a}\\right) {b} + \\omega_{b} {{b}^\\dagger} {b}$$"
     },
     "execution_count": 35,
     "metadata": {},
     "output_type": "execute_result"
    }
   ],
   "source": [
    "H4 = hamiltonian_transformation(U, H3, independent=True)\n",
    "\n",
    "H4"
   ]
  },
  {
   "cell_type": "markdown",
   "id": "01ab6782",
   "metadata": {},
   "source": [
    "Now want to cancel out the drivng terms so we set $A - \\Delta \\alpha = 0$, i.e. $\\alpha = A/\\Delta$:"
   ]
  },
  {
   "cell_type": "code",
   "execution_count": 36,
   "id": "b9a7e1a2",
   "metadata": {
    "collapsed": false,
    "ExecuteTime": {
     "end_time": "2023-11-06T13:43:02.986441498Z",
     "start_time": "2023-11-06T13:43:02.753635084Z"
    }
   },
   "outputs": [
    {
     "data": {
      "text/plain": "     2      †      2   ⎛ †    ⎞       ⎛   †  †    †        †      ⎞      †   ⎛\n- Δ⋅α  + Δ⋅a ⋅a + α ⋅g⋅⎝b  + b⎠ + α⋅g⋅⎝- a ⋅b  - a ⋅b - a⋅b  - a⋅b⎠ + g⋅a ⋅a⋅⎝\n\n †    ⎞        †  \nb  + b⎠ + ω_b⋅b ⋅b",
      "image/png": "[encoded data removed]",
      "text/latex": "$$- \\Delta \\alpha^{2} + \\Delta {{a}^\\dagger} {a} + \\alpha^{2} g \\left({{b}^\\dagger} + {b}\\right) + \\alpha g \\left(- {{a}^\\dagger} {{b}^\\dagger} - {{a}^\\dagger} {b} - {a} {{b}^\\dagger} - {a} {b}\\right) + g {{a}^\\dagger} {a} \\left({{b}^\\dagger} + {b}\\right) + \\omega_{b} {{b}^\\dagger} {b}$$"
     },
     "execution_count": 36,
     "metadata": {},
     "output_type": "execute_result"
    }
   ],
   "source": [
    "H5 = H4.expand().subs({A: alpha * Delta, conjugate(alpha): alpha}) \n",
    "\n",
    "H5 = collect(H5, [g * Dagger(a) * a, - alpha * g])\n",
    "\n",
    "H5"
   ]
  },
  {
   "cell_type": "markdown",
   "id": "b3e25157",
   "metadata": {},
   "source": [
    "Drop C-numbers from the hamiltonian:"
   ]
  },
  {
   "cell_type": "code",
   "execution_count": 37,
   "id": "d0b3a13b",
   "metadata": {
    "collapsed": false,
    "ExecuteTime": {
     "end_time": "2023-11-06T13:43:08.359837979Z",
     "start_time": "2023-11-06T13:43:08.131453340Z"
    }
   },
   "outputs": [
    {
     "data": {
      "text/plain": "   †      2   ⎛ †    ⎞       ⎛   †  †    †        †      ⎞      †   ⎛ †    ⎞  \nΔ⋅a ⋅a + α ⋅g⋅⎝b  + b⎠ + α⋅g⋅⎝- a ⋅b  - a ⋅b - a⋅b  - a⋅b⎠ + g⋅a ⋅a⋅⎝b  + b⎠ +\n\n      †  \n ω_b⋅b ⋅b",
      "image/png": "[encoded data removed]",
      "text/latex": "$$\\Delta {{a}^\\dagger} {a} + \\alpha^{2} g \\left({{b}^\\dagger} + {b}\\right) + \\alpha g \\left(- {{a}^\\dagger} {{b}^\\dagger} - {{a}^\\dagger} {b} - {a} {{b}^\\dagger} - {a} {b}\\right) + g {{a}^\\dagger} {a} \\left({{b}^\\dagger} + {b}\\right) + \\omega_{b} {{b}^\\dagger} {b}$$"
     },
     "execution_count": 37,
     "metadata": {},
     "output_type": "execute_result"
    }
   ],
   "source": [
    "H6 = drop_c_number_terms(H5)\n",
    "\n",
    "H6"
   ]
  },
  {
   "cell_type": "markdown",
   "id": "97afc90d",
   "metadata": {},
   "source": [
    "Now, if driving strength is large, so that $\\alpha \\gg 1$, we can drop the nonlinear interaction term, and we have an linear effective coupling:"
   ]
  },
  {
   "cell_type": "code",
   "execution_count": 38,
   "id": "17a468d9",
   "metadata": {
    "collapsed": false,
    "ExecuteTime": {
     "end_time": "2023-11-06T13:43:11.039187941Z",
     "start_time": "2023-11-06T13:43:10.803581449Z"
    }
   },
   "outputs": [
    {
     "data": {
      "text/plain": "       †      2   ⎛ †    ⎞       ⎛   †  †    †        †      ⎞      †   ⎛ †   \nH = Δ⋅a ⋅a + α ⋅g⋅⎝b  + b⎠ + α⋅g⋅⎝- a ⋅b  - a ⋅b - a⋅b  - a⋅b⎠ + g⋅a ⋅a⋅⎝b  + \n\n ⎞        †  \nb⎠ + ω_b⋅b ⋅b",
      "image/png": "[encoded data removed]",
      "text/latex": "$$H = \\Delta {{a}^\\dagger} {a} + \\alpha^{2} g \\left({{b}^\\dagger} + {b}\\right) + \\alpha g \\left(- {{a}^\\dagger} {{b}^\\dagger} - {{a}^\\dagger} {b} - {a} {{b}^\\dagger} - {a} {b}\\right) + g {{a}^\\dagger} {a} \\left({{b}^\\dagger} + {b}\\right) + \\omega_{b} {{b}^\\dagger} {b}$$"
     },
     "execution_count": 38,
     "metadata": {},
     "output_type": "execute_result"
    }
   ],
   "source": [
    "H7 = drop_terms_containing(H6, [g * Dagger(a) * a])  # XXX not working\n",
    "\n",
    "Eq(Hsym, H7)"
   ]
  },
  {
   "cell_type": "markdown",
   "id": "9844664d",
   "metadata": {},
   "source": [
    "## Versions"
   ]
  },
  {
   "cell_type": "code",
   "execution_count": 39,
   "id": "e6fbe218",
   "metadata": {
    "collapsed": false,
    "ExecuteTime": {
     "end_time": "2023-11-06T13:43:13.223074390Z",
     "start_time": "2023-11-06T13:43:13.205906302Z"
    }
   },
   "outputs": [
    {
     "ename": "ModuleNotFoundError",
     "evalue": "No module named 'version_information'",
     "output_type": "error",
     "traceback": [
      "\u001B[0;31m---------------------------------------------------------------------------\u001B[0m",
      "\u001B[0;31mModuleNotFoundError\u001B[0m                       Traceback (most recent call last)",
      "\u001B[0;32m/tmp/ipykernel_771497/2812630264.py\u001B[0m in \u001B[0;36m<module>\u001B[0;34m\u001B[0m\n\u001B[0;32m----> 1\u001B[0;31m \u001B[0mget_ipython\u001B[0m\u001B[0;34m(\u001B[0m\u001B[0;34m)\u001B[0m\u001B[0;34m.\u001B[0m\u001B[0mrun_line_magic\u001B[0m\u001B[0;34m(\u001B[0m\u001B[0;34m'reload_ext'\u001B[0m\u001B[0;34m,\u001B[0m \u001B[0;34m'version_information'\u001B[0m\u001B[0;34m)\u001B[0m\u001B[0;34m\u001B[0m\u001B[0;34m\u001B[0m\u001B[0m\n\u001B[0m\u001B[1;32m      2\u001B[0m \u001B[0;34m\u001B[0m\u001B[0m\n\u001B[1;32m      3\u001B[0m \u001B[0mget_ipython\u001B[0m\u001B[0;34m(\u001B[0m\u001B[0;34m)\u001B[0m\u001B[0;34m.\u001B[0m\u001B[0mrun_line_magic\u001B[0m\u001B[0;34m(\u001B[0m\u001B[0;34m'version_information'\u001B[0m\u001B[0;34m,\u001B[0m \u001B[0;34m'sympy'\u001B[0m\u001B[0;34m)\u001B[0m\u001B[0;34m\u001B[0m\u001B[0;34m\u001B[0m\u001B[0m\n",
      "\u001B[0;32m~/.conda/envs/oldsympy/lib/python3.7/site-packages/IPython/core/interactiveshell.py\u001B[0m in \u001B[0;36mrun_line_magic\u001B[0;34m(self, magic_name, line, _stack_depth)\u001B[0m\n\u001B[1;32m   2362\u001B[0m                 \u001B[0mkwargs\u001B[0m\u001B[0;34m[\u001B[0m\u001B[0;34m'local_ns'\u001B[0m\u001B[0;34m]\u001B[0m \u001B[0;34m=\u001B[0m \u001B[0mself\u001B[0m\u001B[0;34m.\u001B[0m\u001B[0mget_local_scope\u001B[0m\u001B[0;34m(\u001B[0m\u001B[0mstack_depth\u001B[0m\u001B[0;34m)\u001B[0m\u001B[0;34m\u001B[0m\u001B[0;34m\u001B[0m\u001B[0m\n\u001B[1;32m   2363\u001B[0m             \u001B[0;32mwith\u001B[0m \u001B[0mself\u001B[0m\u001B[0;34m.\u001B[0m\u001B[0mbuiltin_trap\u001B[0m\u001B[0;34m:\u001B[0m\u001B[0;34m\u001B[0m\u001B[0;34m\u001B[0m\u001B[0m\n\u001B[0;32m-> 2364\u001B[0;31m                 \u001B[0mresult\u001B[0m \u001B[0;34m=\u001B[0m \u001B[0mfn\u001B[0m\u001B[0;34m(\u001B[0m\u001B[0;34m*\u001B[0m\u001B[0margs\u001B[0m\u001B[0;34m,\u001B[0m \u001B[0;34m**\u001B[0m\u001B[0mkwargs\u001B[0m\u001B[0;34m)\u001B[0m\u001B[0;34m\u001B[0m\u001B[0;34m\u001B[0m\u001B[0m\n\u001B[0m\u001B[1;32m   2365\u001B[0m             \u001B[0;32mreturn\u001B[0m \u001B[0mresult\u001B[0m\u001B[0;34m\u001B[0m\u001B[0;34m\u001B[0m\u001B[0m\n\u001B[1;32m   2366\u001B[0m \u001B[0;34m\u001B[0m\u001B[0m\n",
      "\u001B[0;32m~/.conda/envs/oldsympy/lib/python3.7/site-packages/decorator.py\u001B[0m in \u001B[0;36mfun\u001B[0;34m(*args, **kw)\u001B[0m\n\u001B[1;32m    230\u001B[0m             \u001B[0;32mif\u001B[0m \u001B[0;32mnot\u001B[0m \u001B[0mkwsyntax\u001B[0m\u001B[0;34m:\u001B[0m\u001B[0;34m\u001B[0m\u001B[0;34m\u001B[0m\u001B[0m\n\u001B[1;32m    231\u001B[0m                 \u001B[0margs\u001B[0m\u001B[0;34m,\u001B[0m \u001B[0mkw\u001B[0m \u001B[0;34m=\u001B[0m \u001B[0mfix\u001B[0m\u001B[0;34m(\u001B[0m\u001B[0margs\u001B[0m\u001B[0;34m,\u001B[0m \u001B[0mkw\u001B[0m\u001B[0;34m,\u001B[0m \u001B[0msig\u001B[0m\u001B[0;34m)\u001B[0m\u001B[0;34m\u001B[0m\u001B[0;34m\u001B[0m\u001B[0m\n\u001B[0;32m--> 232\u001B[0;31m             \u001B[0;32mreturn\u001B[0m \u001B[0mcaller\u001B[0m\u001B[0;34m(\u001B[0m\u001B[0mfunc\u001B[0m\u001B[0;34m,\u001B[0m \u001B[0;34m*\u001B[0m\u001B[0;34m(\u001B[0m\u001B[0mextras\u001B[0m \u001B[0;34m+\u001B[0m \u001B[0margs\u001B[0m\u001B[0;34m)\u001B[0m\u001B[0;34m,\u001B[0m \u001B[0;34m**\u001B[0m\u001B[0mkw\u001B[0m\u001B[0;34m)\u001B[0m\u001B[0;34m\u001B[0m\u001B[0;34m\u001B[0m\u001B[0m\n\u001B[0m\u001B[1;32m    233\u001B[0m     \u001B[0mfun\u001B[0m\u001B[0;34m.\u001B[0m\u001B[0m__name__\u001B[0m \u001B[0;34m=\u001B[0m \u001B[0mfunc\u001B[0m\u001B[0;34m.\u001B[0m\u001B[0m__name__\u001B[0m\u001B[0;34m\u001B[0m\u001B[0;34m\u001B[0m\u001B[0m\n\u001B[1;32m    234\u001B[0m     \u001B[0mfun\u001B[0m\u001B[0;34m.\u001B[0m\u001B[0m__doc__\u001B[0m \u001B[0;34m=\u001B[0m \u001B[0mfunc\u001B[0m\u001B[0;34m.\u001B[0m\u001B[0m__doc__\u001B[0m\u001B[0;34m\u001B[0m\u001B[0;34m\u001B[0m\u001B[0m\n",
      "\u001B[0;32m~/.conda/envs/oldsympy/lib/python3.7/site-packages/IPython/core/magic.py\u001B[0m in \u001B[0;36m<lambda>\u001B[0;34m(f, *a, **k)\u001B[0m\n\u001B[1;32m    185\u001B[0m     \u001B[0;31m# but it's overkill for just that one bit of state.\u001B[0m\u001B[0;34m\u001B[0m\u001B[0;34m\u001B[0m\u001B[0;34m\u001B[0m\u001B[0m\n\u001B[1;32m    186\u001B[0m     \u001B[0;32mdef\u001B[0m \u001B[0mmagic_deco\u001B[0m\u001B[0;34m(\u001B[0m\u001B[0marg\u001B[0m\u001B[0;34m)\u001B[0m\u001B[0;34m:\u001B[0m\u001B[0;34m\u001B[0m\u001B[0;34m\u001B[0m\u001B[0m\n\u001B[0;32m--> 187\u001B[0;31m         \u001B[0mcall\u001B[0m \u001B[0;34m=\u001B[0m \u001B[0;32mlambda\u001B[0m \u001B[0mf\u001B[0m\u001B[0;34m,\u001B[0m \u001B[0;34m*\u001B[0m\u001B[0ma\u001B[0m\u001B[0;34m,\u001B[0m \u001B[0;34m**\u001B[0m\u001B[0mk\u001B[0m\u001B[0;34m:\u001B[0m \u001B[0mf\u001B[0m\u001B[0;34m(\u001B[0m\u001B[0;34m*\u001B[0m\u001B[0ma\u001B[0m\u001B[0;34m,\u001B[0m \u001B[0;34m**\u001B[0m\u001B[0mk\u001B[0m\u001B[0;34m)\u001B[0m\u001B[0;34m\u001B[0m\u001B[0;34m\u001B[0m\u001B[0m\n\u001B[0m\u001B[1;32m    188\u001B[0m \u001B[0;34m\u001B[0m\u001B[0m\n\u001B[1;32m    189\u001B[0m         \u001B[0;32mif\u001B[0m \u001B[0mcallable\u001B[0m\u001B[0;34m(\u001B[0m\u001B[0marg\u001B[0m\u001B[0;34m)\u001B[0m\u001B[0;34m:\u001B[0m\u001B[0;34m\u001B[0m\u001B[0;34m\u001B[0m\u001B[0m\n",
      "\u001B[0;32m~/.conda/envs/oldsympy/lib/python3.7/site-packages/IPython/core/magics/extension.py\u001B[0m in \u001B[0;36mreload_ext\u001B[0;34m(self, module_str)\u001B[0m\n\u001B[1;32m     61\u001B[0m         \u001B[0;32mif\u001B[0m \u001B[0;32mnot\u001B[0m \u001B[0mmodule_str\u001B[0m\u001B[0;34m:\u001B[0m\u001B[0;34m\u001B[0m\u001B[0;34m\u001B[0m\u001B[0m\n\u001B[1;32m     62\u001B[0m             \u001B[0;32mraise\u001B[0m \u001B[0mUsageError\u001B[0m\u001B[0;34m(\u001B[0m\u001B[0;34m'Missing module name.'\u001B[0m\u001B[0;34m)\u001B[0m\u001B[0;34m\u001B[0m\u001B[0;34m\u001B[0m\u001B[0m\n\u001B[0;32m---> 63\u001B[0;31m         \u001B[0mself\u001B[0m\u001B[0;34m.\u001B[0m\u001B[0mshell\u001B[0m\u001B[0;34m.\u001B[0m\u001B[0mextension_manager\u001B[0m\u001B[0;34m.\u001B[0m\u001B[0mreload_extension\u001B[0m\u001B[0;34m(\u001B[0m\u001B[0mmodule_str\u001B[0m\u001B[0;34m)\u001B[0m\u001B[0;34m\u001B[0m\u001B[0;34m\u001B[0m\u001B[0m\n\u001B[0m",
      "\u001B[0;32m~/.conda/envs/oldsympy/lib/python3.7/site-packages/IPython/core/extensions.py\u001B[0m in \u001B[0;36mreload_extension\u001B[0;34m(self, module_str)\u001B[0m\n\u001B[1;32m    128\u001B[0m                 \u001B[0mself\u001B[0m\u001B[0;34m.\u001B[0m\u001B[0mloaded\u001B[0m\u001B[0;34m.\u001B[0m\u001B[0madd\u001B[0m\u001B[0;34m(\u001B[0m\u001B[0mmodule_str\u001B[0m\u001B[0;34m)\u001B[0m\u001B[0;34m\u001B[0m\u001B[0;34m\u001B[0m\u001B[0m\n\u001B[1;32m    129\u001B[0m         \u001B[0;32melse\u001B[0m\u001B[0;34m:\u001B[0m\u001B[0;34m\u001B[0m\u001B[0;34m\u001B[0m\u001B[0m\n\u001B[0;32m--> 130\u001B[0;31m             \u001B[0mself\u001B[0m\u001B[0;34m.\u001B[0m\u001B[0mload_extension\u001B[0m\u001B[0;34m(\u001B[0m\u001B[0mmodule_str\u001B[0m\u001B[0;34m)\u001B[0m\u001B[0;34m\u001B[0m\u001B[0;34m\u001B[0m\u001B[0m\n\u001B[0m\u001B[1;32m    131\u001B[0m \u001B[0;34m\u001B[0m\u001B[0m\n\u001B[1;32m    132\u001B[0m     \u001B[0;32mdef\u001B[0m \u001B[0m_call_load_ipython_extension\u001B[0m\u001B[0;34m(\u001B[0m\u001B[0mself\u001B[0m\u001B[0;34m,\u001B[0m \u001B[0mmod\u001B[0m\u001B[0;34m)\u001B[0m\u001B[0;34m:\u001B[0m\u001B[0;34m\u001B[0m\u001B[0;34m\u001B[0m\u001B[0m\n",
      "\u001B[0;32m~/.conda/envs/oldsympy/lib/python3.7/site-packages/IPython/core/extensions.py\u001B[0m in \u001B[0;36mload_extension\u001B[0;34m(self, module_str)\u001B[0m\n\u001B[1;32m     78\u001B[0m             \u001B[0;32mif\u001B[0m \u001B[0mmodule_str\u001B[0m \u001B[0;32mnot\u001B[0m \u001B[0;32min\u001B[0m \u001B[0msys\u001B[0m\u001B[0;34m.\u001B[0m\u001B[0mmodules\u001B[0m\u001B[0;34m:\u001B[0m\u001B[0;34m\u001B[0m\u001B[0;34m\u001B[0m\u001B[0m\n\u001B[1;32m     79\u001B[0m                 \u001B[0;32mwith\u001B[0m \u001B[0mprepended_to_syspath\u001B[0m\u001B[0;34m(\u001B[0m\u001B[0mself\u001B[0m\u001B[0;34m.\u001B[0m\u001B[0mipython_extension_dir\u001B[0m\u001B[0;34m)\u001B[0m\u001B[0;34m:\u001B[0m\u001B[0;34m\u001B[0m\u001B[0;34m\u001B[0m\u001B[0m\n\u001B[0;32m---> 80\u001B[0;31m                     \u001B[0mmod\u001B[0m \u001B[0;34m=\u001B[0m \u001B[0mimport_module\u001B[0m\u001B[0;34m(\u001B[0m\u001B[0mmodule_str\u001B[0m\u001B[0;34m)\u001B[0m\u001B[0;34m\u001B[0m\u001B[0;34m\u001B[0m\u001B[0m\n\u001B[0m\u001B[1;32m     81\u001B[0m                     \u001B[0;32mif\u001B[0m \u001B[0mmod\u001B[0m\u001B[0;34m.\u001B[0m\u001B[0m__file__\u001B[0m\u001B[0;34m.\u001B[0m\u001B[0mstartswith\u001B[0m\u001B[0;34m(\u001B[0m\u001B[0mself\u001B[0m\u001B[0;34m.\u001B[0m\u001B[0mipython_extension_dir\u001B[0m\u001B[0;34m)\u001B[0m\u001B[0;34m:\u001B[0m\u001B[0;34m\u001B[0m\u001B[0;34m\u001B[0m\u001B[0m\n\u001B[1;32m     82\u001B[0m                         print((\"Loading extensions from {dir} is deprecated. \"\n",
      "\u001B[0;32m~/.conda/envs/oldsympy/lib/python3.7/importlib/__init__.py\u001B[0m in \u001B[0;36mimport_module\u001B[0;34m(name, package)\u001B[0m\n\u001B[1;32m    125\u001B[0m                 \u001B[0;32mbreak\u001B[0m\u001B[0;34m\u001B[0m\u001B[0;34m\u001B[0m\u001B[0m\n\u001B[1;32m    126\u001B[0m             \u001B[0mlevel\u001B[0m \u001B[0;34m+=\u001B[0m \u001B[0;36m1\u001B[0m\u001B[0;34m\u001B[0m\u001B[0;34m\u001B[0m\u001B[0m\n\u001B[0;32m--> 127\u001B[0;31m     \u001B[0;32mreturn\u001B[0m \u001B[0m_bootstrap\u001B[0m\u001B[0;34m.\u001B[0m\u001B[0m_gcd_import\u001B[0m\u001B[0;34m(\u001B[0m\u001B[0mname\u001B[0m\u001B[0;34m[\u001B[0m\u001B[0mlevel\u001B[0m\u001B[0;34m:\u001B[0m\u001B[0;34m]\u001B[0m\u001B[0;34m,\u001B[0m \u001B[0mpackage\u001B[0m\u001B[0;34m,\u001B[0m \u001B[0mlevel\u001B[0m\u001B[0;34m)\u001B[0m\u001B[0;34m\u001B[0m\u001B[0;34m\u001B[0m\u001B[0m\n\u001B[0m\u001B[1;32m    128\u001B[0m \u001B[0;34m\u001B[0m\u001B[0m\n\u001B[1;32m    129\u001B[0m \u001B[0;34m\u001B[0m\u001B[0m\n",
      "\u001B[0;32m~/.conda/envs/oldsympy/lib/python3.7/importlib/_bootstrap.py\u001B[0m in \u001B[0;36m_gcd_import\u001B[0;34m(name, package, level)\u001B[0m\n",
      "\u001B[0;32m~/.conda/envs/oldsympy/lib/python3.7/importlib/_bootstrap.py\u001B[0m in \u001B[0;36m_find_and_load\u001B[0;34m(name, import_)\u001B[0m\n",
      "\u001B[0;32m~/.conda/envs/oldsympy/lib/python3.7/importlib/_bootstrap.py\u001B[0m in \u001B[0;36m_find_and_load_unlocked\u001B[0;34m(name, import_)\u001B[0m\n",
      "\u001B[0;31mModuleNotFoundError\u001B[0m: No module named 'version_information'"
     ]
    }
   ],
   "source": [
    "%reload_ext version_information\n",
    "\n",
    "%version_information sympy"
   ]
  },
  {
   "cell_type": "code",
   "execution_count": 47,
   "id": "e5ac8860",
   "metadata": {
    "collapsed": false
   },
   "outputs": [],
   "source": []
  },
  {
   "cell_type": "code",
   "execution_count": null,
   "id": "b09d4621",
   "metadata": {
    "collapsed": false
   },
   "outputs": [],
   "source": []
  }
 ],
 "metadata": {
  "kernelspec": {
   "name": "python3",
   "language": "python",
   "display_name": "Python 3 (ipykernel)"
  }
 },
 "nbformat": 4,
 "nbformat_minor": 5
}
