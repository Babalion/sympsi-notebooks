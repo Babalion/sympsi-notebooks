{
 "metadata": {
  "name": "",
  "signature": "sha256:2ac3927d6447442f9e6bf92cb1bfa7cf205b81a1f6b872a424e73e5af43b0164"
 },
 "nbformat": 3,
 "nbformat_minor": 0,
 "worksheets": [
  {
   "cells": [
    {
     "cell_type": "heading",
     "level": 1,
     "metadata": {},
     "source": [
      "Unitary transformations of boson operators"
     ]
    },
    {
     "cell_type": "code",
     "collapsed": false,
     "input": [
      "from sympy import *\n",
      "init_printing()\n",
      "\n",
      "from sympy.physics.quantum import *\n",
      "from sympy.physics.quantum.boson import *\n",
      "from sympy.physics.quantum.fermion import *\n",
      "from sympy.physics.quantum.operatorordering import *"
     ],
     "language": "python",
     "metadata": {},
     "outputs": [],
     "prompt_number": 1
    },
    {
     "cell_type": "code",
     "collapsed": false,
     "input": [
      "from IPython.display import display_latex\n",
      "from IPython.display import Latex\n",
      "\n",
      "def show_first_few_terms(e, n=10):\n",
      "    if isinstance(e, Add):\n",
      "        e_args_trunc = e.args[0:n]\n",
      "        e = Add(*(e_args_trunc))\n",
      "    \n",
      "    return Latex(\"$\" + latex(e).replace(\"dag\", \"dagger\") + r\"+ \\dots$\")"
     ],
     "language": "python",
     "metadata": {},
     "outputs": [],
     "prompt_number": 2
    },
    {
     "cell_type": "code",
     "collapsed": false,
     "input": [
      "def recursive_commutator(a, b, n=1):\n",
      "    return Commutator(a, b) if n == 1 else Commutator(a, recursive_commutator(a, b, n-1))"
     ],
     "language": "python",
     "metadata": {},
     "outputs": [],
     "prompt_number": 3
    },
    {
     "cell_type": "code",
     "collapsed": false,
     "input": [
      "def bch_expansion(A, B, N=10):\n",
      "    \"\"\"\n",
      "    Baker\u2013Campbell\u2013Hausdorff formula:\n",
      "    \n",
      "    e^{A} B e^{-A} = B + 1/(1!)[A, B] + 1/(2!)[A, [A, B]] + 1/(3!)[A, [A, [A, B]]] + ...\n",
      "                   = B + Sum_n^N 1/(n!)[A, B]^n\n",
      "                   \n",
      "    Truncate the sum at N terms.\n",
      "    \"\"\"\n",
      "    e = B\n",
      "    for n in range(1, N):\n",
      "        e += recursive_commutator(A, B, n=n) / factorial(n)\n",
      "    \n",
      "    return e"
     ],
     "language": "python",
     "metadata": {},
     "outputs": [],
     "prompt_number": 4
    },
    {
     "cell_type": "code",
     "collapsed": false,
     "input": [
      "omega_0, t, alpha = symbols(\"omega_0, t, alpha\")\n",
      "n = 8"
     ],
     "language": "python",
     "metadata": {},
     "outputs": [],
     "prompt_number": 5
    },
    {
     "cell_type": "code",
     "collapsed": false,
     "input": [
      "a = BosonOp(\"a\")"
     ],
     "language": "python",
     "metadata": {},
     "outputs": [],
     "prompt_number": 7
    },
    {
     "cell_type": "heading",
     "level": 2,
     "metadata": {},
     "source": [
      "Transformations with $U = \\exp(i \\omega_0 a^\\dagger a t)$"
     ]
    },
    {
     "cell_type": "code",
     "collapsed": false,
     "input": [
      "A = I * omega_0 * Dagger(a) * a * t"
     ],
     "language": "python",
     "metadata": {},
     "outputs": [],
     "prompt_number": 8
    },
    {
     "cell_type": "heading",
     "level": 3,
     "metadata": {},
     "source": [
      "$U a^\\dagger a U^\\dagger = e^{i \\omega_0 a^\\dagger a t} a^\\dagger a e^{-i \\omega_0 a^\\dagger a t} = a^\\dagger a$"
     ]
    },
    {
     "cell_type": "code",
     "collapsed": false,
     "input": [
      "e = bch_expansion(A, Dagger(a) * a, n).doit()\n",
      "\n",
      "normal_ordered_form(e)"
     ],
     "language": "python",
     "metadata": {},
     "outputs": [
      {
       "latex": [
        "$${{a}^\\dagger} {a}$$"
       ],
       "metadata": {},
       "output_type": "pyout",
       "png": "[encoded data removed]",
       "prompt_number": 9,
       "text": [
        " \u2020  \n",
        "a \u22c5a"
       ]
      }
     ],
     "prompt_number": 9
    },
    {
     "cell_type": "heading",
     "level": 3,
     "metadata": {},
     "source": [
      "$U a U^\\dagger = a e^{-i\\omega_0t}$"
     ]
    },
    {
     "cell_type": "code",
     "collapsed": false,
     "input": [
      "e = bch_expansion(A, a, n).doit()\n",
      "\n",
      "e = normal_ordered_form(expand(e))\n",
      "\n",
      "e = collect(e, a)\n",
      "\n",
      "e"
     ],
     "language": "python",
     "metadata": {},
     "outputs": [
      {
       "latex": [
        "$$\\left(\\frac{i \\omega_{0}^{7}}{5040} t^{7} - \\frac{\\omega_{0}^{6} t^{6}}{720} - \\frac{i \\omega_{0}^{5}}{120} t^{5} + \\frac{\\omega_{0}^{4} t^{4}}{24} + \\frac{i \\omega_{0}^{3}}{6} t^{3} - \\frac{\\omega_{0}^{2} t^{2}}{2} - i \\omega_{0} t + 1\\right) {a}$$"
       ],
       "metadata": {},
       "output_type": "pyout",
       "png": "[encoded data removed]",
       "prompt_number": 10,
       "text": [
        "\u239b    7  7     6  6       5  5     4  4       3  3     2  2             \u239e  \n",
        "\u239c\u2148\u22c5\u03c9\u2080 \u22c5t    \u03c9\u2080 \u22c5t    \u2148\u22c5\u03c9\u2080 \u22c5t    \u03c9\u2080 \u22c5t    \u2148\u22c5\u03c9\u2080 \u22c5t    \u03c9\u2080 \u22c5t              \u239f  \n",
        "\u239c\u2500\u2500\u2500\u2500\u2500\u2500\u2500\u2500 - \u2500\u2500\u2500\u2500\u2500\u2500 - \u2500\u2500\u2500\u2500\u2500\u2500\u2500\u2500 + \u2500\u2500\u2500\u2500\u2500\u2500 + \u2500\u2500\u2500\u2500\u2500\u2500\u2500\u2500 - \u2500\u2500\u2500\u2500\u2500\u2500 - \u2148\u22c5\u03c9\u2080\u22c5t + 1\u239f\u22c5a\n",
        "\u239d  5040      720       120        24        6         2                \u23a0  "
       ]
      }
     ],
     "prompt_number": 10
    },
    {
     "cell_type": "code",
     "collapsed": false,
     "input": [
      "e == (exp(-I * omega_0 * t).series(t, 0, n=n).removeO()) * a"
     ],
     "language": "python",
     "metadata": {},
     "outputs": [
      {
       "metadata": {},
       "output_type": "pyout",
       "prompt_number": 11,
       "text": [
        "True"
       ]
      }
     ],
     "prompt_number": 11
    },
    {
     "cell_type": "heading",
     "level": 3,
     "metadata": {},
     "source": [
      "$U a^\\dagger U^\\dagger = a^\\dagger e^{i\\omega_0t}$"
     ]
    },
    {
     "cell_type": "code",
     "collapsed": false,
     "input": [
      "e = bch_expansion(A, Dagger(a), n).doit()\n",
      "\n",
      "e = normal_ordered_form(expand(e))\n",
      "\n",
      "e = collect(e, Dagger(a))\n",
      "\n",
      "e"
     ],
     "language": "python",
     "metadata": {},
     "outputs": [
      {
       "latex": [
        "$$\\left(- \\frac{i \\omega_{0}^{7}}{5040} t^{7} - \\frac{\\omega_{0}^{6} t^{6}}{720} + \\frac{i \\omega_{0}^{5}}{120} t^{5} + \\frac{\\omega_{0}^{4} t^{4}}{24} - \\frac{i \\omega_{0}^{3}}{6} t^{3} - \\frac{\\omega_{0}^{2} t^{2}}{2} + i \\omega_{0} t + 1\\right) {{a}^\\dagger}$$"
       ],
       "metadata": {},
       "output_type": "pyout",
       "png": "[encoded data removed]",
       "prompt_number": 12,
       "text": [
        "\u239b      7  7     6  6       5  5     4  4       3  3     2  2             \u239e   \n",
        "\u239c  \u2148\u22c5\u03c9\u2080 \u22c5t    \u03c9\u2080 \u22c5t    \u2148\u22c5\u03c9\u2080 \u22c5t    \u03c9\u2080 \u22c5t    \u2148\u22c5\u03c9\u2080 \u22c5t    \u03c9\u2080 \u22c5t              \u239f  \u2020\n",
        "\u239c- \u2500\u2500\u2500\u2500\u2500\u2500\u2500\u2500 - \u2500\u2500\u2500\u2500\u2500\u2500 + \u2500\u2500\u2500\u2500\u2500\u2500\u2500\u2500 + \u2500\u2500\u2500\u2500\u2500\u2500 - \u2500\u2500\u2500\u2500\u2500\u2500\u2500\u2500 - \u2500\u2500\u2500\u2500\u2500\u2500 + \u2148\u22c5\u03c9\u2080\u22c5t + 1\u239f\u22c5a \n",
        "\u239d    5040      720       120        24        6         2                \u23a0   "
       ]
      }
     ],
     "prompt_number": 12
    },
    {
     "cell_type": "code",
     "collapsed": false,
     "input": [
      "e == (exp(I * omega_0 * t).series(t, 0, n=n).removeO()) * Dagger(a)"
     ],
     "language": "python",
     "metadata": {},
     "outputs": [
      {
       "metadata": {},
       "output_type": "pyout",
       "prompt_number": 13,
       "text": [
        "True"
       ]
      }
     ],
     "prompt_number": 13
    },
    {
     "cell_type": "heading",
     "level": 2,
     "metadata": {},
     "source": [
      "Transformations with $U = D(\\alpha) = e^{\\alpha a^\\dagger - \\alpha^* a}$:"
     ]
    },
    {
     "cell_type": "code",
     "collapsed": false,
     "input": [
      "H = Dagger(a) * alpha - conjugate(alpha) * a"
     ],
     "language": "python",
     "metadata": {},
     "outputs": [],
     "prompt_number": 14
    },
    {
     "cell_type": "heading",
     "level": 3,
     "metadata": {},
     "source": [
      "$U a U^\\dagger = a - \\alpha$"
     ]
    },
    {
     "cell_type": "code",
     "collapsed": false,
     "input": [
      "e = bch_expansion(H, a, n).doit()\n",
      "\n",
      "#e"
     ],
     "language": "python",
     "metadata": {},
     "outputs": [],
     "prompt_number": 15
    },
    {
     "cell_type": "code",
     "collapsed": false,
     "input": [
      "normal_ordered_form(expand(e))"
     ],
     "language": "python",
     "metadata": {},
     "outputs": [
      {
       "latex": [
        "$$- \\alpha + {a}$$"
       ],
       "metadata": {},
       "output_type": "pyout",
       "png": "[encoded data removed]",
       "prompt_number": 16,
       "text": [
        "-\u03b1 + a"
       ]
      }
     ],
     "prompt_number": 16
    },
    {
     "cell_type": "heading",
     "level": 3,
     "metadata": {},
     "source": [
      "$U a^\\dagger U^\\dagger = a^\\dagger - \\alpha^*$"
     ]
    },
    {
     "cell_type": "code",
     "collapsed": false,
     "input": [
      "e = bch_expansion(H, Dagger(a), n).doit()\n",
      "\n",
      "normal_ordered_form(expand(e))"
     ],
     "language": "python",
     "metadata": {},
     "outputs": [
      {
       "latex": [
        "$$- \\overline{\\alpha} + {{a}^\\dagger}$$"
       ],
       "metadata": {},
       "output_type": "pyout",
       "png": "[encoded data removed]",
       "prompt_number": 17,
       "text": [
        "  _    \u2020\n",
        "- \u03b1 + a "
       ]
      }
     ],
     "prompt_number": 17
    },
    {
     "cell_type": "heading",
     "level": 3,
     "metadata": {},
     "source": [
      "$U a^\\dagger a U^\\dagger = a^\\dagger a - \\alpha a^\\dagger - \\alpha^* a + |\\alpha|^2$"
     ]
    },
    {
     "cell_type": "code",
     "collapsed": false,
     "input": [
      "e = bch_expansion(H, Dagger(a) * a, n).doit()\n",
      "\n",
      "normal_ordered_form(expand(e))"
     ],
     "language": "python",
     "metadata": {},
     "outputs": [
      {
       "latex": [
        "$$\\alpha \\overline{\\alpha} - \\alpha {{a}^\\dagger} - \\overline{\\alpha} {a} + {{a}^\\dagger} {a}$$"
       ],
       "metadata": {},
       "output_type": "pyout",
       "png": "[encoded data removed]",
       "prompt_number": 18,
       "text": [
        "  _      \u2020   _      \u2020  \n",
        "\u03b1\u22c5\u03b1 - \u03b1\u22c5a  - \u03b1\u22c5a + a \u22c5a"
       ]
      }
     ],
     "prompt_number": 18
    },
    {
     "cell_type": "heading",
     "level": 2,
     "metadata": {},
     "source": [
      "Optomechanical system"
     ]
    },
    {
     "cell_type": "markdown",
     "metadata": {},
     "source": [
      "Consider the standard Hamiltonian for an optomechanical syste, including a classical driving signal on the optical mode:\n",
      "\n",
      "$$\n",
      "H = \\hbar\\omega_a a^\\dagger a + \\hbar \\omega_b b^\\dagger b + \\hbar g a^\\dagger a (b + b^\\dagger) + (A e^{-i\\omega_d t} + A^* e^{i\\omega_d t})(a + a^\\dagger)\n",
      "$$\n",
      "\n"
     ]
    },
    {
     "cell_type": "code",
     "collapsed": false,
     "input": [
      "n = 6\n",
      "omega_a, omega_b, omega_d, g, A, Hsym = symbols(\"omega_a, omega_b, omega_d, g, A, H\")"
     ],
     "language": "python",
     "metadata": {},
     "outputs": [],
     "prompt_number": 19
    },
    {
     "cell_type": "code",
     "collapsed": false,
     "input": [
      "a, b = BosonOp(\"a\"), BosonOp(\"b\")"
     ],
     "language": "python",
     "metadata": {},
     "outputs": [],
     "prompt_number": 21
    },
    {
     "cell_type": "code",
     "collapsed": false,
     "input": [
      "H = omega_a * Dagger(a) * a + omega_b * Dagger(b) * b + g * Dagger(a) * a * (b + Dagger(b)) \\\n",
      "    + (A * exp(-I * omega_d * t) + conjugate(A) * exp(I * omega_d * t)) * (a + Dagger(a))\n",
      "\n",
      "Eq(Hsym, H)"
     ],
     "language": "python",
     "metadata": {},
     "outputs": [
      {
       "latex": [
        "$$H = g {{a}^\\dagger} {a} \\left({{b}^\\dagger} + {b}\\right) + \\omega_{a} {{a}^\\dagger} {a} + \\omega_{b} {{b}^\\dagger} {b} + \\left(A e^{- i \\omega_{d} t} + e^{i \\omega_{d} t} \\overline{A}\\right) \\left({{a}^\\dagger} + {a}\\right)$$"
       ],
       "metadata": {},
       "output_type": "pyout",
       "png": "[encoded data removed]",
       "prompt_number": 22,
       "text": [
        "       \u2020   \u239b \u2020    \u239e       \u2020          \u2020     \u239b   -\u2148\u22c5\u03c9_d\u22c5t    \u2148\u22c5\u03c9_d\u22c5t _\u239e \u239b \u2020    \u239e\n",
        "H = g\u22c5a \u22c5a\u22c5\u239db  + b\u23a0 + \u03c9\u2090\u22c5a \u22c5a + \u03c9_b\u22c5b \u22c5b + \u239dA\u22c5\u212f         + \u212f       \u22c5A\u23a0\u22c5\u239da  + a\u23a0"
       ]
      }
     ],
     "prompt_number": 22
    },
    {
     "cell_type": "heading",
     "level": 3,
     "metadata": {},
     "source": [
      "Linearized interaction"
     ]
    },
    {
     "cell_type": "markdown",
     "metadata": {},
     "source": [
      "First we apply the unitary transformation $U = e^{i \\omega_d a^\\dagger a t} = e^A$:"
     ]
    },
    {
     "cell_type": "code",
     "collapsed": false,
     "input": [
      "def hamiltonian_transformation(H, UH, n):\n",
      "    \"\"\"\n",
      "    Apply an unitary basis transformation to the Hamiltonian H:\n",
      "    \n",
      "    H = U H U^\\dagger -i U d/dt(U^\\dagger)\n",
      "    \n",
      "    U = exp(UH)\n",
      "    \n",
      "    \"\"\"\n",
      "    return - I * exp(UH) * diff(exp(-UH), t) + \\\n",
      "                normal_ordered_form(expand(bch_expansion(UH, H, n).doit(independent=True)), independent=True)"
     ],
     "language": "python",
     "metadata": {},
     "outputs": [],
     "prompt_number": 23
    },
    {
     "cell_type": "code",
     "collapsed": false,
     "input": [
      "UH = I * Dagger(a) * a * omega_d * t"
     ],
     "language": "python",
     "metadata": {},
     "outputs": [],
     "prompt_number": 24
    },
    {
     "cell_type": "code",
     "collapsed": false,
     "input": [
      "H1 = hamiltonian_transformation(H, UH, n)\n",
      "\n",
      "#show_first_few_terms(H1, n=5)\n",
      "H1"
     ],
     "language": "python",
     "metadata": {},
     "outputs": [
      {
       "latex": [
        "$$\\frac{i A}{120} \\omega_{d}^{5} t^{5} e^{- i \\omega_{d} t} {{a}^\\dagger} - \\frac{i A}{120} \\omega_{d}^{5} t^{5} e^{- i \\omega_{d} t} {a} + \\frac{A \\omega_{d}^{4}}{24} t^{4} e^{- i \\omega_{d} t} {{a}^\\dagger} + \\frac{A \\omega_{d}^{4}}{24} t^{4} e^{- i \\omega_{d} t} {a} - \\frac{i A}{6} \\omega_{d}^{3} t^{3} e^{- i \\omega_{d} t} {{a}^\\dagger} + \\frac{i A}{6} \\omega_{d}^{3} t^{3} e^{- i \\omega_{d} t} {a} - \\frac{A \\omega_{d}^{2}}{2} t^{2} e^{- i \\omega_{d} t} {{a}^\\dagger} - \\frac{A \\omega_{d}^{2}}{2} t^{2} e^{- i \\omega_{d} t} {a} + i A \\omega_{d} t e^{- i \\omega_{d} t} {{a}^\\dagger} - i A \\omega_{d} t e^{- i \\omega_{d} t} {a} + A e^{- i \\omega_{d} t} {{a}^\\dagger} + A e^{- i \\omega_{d} t} {a} + g {{a}^\\dagger} {a} {b} + g {{a}^\\dagger} {{b}^\\dagger} {a} + \\omega_{a} {{a}^\\dagger} {a} + \\omega_{b} {{b}^\\dagger} {b} + \\frac{i \\omega_{d}^{5}}{120} t^{5} e^{i \\omega_{d} t} \\overline{A} {{a}^\\dagger} - \\frac{i \\omega_{d}^{5}}{120} t^{5} e^{i \\omega_{d} t} \\overline{A} {a} + \\frac{\\omega_{d}^{4} t^{4}}{24} e^{i \\omega_{d} t} \\overline{A} {{a}^\\dagger} + \\frac{\\omega_{d}^{4} t^{4}}{24} e^{i \\omega_{d} t} \\overline{A} {a} - \\frac{i \\omega_{d}^{3}}{6} t^{3} e^{i \\omega_{d} t} \\overline{A} {{a}^\\dagger} + \\frac{i \\omega_{d}^{3}}{6} t^{3} e^{i \\omega_{d} t} \\overline{A} {a} - \\frac{\\omega_{d}^{2} t^{2}}{2} e^{i \\omega_{d} t} \\overline{A} {{a}^\\dagger} - \\frac{\\omega_{d}^{2} t^{2}}{2} e^{i \\omega_{d} t} \\overline{A} {a} + i \\omega_{d} t e^{i \\omega_{d} t} \\overline{A} {{a}^\\dagger} - i \\omega_{d} t e^{i \\omega_{d} t} \\overline{A} {a} - \\omega_{d} {{a}^\\dagger} {a} + e^{i \\omega_{d} t} \\overline{A} {{a}^\\dagger} + e^{i \\omega_{d} t} \\overline{A} {a}$$"
       ],
       "metadata": {},
       "output_type": "pyout",
       "png": "[encoded data removed]",
       "prompt_number": 25,
       "text": [
        "       5  5  -\u2148\u22c5\u03c9_d\u22c5t  \u2020          5  5  -\u2148\u22c5\u03c9_d\u22c5t          4  4  -\u2148\u22c5\u03c9_d\u22c5t  \u2020   \n",
        "\u2148\u22c5A\u22c5\u03c9_d \u22c5t \u22c5\u212f        \u22c5a    \u2148\u22c5A\u22c5\u03c9_d \u22c5t \u22c5\u212f        \u22c5a   A\u22c5\u03c9_d \u22c5t \u22c5\u212f        \u22c5a    \n",
        "\u2500\u2500\u2500\u2500\u2500\u2500\u2500\u2500\u2500\u2500\u2500\u2500\u2500\u2500\u2500\u2500\u2500\u2500\u2500\u2500\u2500\u2500\u2500\u2500 - \u2500\u2500\u2500\u2500\u2500\u2500\u2500\u2500\u2500\u2500\u2500\u2500\u2500\u2500\u2500\u2500\u2500\u2500\u2500\u2500\u2500\u2500\u2500 + \u2500\u2500\u2500\u2500\u2500\u2500\u2500\u2500\u2500\u2500\u2500\u2500\u2500\u2500\u2500\u2500\u2500\u2500\u2500\u2500\u2500\u2500 + \n",
        "          120                        120                       24             \n",
        "\n",
        "     4  4  -\u2148\u22c5\u03c9_d\u22c5t            3  3  -\u2148\u22c5\u03c9_d\u22c5t  \u2020          3  3  -\u2148\u22c5\u03c9_d\u22c5t      \n",
        "A\u22c5\u03c9_d \u22c5t \u22c5\u212f        \u22c5a   \u2148\u22c5A\u22c5\u03c9_d \u22c5t \u22c5\u212f        \u22c5a    \u2148\u22c5A\u22c5\u03c9_d \u22c5t \u22c5\u212f        \u22c5a   A\n",
        "\u2500\u2500\u2500\u2500\u2500\u2500\u2500\u2500\u2500\u2500\u2500\u2500\u2500\u2500\u2500\u2500\u2500\u2500\u2500\u2500\u2500 - \u2500\u2500\u2500\u2500\u2500\u2500\u2500\u2500\u2500\u2500\u2500\u2500\u2500\u2500\u2500\u2500\u2500\u2500\u2500\u2500\u2500\u2500\u2500\u2500 + \u2500\u2500\u2500\u2500\u2500\u2500\u2500\u2500\u2500\u2500\u2500\u2500\u2500\u2500\u2500\u2500\u2500\u2500\u2500\u2500\u2500\u2500\u2500 - \u2500\n",
        "          24                       6                          6               \n",
        "\n",
        "    2  2  -\u2148\u22c5\u03c9_d\u22c5t  \u2020        2  2  -\u2148\u22c5\u03c9_d\u22c5t                                   \n",
        "\u22c5\u03c9_d \u22c5t \u22c5\u212f        \u22c5a    A\u22c5\u03c9_d \u22c5t \u22c5\u212f        \u22c5a              -\u2148\u22c5\u03c9_d\u22c5t  \u2020        \n",
        "\u2500\u2500\u2500\u2500\u2500\u2500\u2500\u2500\u2500\u2500\u2500\u2500\u2500\u2500\u2500\u2500\u2500\u2500\u2500\u2500\u2500 - \u2500\u2500\u2500\u2500\u2500\u2500\u2500\u2500\u2500\u2500\u2500\u2500\u2500\u2500\u2500\u2500\u2500\u2500\u2500\u2500\u2500 + \u2148\u22c5A\u22c5\u03c9_d\u22c5t\u22c5\u212f        \u22c5a  - \u2148\u22c5A\u22c5\u03c9\n",
        "         2                        2                                           \n",
        "\n",
        "                                                                              \n",
        "      -\u2148\u22c5\u03c9_d\u22c5t        -\u2148\u22c5\u03c9_d\u22c5t  \u2020      -\u2148\u22c5\u03c9_d\u22c5t        \u2020          \u2020  \u2020        \n",
        "_d\u22c5t\u22c5\u212f        \u22c5a + A\u22c5\u212f        \u22c5a  + A\u22c5\u212f        \u22c5a + g\u22c5a \u22c5a\u22c5b + g\u22c5a \u22c5b \u22c5a + \u03c9\u2090\u22c5\n",
        "                                                                              \n",
        "\n",
        "                       5  5  \u2148\u22c5\u03c9_d\u22c5t _  \u2020        5  5  \u2148\u22c5\u03c9_d\u22c5t _        4  4  \n",
        " \u2020          \u2020     \u2148\u22c5\u03c9_d \u22c5t \u22c5\u212f       \u22c5A\u22c5a    \u2148\u22c5\u03c9_d \u22c5t \u22c5\u212f       \u22c5A\u22c5a   \u03c9_d \u22c5t \u22c5\u212f\n",
        "a \u22c5a + \u03c9_b\u22c5b \u22c5b + \u2500\u2500\u2500\u2500\u2500\u2500\u2500\u2500\u2500\u2500\u2500\u2500\u2500\u2500\u2500\u2500\u2500\u2500\u2500\u2500\u2500\u2500\u2500 - \u2500\u2500\u2500\u2500\u2500\u2500\u2500\u2500\u2500\u2500\u2500\u2500\u2500\u2500\u2500\u2500\u2500\u2500\u2500\u2500\u2500\u2500 + \u2500\u2500\u2500\u2500\u2500\u2500\u2500\u2500\u2500\n",
        "                            120                      120                      \n",
        "\n",
        "\u2148\u22c5\u03c9_d\u22c5t _  \u2020      4  4  \u2148\u22c5\u03c9_d\u22c5t _          3  3  \u2148\u22c5\u03c9_d\u22c5t _  \u2020        3  3  \u2148\u22c5\u03c9\n",
        "       \u22c5A\u22c5a    \u03c9_d \u22c5t \u22c5\u212f       \u22c5A\u22c5a   \u2148\u22c5\u03c9_d \u22c5t \u22c5\u212f       \u22c5A\u22c5a    \u2148\u22c5\u03c9_d \u22c5t \u22c5\u212f   \n",
        "\u2500\u2500\u2500\u2500\u2500\u2500\u2500\u2500\u2500\u2500\u2500\u2500 + \u2500\u2500\u2500\u2500\u2500\u2500\u2500\u2500\u2500\u2500\u2500\u2500\u2500\u2500\u2500\u2500\u2500\u2500\u2500\u2500 - \u2500\u2500\u2500\u2500\u2500\u2500\u2500\u2500\u2500\u2500\u2500\u2500\u2500\u2500\u2500\u2500\u2500\u2500\u2500\u2500\u2500\u2500\u2500 + \u2500\u2500\u2500\u2500\u2500\u2500\u2500\u2500\u2500\u2500\u2500\u2500\u2500\u2500\n",
        " 24                     24                       6                        6   \n",
        "\n",
        "_d\u22c5t _        2  2  \u2148\u22c5\u03c9_d\u22c5t _  \u2020      2  2  \u2148\u22c5\u03c9_d\u22c5t _                         \n",
        "    \u22c5A\u22c5a   \u03c9_d \u22c5t \u22c5\u212f       \u22c5A\u22c5a    \u03c9_d \u22c5t \u22c5\u212f       \u22c5A\u22c5a            \u2148\u22c5\u03c9_d\u22c5t _  \n",
        "\u2500\u2500\u2500\u2500\u2500\u2500\u2500\u2500 - \u2500\u2500\u2500\u2500\u2500\u2500\u2500\u2500\u2500\u2500\u2500\u2500\u2500\u2500\u2500\u2500\u2500\u2500\u2500\u2500\u2500 - \u2500\u2500\u2500\u2500\u2500\u2500\u2500\u2500\u2500\u2500\u2500\u2500\u2500\u2500\u2500\u2500\u2500\u2500\u2500\u2500 + \u2148\u22c5\u03c9_d\u22c5t\u22c5\u212f       \u22c5A\u22c5a\n",
        "                     2                      2                                 \n",
        "\n",
        "                                                                  \n",
        "\u2020            \u2148\u22c5\u03c9_d\u22c5t _          \u2020      \u2148\u22c5\u03c9_d\u22c5t _  \u2020    \u2148\u22c5\u03c9_d\u22c5t _  \n",
        "  - \u2148\u22c5\u03c9_d\u22c5t\u22c5\u212f       \u22c5A\u22c5a - \u03c9_d\u22c5a \u22c5a + \u212f       \u22c5A\u22c5a  + \u212f       \u22c5A\u22c5a\n",
        "                                                                  "
       ]
      }
     ],
     "prompt_number": 25
    },
    {
     "cell_type": "code",
     "collapsed": false,
     "input": [
      "H2 = collect(H1, [exp(-I * omega_d * t) * A * a,\n",
      "                  exp(-I * omega_d * t) * A * Dagger(a),\n",
      "                  exp(I * omega_d * t) * conjugate(A) * a,\n",
      "                  exp(I * omega_d * t) * conjugate(A) * Dagger(a)])\n",
      "\n",
      "H2"
     ],
     "language": "python",
     "metadata": {},
     "outputs": [
      {
       "latex": [
        "$$A \\left(- \\frac{i \\omega_{d}^{5}}{120} t^{5} + \\frac{\\omega_{d}^{4} t^{4}}{24} + \\frac{i \\omega_{d}^{3}}{6} t^{3} - \\frac{\\omega_{d}^{2} t^{2}}{2} - i \\omega_{d} t + 1\\right) e^{- i \\omega_{d} t} {a} + A \\left(\\frac{i \\omega_{d}^{5}}{120} t^{5} + \\frac{\\omega_{d}^{4} t^{4}}{24} - \\frac{i \\omega_{d}^{3}}{6} t^{3} - \\frac{\\omega_{d}^{2} t^{2}}{2} + i \\omega_{d} t + 1\\right) e^{- i \\omega_{d} t} {{a}^\\dagger} + g {{a}^\\dagger} {a} {b} + g {{a}^\\dagger} {{b}^\\dagger} {a} + \\omega_{a} {{a}^\\dagger} {a} + \\omega_{b} {{b}^\\dagger} {b} - \\omega_{d} {{a}^\\dagger} {a} + \\left(- \\frac{i \\omega_{d}^{5}}{120} t^{5} + \\frac{\\omega_{d}^{4} t^{4}}{24} + \\frac{i \\omega_{d}^{3}}{6} t^{3} - \\frac{\\omega_{d}^{2} t^{2}}{2} - i \\omega_{d} t + 1\\right) e^{i \\omega_{d} t} \\overline{A} {a} + \\left(\\frac{i \\omega_{d}^{5}}{120} t^{5} + \\frac{\\omega_{d}^{4} t^{4}}{24} - \\frac{i \\omega_{d}^{3}}{6} t^{3} - \\frac{\\omega_{d}^{2} t^{2}}{2} + i \\omega_{d} t + 1\\right) e^{i \\omega_{d} t} \\overline{A} {{a}^\\dagger}$$"
       ],
       "metadata": {},
       "output_type": "pyout",
       "png": "[encoded data removed]",
       "prompt_number": 47,
       "text": [
        "  \u239b       5  5      4  4        3  3      2  2              \u239e                 \n",
        "  \u239c  \u2148\u22c5\u03c9_d \u22c5t    \u03c9_d \u22c5t    \u2148\u22c5\u03c9_d \u22c5t    \u03c9_d \u22c5t               \u239f  -\u2148\u22c5\u03c9_d\u22c5t       \n",
        "A\u22c5\u239c- \u2500\u2500\u2500\u2500\u2500\u2500\u2500\u2500\u2500 + \u2500\u2500\u2500\u2500\u2500\u2500\u2500 + \u2500\u2500\u2500\u2500\u2500\u2500\u2500\u2500\u2500 - \u2500\u2500\u2500\u2500\u2500\u2500\u2500 - \u2148\u22c5\u03c9_d\u22c5t + 1\u239f\u22c5\u212f        \u22c5a + A\u22c5\n",
        "  \u239d     120         24         6          2                 \u23a0                 \n",
        "\n",
        "\u239b     5  5      4  4        3  3      2  2              \u239e                     \n",
        "\u239c\u2148\u22c5\u03c9_d \u22c5t    \u03c9_d \u22c5t    \u2148\u22c5\u03c9_d \u22c5t    \u03c9_d \u22c5t               \u239f  -\u2148\u22c5\u03c9_d\u22c5t  \u2020      \u2020 \n",
        "\u239c\u2500\u2500\u2500\u2500\u2500\u2500\u2500\u2500\u2500 + \u2500\u2500\u2500\u2500\u2500\u2500\u2500 - \u2500\u2500\u2500\u2500\u2500\u2500\u2500\u2500\u2500 - \u2500\u2500\u2500\u2500\u2500\u2500\u2500 + \u2148\u22c5\u03c9_d\u22c5t + 1\u239f\u22c5\u212f        \u22c5a  + g\u22c5a \u22c5\n",
        "\u239d   120         24         6          2                 \u23a0                     \n",
        "\n",
        "                                                  \u239b       5  5      4  4      \n",
        "         \u2020  \u2020         \u2020          \u2020          \u2020     \u239c  \u2148\u22c5\u03c9_d \u22c5t    \u03c9_d \u22c5t    \u2148\u22c5\u03c9\n",
        "a\u22c5b + g\u22c5a \u22c5b \u22c5a + \u03c9\u2090\u22c5a \u22c5a + \u03c9_b\u22c5b \u22c5b - \u03c9_d\u22c5a \u22c5a + \u239c- \u2500\u2500\u2500\u2500\u2500\u2500\u2500\u2500\u2500 + \u2500\u2500\u2500\u2500\u2500\u2500\u2500 + \u2500\u2500\u2500\n",
        "                                                  \u239d     120         24        \n",
        "\n",
        "  3  3      2  2              \u239e                \u239b     5  5      4  4        3  \n",
        "_d \u22c5t    \u03c9_d \u22c5t               \u239f  \u2148\u22c5\u03c9_d\u22c5t _     \u239c\u2148\u22c5\u03c9_d \u22c5t    \u03c9_d \u22c5t    \u2148\u22c5\u03c9_d \u22c5t\n",
        "\u2500\u2500\u2500\u2500\u2500\u2500 - \u2500\u2500\u2500\u2500\u2500\u2500\u2500 - \u2148\u22c5\u03c9_d\u22c5t + 1\u239f\u22c5\u212f       \u22c5A\u22c5a + \u239c\u2500\u2500\u2500\u2500\u2500\u2500\u2500\u2500\u2500 + \u2500\u2500\u2500\u2500\u2500\u2500\u2500 - \u2500\u2500\u2500\u2500\u2500\u2500\u2500\u2500\n",
        " 6          2                 \u23a0                \u239d   120         24         6   \n",
        "\n",
        "3      2  2              \u239e              \n",
        "    \u03c9_d \u22c5t               \u239f  \u2148\u22c5\u03c9_d\u22c5t _  \u2020\n",
        "\u2500 - \u2500\u2500\u2500\u2500\u2500\u2500\u2500 + \u2148\u22c5\u03c9_d\u22c5t + 1\u239f\u22c5\u212f       \u22c5A\u22c5a \n",
        "       2                 \u23a0              "
       ]
      }
     ],
     "prompt_number": 47
    },
    {
     "cell_type": "markdown",
     "metadata": {},
     "source": [
      "Identify series with taylor expansions of $e^{i\\omega_dt}$:"
     ]
    },
    {
     "cell_type": "code",
     "collapsed": false,
     "input": [
      "H3 = H2.subs({exp(-I * omega_d * t).series(t, n=n).removeO(): exp(-I * omega_d * t),\n",
      "              exp(I * omega_d * t).series(t, n=n).removeO(): exp(I * omega_d * t),\n",
      "             })\n",
      "\n",
      "H3"
     ],
     "language": "python",
     "metadata": {},
     "outputs": [
      {
       "latex": [
        "$$A {{a}^\\dagger} + A e^{- 2 i \\omega_{d} t} {a} + g {{a}^\\dagger} {a} {b} + g {{a}^\\dagger} {{b}^\\dagger} {a} + \\omega_{a} {{a}^\\dagger} {a} + \\omega_{b} {{b}^\\dagger} {b} - \\omega_{d} {{a}^\\dagger} {a} + e^{2 i \\omega_{d} t} \\overline{A} {{a}^\\dagger} + \\overline{A} {a}$$"
       ],
       "metadata": {},
       "output_type": "pyout",
       "png": "[encoded data removed]",
       "prompt_number": 67,
       "text": [
        "   \u2020      -2\u22c5\u2148\u22c5\u03c9_d\u22c5t        \u2020          \u2020  \u2020         \u2020          \u2020          \u2020   \n",
        "A\u22c5a  + A\u22c5\u212f          \u22c5a + g\u22c5a \u22c5a\u22c5b + g\u22c5a \u22c5b \u22c5a + \u03c9\u2090\u22c5a \u22c5a + \u03c9_b\u22c5b \u22c5b - \u03c9_d\u22c5a \u22c5a \n",
        "\n",
        "   2\u22c5\u2148\u22c5\u03c9_d\u22c5t _  \u2020   _  \n",
        "+ \u212f         \u22c5A\u22c5a  + A\u22c5a"
       ]
      }
     ],
     "prompt_number": 67
    },
    {
     "cell_type": "markdown",
     "metadata": {},
     "source": [
      "We can now perform a rotating-wave approximation (RWA) by eliminating all terms that rotate with frequencies $2\\omega_d$:"
     ]
    },
    {
     "cell_type": "code",
     "collapsed": false,
     "input": [
      "def drop_terms_containing(e, e_drops):\n",
      "    if isinstance(e, Add):\n",
      "        return Add(*(arg for arg in e.args if not any([e_drop in arg.args\n",
      "                                                       for e_drop in e_drops])))\n",
      "\n",
      "    return e"
     ],
     "language": "python",
     "metadata": {},
     "outputs": [],
     "prompt_number": 68
    },
    {
     "cell_type": "code",
     "collapsed": false,
     "input": [
      "H4 = drop_terms_containing(H3, [exp(-2*I*omega_d*t), exp(2*I*omega_d*t)])\n",
      "\n",
      "H5 = collect(H4, (g*Dagger(a)*a, Dagger(a)*a))\n",
      "\n",
      "Eq(Symbol(\"H_{rwa}\"), H5)"
     ],
     "language": "python",
     "metadata": {},
     "outputs": [
      {
       "latex": [
        "$$H_{{rwa}} = A {{a}^\\dagger} + g {{a}^\\dagger} {a} \\left({{b}^\\dagger} + {b}\\right) + \\omega_{b} {{b}^\\dagger} {b} + \\left(\\omega_{a} - \\omega_{d}\\right) {{a}^\\dagger} {a} + \\overline{A} {a}$$"
       ],
       "metadata": {},
       "output_type": "pyout",
       "png": "[encoded data removed]",
       "prompt_number": 76,
       "text": [
        "             \u2020      \u2020   \u239b \u2020    \u239e        \u2020                 \u2020     _  \n",
        "H_{rwa} = A\u22c5a  + g\u22c5a \u22c5a\u22c5\u239db  + b\u23a0 + \u03c9_b\u22c5b \u22c5b + (\u03c9\u2090 - \u03c9_d)\u22c5a \u22c5a + A\u22c5a"
       ]
      }
     ],
     "prompt_number": 76
    },
    {
     "cell_type": "heading",
     "level": 2,
     "metadata": {},
     "source": [
      "Versions"
     ]
    },
    {
     "cell_type": "code",
     "collapsed": false,
     "input": [
      "%reload_ext version_information\n",
      "\n",
      "%version_information sympy"
     ],
     "language": "python",
     "metadata": {},
     "outputs": [
      {
       "html": [
        "<table><tr><th>Software</th><th>Version</th></tr><tr><td>Python</td><td>3.4.1 (default, May 21 2014, 01:39:38) [GCC 4.2.1 Compatible Apple LLVM 5.1 (clang-503.0.40)]</td></tr><tr><td>IPython</td><td>2.1.0</td></tr><tr><td>OS</td><td>posix [darwin]</td></tr><tr><td>sympy</td><td>0.7.4.1-git</td></tr><tr><td colspan='2'>Thu Jun 05 19:12:36 2014 JST</td></tr></table>"
       ],
       "json": [
        "{ \"Software versions\" : [{ \"module\" : \"Python\", \"version\" : \"3.4.1 (default, May 21 2014, 01:39:38) [GCC 4.2.1 Compatible Apple LLVM 5.1 (clang-503.0.40)]\" }, { \"module\" : \"IPython\", \"version\" : \"2.1.0\" }, { \"module\" : \"OS\", \"version\" : \"posix [darwin]\" }, { \"module\" : \"sympy\", \"version\" : \"0.7.4.1-git\" } ] }"
       ],
       "latex": [
        "\\begin{tabular}{|l|l|}\\hline\n",
        "{\\bf Software} & {\\bf Version} \\\\ \\hline\\hline\n",
        "Python & 3.4.1 (default, May 21 2014, 01:39:38) [GCC 4.2.1 Compatible Apple LLVM 5.1 (clang-503.0.40)] \\\\ \\hline\n",
        "IPython & 2.1.0 \\\\ \\hline\n",
        "OS & posix [darwin] \\\\ \\hline\n",
        "sympy & 0.7.4.1-git \\\\ \\hline\n",
        "\\hline \\multicolumn{2}{|l|}{Thu Jun 05 19:12:36 2014 JST} \\\\ \\hline\n",
        "\\end{tabular}\n"
       ],
       "metadata": {},
       "output_type": "pyout",
       "prompt_number": 29,
       "text": [
        "Software versions\n",
        "Python 3.4.1 (default, May 21 2014, 01:39:38) [GCC 4.2.1 Compatible Apple LLVM 5.1 (clang-503.0.40)]\n",
        "IPython 2.1.0\n",
        "OS posix [darwin]\n",
        "sympy 0.7.4.1-git\n",
        "\n",
        "Thu Jun 05 19:12:36 2014 JST"
       ]
      }
     ],
     "prompt_number": 29
    }
   ],
   "metadata": {}
  }
 ]
}