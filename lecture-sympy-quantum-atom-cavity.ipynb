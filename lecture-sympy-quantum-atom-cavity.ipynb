{
 "metadata": {
  "name": "",
  "signature": "sha256:46962f7bd79b03118588056fb1445e4b07edd7af948618f20161fb642fd1a023"
 },
 "nbformat": 3,
 "nbformat_minor": 0,
 "worksheets": [
  {
   "cells": [
    {
     "cell_type": "heading",
     "level": 1,
     "metadata": {},
     "source": [
      "Lecture 4 - Symbolic quantum mechanics using Sympy - Atom and cavity"
     ]
    },
    {
     "cell_type": "markdown",
     "metadata": {},
     "source": [
      "Author: J. R. Johansson (robert@riken.jp), [http://jrjohansson.github.com](http://jrjohansson.github.com).\n",
      "\n",
      "Status: Preliminary (work in progress)\n",
      "\n",
      "This notebook is part of a series of IPython notebooks on doing quantum mechanics computations symbolically using \n",
      "[SymPy](http://sympy.org) and its [`sympy.physics.quantum`](http://docs.sympy.org/dev/modules/physics/quantum/) module. The latest version of this notebook is available at [http://github.com/jrjohansson/sympy-quantum-notebooks](http://github.com/jrjohansson/sympy-quantum-notebooks), and the other notebooks in this lecture series are indexed at [http://jrjohansson.github.com](http://jrjohansson.github.com).\n",
      "\n",
      "Disclaimer: A lot of the features used in these notebooks require the latest development version of SymPy (after release 0.7.5), and additional functionality not yet included in SymPy is currently contained in the `sympy_quantum_extra` module that is available together with these notebooks. This module is still under active development and may change in behaviour without notice, but the intention is to include some of it in [`sympy.physics.quantum`](http://docs.sympy.org/dev/modules/physics/quantum/) when it has matured, and these notebooks will be updated to correspond to the latest version."
     ]
    },
    {
     "cell_type": "heading",
     "level": 2,
     "metadata": {},
     "source": [
      "Setup modules"
     ]
    },
    {
     "cell_type": "code",
     "collapsed": false,
     "input": [
      "from sympy import *\n",
      "init_printing()"
     ],
     "language": "python",
     "metadata": {},
     "outputs": [],
     "prompt_number": 1
    },
    {
     "cell_type": "code",
     "collapsed": false,
     "input": [
      "from sympy.physics.quantum import *\n",
      "from sympy.physics.quantum.boson import *\n",
      "from sympy.physics.quantum.pauli import *"
     ],
     "language": "python",
     "metadata": {},
     "outputs": [],
     "prompt_number": 2
    },
    {
     "cell_type": "code",
     "collapsed": false,
     "input": [
      "from sympy_quantum_extra import *"
     ],
     "language": "python",
     "metadata": {},
     "outputs": [],
     "prompt_number": 3
    },
    {
     "cell_type": "heading",
     "level": 2,
     "metadata": {},
     "source": [
      "The Jaynes-Cummings model"
     ]
    },
    {
     "cell_type": "markdown",
     "metadata": {},
     "source": [
      "The [Jaynes-Cummings model](http://en.wikipedia.org/wiki/Jaynes%E2%80%93Cummings_model) is one of the most elementary quantum mechanical models light-matter interaction. It describes a single two-level atom that interacts with a single harmonic-oscillator mode of a electromagnetic cavity.\n",
      "\n",
      "The Hamiltonian for a two-level system in its eigenbasis (see [Two-level systems](lecture-sympy-quantum-two-level-system.ipynb)) can be written as\n",
      "\n",
      "$$\n",
      "H = -\\frac{1}{2}\\Omega \\sigma_z\n",
      "$$\n",
      "\n",
      "and the Hamiltonian of a quantum harmonic oscillator (see [Resonators and cavities](lecture-sympy-quantum-resonators.ipynb)) is\n",
      "\n",
      "$$\n",
      "H = \\hbar\\omega_r (a^\\dagger a + 1/2)\n",
      "$$\n",
      "\n",
      "The atom interacts with the electromagnetic field produced by the cavity mode $a + a^\\dagger$ through its dipole moment. The dipole-transition operators is $\\sigma_x$ (which cause a transition from the two dipole states of the atom). The combined atom-cavity Hamiltonian can therefore be written in the form\n",
      "\n",
      "$$\n",
      "H = \n",
      "\\hbar\\omega_r (a^\\dagger a + 1/2)\n",
      "- \\frac{1}{2}\\hbar\\Omega\\sigma_z \n",
      "+\n",
      "\\hbar\n",
      "g\\sigma_x(a + a^\\dagger)\n",
      "$$\n"
     ]
    },
    {
     "cell_type": "markdown",
     "metadata": {},
     "source": [
      "To obtain the Jaynes-Cumming Hamiltonian \n",
      "\n",
      "$$\n",
      "H = \n",
      "\\hbar\\omega_r (a^\\dagger a + 1/2)\n",
      "%-\\frac{1}{2}\\Delta\\sigma_x \n",
      "- \\frac{1}{2}\\hbar\\Omega\\sigma_z \n",
      "+\n",
      "\\hbar\n",
      "g(\\sigma_+ a + \\sigma_- a^\\dagger)\n",
      "$$\n",
      "\n",
      "we also need to perform a rotating-wave approximation which simplifies the interaction part of the Hamiltonian. In the following we will begin with looking at how these two Hamiltonians are related.\n",
      "\n",
      "To represent the atom-cavity Hamiltonian in SymPy we creates an instances of the operator classes `BosonOp` and `SigmaX`, `SigmaY`, and `SigmaZ`, and use these to construct the Hamiltonian (we work in units where $\\hbar = 1$)."
     ]
    },
    {
     "cell_type": "code",
     "collapsed": false,
     "input": [
      "omega_r, Omega, g, Delta, t, x, Hsym = symbols(\"omega_r, Omega, g, Delta, t, x, H\")"
     ],
     "language": "python",
     "metadata": {},
     "outputs": [],
     "prompt_number": 4
    },
    {
     "cell_type": "code",
     "collapsed": false,
     "input": [
      "sx, sy, sz, sm, sp = SigmaX(), SigmaY(), SigmaZ(), SigmaMinus(), SigmaPlus()\n",
      "a = BosonOp(\"a\")"
     ],
     "language": "python",
     "metadata": {},
     "outputs": [],
     "prompt_number": 5
    },
    {
     "cell_type": "code",
     "collapsed": false,
     "input": [
      "H = omega_r * Dagger(a) * a - Omega/2 * sz + g * sx * (a + Dagger(a))\n",
      "\n",
      "Eq(Hsym, H)"
     ],
     "language": "python",
     "metadata": {},
     "outputs": [
      {
       "latex": [
        "$$H = - \\frac{\\Omega {\\sigma_z}}{2} + g {\\sigma_x} \\left({{a}^\\dagger} + {a}\\right) + \\omega_{r} {{a}^\\dagger} {a}$$"
       ],
       "metadata": {},
       "output_type": "pyout",
       "png": "[encoded data removed]",
       "prompt_number": 6,
       "text": [
        "      \u03a9\u22c5False           \u239b \u2020    \u239e       \u2020  \n",
        "H = - \u2500\u2500\u2500\u2500\u2500\u2500\u2500 + g\u22c5False\u22c5\u239da  + a\u23a0 + \u03c9\u1d63\u22c5a \u22c5a\n",
        "         2                                "
       ]
      }
     ],
     "prompt_number": 6
    },
    {
     "cell_type": "markdown",
     "metadata": {},
     "source": [
      "To simplify the interaction term we carry out two unitary transformations that corresponds to moving to the interaction picture:"
     ]
    },
    {
     "cell_type": "code",
     "collapsed": false,
     "input": [
      "U = exp(I * omega_r * t * Dagger(a) * a)\n",
      "\n",
      "U"
     ],
     "language": "python",
     "metadata": {},
     "outputs": [
      {
       "latex": [
        "$$e^{i \\omega_{r} t {{a}^\\dagger} {a}}$$"
       ],
       "metadata": {},
       "output_type": "pyout",
       "png": "[encoded data removed]",
       "prompt_number": 7,
       "text": [
        "         \u2020  \n",
        " \u2148\u22c5\u03c9\u1d63\u22c5t\u22c5a \u22c5a\n",
        "\u212f           "
       ]
      }
     ],
     "prompt_number": 7
    },
    {
     "cell_type": "code",
     "collapsed": false,
     "input": [
      "H2 = hamiltonian_transformation(U, H.expand())\n",
      "\n",
      "H2"
     ],
     "language": "python",
     "metadata": {},
     "outputs": [
      {
       "latex": [
        "$$- \\frac{\\Omega {\\sigma_z}}{2} + g e^{i \\omega_{r} t} {\\sigma_x} {{a}^\\dagger} + g e^{- i \\omega_{r} t} {\\sigma_x} {a}$$"
       ],
       "metadata": {},
       "output_type": "pyout",
       "png": "[encoded data removed]",
       "prompt_number": 8,
       "text": [
        "  \u03a9\u22c5False      \u2148\u22c5\u03c9\u1d63\u22c5t        \u2020      -\u2148\u22c5\u03c9\u1d63\u22c5t        \n",
        "- \u2500\u2500\u2500\u2500\u2500\u2500\u2500 + g\u22c5\u212f      \u22c5False\u22c5a  + g\u22c5\u212f       \u22c5False\u22c5a\n",
        "     2                                             "
       ]
      }
     ],
     "prompt_number": 8
    },
    {
     "cell_type": "code",
     "collapsed": false,
     "input": [
      "U = exp(I * Omega * t * sp * sm)\n",
      "\n",
      "U"
     ],
     "language": "python",
     "metadata": {},
     "outputs": [
      {
       "latex": [
        "$$e^{i \\Omega t {\\sigma_+} {\\sigma_-}}$$"
       ],
       "metadata": {},
       "output_type": "pyout",
       "png": "[encoded data removed]",
       "prompt_number": 9,
       "text": [
        " \u2148\u22c5\u03a9\u22c5t\u22c5False\u22c5False\n",
        "\u212f                 "
       ]
      }
     ],
     "prompt_number": 9
    },
    {
     "cell_type": "code",
     "collapsed": false,
     "input": [
      "H3 = hamiltonian_transformation(U, H2.expand())\n",
      "\n",
      "H3 = H3.subs(sx, sm + sp).expand()\n",
      "\n",
      "H3 = powsimp(H3)\n",
      "\n",
      "H3"
     ],
     "language": "python",
     "metadata": {},
     "outputs": [
      {
       "latex": [
        "$$- \\frac{\\Omega}{2} \\left(1 + {\\sigma_z}\\right) - \\frac{\\Omega {\\sigma_z}}{2} + g e^{- i \\Omega t - i \\omega_{r} t} {\\sigma_-} {a} + g e^{- i \\Omega t + i \\omega_{r} t} {\\sigma_-} {{a}^\\dagger} + g e^{i \\Omega t - i \\omega_{r} t} {\\sigma_+} {a} + g e^{i \\Omega t + i \\omega_{r} t} {\\sigma_+} {{a}^\\dagger}$$"
       ],
       "metadata": {},
       "output_type": "pyout",
       "png": "[encoded data removed]",
       "prompt_number": 10,
       "text": [
        "  \u03a9\u22c5(1 + False)   \u03a9\u22c5False      -\u2148\u22c5\u03a9\u22c5t - \u2148\u22c5\u03c9\u1d63\u22c5t              -\u2148\u22c5\u03a9\u22c5t + \u2148\u22c5\u03c9\u1d63\u22c5t   \n",
        "- \u2500\u2500\u2500\u2500\u2500\u2500\u2500\u2500\u2500\u2500\u2500\u2500\u2500 - \u2500\u2500\u2500\u2500\u2500\u2500\u2500 + g\u22c5\u212f               \u22c5False\u22c5a + g\u22c5\u212f               \u22c5Fa\n",
        "        2            2                                                        \n",
        "\n",
        "     \u2020      \u2148\u22c5\u03a9\u22c5t - \u2148\u22c5\u03c9\u1d63\u22c5t              \u2148\u22c5\u03a9\u22c5t + \u2148\u22c5\u03c9\u1d63\u22c5t        \u2020\n",
        "lse\u22c5a  + g\u22c5\u212f              \u22c5False\u22c5a + g\u22c5\u212f              \u22c5False\u22c5a \n",
        "                                                               "
       ]
      }
     ],
     "prompt_number": 10
    },
    {
     "cell_type": "markdown",
     "metadata": {},
     "source": [
      "We introduce the detuning parameter $\\Delta = \\omega_r - \\Omega$ and substitute into this expression"
     ]
    },
    {
     "cell_type": "code",
     "collapsed": false,
     "input": [
      "# trick to simplify exponents\n",
      "def simplify_exp(e):\n",
      "    if isinstance(e, exp):\n",
      "        return exp(simplify(e.exp.expand()))\n",
      "\n",
      "    if isinstance(e, (Add, Mul)):\n",
      "        return type(e)(*(simplify_exp(arg) for arg in e.args)) \n",
      "\n",
      "    return e"
     ],
     "language": "python",
     "metadata": {},
     "outputs": [],
     "prompt_number": 11
    },
    {
     "cell_type": "code",
     "collapsed": false,
     "input": [
      "H4 = simplify_exp(H3).subs(omega_r - Omega, Delta)\n",
      "\n",
      "H4"
     ],
     "language": "python",
     "metadata": {},
     "outputs": [
      {
       "latex": [
        "$$- \\frac{\\Omega}{2} \\left(1 + {\\sigma_z}\\right) - \\frac{\\Omega {\\sigma_z}}{2} + g e^{i \\Delta t} {\\sigma_-} {{a}^\\dagger} + g e^{i t \\left(\\Omega + \\omega_{r}\\right)} {\\sigma_+} {{a}^\\dagger} + g e^{- i t \\left(\\Omega + \\omega_{r}\\right)} {\\sigma_-} {a} + g e^{- i \\Delta t} {\\sigma_+} {a}$$"
       ],
       "metadata": {},
       "output_type": "pyout",
       "png": "[encoded data removed]",
       "prompt_number": 12,
       "text": [
        "  \u03a9\u22c5(1 + False)   \u03a9\u22c5False      \u2148\u22c5\u0394\u22c5t        \u2020      \u2148\u22c5t\u22c5(\u03a9 + \u03c9\u1d63)        \u2020      \n",
        "- \u2500\u2500\u2500\u2500\u2500\u2500\u2500\u2500\u2500\u2500\u2500\u2500\u2500 - \u2500\u2500\u2500\u2500\u2500\u2500\u2500 + g\u22c5\u212f     \u22c5False\u22c5a  + g\u22c5\u212f            \u22c5False\u22c5a  + g\u22c5\u212f\n",
        "        2            2                                                        \n",
        "\n",
        "-\u2148\u22c5t\u22c5(\u03a9 + \u03c9\u1d63)              -\u2148\u22c5\u0394\u22c5t        \n",
        "             \u22c5False\u22c5a + g\u22c5\u212f      \u22c5False\u22c5a\n",
        "                                         "
       ]
      }
     ],
     "prompt_number": 12
    },
    {
     "cell_type": "markdown",
     "metadata": {},
     "source": [
      "Now, in the rotating-wave approximation we can drop the fast oscillating terms containing the factors $e^{\\pm i(\\Omega + \\omega_r)t}$"
     ]
    },
    {
     "cell_type": "code",
     "collapsed": false,
     "input": [
      "H5 = drop_terms_containing(H4, [exp( I * (Omega + omega_r) * t),\n",
      "                                exp(-I * (Omega + omega_r) * t)])\n",
      "\n",
      "H5 = drop_c_number_terms(H5.expand())\n",
      "\n",
      "Eq(Hsym, H5)"
     ],
     "language": "python",
     "metadata": {},
     "outputs": [
      {
       "latex": [
        "$$H = - \\Omega {\\sigma_z} + g e^{i \\Delta t} {\\sigma_-} {{a}^\\dagger} + g e^{- i \\Delta t} {\\sigma_+} {a}$$"
       ],
       "metadata": {},
       "output_type": "pyout",
       "png": "[encoded data removed]",
       "prompt_number": 13,
       "text": [
        "                  \u2148\u22c5\u0394\u22c5t        \u2020      -\u2148\u22c5\u0394\u22c5t        \n",
        "H = -\u03a9\u22c5False + g\u22c5\u212f     \u22c5False\u22c5a  + g\u22c5\u212f      \u22c5False\u22c5a"
       ]
      }
     ],
     "prompt_number": 13
    },
    {
     "cell_type": "markdown",
     "metadata": {},
     "source": [
      "This is the interaction term of in the Jaynes-Cumming model in the interaction picture. If we transform back to the Schr\u00f6dinger picture we have:"
     ]
    },
    {
     "cell_type": "code",
     "collapsed": false,
     "input": [
      "U = exp(-I * omega_r * t * Dagger(a) * a)\n",
      "H6 = hamiltonian_transformation(U, H5.expand())"
     ],
     "language": "python",
     "metadata": {},
     "outputs": [],
     "prompt_number": 14
    },
    {
     "cell_type": "code",
     "collapsed": false,
     "input": [
      "U = exp(-I * Omega * t * sp * sm)\n",
      "H7 = hamiltonian_transformation(U, H6.expand())"
     ],
     "language": "python",
     "metadata": {},
     "outputs": [],
     "prompt_number": 15
    },
    {
     "cell_type": "code",
     "collapsed": false,
     "input": [
      "H8 = simplify_exp(H7).subs(Delta, omega_r - Omega)\n",
      "\n",
      "H8 = simplify_exp(powsimp(H8)).expand()\n",
      "\n",
      "H8 = drop_c_number_terms(H8)\n",
      "\n",
      "H = collect(H8, g)\n",
      "\n",
      "Eq(Hsym, H)"
     ],
     "language": "python",
     "metadata": {},
     "outputs": [
      {
       "latex": [
        "$$H = - \\frac{\\Omega {\\sigma_z}}{2} + g \\left({\\sigma_-} {{a}^\\dagger} + {\\sigma_+} {a}\\right) + \\omega_{r} {{a}^\\dagger} {a}$$"
       ],
       "metadata": {},
       "output_type": "pyout",
       "png": "[encoded data removed]",
       "prompt_number": 16,
       "text": [
        "      \u03a9\u22c5False     \u239b       \u2020          \u239e       \u2020  \n",
        "H = - \u2500\u2500\u2500\u2500\u2500\u2500\u2500 + g\u22c5\u239dFalse\u22c5a  + False\u22c5a\u23a0 + \u03c9\u1d63\u22c5a \u22c5a\n",
        "         2                                      "
       ]
      }
     ],
     "prompt_number": 16
    },
    {
     "cell_type": "markdown",
     "metadata": {},
     "source": [
      "This is the Jaynes-Cumming model give above, and we have now seen that it is obtained to the dipole interaction Hamiltonian through the rotating wave approximation."
     ]
    },
    {
     "cell_type": "heading",
     "level": 2,
     "metadata": {},
     "source": [
      "Dispersive regime"
     ]
    },
    {
     "cell_type": "markdown",
     "metadata": {},
     "source": [
      "In the dispersive regime, where the two-level system is detuned from the cavity by much more than the interaction strength, $\\Delta \\gg g$, an effective Hamiltonian can be dervied which describes the Stark shift of the two-level system (which depends on the number of photons in the cavity) and the frequency shift of the cavity (which depend on the state of the two-level system).\n",
      "\n",
      "This effective Hamiltonian, which is correct up to second order in the small paramter $g/\\Delta$, is obtained by performing the unitary transformation\n",
      "\n",
      "$$\n",
      "U = e^{\\frac{g}{\\Delta}(a \\sigma_- - a^\\dagger \\sigma_+)}\n",
      "$$"
     ]
    },
    {
     "cell_type": "code",
     "collapsed": false,
     "input": [
      "U = exp((x * (a * sp - Dagger(a) * sm)).expand())\n",
      "\n",
      "U"
     ],
     "language": "python",
     "metadata": {},
     "outputs": [
      {
       "latex": [
        "$$e^{- x {{a}^\\dagger} {\\sigma_-} + x {a} {\\sigma_+}}$$"
       ],
       "metadata": {},
       "output_type": "pyout",
       "png": "[encoded data removed]",
       "prompt_number": 17,
       "text": [
        "      \u2020                  \n",
        " - x\u22c5a \u22c5False + x\u22c5a\u22c5False\n",
        "\u212f                        "
       ]
      }
     ],
     "prompt_number": 17
    },
    {
     "cell_type": "code",
     "collapsed": false,
     "input": [
      "#H1 = unitary_transformation(U, H, allinone=True, expansion_search=False, N=3).expand()\n",
      "#H1 = qsimplify(H1)\n",
      "#H1"
     ],
     "language": "python",
     "metadata": {},
     "outputs": [],
     "prompt_number": 18
    },
    {
     "cell_type": "code",
     "collapsed": false,
     "input": [
      "H1 = hamiltonian_transformation(U, H, expansion_search=False, N=2).expand()\n",
      "\n",
      "H1 = qsimplify(H1)\n",
      "\n",
      "H1"
     ],
     "language": "python",
     "metadata": {},
     "outputs": [
      {
       "latex": [
        "$$\\Omega x {{a}^\\dagger} {\\sigma_-} + \\Omega x {a} {\\sigma_+} - \\frac{\\Omega {\\sigma_z}}{2} - g x^{2} {{a}^\\dagger} {\\sigma_-} + g x^{2} {a} {\\sigma_+} + g x + 2 g x {{a}^\\dagger} {a} {\\sigma_z} + g x {\\sigma_z} + g {{a}^\\dagger} {\\sigma_-} + g {a} {\\sigma_+} + \\frac{\\omega_{r} x^{2}}{2} + \\frac{\\omega_{r} x^{2}}{2} {\\sigma_z} + \\omega_{r} x {{a}^\\dagger} {\\sigma_-} + \\omega_{r} x {a} {\\sigma_+} + \\omega_{r} {{a}^\\dagger} {a}$$"
       ],
       "metadata": {},
       "output_type": "pyout",
       "png": "[encoded data removed]",
       "prompt_number": 19,
       "text": [
        "                                                                              \n",
        "     \u2020                       \u03a9\u22c5False      2  \u2020            2                   \n",
        "\u03a9\u22c5x\u22c5a \u22c5False + \u03a9\u22c5x\u22c5a\u22c5False - \u2500\u2500\u2500\u2500\u2500\u2500\u2500 - g\u22c5x \u22c5a \u22c5False + g\u22c5x \u22c5a\u22c5False + g\u22c5x + 2\u22c5\n",
        "                                2                                             \n",
        "\n",
        "                                                          2       2           \n",
        "     \u2020                          \u2020                     \u03c9\u1d63\u22c5x    \u03c9\u1d63\u22c5x \u22c5False     \n",
        "g\u22c5x\u22c5a \u22c5a\u22c5False + g\u22c5x\u22c5False + g\u22c5a \u22c5False + g\u22c5a\u22c5False + \u2500\u2500\u2500\u2500\u2500 + \u2500\u2500\u2500\u2500\u2500\u2500\u2500\u2500\u2500\u2500\u2500 + \u03c9\u1d63\n",
        "                                                        2          2          \n",
        "\n",
        "                                    \n",
        "    \u2020                            \u2020  \n",
        "\u22c5x\u22c5a \u22c5False + \u03c9\u1d63\u22c5x\u22c5a\u22c5False + \u03c9\u1d63\u22c5a \u22c5a\n",
        "                                    "
       ]
      }
     ],
     "prompt_number": 19
    },
    {
     "cell_type": "code",
     "collapsed": false,
     "input": [
      "H2 = drop_terms_containing(H1.expand(), [x**2, x**3])\n",
      "\n",
      "H2"
     ],
     "language": "python",
     "metadata": {},
     "outputs": [
      {
       "latex": [
        "$$\\Omega x {{a}^\\dagger} {\\sigma_-} + \\Omega x {a} {\\sigma_+} - \\frac{\\Omega {\\sigma_z}}{2} + g x + 2 g x {{a}^\\dagger} {a} {\\sigma_z} + g x {\\sigma_z} + g {{a}^\\dagger} {\\sigma_-} + g {a} {\\sigma_+} + \\omega_{r} x {{a}^\\dagger} {\\sigma_-} + \\omega_{r} x {a} {\\sigma_+} + \\omega_{r} {{a}^\\dagger} {a}$$"
       ],
       "metadata": {},
       "output_type": "pyout",
       "png": "[encoded data removed]",
       "prompt_number": 20,
       "text": [
        "     \u2020                       \u03a9\u22c5False                \u2020                         \n",
        "\u03a9\u22c5x\u22c5a \u22c5False + \u03a9\u22c5x\u22c5a\u22c5False - \u2500\u2500\u2500\u2500\u2500\u2500\u2500 + g\u22c5x + 2\u22c5g\u22c5x\u22c5a \u22c5a\u22c5False + g\u22c5x\u22c5False + g\u22c5\n",
        "                                2                                             \n",
        "\n",
        " \u2020                           \u2020                            \u2020  \n",
        "a \u22c5False + g\u22c5a\u22c5False + \u03c9\u1d63\u22c5x\u22c5a \u22c5False + \u03c9\u1d63\u22c5x\u22c5a\u22c5False + \u03c9\u1d63\u22c5a \u22c5a\n",
        "                                                             "
       ]
      }
     ],
     "prompt_number": 20
    },
    {
     "cell_type": "code",
     "collapsed": false,
     "input": [
      "H3 = H2.subs(x, g/Delta)\n",
      "\n",
      "H3"
     ],
     "language": "python",
     "metadata": {},
     "outputs": [
      {
       "latex": [
        "$$- \\frac{\\Omega {\\sigma_z}}{2} + g {{a}^\\dagger} {\\sigma_-} + g {a} {\\sigma_+} + \\omega_{r} {{a}^\\dagger} {a} + \\frac{\\Omega g}{\\Delta} {{a}^\\dagger} {\\sigma_-} + \\frac{\\Omega g}{\\Delta} {a} {\\sigma_+} + \\frac{g^{2}}{\\Delta} + \\frac{2 g^{2}}{\\Delta} {{a}^\\dagger} {a} {\\sigma_z} + \\frac{g^{2} {\\sigma_z}}{\\Delta} + \\frac{g \\omega_{r}}{\\Delta} {{a}^\\dagger} {\\sigma_-} + \\frac{g \\omega_{r}}{\\Delta} {a} {\\sigma_+}$$"
       ],
       "metadata": {},
       "output_type": "pyout",
       "png": "[encoded data removed]",
       "prompt_number": 21,
       "text": [
        "                                                    \u2020                        2\n",
        "  \u03a9\u22c5False      \u2020                         \u2020     \u03a9\u22c5g\u22c5a \u22c5False   \u03a9\u22c5g\u22c5a\u22c5False   g \n",
        "- \u2500\u2500\u2500\u2500\u2500\u2500\u2500 + g\u22c5a \u22c5False + g\u22c5a\u22c5False + \u03c9\u1d63\u22c5a \u22c5a + \u2500\u2500\u2500\u2500\u2500\u2500\u2500\u2500\u2500\u2500\u2500\u2500 + \u2500\u2500\u2500\u2500\u2500\u2500\u2500\u2500\u2500\u2500\u2500 + \u2500\u2500\n",
        "     2                                              \u0394              \u0394        \u0394 \n",
        "\n",
        "      2  \u2020            2               \u2020                     \n",
        "   2\u22c5g \u22c5a \u22c5a\u22c5False   g \u22c5False   g\u22c5\u03c9\u1d63\u22c5a \u22c5False   g\u22c5\u03c9\u1d63\u22c5a\u22c5False\n",
        " + \u2500\u2500\u2500\u2500\u2500\u2500\u2500\u2500\u2500\u2500\u2500\u2500\u2500\u2500\u2500 + \u2500\u2500\u2500\u2500\u2500\u2500\u2500\u2500 + \u2500\u2500\u2500\u2500\u2500\u2500\u2500\u2500\u2500\u2500\u2500\u2500\u2500 + \u2500\u2500\u2500\u2500\u2500\u2500\u2500\u2500\u2500\u2500\u2500\u2500\n",
        "          \u0394             \u0394             \u0394              \u0394      "
       ]
      }
     ],
     "prompt_number": 21
    },
    {
     "cell_type": "code",
     "collapsed": false,
     "input": [
      "H4 = drop_c_number_terms(H3)\n",
      "\n",
      "H4"
     ],
     "language": "python",
     "metadata": {},
     "outputs": [
      {
       "latex": [
        "$$- \\frac{\\Omega {\\sigma_z}}{2} + g {{a}^\\dagger} {\\sigma_-} + g {a} {\\sigma_+} + \\omega_{r} {{a}^\\dagger} {a} + \\frac{\\Omega g}{\\Delta} {{a}^\\dagger} {\\sigma_-} + \\frac{\\Omega g}{\\Delta} {a} {\\sigma_+} + \\frac{2 g^{2}}{\\Delta} {{a}^\\dagger} {a} {\\sigma_z} + \\frac{g^{2} {\\sigma_z}}{\\Delta} + \\frac{g \\omega_{r}}{\\Delta} {{a}^\\dagger} {\\sigma_-} + \\frac{g \\omega_{r}}{\\Delta} {a} {\\sigma_+}$$"
       ],
       "metadata": {},
       "output_type": "pyout",
       "png": "[encoded data removed]",
       "prompt_number": 22,
       "text": [
        "                                                    \u2020                         \n",
        "  \u03a9\u22c5False      \u2020                         \u2020     \u03a9\u22c5g\u22c5a \u22c5False   \u03a9\u22c5g\u22c5a\u22c5False   2\u22c5\n",
        "- \u2500\u2500\u2500\u2500\u2500\u2500\u2500 + g\u22c5a \u22c5False + g\u22c5a\u22c5False + \u03c9\u1d63\u22c5a \u22c5a + \u2500\u2500\u2500\u2500\u2500\u2500\u2500\u2500\u2500\u2500\u2500\u2500 + \u2500\u2500\u2500\u2500\u2500\u2500\u2500\u2500\u2500\u2500\u2500 + \u2500\u2500\n",
        "     2                                              \u0394              \u0394          \n",
        "\n",
        " 2  \u2020            2               \u2020                     \n",
        "g \u22c5a \u22c5a\u22c5False   g \u22c5False   g\u22c5\u03c9\u1d63\u22c5a \u22c5False   g\u22c5\u03c9\u1d63\u22c5a\u22c5False\n",
        "\u2500\u2500\u2500\u2500\u2500\u2500\u2500\u2500\u2500\u2500\u2500\u2500\u2500 + \u2500\u2500\u2500\u2500\u2500\u2500\u2500\u2500 + \u2500\u2500\u2500\u2500\u2500\u2500\u2500\u2500\u2500\u2500\u2500\u2500\u2500 + \u2500\u2500\u2500\u2500\u2500\u2500\u2500\u2500\u2500\u2500\u2500\u2500\n",
        "     \u0394             \u0394             \u0394              \u0394      "
       ]
      }
     ],
     "prompt_number": 22
    },
    {
     "cell_type": "code",
     "collapsed": false,
     "input": [
      "H5 = collect(H4, [Dagger(a) * a, sz])\n",
      "\n",
      "H5"
     ],
     "language": "python",
     "metadata": {},
     "outputs": [
      {
       "latex": [
        "$$g {{a}^\\dagger} {\\sigma_-} + g {a} {\\sigma_+} + \\left(- \\frac{\\Omega}{2} + \\frac{g^{2}}{\\Delta}\\right) {\\sigma_z} + {{a}^\\dagger} {a} \\left(\\omega_{r} + \\frac{2 g^{2}}{\\Delta} {\\sigma_z}\\right) + \\frac{\\Omega g}{\\Delta} {{a}^\\dagger} {\\sigma_-} + \\frac{\\Omega g}{\\Delta} {a} {\\sigma_+} + \\frac{g \\omega_{r}}{\\Delta} {{a}^\\dagger} {\\sigma_-} + \\frac{g \\omega_{r}}{\\Delta} {a} {\\sigma_+}$$"
       ],
       "metadata": {},
       "output_type": "pyout",
       "png": "[encoded data removed]",
       "prompt_number": 23,
       "text": [
        "                         \u239b       2\u239e              \u239b        2      \u239e        \u2020   \n",
        "   \u2020                     \u239c  \u03a9   g \u239f          \u2020   \u239c     2\u22c5g \u22c5False\u239f   \u03a9\u22c5g\u22c5a \u22c5Fa\n",
        "g\u22c5a \u22c5False + g\u22c5a\u22c5False + \u239c- \u2500 + \u2500\u2500\u239f\u22c5False + a \u22c5a\u22c5\u239c\u03c9\u1d63 + \u2500\u2500\u2500\u2500\u2500\u2500\u2500\u2500\u2500\u2500\u239f + \u2500\u2500\u2500\u2500\u2500\u2500\u2500\u2500\u2500\n",
        "                         \u239d  2   \u0394 \u23a0              \u239d         \u0394     \u23a0        \u0394   \n",
        "\n",
        "                          \u2020                     \n",
        "lse   \u03a9\u22c5g\u22c5a\u22c5False   g\u22c5\u03c9\u1d63\u22c5a \u22c5False   g\u22c5\u03c9\u1d63\u22c5a\u22c5False\n",
        "\u2500\u2500\u2500 + \u2500\u2500\u2500\u2500\u2500\u2500\u2500\u2500\u2500\u2500\u2500 + \u2500\u2500\u2500\u2500\u2500\u2500\u2500\u2500\u2500\u2500\u2500\u2500\u2500 + \u2500\u2500\u2500\u2500\u2500\u2500\u2500\u2500\u2500\u2500\u2500\u2500\n",
        "           \u0394              \u0394              \u0394      "
       ]
      }
     ],
     "prompt_number": 23
    },
    {
     "cell_type": "markdown",
     "metadata": {},
     "source": [
      "Now move to a frame co-rotating with the qubit and oscillator frequencies: "
     ]
    },
    {
     "cell_type": "code",
     "collapsed": false,
     "input": [
      "H5.expand()"
     ],
     "language": "python",
     "metadata": {},
     "outputs": [
      {
       "latex": [
        "$$- \\frac{\\Omega {\\sigma_z}}{2} + g {{a}^\\dagger} {\\sigma_-} + g {a} {\\sigma_+} + \\omega_{r} {{a}^\\dagger} {a} + \\frac{\\Omega g}{\\Delta} {{a}^\\dagger} {\\sigma_-} + \\frac{\\Omega g}{\\Delta} {a} {\\sigma_+} + \\frac{2 g^{2}}{\\Delta} {{a}^\\dagger} {a} {\\sigma_z} + \\frac{g^{2} {\\sigma_z}}{\\Delta} + \\frac{g \\omega_{r}}{\\Delta} {{a}^\\dagger} {\\sigma_-} + \\frac{g \\omega_{r}}{\\Delta} {a} {\\sigma_+}$$"
       ],
       "metadata": {},
       "output_type": "pyout",
       "png": "[encoded data removed]",
       "prompt_number": 24,
       "text": [
        "                                                    \u2020                         \n",
        "  \u03a9\u22c5False      \u2020                         \u2020     \u03a9\u22c5g\u22c5a \u22c5False   \u03a9\u22c5g\u22c5a\u22c5False   2\u22c5\n",
        "- \u2500\u2500\u2500\u2500\u2500\u2500\u2500 + g\u22c5a \u22c5False + g\u22c5a\u22c5False + \u03c9\u1d63\u22c5a \u22c5a + \u2500\u2500\u2500\u2500\u2500\u2500\u2500\u2500\u2500\u2500\u2500\u2500 + \u2500\u2500\u2500\u2500\u2500\u2500\u2500\u2500\u2500\u2500\u2500 + \u2500\u2500\n",
        "     2                                              \u0394              \u0394          \n",
        "\n",
        " 2  \u2020            2               \u2020                     \n",
        "g \u22c5a \u22c5a\u22c5False   g \u22c5False   g\u22c5\u03c9\u1d63\u22c5a \u22c5False   g\u22c5\u03c9\u1d63\u22c5a\u22c5False\n",
        "\u2500\u2500\u2500\u2500\u2500\u2500\u2500\u2500\u2500\u2500\u2500\u2500\u2500 + \u2500\u2500\u2500\u2500\u2500\u2500\u2500\u2500 + \u2500\u2500\u2500\u2500\u2500\u2500\u2500\u2500\u2500\u2500\u2500\u2500\u2500 + \u2500\u2500\u2500\u2500\u2500\u2500\u2500\u2500\u2500\u2500\u2500\u2500\n",
        "     \u0394             \u0394             \u0394              \u0394      "
       ]
      }
     ],
     "prompt_number": 24
    },
    {
     "cell_type": "code",
     "collapsed": false,
     "input": [
      "U = exp(I * omega_r * t * Dagger(a) * a)"
     ],
     "language": "python",
     "metadata": {},
     "outputs": [],
     "prompt_number": 25
    },
    {
     "cell_type": "code",
     "collapsed": false,
     "input": [
      "H6 = hamiltonian_transformation(U, H5.expand()); H6"
     ],
     "language": "python",
     "metadata": {},
     "outputs": [
      {
       "latex": [
        "$$- \\frac{\\Omega {\\sigma_z}}{2} + g e^{i \\omega_{r} t} {{a}^\\dagger} {\\sigma_-} + g e^{- i \\omega_{r} t} {a} {\\sigma_+} + \\frac{\\Omega g}{\\Delta} e^{i \\omega_{r} t} {{a}^\\dagger} {\\sigma_-} + \\frac{\\Omega g}{\\Delta} e^{- i \\omega_{r} t} {a} {\\sigma_+} + \\frac{2 g^{2}}{\\Delta} {{a}^\\dagger} {a} {\\sigma_z} + \\frac{g^{2} {\\sigma_z}}{\\Delta} + \\frac{g \\omega_{r}}{\\Delta} e^{i \\omega_{r} t} {{a}^\\dagger} {\\sigma_-} + \\frac{g \\omega_{r}}{\\Delta} e^{- i \\omega_{r} t} {a} {\\sigma_+}$$"
       ],
       "metadata": {},
       "output_type": "pyout",
       "png": "[encoded data removed]",
       "prompt_number": 26,
       "text": [
        "                                                           \u2148\u22c5\u03c9\u1d63\u22c5t  \u2020          \n",
        "  \u03a9\u22c5False      \u2148\u22c5\u03c9\u1d63\u22c5t  \u2020            -\u2148\u22c5\u03c9\u1d63\u22c5t           \u03a9\u22c5g\u22c5\u212f      \u22c5a \u22c5False   \u03a9\n",
        "- \u2500\u2500\u2500\u2500\u2500\u2500\u2500 + g\u22c5\u212f      \u22c5a \u22c5False + g\u22c5\u212f       \u22c5a\u22c5False + \u2500\u2500\u2500\u2500\u2500\u2500\u2500\u2500\u2500\u2500\u2500\u2500\u2500\u2500\u2500\u2500\u2500\u2500\u2500\u2500 + \u2500\n",
        "     2                                                         \u0394              \n",
        "\n",
        "    -\u2148\u22c5\u03c9\u1d63\u22c5t              2  \u2020            2               \u2148\u22c5\u03c9\u1d63\u22c5t  \u2020            \n",
        "\u22c5g\u22c5\u212f       \u22c5a\u22c5False   2\u22c5g \u22c5a \u22c5a\u22c5False   g \u22c5False   g\u22c5\u03c9\u1d63\u22c5\u212f      \u22c5a \u22c5False   g\u22c5\u03c9\n",
        "\u2500\u2500\u2500\u2500\u2500\u2500\u2500\u2500\u2500\u2500\u2500\u2500\u2500\u2500\u2500\u2500\u2500\u2500\u2500 + \u2500\u2500\u2500\u2500\u2500\u2500\u2500\u2500\u2500\u2500\u2500\u2500\u2500\u2500\u2500 + \u2500\u2500\u2500\u2500\u2500\u2500\u2500\u2500 + \u2500\u2500\u2500\u2500\u2500\u2500\u2500\u2500\u2500\u2500\u2500\u2500\u2500\u2500\u2500\u2500\u2500\u2500\u2500\u2500\u2500 + \u2500\u2500\u2500\n",
        "        \u0394                    \u0394             \u0394                 \u0394                \n",
        "\n",
        "   -\u2148\u22c5\u03c9\u1d63\u22c5t        \n",
        "\u1d63\u22c5\u212f       \u22c5a\u22c5False\n",
        "\u2500\u2500\u2500\u2500\u2500\u2500\u2500\u2500\u2500\u2500\u2500\u2500\u2500\u2500\u2500\u2500\u2500\u2500\n",
        "       \u0394          "
       ]
      }
     ],
     "prompt_number": 26
    },
    {
     "cell_type": "code",
     "collapsed": false,
     "input": [
      "U = exp(I * Omega * t * Dagger(sm) * sm)"
     ],
     "language": "python",
     "metadata": {},
     "outputs": [],
     "prompt_number": 27
    },
    {
     "cell_type": "code",
     "collapsed": false,
     "input": [
      "H7 = hamiltonian_transformation(U, H6.expand()); H7"
     ],
     "language": "python",
     "metadata": {},
     "outputs": [
      {
       "latex": [
        "$$- \\Omega {\\sigma_+} {\\sigma_-} - \\frac{\\Omega {\\sigma_z}}{2} + g e^{i \\Omega t} e^{- i \\omega_{r} t} {a} {\\sigma_+} + g e^{- i \\Omega t} e^{i \\omega_{r} t} {{a}^\\dagger} {\\sigma_-} + \\frac{\\Omega g}{\\Delta} e^{i \\Omega t} e^{- i \\omega_{r} t} {a} {\\sigma_+} + \\frac{\\Omega g}{\\Delta} e^{- i \\Omega t} e^{i \\omega_{r} t} {{a}^\\dagger} {\\sigma_-} + \\frac{2 g^{2}}{\\Delta} {{a}^\\dagger} {a} {\\sigma_z} + \\frac{g^{2} {\\sigma_z}}{\\Delta} + \\frac{g \\omega_{r}}{\\Delta} e^{i \\Omega t} e^{- i \\omega_{r} t} {a} {\\sigma_+} + \\frac{g \\omega_{r}}{\\Delta} e^{- i \\Omega t} e^{i \\omega_{r} t} {{a}^\\dagger} {\\sigma_-}$$"
       ],
       "metadata": {},
       "output_type": "pyout",
       "png": "[encoded data removed]",
       "prompt_number": 28,
       "text": [
        "                                                                              \n",
        "                 \u03a9\u22c5False      \u2148\u22c5\u03a9\u22c5t  -\u2148\u22c5\u03c9\u1d63\u22c5t              -\u2148\u22c5\u03a9\u22c5t  \u2148\u22c5\u03c9\u1d63\u22c5t  \u2020   \n",
        "-\u03a9\u22c5False\u22c5False - \u2500\u2500\u2500\u2500\u2500\u2500\u2500 + g\u22c5\u212f     \u22c5\u212f       \u22c5a\u22c5False + g\u22c5\u212f      \u22c5\u212f      \u22c5a \u22c5Fa\n",
        "                    2                                                         \n",
        "\n",
        "           \u2148\u22c5\u03a9\u22c5t  -\u2148\u22c5\u03c9\u1d63\u22c5t                -\u2148\u22c5\u03a9\u22c5t  \u2148\u22c5\u03c9\u1d63\u22c5t  \u2020            2  \u2020    \n",
        "      \u03a9\u22c5g\u22c5\u212f     \u22c5\u212f       \u22c5a\u22c5False   \u03a9\u22c5g\u22c5\u212f      \u22c5\u212f      \u22c5a \u22c5False   2\u22c5g \u22c5a \u22c5a\u22c5F\n",
        "lse + \u2500\u2500\u2500\u2500\u2500\u2500\u2500\u2500\u2500\u2500\u2500\u2500\u2500\u2500\u2500\u2500\u2500\u2500\u2500\u2500\u2500\u2500\u2500\u2500\u2500\u2500\u2500 + \u2500\u2500\u2500\u2500\u2500\u2500\u2500\u2500\u2500\u2500\u2500\u2500\u2500\u2500\u2500\u2500\u2500\u2500\u2500\u2500\u2500\u2500\u2500\u2500\u2500\u2500\u2500\u2500 + \u2500\u2500\u2500\u2500\u2500\u2500\u2500\u2500\u2500\u2500\u2500\n",
        "                   \u0394                             \u0394                        \u0394   \n",
        "\n",
        "        2               \u2148\u22c5\u03a9\u22c5t  -\u2148\u22c5\u03c9\u1d63\u22c5t                 -\u2148\u22c5\u03a9\u22c5t  \u2148\u22c5\u03c9\u1d63\u22c5t  \u2020      \n",
        "alse   g \u22c5False   g\u22c5\u03c9\u1d63\u22c5\u212f     \u22c5\u212f       \u22c5a\u22c5False   g\u22c5\u03c9\u1d63\u22c5\u212f      \u22c5\u212f      \u22c5a \u22c5False\n",
        "\u2500\u2500\u2500\u2500 + \u2500\u2500\u2500\u2500\u2500\u2500\u2500\u2500 + \u2500\u2500\u2500\u2500\u2500\u2500\u2500\u2500\u2500\u2500\u2500\u2500\u2500\u2500\u2500\u2500\u2500\u2500\u2500\u2500\u2500\u2500\u2500\u2500\u2500\u2500\u2500\u2500 + \u2500\u2500\u2500\u2500\u2500\u2500\u2500\u2500\u2500\u2500\u2500\u2500\u2500\u2500\u2500\u2500\u2500\u2500\u2500\u2500\u2500\u2500\u2500\u2500\u2500\u2500\u2500\u2500\u2500\n",
        "          \u0394                    \u0394                               \u0394              "
       ]
      }
     ],
     "prompt_number": 28
    },
    {
     "cell_type": "markdown",
     "metadata": {},
     "source": [
      "Now, since we are in the dispersive regime $|\\Omega-\\omega_r| \\gg g$, we can do a rotating-wave approximation and drop all the fast rotating terms in the Hamiltonian above:"
     ]
    },
    {
     "cell_type": "code",
     "collapsed": false,
     "input": [
      "H8 = drop_terms_containing(H7, [exp(I * omega_r * t), exp(-I * omega_r * t),\n",
      "                                exp(I * Omega * t), exp(-I * Omega * t)])\n",
      "\n",
      "H8"
     ],
     "language": "python",
     "metadata": {},
     "outputs": [
      {
       "latex": [
        "$$- \\Omega {\\sigma_+} {\\sigma_-} - \\frac{\\Omega {\\sigma_z}}{2} + \\frac{2 g^{2}}{\\Delta} {{a}^\\dagger} {a} {\\sigma_z} + \\frac{g^{2} {\\sigma_z}}{\\Delta}$$"
       ],
       "metadata": {},
       "output_type": "pyout",
       "png": "[encoded data removed]",
       "prompt_number": 29,
       "text": [
        "                              2  \u2020            2      \n",
        "                 \u03a9\u22c5False   2\u22c5g \u22c5a \u22c5a\u22c5False   g \u22c5False\n",
        "-\u03a9\u22c5False\u22c5False - \u2500\u2500\u2500\u2500\u2500\u2500\u2500 + \u2500\u2500\u2500\u2500\u2500\u2500\u2500\u2500\u2500\u2500\u2500\u2500\u2500\u2500\u2500 + \u2500\u2500\u2500\u2500\u2500\u2500\u2500\u2500\n",
        "                    2             \u0394             \u0394    "
       ]
      }
     ],
     "prompt_number": 29
    },
    {
     "cell_type": "code",
     "collapsed": false,
     "input": [
      "H9 = qsimplify(H8)\n",
      "\n",
      "H9 = collect(H9, [Dagger(a) * a, sz])\n",
      "\n",
      "H9"
     ],
     "language": "python",
     "metadata": {},
     "outputs": [
      {
       "latex": [
        "$$- \\frac{\\Omega}{2} + \\left(- \\Omega + \\frac{g^{2}}{\\Delta}\\right) {\\sigma_z} + \\frac{2 g^{2}}{\\Delta} {{a}^\\dagger} {a} {\\sigma_z}$$"
       ],
       "metadata": {},
       "output_type": "pyout",
       "png": "[encoded data removed]",
       "prompt_number": 30,
       "text": [
        "      \u239b      2\u239e            2  \u2020        \n",
        "  \u03a9   \u239c     g \u239f         2\u22c5g \u22c5a \u22c5a\u22c5False\n",
        "- \u2500 + \u239c-\u03a9 + \u2500\u2500\u239f\u22c5False + \u2500\u2500\u2500\u2500\u2500\u2500\u2500\u2500\u2500\u2500\u2500\u2500\u2500\u2500\u2500\n",
        "  2   \u239d     \u0394 \u23a0                \u0394       "
       ]
      }
     ],
     "prompt_number": 30
    },
    {
     "cell_type": "markdown",
     "metadata": {},
     "source": [
      "Now move back to the lab frame:"
     ]
    },
    {
     "cell_type": "code",
     "collapsed": false,
     "input": [
      "U = exp(-I * omega_r * t * Dagger(a) * a)"
     ],
     "language": "python",
     "metadata": {},
     "outputs": [],
     "prompt_number": 31
    },
    {
     "cell_type": "code",
     "collapsed": false,
     "input": [
      "H10 = hamiltonian_transformation(U, H9.expand()); H10"
     ],
     "language": "python",
     "metadata": {},
     "outputs": [
      {
       "latex": [
        "$$- \\frac{\\Omega}{2} - \\Omega {\\sigma_z} + \\omega_{r} {{a}^\\dagger} {a} + \\frac{2 g^{2}}{\\Delta} {{a}^\\dagger} {a} {\\sigma_z} + \\frac{g^{2} {\\sigma_z}}{\\Delta}$$"
       ],
       "metadata": {},
       "output_type": "pyout",
       "png": "[encoded data removed]",
       "prompt_number": 32,
       "text": [
        "                             2  \u2020            2      \n",
        "  \u03a9                 \u2020     2\u22c5g \u22c5a \u22c5a\u22c5False   g \u22c5False\n",
        "- \u2500 - \u03a9\u22c5False + \u03c9\u1d63\u22c5a \u22c5a + \u2500\u2500\u2500\u2500\u2500\u2500\u2500\u2500\u2500\u2500\u2500\u2500\u2500\u2500\u2500 + \u2500\u2500\u2500\u2500\u2500\u2500\u2500\u2500\n",
        "  2                              \u0394             \u0394    "
       ]
      }
     ],
     "prompt_number": 32
    },
    {
     "cell_type": "code",
     "collapsed": false,
     "input": [
      "U = exp(-I * Omega * t * Dagger(sm) * sm)"
     ],
     "language": "python",
     "metadata": {},
     "outputs": [],
     "prompt_number": 33
    },
    {
     "cell_type": "code",
     "collapsed": false,
     "input": [
      "H11 = hamiltonian_transformation(U, H10.expand()); H11"
     ],
     "language": "python",
     "metadata": {},
     "outputs": [
      {
       "latex": [
        "$$- \\frac{\\Omega}{2} + \\Omega {\\sigma_+} {\\sigma_-} - \\Omega {\\sigma_z} + \\omega_{r} {{a}^\\dagger} {a} + \\frac{2 g^{2}}{\\Delta} {{a}^\\dagger} {a} {\\sigma_z} + \\frac{g^{2} {\\sigma_z}}{\\Delta}$$"
       ],
       "metadata": {},
       "output_type": "pyout",
       "png": "[encoded data removed]",
       "prompt_number": 34,
       "text": [
        "                                             2  \u2020            2      \n",
        "  \u03a9                                 \u2020     2\u22c5g \u22c5a \u22c5a\u22c5False   g \u22c5False\n",
        "- \u2500 + \u03a9\u22c5False\u22c5False - \u03a9\u22c5False + \u03c9\u1d63\u22c5a \u22c5a + \u2500\u2500\u2500\u2500\u2500\u2500\u2500\u2500\u2500\u2500\u2500\u2500\u2500\u2500\u2500 + \u2500\u2500\u2500\u2500\u2500\u2500\u2500\u2500\n",
        "  2                                              \u0394             \u0394    "
       ]
      }
     ],
     "prompt_number": 34
    },
    {
     "cell_type": "code",
     "collapsed": false,
     "input": [
      "H11 = qsimplify(H11)\n",
      "\n",
      "H11 = collect(H11, [Dagger(a) * a, sz])\n",
      "\n",
      "Eq(Hsym, H11)"
     ],
     "language": "python",
     "metadata": {},
     "outputs": [
      {
       "latex": [
        "$$H = \\left(- \\frac{\\Omega}{2} + \\frac{g^{2}}{\\Delta}\\right) {\\sigma_z} + {{a}^\\dagger} {a} \\left(\\omega_{r} + \\frac{2 g^{2}}{\\Delta} {\\sigma_z}\\right)$$"
       ],
       "metadata": {},
       "output_type": "pyout",
       "png": "[encoded data removed]",
       "prompt_number": 35,
       "text": [
        "    \u239b       2\u239e              \u239b        2      \u239e\n",
        "    \u239c  \u03a9   g \u239f          \u2020   \u239c     2\u22c5g \u22c5False\u239f\n",
        "H = \u239c- \u2500 + \u2500\u2500\u239f\u22c5False + a \u22c5a\u22c5\u239c\u03c9\u1d63 + \u2500\u2500\u2500\u2500\u2500\u2500\u2500\u2500\u2500\u2500\u239f\n",
        "    \u239d  2   \u0394 \u23a0              \u239d         \u0394     \u23a0"
       ]
      }
     ],
     "prompt_number": 35
    },
    {
     "cell_type": "markdown",
     "metadata": {},
     "source": [
      "This is the Hamiltonian of the Jaynes-Cummings model in the the dispersive regime. It can be interpreted as the resonator having a qubit-state-dependent frequency shift, or alternatively that the qubit is feeling a resonator-photon-number dependent Stark-shift."
     ]
    },
    {
     "cell_type": "heading",
     "level": 2,
     "metadata": {},
     "source": [
      "Versions"
     ]
    },
    {
     "cell_type": "code",
     "collapsed": false,
     "input": [
      "%reload_ext version_information\n",
      "\n",
      "%version_information sympy"
     ],
     "language": "python",
     "metadata": {},
     "outputs": [
      {
       "html": [
        "<table><tr><th>Software</th><th>Version</th></tr><tr><td>Python</td><td>3.4.1 (default, May 21 2014, 01:39:38) [GCC 4.2.1 Compatible Apple LLVM 5.1 (clang-503.0.40)]</td></tr><tr><td>IPython</td><td>2.1.0</td></tr><tr><td>OS</td><td>posix [darwin]</td></tr><tr><td>sympy</td><td>0.7.5-git</td></tr><tr><td colspan='2'>Sun Jun 22 18:50:28 2014 JST</td></tr></table>"
       ],
       "json": [
        "{ \"Software versions\" : [{ \"module\" : \"Python\", \"version\" : \"3.4.1 (default, May 21 2014, 01:39:38) [GCC 4.2.1 Compatible Apple LLVM 5.1 (clang-503.0.40)]\" }, { \"module\" : \"IPython\", \"version\" : \"2.1.0\" }, { \"module\" : \"OS\", \"version\" : \"posix [darwin]\" }, { \"module\" : \"sympy\", \"version\" : \"0.7.5-git\" } ] }"
       ],
       "latex": [
        "\\begin{tabular}{|l|l|}\\hline\n",
        "{\\bf Software} & {\\bf Version} \\\\ \\hline\\hline\n",
        "Python & 3.4.1 (default, May 21 2014, 01:39:38) [GCC 4.2.1 Compatible Apple LLVM 5.1 (clang-503.0.40)] \\\\ \\hline\n",
        "IPython & 2.1.0 \\\\ \\hline\n",
        "OS & posix [darwin] \\\\ \\hline\n",
        "sympy & 0.7.5-git \\\\ \\hline\n",
        "\\hline \\multicolumn{2}{|l|}{Sun Jun 22 18:50:28 2014 JST} \\\\ \\hline\n",
        "\\end{tabular}\n"
       ],
       "metadata": {},
       "output_type": "pyout",
       "prompt_number": 36,
       "text": [
        "Software versions\n",
        "Python 3.4.1 (default, May 21 2014, 01:39:38) [GCC 4.2.1 Compatible Apple LLVM 5.1 (clang-503.0.40)]\n",
        "IPython 2.1.0\n",
        "OS posix [darwin]\n",
        "sympy 0.7.5-git\n",
        "\n",
        "Sun Jun 22 18:50:28 2014 JST"
       ]
      }
     ],
     "prompt_number": 36
    },
    {
     "cell_type": "code",
     "collapsed": false,
     "input": [],
     "language": "python",
     "metadata": {},
     "outputs": [],
     "prompt_number": 36
    }
   ],
   "metadata": {}
  }
 ]
}